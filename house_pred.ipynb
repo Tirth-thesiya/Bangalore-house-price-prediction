{
 "cells": [
  {
   "cell_type": "code",
   "execution_count": 46,
   "metadata": {},
   "outputs": [],
   "source": [
    "import pandas as pd\n",
    "import numpy as np"
   ]
  },
  {
   "cell_type": "markdown",
   "metadata": {},
   "source": [
    "Reading CSV file with the help of Pandas library:"
   ]
  },
  {
   "cell_type": "code",
   "execution_count": 3,
   "metadata": {},
   "outputs": [],
   "source": [
    "df = pd.read_csv(\"Bengaluru_House_Data.csv\")"
   ]
  },
  {
   "cell_type": "code",
   "execution_count": 4,
   "metadata": {},
   "outputs": [
    {
     "data": {
      "text/html": [
       "<div>\n",
       "<style scoped>\n",
       "    .dataframe tbody tr th:only-of-type {\n",
       "        vertical-align: middle;\n",
       "    }\n",
       "\n",
       "    .dataframe tbody tr th {\n",
       "        vertical-align: top;\n",
       "    }\n",
       "\n",
       "    .dataframe thead th {\n",
       "        text-align: right;\n",
       "    }\n",
       "</style>\n",
       "<table border=\"1\" class=\"dataframe\">\n",
       "  <thead>\n",
       "    <tr style=\"text-align: right;\">\n",
       "      <th></th>\n",
       "      <th>area_type</th>\n",
       "      <th>availability</th>\n",
       "      <th>location</th>\n",
       "      <th>size</th>\n",
       "      <th>society</th>\n",
       "      <th>total_sqft</th>\n",
       "      <th>bath</th>\n",
       "      <th>balcony</th>\n",
       "      <th>price</th>\n",
       "    </tr>\n",
       "  </thead>\n",
       "  <tbody>\n",
       "    <tr>\n",
       "      <th>0</th>\n",
       "      <td>Super built-up  Area</td>\n",
       "      <td>19-Dec</td>\n",
       "      <td>Electronic City Phase II</td>\n",
       "      <td>2 BHK</td>\n",
       "      <td>Coomee</td>\n",
       "      <td>1056</td>\n",
       "      <td>2.0</td>\n",
       "      <td>1.0</td>\n",
       "      <td>39.07</td>\n",
       "    </tr>\n",
       "    <tr>\n",
       "      <th>1</th>\n",
       "      <td>Plot  Area</td>\n",
       "      <td>Ready To Move</td>\n",
       "      <td>Chikka Tirupathi</td>\n",
       "      <td>4 Bedroom</td>\n",
       "      <td>Theanmp</td>\n",
       "      <td>2600</td>\n",
       "      <td>5.0</td>\n",
       "      <td>3.0</td>\n",
       "      <td>120.00</td>\n",
       "    </tr>\n",
       "    <tr>\n",
       "      <th>2</th>\n",
       "      <td>Built-up  Area</td>\n",
       "      <td>Ready To Move</td>\n",
       "      <td>Uttarahalli</td>\n",
       "      <td>3 BHK</td>\n",
       "      <td>NaN</td>\n",
       "      <td>1440</td>\n",
       "      <td>2.0</td>\n",
       "      <td>3.0</td>\n",
       "      <td>62.00</td>\n",
       "    </tr>\n",
       "    <tr>\n",
       "      <th>3</th>\n",
       "      <td>Super built-up  Area</td>\n",
       "      <td>Ready To Move</td>\n",
       "      <td>Lingadheeranahalli</td>\n",
       "      <td>3 BHK</td>\n",
       "      <td>Soiewre</td>\n",
       "      <td>1521</td>\n",
       "      <td>3.0</td>\n",
       "      <td>1.0</td>\n",
       "      <td>95.00</td>\n",
       "    </tr>\n",
       "    <tr>\n",
       "      <th>4</th>\n",
       "      <td>Super built-up  Area</td>\n",
       "      <td>Ready To Move</td>\n",
       "      <td>Kothanur</td>\n",
       "      <td>2 BHK</td>\n",
       "      <td>NaN</td>\n",
       "      <td>1200</td>\n",
       "      <td>2.0</td>\n",
       "      <td>1.0</td>\n",
       "      <td>51.00</td>\n",
       "    </tr>\n",
       "  </tbody>\n",
       "</table>\n",
       "</div>"
      ],
      "text/plain": [
       "              area_type   availability                  location       size  \\\n",
       "0  Super built-up  Area         19-Dec  Electronic City Phase II      2 BHK   \n",
       "1            Plot  Area  Ready To Move          Chikka Tirupathi  4 Bedroom   \n",
       "2        Built-up  Area  Ready To Move               Uttarahalli      3 BHK   \n",
       "3  Super built-up  Area  Ready To Move        Lingadheeranahalli      3 BHK   \n",
       "4  Super built-up  Area  Ready To Move                  Kothanur      2 BHK   \n",
       "\n",
       "   society total_sqft  bath  balcony   price  \n",
       "0  Coomee        1056   2.0      1.0   39.07  \n",
       "1  Theanmp       2600   5.0      3.0  120.00  \n",
       "2      NaN       1440   2.0      3.0   62.00  \n",
       "3  Soiewre       1521   3.0      1.0   95.00  \n",
       "4      NaN       1200   2.0      1.0   51.00  "
      ]
     },
     "execution_count": 4,
     "metadata": {},
     "output_type": "execute_result"
    }
   ],
   "source": [
    "df.head()"
   ]
  },
  {
   "cell_type": "code",
   "execution_count": 5,
   "metadata": {},
   "outputs": [
    {
     "data": {
      "text/html": [
       "<div>\n",
       "<style scoped>\n",
       "    .dataframe tbody tr th:only-of-type {\n",
       "        vertical-align: middle;\n",
       "    }\n",
       "\n",
       "    .dataframe tbody tr th {\n",
       "        vertical-align: top;\n",
       "    }\n",
       "\n",
       "    .dataframe thead th {\n",
       "        text-align: right;\n",
       "    }\n",
       "</style>\n",
       "<table border=\"1\" class=\"dataframe\">\n",
       "  <thead>\n",
       "    <tr style=\"text-align: right;\">\n",
       "      <th></th>\n",
       "      <th>bath</th>\n",
       "      <th>balcony</th>\n",
       "      <th>price</th>\n",
       "    </tr>\n",
       "  </thead>\n",
       "  <tbody>\n",
       "    <tr>\n",
       "      <th>count</th>\n",
       "      <td>13247.000000</td>\n",
       "      <td>12711.000000</td>\n",
       "      <td>13320.000000</td>\n",
       "    </tr>\n",
       "    <tr>\n",
       "      <th>mean</th>\n",
       "      <td>2.692610</td>\n",
       "      <td>1.584376</td>\n",
       "      <td>112.565627</td>\n",
       "    </tr>\n",
       "    <tr>\n",
       "      <th>std</th>\n",
       "      <td>1.341458</td>\n",
       "      <td>0.817263</td>\n",
       "      <td>148.971674</td>\n",
       "    </tr>\n",
       "    <tr>\n",
       "      <th>min</th>\n",
       "      <td>1.000000</td>\n",
       "      <td>0.000000</td>\n",
       "      <td>8.000000</td>\n",
       "    </tr>\n",
       "    <tr>\n",
       "      <th>25%</th>\n",
       "      <td>2.000000</td>\n",
       "      <td>1.000000</td>\n",
       "      <td>50.000000</td>\n",
       "    </tr>\n",
       "    <tr>\n",
       "      <th>50%</th>\n",
       "      <td>2.000000</td>\n",
       "      <td>2.000000</td>\n",
       "      <td>72.000000</td>\n",
       "    </tr>\n",
       "    <tr>\n",
       "      <th>75%</th>\n",
       "      <td>3.000000</td>\n",
       "      <td>2.000000</td>\n",
       "      <td>120.000000</td>\n",
       "    </tr>\n",
       "    <tr>\n",
       "      <th>max</th>\n",
       "      <td>40.000000</td>\n",
       "      <td>3.000000</td>\n",
       "      <td>3600.000000</td>\n",
       "    </tr>\n",
       "  </tbody>\n",
       "</table>\n",
       "</div>"
      ],
      "text/plain": [
       "               bath       balcony         price\n",
       "count  13247.000000  12711.000000  13320.000000\n",
       "mean       2.692610      1.584376    112.565627\n",
       "std        1.341458      0.817263    148.971674\n",
       "min        1.000000      0.000000      8.000000\n",
       "25%        2.000000      1.000000     50.000000\n",
       "50%        2.000000      2.000000     72.000000\n",
       "75%        3.000000      2.000000    120.000000\n",
       "max       40.000000      3.000000   3600.000000"
      ]
     },
     "execution_count": 5,
     "metadata": {},
     "output_type": "execute_result"
    }
   ],
   "source": [
    "df.describe()"
   ]
  },
  {
   "cell_type": "code",
   "execution_count": 6,
   "metadata": {},
   "outputs": [
    {
     "name": "stdout",
     "output_type": "stream",
     "text": [
      "<class 'pandas.core.frame.DataFrame'>\n",
      "RangeIndex: 13320 entries, 0 to 13319\n",
      "Data columns (total 9 columns):\n",
      " #   Column        Non-Null Count  Dtype  \n",
      "---  ------        --------------  -----  \n",
      " 0   area_type     13320 non-null  object \n",
      " 1   availability  13320 non-null  object \n",
      " 2   location      13319 non-null  object \n",
      " 3   size          13304 non-null  object \n",
      " 4   society       7818 non-null   object \n",
      " 5   total_sqft    13320 non-null  object \n",
      " 6   bath          13247 non-null  float64\n",
      " 7   balcony       12711 non-null  float64\n",
      " 8   price         13320 non-null  float64\n",
      "dtypes: float64(3), object(6)\n",
      "memory usage: 936.7+ KB\n"
     ]
    }
   ],
   "source": [
    "df.info()"
   ]
  },
  {
   "cell_type": "code",
   "execution_count": 7,
   "metadata": {},
   "outputs": [
    {
     "data": {
      "text/plain": [
       "(13320, 9)"
      ]
     },
     "execution_count": 7,
     "metadata": {},
     "output_type": "execute_result"
    }
   ],
   "source": [
    "df.shape"
   ]
  },
  {
   "cell_type": "markdown",
   "metadata": {},
   "source": [
    "Now we check if there is some null value present or not by using isna() function:"
   ]
  },
  {
   "cell_type": "code",
   "execution_count": 8,
   "metadata": {},
   "outputs": [
    {
     "data": {
      "text/plain": [
       "area_type          0\n",
       "availability       0\n",
       "location           1\n",
       "size              16\n",
       "society         5502\n",
       "total_sqft         0\n",
       "bath              73\n",
       "balcony          609\n",
       "price              0\n",
       "dtype: int64"
      ]
     },
     "execution_count": 8,
     "metadata": {},
     "output_type": "execute_result"
    }
   ],
   "source": [
    "df.isna().sum()"
   ]
  },
  {
   "cell_type": "markdown",
   "metadata": {},
   "source": [
    "now we are applying value count on each column:"
   ]
  },
  {
   "cell_type": "code",
   "execution_count": 9,
   "metadata": {},
   "outputs": [
    {
     "name": "stdout",
     "output_type": "stream",
     "text": [
      "Super built-up  Area    8790\n",
      "Built-up  Area          2418\n",
      "Plot  Area              2025\n",
      "Carpet  Area              87\n",
      "Name: area_type, dtype: int64\n",
      "********************\n",
      "Ready To Move    10581\n",
      "18-Dec             307\n",
      "18-May             295\n",
      "18-Apr             271\n",
      "18-Aug             200\n",
      "                 ...  \n",
      "15-Aug               1\n",
      "17-Jan               1\n",
      "16-Nov               1\n",
      "16-Jan               1\n",
      "14-Jul               1\n",
      "Name: availability, Length: 81, dtype: int64\n",
      "********************\n",
      "Whitefield                        540\n",
      "Sarjapur  Road                    399\n",
      "Electronic City                   302\n",
      "Kanakpura Road                    273\n",
      "Thanisandra                       234\n",
      "                                 ... \n",
      "Bapuji Layout                       1\n",
      "1st Stage Radha Krishna Layout      1\n",
      "BEML Layout 5th stage               1\n",
      "singapura paradise                  1\n",
      "Abshot Layout                       1\n",
      "Name: location, Length: 1305, dtype: int64\n",
      "********************\n",
      "2 BHK         5199\n",
      "3 BHK         4310\n",
      "4 Bedroom      826\n",
      "4 BHK          591\n",
      "3 Bedroom      547\n",
      "1 BHK          538\n",
      "2 Bedroom      329\n",
      "5 Bedroom      297\n",
      "6 Bedroom      191\n",
      "1 Bedroom      105\n",
      "8 Bedroom       84\n",
      "7 Bedroom       83\n",
      "5 BHK           59\n",
      "9 Bedroom       46\n",
      "6 BHK           30\n",
      "7 BHK           17\n",
      "1 RK            13\n",
      "10 Bedroom      12\n",
      "9 BHK            8\n",
      "8 BHK            5\n",
      "11 BHK           2\n",
      "11 Bedroom       2\n",
      "10 BHK           2\n",
      "14 BHK           1\n",
      "13 BHK           1\n",
      "12 Bedroom       1\n",
      "27 BHK           1\n",
      "43 Bedroom       1\n",
      "16 BHK           1\n",
      "19 BHK           1\n",
      "18 Bedroom       1\n",
      "Name: size, dtype: int64\n",
      "********************\n",
      "GrrvaGr    80\n",
      "PrarePa    76\n",
      "Sryalan    59\n",
      "Prtates    59\n",
      "GMown E    56\n",
      "           ..\n",
      "Amionce     1\n",
      "JaghtDe     1\n",
      "Jauraht     1\n",
      "Brity U     1\n",
      "RSntsAp     1\n",
      "Name: society, Length: 2688, dtype: int64\n",
      "********************\n",
      "1200    843\n",
      "1100    221\n",
      "1500    205\n",
      "2400    196\n",
      "600     180\n",
      "       ... \n",
      "3580      1\n",
      "2461      1\n",
      "1437      1\n",
      "2155      1\n",
      "4689      1\n",
      "Name: total_sqft, Length: 2117, dtype: int64\n",
      "********************\n",
      "2.0     6908\n",
      "3.0     3286\n",
      "4.0     1226\n",
      "1.0      788\n",
      "5.0      524\n",
      "6.0      273\n",
      "7.0      102\n",
      "8.0       64\n",
      "9.0       43\n",
      "10.0      13\n",
      "12.0       7\n",
      "13.0       3\n",
      "11.0       3\n",
      "16.0       2\n",
      "27.0       1\n",
      "40.0       1\n",
      "15.0       1\n",
      "14.0       1\n",
      "18.0       1\n",
      "Name: bath, dtype: int64\n",
      "********************\n",
      "2.0    5113\n",
      "1.0    4897\n",
      "3.0    1672\n",
      "0.0    1029\n",
      "Name: balcony, dtype: int64\n",
      "********************\n",
      "75.00     310\n",
      "65.00     302\n",
      "55.00     275\n",
      "60.00     270\n",
      "45.00     240\n",
      "         ... \n",
      "351.00      1\n",
      "54.10       1\n",
      "80.64       1\n",
      "32.73       1\n",
      "488.00      1\n",
      "Name: price, Length: 1994, dtype: int64\n",
      "********************\n"
     ]
    }
   ],
   "source": [
    "for column in df.columns:\n",
    "    print(df[column].value_counts())\n",
    "    print(\"*\"*20)"
   ]
  },
  {
   "cell_type": "markdown",
   "metadata": {},
   "source": [
    "so after seeing the data we will drop area_type,availabilty,society and balcony columns:"
   ]
  },
  {
   "cell_type": "code",
   "execution_count": 10,
   "metadata": {},
   "outputs": [],
   "source": [
    "df.drop(columns=['area_type','availability','balcony','society'],inplace=True)"
   ]
  },
  {
   "cell_type": "code",
   "execution_count": 11,
   "metadata": {},
   "outputs": [
    {
     "data": {
      "text/html": [
       "<div>\n",
       "<style scoped>\n",
       "    .dataframe tbody tr th:only-of-type {\n",
       "        vertical-align: middle;\n",
       "    }\n",
       "\n",
       "    .dataframe tbody tr th {\n",
       "        vertical-align: top;\n",
       "    }\n",
       "\n",
       "    .dataframe thead th {\n",
       "        text-align: right;\n",
       "    }\n",
       "</style>\n",
       "<table border=\"1\" class=\"dataframe\">\n",
       "  <thead>\n",
       "    <tr style=\"text-align: right;\">\n",
       "      <th></th>\n",
       "      <th>bath</th>\n",
       "      <th>price</th>\n",
       "    </tr>\n",
       "  </thead>\n",
       "  <tbody>\n",
       "    <tr>\n",
       "      <th>count</th>\n",
       "      <td>13247.000000</td>\n",
       "      <td>13320.000000</td>\n",
       "    </tr>\n",
       "    <tr>\n",
       "      <th>mean</th>\n",
       "      <td>2.692610</td>\n",
       "      <td>112.565627</td>\n",
       "    </tr>\n",
       "    <tr>\n",
       "      <th>std</th>\n",
       "      <td>1.341458</td>\n",
       "      <td>148.971674</td>\n",
       "    </tr>\n",
       "    <tr>\n",
       "      <th>min</th>\n",
       "      <td>1.000000</td>\n",
       "      <td>8.000000</td>\n",
       "    </tr>\n",
       "    <tr>\n",
       "      <th>25%</th>\n",
       "      <td>2.000000</td>\n",
       "      <td>50.000000</td>\n",
       "    </tr>\n",
       "    <tr>\n",
       "      <th>50%</th>\n",
       "      <td>2.000000</td>\n",
       "      <td>72.000000</td>\n",
       "    </tr>\n",
       "    <tr>\n",
       "      <th>75%</th>\n",
       "      <td>3.000000</td>\n",
       "      <td>120.000000</td>\n",
       "    </tr>\n",
       "    <tr>\n",
       "      <th>max</th>\n",
       "      <td>40.000000</td>\n",
       "      <td>3600.000000</td>\n",
       "    </tr>\n",
       "  </tbody>\n",
       "</table>\n",
       "</div>"
      ],
      "text/plain": [
       "               bath         price\n",
       "count  13247.000000  13320.000000\n",
       "mean       2.692610    112.565627\n",
       "std        1.341458    148.971674\n",
       "min        1.000000      8.000000\n",
       "25%        2.000000     50.000000\n",
       "50%        2.000000     72.000000\n",
       "75%        3.000000    120.000000\n",
       "max       40.000000   3600.000000"
      ]
     },
     "execution_count": 11,
     "metadata": {},
     "output_type": "execute_result"
    }
   ],
   "source": [
    "df.describe()"
   ]
  },
  {
   "cell_type": "code",
   "execution_count": 12,
   "metadata": {},
   "outputs": [
    {
     "data": {
      "text/plain": [
       "location       1\n",
       "size          16\n",
       "total_sqft     0\n",
       "bath          73\n",
       "price          0\n",
       "dtype: int64"
      ]
     },
     "execution_count": 12,
     "metadata": {},
     "output_type": "execute_result"
    }
   ],
   "source": [
    "df.isna().sum()"
   ]
  },
  {
   "cell_type": "markdown",
   "metadata": {},
   "source": [
    "**now we will fill and handel the Missing values:**\n"
   ]
  },
  {
   "cell_type": "markdown",
   "metadata": {},
   "source": [
    "*starting with location*"
   ]
  },
  {
   "cell_type": "code",
   "execution_count": 13,
   "metadata": {},
   "outputs": [
    {
     "data": {
      "text/plain": [
       "Whitefield                        540\n",
       "Sarjapur  Road                    399\n",
       "Electronic City                   302\n",
       "Kanakpura Road                    273\n",
       "Thanisandra                       234\n",
       "                                 ... \n",
       "Bapuji Layout                       1\n",
       "1st Stage Radha Krishna Layout      1\n",
       "BEML Layout 5th stage               1\n",
       "singapura paradise                  1\n",
       "Abshot Layout                       1\n",
       "Name: location, Length: 1305, dtype: int64"
      ]
     },
     "execution_count": 13,
     "metadata": {},
     "output_type": "execute_result"
    }
   ],
   "source": [
    "df['location'].value_counts()"
   ]
  },
  {
   "cell_type": "markdown",
   "metadata": {},
   "source": [
    "we can see here tha *White field* and *Sarjapur road* has the maximum number of counts:\n",
    "\n",
    "\n",
    "\n",
    "as there is only one missing value we can fill it by any of the 2 max value because it wont cause many problems\n",
    "\n",
    "in this case we will fill the null/missing value with *Sarjapur Road*."
   ]
  },
  {
   "cell_type": "code",
   "execution_count": 14,
   "metadata": {},
   "outputs": [],
   "source": [
    "df['location'] = df['location'].fillna('Sarjapur Road')"
   ]
  },
  {
   "cell_type": "markdown",
   "metadata": {},
   "source": [
    "*Now lets handel missing values of size:*"
   ]
  },
  {
   "cell_type": "code",
   "execution_count": 15,
   "metadata": {},
   "outputs": [
    {
     "data": {
      "text/plain": [
       "2 BHK         5199\n",
       "3 BHK         4310\n",
       "4 Bedroom      826\n",
       "4 BHK          591\n",
       "3 Bedroom      547\n",
       "1 BHK          538\n",
       "2 Bedroom      329\n",
       "5 Bedroom      297\n",
       "6 Bedroom      191\n",
       "1 Bedroom      105\n",
       "8 Bedroom       84\n",
       "7 Bedroom       83\n",
       "5 BHK           59\n",
       "9 Bedroom       46\n",
       "6 BHK           30\n",
       "7 BHK           17\n",
       "1 RK            13\n",
       "10 Bedroom      12\n",
       "9 BHK            8\n",
       "8 BHK            5\n",
       "11 BHK           2\n",
       "11 Bedroom       2\n",
       "10 BHK           2\n",
       "14 BHK           1\n",
       "13 BHK           1\n",
       "12 Bedroom       1\n",
       "27 BHK           1\n",
       "43 Bedroom       1\n",
       "16 BHK           1\n",
       "19 BHK           1\n",
       "18 Bedroom       1\n",
       "Name: size, dtype: int64"
      ]
     },
     "execution_count": 15,
     "metadata": {},
     "output_type": "execute_result"
    }
   ],
   "source": [
    "df['size'].value_counts()"
   ]
  },
  {
   "cell_type": "markdown",
   "metadata": {},
   "source": [
    "As 2BHK has maximum value we will fill null/missing values with it"
   ]
  },
  {
   "cell_type": "code",
   "execution_count": 16,
   "metadata": {},
   "outputs": [],
   "source": [
    "df['size'] = df['size'].fillna(\"2BHK\")"
   ]
  },
  {
   "cell_type": "markdown",
   "metadata": {},
   "source": [
    "*And lastly we will handle missing values of bath*"
   ]
  },
  {
   "cell_type": "markdown",
   "metadata": {},
   "source": [
    "As the bath column is a numeric column we will fill the missing values with its median"
   ]
  },
  {
   "cell_type": "code",
   "execution_count": 17,
   "metadata": {},
   "outputs": [],
   "source": [
    "df['bath'] = df['bath'].fillna(df['bath'].median())"
   ]
  },
  {
   "cell_type": "code",
   "execution_count": 18,
   "metadata": {},
   "outputs": [
    {
     "data": {
      "text/plain": [
       "location      0\n",
       "size          0\n",
       "total_sqft    0\n",
       "bath          0\n",
       "price         0\n",
       "dtype: int64"
      ]
     },
     "execution_count": 18,
     "metadata": {},
     "output_type": "execute_result"
    }
   ],
   "source": [
    "df.isnull().sum()"
   ]
  },
  {
   "cell_type": "markdown",
   "metadata": {},
   "source": [
    "so now we can see we have no null values hence we have sucesfully handeled missing values"
   ]
  },
  {
   "cell_type": "code",
   "execution_count": 19,
   "metadata": {},
   "outputs": [
    {
     "data": {
      "text/plain": [
       "2 BHK         5199\n",
       "3 BHK         4310\n",
       "4 Bedroom      826\n",
       "4 BHK          591\n",
       "3 Bedroom      547\n",
       "1 BHK          538\n",
       "2 Bedroom      329\n",
       "5 Bedroom      297\n",
       "6 Bedroom      191\n",
       "1 Bedroom      105\n",
       "8 Bedroom       84\n",
       "7 Bedroom       83\n",
       "5 BHK           59\n",
       "9 Bedroom       46\n",
       "6 BHK           30\n",
       "7 BHK           17\n",
       "2BHK            16\n",
       "1 RK            13\n",
       "10 Bedroom      12\n",
       "9 BHK            8\n",
       "8 BHK            5\n",
       "10 BHK           2\n",
       "11 BHK           2\n",
       "11 Bedroom       2\n",
       "19 BHK           1\n",
       "16 BHK           1\n",
       "43 Bedroom       1\n",
       "14 BHK           1\n",
       "27 BHK           1\n",
       "12 Bedroom       1\n",
       "13 BHK           1\n",
       "18 Bedroom       1\n",
       "Name: size, dtype: int64"
      ]
     },
     "execution_count": 19,
     "metadata": {},
     "output_type": "execute_result"
    }
   ],
   "source": [
    "df['size'].value_counts()"
   ]
  },
  {
   "cell_type": "markdown",
   "metadata": {},
   "source": [
    "So here there is a problem, there are 2 ways to describe size of house i.e : BKH and bedroom"
   ]
  },
  {
   "cell_type": "code",
   "execution_count": 20,
   "metadata": {},
   "outputs": [],
   "source": [
    "df['BHK'] = df['size'].str.split().str.get(0)"
   ]
  },
  {
   "cell_type": "code",
   "execution_count": 21,
   "metadata": {},
   "outputs": [],
   "source": [
    "df['BHK'] = df['BHK'].replace('2BHK',2)"
   ]
  },
  {
   "cell_type": "code",
   "execution_count": 22,
   "metadata": {},
   "outputs": [
    {
     "data": {
      "text/plain": [
       "2     5528\n",
       "3     4857\n",
       "4     1417\n",
       "1      656\n",
       "5      356\n",
       "6      221\n",
       "7      100\n",
       "8       89\n",
       "9       54\n",
       "2       16\n",
       "10      14\n",
       "11       4\n",
       "27       1\n",
       "19       1\n",
       "16       1\n",
       "43       1\n",
       "14       1\n",
       "12       1\n",
       "13       1\n",
       "18       1\n",
       "Name: BHK, dtype: int64"
      ]
     },
     "execution_count": 22,
     "metadata": {},
     "output_type": "execute_result"
    }
   ],
   "source": [
    "df['BHK'].value_counts()"
   ]
  },
  {
   "cell_type": "code",
   "execution_count": 23,
   "metadata": {},
   "outputs": [],
   "source": [
    "df['BHK'] = df['BHK'].astype(int)"
   ]
  },
  {
   "cell_type": "code",
   "execution_count": 24,
   "metadata": {},
   "outputs": [
    {
     "data": {
      "text/html": [
       "<div>\n",
       "<style scoped>\n",
       "    .dataframe tbody tr th:only-of-type {\n",
       "        vertical-align: middle;\n",
       "    }\n",
       "\n",
       "    .dataframe tbody tr th {\n",
       "        vertical-align: top;\n",
       "    }\n",
       "\n",
       "    .dataframe thead th {\n",
       "        text-align: right;\n",
       "    }\n",
       "</style>\n",
       "<table border=\"1\" class=\"dataframe\">\n",
       "  <thead>\n",
       "    <tr style=\"text-align: right;\">\n",
       "      <th></th>\n",
       "      <th>location</th>\n",
       "      <th>size</th>\n",
       "      <th>total_sqft</th>\n",
       "      <th>bath</th>\n",
       "      <th>price</th>\n",
       "      <th>BHK</th>\n",
       "    </tr>\n",
       "  </thead>\n",
       "  <tbody>\n",
       "    <tr>\n",
       "      <th>1718</th>\n",
       "      <td>2Electronic City Phase II</td>\n",
       "      <td>27 BHK</td>\n",
       "      <td>8000</td>\n",
       "      <td>27.0</td>\n",
       "      <td>230.0</td>\n",
       "      <td>27</td>\n",
       "    </tr>\n",
       "    <tr>\n",
       "      <th>4684</th>\n",
       "      <td>Munnekollal</td>\n",
       "      <td>43 Bedroom</td>\n",
       "      <td>2400</td>\n",
       "      <td>40.0</td>\n",
       "      <td>660.0</td>\n",
       "      <td>43</td>\n",
       "    </tr>\n",
       "  </tbody>\n",
       "</table>\n",
       "</div>"
      ],
      "text/plain": [
       "                       location        size total_sqft  bath  price  BHK\n",
       "1718  2Electronic City Phase II      27 BHK       8000  27.0  230.0   27\n",
       "4684                Munnekollal  43 Bedroom       2400  40.0  660.0   43"
      ]
     },
     "execution_count": 24,
     "metadata": {},
     "output_type": "execute_result"
    }
   ],
   "source": [
    "df[df.BHK>20]"
   ]
  },
  {
   "cell_type": "code",
   "execution_count": 25,
   "metadata": {},
   "outputs": [
    {
     "ename": "KeyError",
     "evalue": "\"['2 BHK', '4 Bedroom', '3 BHK', '3 BHK', '2 BHK', '2 BHK', '4 BHK', '4 BHK', '3 BHK', '6 Bedroom', '3 BHK', '4 Bedroom', '2 BHK', '2 BHK', '3 Bedroom', '2 BHK', '3 BHK', '3 BHK', '3 BHK', '2 BHK', '1 BHK', '3 BHK', '4 Bedroom', '3 BHK', '1 RK', '3 BHK', '2 BHK', '3 BHK', '2 BHK', '3 BHK', '4 BHK', '3 BHK', '3 BHK', '3 BHK', '3 BHK', '2 BHK', '2 BHK', '3 BHK', '3 BHK', '2 BHK', '2 BHK', '3 BHK', '1 BHK', '1 Bedroom', '2 BHK', '8 Bedroom', '2 BHK', '2 BHK', '2 Bedroom', '2 BHK', '2 BHK', '3 BHK', '3 BHK', '2 BHK', '3 BHK', '2 BHK', '4 Bedroom', '2 BHK', '6 Bedroom', '2 BHK', '3 Bedroom', '2 BHK', '4 Bedroom', '2 BHK', '8 Bedroom', '2 BHK', '2 BHK', '2 BHK', '8 Bedroom', '2 BHK', '3 Bedroom', '2 BHK', '3 BHK', '2 BHK', '3 BHK', '2 BHK', '2 BHK', '3 BHK', '2 BHK', '6 Bedroom', '3 BHK', '4 Bedroom', '2 BHK', '3 BHK', '3 BHK', '6 Bedroom', '3 BHK', '2 BHK', '2 BHK', '6 Bedroom', '2 BHK', '2 BHK', '3 BHK', '4 Bedroom', '2 BHK', '3 BHK', '4 Bedroom', '3 BHK', '2 BHK', '3 Bedroom', '3 BHK', '2 BHK', '3 Bedroom', '2 BHK', '2 BHK', '2 BHK', '3 BHK', '3 BHK', '2 BHK', '2 BHK', '3 BHK', '3 BHK', '2 BHK', '3 BHK', '4 Bedroom', '3 Bedroom', '3 BHK', '3 BHK', '2 BHK', '2 Bedroom', '3 BHK', '3 BHK', '4 BHK', '4 BHK', '3 BHK', '2 BHK', '3 BHK', '2 BHK', '2 BHK', '7 Bedroom', '3 BHK', '3 Bedroom', '2 BHK', '4 Bedroom', '3 BHK', '2 BHK', '2 BHK', '2 BHK', '3 BHK', '3 BHK', '8 Bedroom', '5 BHK', '3 BHK', '2 BHK', '2 BHK', '7 BHK', '3 BHK', '2 BHK', '3 BHK', '6 Bedroom', '3 BHK', '2 BHK', '3 BHK', '3 BHK', '2 BHK', '2 BHK', '2 BHK', '3 BHK', '3 BHK', '4 Bedroom', '3 BHK', '2 BHK', '3 BHK', '4 Bedroom', '3 BHK', '2 BHK', '3 BHK', '3 BHK', '2 BHK', '3 BHK', '6 BHK', '1 BHK', '2 BHK', '3 BHK', '3 BHK', '3 Bedroom', '5 Bedroom', '1 Bedroom', '1 BHK', '2 BHK', '2 BHK', '3 BHK', '3 BHK', '3 BHK', '2 BHK', '3 Bedroom', '2 BHK', '2 BHK', '2 BHK', '2 BHK', '4 Bedroom', '3 BHK', '4 Bedroom', '7 Bedroom', '2 BHK', '2 BHK', '2 BHK', '3 Bedroom', '3 BHK', '2 BHK', '2 BHK', '3 BHK', '2 BHK', '2 BHK', '3 BHK', '3 BHK', '3 BHK', '2 BHK', '2 BHK', '4 Bedroom', '4 BHK', '3 BHK', '3 BHK', '3 BHK', '3 BHK', '2 BHK', '6 Bedroom', '1 BHK', '3 BHK', '3 BHK', '3 BHK', '3 BHK', '4 BHK', '2 BHK', '3 BHK', '3 BHK', '2 BHK', '2 Bedroom', '3 BHK', '2 BHK', '2 BHK', '2 BHK', '2 BHK', '2 BHK', '2 BHK', '3 BHK', '2 BHK', '3 BHK', '5 Bedroom', '2 BHK', '1 BHK', '8 Bedroom', '1 BHK', '3 BHK', '2 BHK', '3 Bedroom', '2 BHK', '3 BHK', '3 Bedroom', '3 BHK', '2 BHK', '2 BHK', '2 BHK', '2 BHK', '2 Bedroom', '4 Bedroom', '2 BHK', '2 BHK', '5 Bedroom', '3 BHK', '4 Bedroom', '3 BHK', '2 BHK', '2 BHK', '2 BHK', '4 Bedroom', '3 BHK', '3 BHK', '2 BHK', '3 BHK', '2 BHK', '3 BHK', '2 BHK', '2 Bedroom', '3 BHK', '3 BHK', '2 BHK', '4 Bedroom', '3 BHK', '3 BHK', '2 BHK', '3 BHK', '6 Bedroom', '3 BHK', '3 BHK', '3 BHK', '2 BHK', '3 BHK', '2 BHK', '2 BHK', '2 BHK', '2 BHK', '2 BHK', '2 BHK', '2 BHK', '2 BHK', '3 Bedroom', '2 BHK', '4 BHK', '3 Bedroom', '4 BHK', '2 BHK', '3 BHK', '3 BHK', '3 BHK', '2 BHK', '1 BHK', '3 BHK', '4 BHK', '3 BHK', '2 BHK', '3 BHK', '2 BHK', '3 BHK', '2 BHK', '5 Bedroom', '2 BHK', '2 BHK', '2 BHK', '2 BHK', '2 BHK', '2 BHK', '2 Bedroom', '4 Bedroom', '3 BHK', '4 Bedroom', '3 BHK', '2 BHK', '2 BHK', '3 BHK', '3 BHK', '2 BHK', '4 Bedroom', '2 BHK', '3 BHK', '2 BHK', '2 BHK', '4 BHK', '3 BHK', '2 Bedroom', '2 BHK', '2 BHK', '2 BHK', '3 BHK', '1 BHK', '2 BHK', '3 Bedroom', '3 BHK', '3 BHK', '3 Bedroom', '2 BHK', '2 BHK', '3 BHK', '2 BHK', '1 BHK', '3 Bedroom', '3 BHK', '2 BHK', '4 BHK', '2 BHK', '2 BHK', '3 BHK', '4 Bedroom', '1 BHK', '2 BHK', '1 BHK', '2 BHK', '2 BHK', '2 BHK', '2 BHK', '4 BHK', '2 BHK', '2 BHK', '3 BHK', '2 BHK', '3 BHK', '3 BHK', '1 BHK', '3 BHK', '3 BHK', '3 BHK', '2 BHK', '2 Bedroom', '2 BHK', '2 BHK', '2 BHK', '3 BHK', '3 BHK', '3 BHK', '2 BHK', '2 BHK', '2 BHK', '3 BHK', '2 BHK', '2 BHK', '2 BHK', '2 BHK', '6 BHK', '2 BHK', '3 BHK', '3 BHK', '4 BHK', '2 Bedroom', '4 BHK', '2 BHK', '2 Bedroom', '4 Bedroom', '3 BHK', '7 BHK', '2 Bedroom', '1 BHK', '2 BHK', '2 BHK', '6 Bedroom', '3 BHK', '3 BHK', '2 BHK', '3 Bedroom', '2 Bedroom', '2 BHK', '2 Bedroom', '3 BHK', '2 BHK', '2 BHK', '2 BHK', '6 Bedroom', '3 BHK', '2 BHK', '2 BHK', '3 BHK', '2 BHK', '2 BHK', '2 BHK', '2 BHK', '8 Bedroom', '3 BHK', '3 BHK', '3 BHK', '2 BHK', '3 Bedroom', '4 Bedroom', '2 BHK', '3 BHK', '3 BHK', '3 BHK', '2 BHK', '3 BHK', '1 BHK', '3 BHK', '3 BHK', '2 BHK', '3 Bedroom', '2 BHK', '4 Bedroom', '2 BHK', '4 Bedroom', '3 BHK', '3 BHK', '2 BHK', '11 BHK', '3 BHK', '3 BHK', '2 BHK', '2 BHK', '2 BHK', '2 BHK', '3 BHK', '3 BHK', '2 BHK', '4 Bedroom', '2 Bedroom', '2 BHK', '4 BHK', '2 BHK', '2 BHK', '2 BHK', '2 BHK', '4 BHK', '2 BHK', '2 BHK', '4 BHK', '4 Bedroom', '5 Bedroom', '5 Bedroom', '3 BHK', '4 BHK', '4 Bedroom', '2 BHK', '2 BHK', '3 BHK', '5 BHK', '3 Bedroom', '2 BHK', '2 BHK', '2 BHK', '2 BHK', '2 BHK', '2 BHK', '3 BHK', '2 BHK', '2 Bedroom', '3 BHK', '3 BHK', '3 BHK', '1 BHK', '2 BHK', '2 BHK', '2 BHK', '2 BHK', '2 BHK', '4 Bedroom', '1 Bedroom', '2 BHK', '4 Bedroom', '4 Bedroom', '4 BHK', '4 BHK', '3 BHK', '4 Bedroom', '3 BHK', '3 BHK', '2 BHK', '3 BHK', '2 BHK', '4 BHK', '2 BHK', '1 BHK', '2 BHK', '4 BHK', '3 BHK', '2 BHK', '2 BHK', '2 BHK', '3 BHK', '3 BHK', '3 BHK', '2 BHK', '3 BHK', '9 BHK', '5 Bedroom', '2 BHK', '3 BHK', '3 BHK', '3 BHK', '3 Bedroom', '3 Bedroom', '2 BHK', '5 BHK', '3 BHK', '2 BHK', '3 BHK', '2 BHK', '2 BHK', '3 BHK', '6 Bedroom', '2 Bedroom', '2 BHK', '1 BHK', '2 BHK', '4 Bedroom', '2 BHK', '1 BHK', '2 BHK', '3 BHK', '2 BHK', '3 BHK', '4 Bedroom', '3 BHK', '3 BHK', '2 BHK', '4 Bedroom', '3 BHK', '2 BHK', '4 Bedroom', '3 BHK', '3 BHK', '2 BHK', '2 Bedroom', '3 BHK', '2BHK', '2 BHK', '1 Bedroom', '1 BHK', '3 BHK', '3 BHK', '2 BHK', '2 BHK', '2 BHK', '2 BHK', '2 BHK', '3 BHK', '3 BHK', '2 Bedroom', '1 BHK', '2 BHK', '3 BHK', '2 BHK', '3 BHK', '3 BHK', '3 BHK', '3 BHK', '1 BHK', '1 BHK', '3 Bedroom', '3 BHK', '7 BHK', '2 BHK', '2 BHK', '3 BHK', '4 BHK', '4 Bedroom', '2 BHK', '2 BHK', '2 BHK', '5 Bedroom', '6 Bedroom', '2 BHK', '4 Bedroom', '4 BHK', '3 BHK', '3 BHK', '2 BHK', '3 BHK', '1 BHK', '3 BHK', '3 BHK', '3 BHK', '2 BHK', '2 BHK', '3 BHK', '2 Bedroom', '3 BHK', '2 BHK', '1 BHK', '4 BHK', '2 BHK', '3 BHK', '3 BHK', '6 BHK', '4 BHK', '2 BHK', '3 Bedroom', '2 BHK', '1 BHK', '2 BHK', '2 BHK', '3 BHK', '2 BHK', '9 Bedroom', '3 BHK', '2 BHK', '3 BHK', '3 BHK', '2 BHK', '3 BHK', '3 BHK', '4 BHK', '3 BHK', '2 BHK', '2 BHK', '3 BHK', '2 BHK', '2 BHK', '4 Bedroom', '3 BHK', '3 BHK', '2 BHK', '2 BHK', '3 BHK', '5 BHK', '3 Bedroom', '3 BHK', '4 Bedroom', '3 BHK', '3 BHK', '2 BHK', '1 Bedroom', '7 Bedroom', '3 BHK', '5 Bedroom', '3 BHK', '4 Bedroom', '2 BHK', '3 BHK', '3 BHK', '3 Bedroom', '2 BHK', '3 BHK', '3 BHK', '4 BHK', '4 Bedroom', '2 BHK', '2 Bedroom', '3 BHK', '2 BHK', '3 BHK', '2 BHK', '3 Bedroom', '2 BHK', '3 Bedroom', '2 BHK', '2 BHK', '5 BHK', '3 BHK', '3 Bedroom', '2 BHK', '3 Bedroom', '3 BHK', '2 BHK', '2 BHK', '2 BHK', '2 BHK', '3 BHK', '3 BHK', '3 BHK', '3 BHK', '3 BHK', '2 BHK', '2 BHK', '3 BHK', '3 BHK', '3 BHK', '2 BHK', '2 BHK', '3 BHK', '4 Bedroom', '3 BHK', '5 Bedroom', '4 Bedroom', '2 BHK', '2 BHK', '2 BHK', '3 BHK', '2 BHK', '2 BHK', '2 BHK', '4 BHK', '2 BHK', '3 BHK', '3 BHK', '2 BHK', '1 BHK', '2 BHK', '4 BHK', '2 BHK', '2 BHK', '2 BHK', '1 Bedroom', '2 BHK', '4 Bedroom', '3 BHK', '2 BHK', '2 BHK', '4 BHK', '2 BHK', '3 BHK', '2 BHK', '5 Bedroom', '2 BHK', '4 Bedroom', '2 BHK', '2 BHK', '2 BHK', '1 BHK', '2 BHK', '3 BHK', '2 BHK', '5 Bedroom', '3 BHK', '2 BHK', '9 Bedroom', '2 BHK', '2 BHK', '3 BHK', '2 BHK', '1 BHK', '3 BHK', '2 BHK', '3 BHK', '3 BHK', '2 BHK', '2 BHK', '1 RK', '6 Bedroom', '3 BHK', '3 BHK', '2 BHK', '4 BHK', '4 Bedroom', '6 Bedroom', '3 BHK', '2 BHK', '2 BHK', '2 BHK', '7 Bedroom', '3 BHK', '2 BHK', '2 BHK', '2 BHK', '3 BHK', '3 BHK', '4 BHK', '2 BHK', '2 BHK', '2 BHK', '3 BHK', '2 BHK', '4 Bedroom', '3 BHK', '3 BHK', '4 Bedroom', '4 BHK', '2 BHK', '2 BHK', '2 BHK', '2 BHK', '1 BHK', '2 BHK', '3 BHK', '4 BHK', '3 BHK', '3 BHK', '2 BHK', '4 BHK', '2 BHK', '4 BHK', '3 BHK', '3 BHK', '3 BHK', '1 BHK', '2 BHK', '2 BHK', '3 BHK', '2 BHK', '2 BHK', '2 BHK', '2 BHK', '2 BHK', '6 Bedroom', '2 Bedroom', '3 BHK', '2 BHK', '3 BHK', '2 BHK', '2 BHK', '4 Bedroom', '3 BHK', '3 BHK', '3 BHK', '3 BHK', '2 BHK', '3 BHK', '3 BHK', '2 BHK', '3 BHK', '4 Bedroom', '3 BHK', '8 Bedroom', '2 BHK', '2 BHK', '6 Bedroom', '4 Bedroom', '2 BHK', '2 BHK', '2 BHK', '2 BHK', '5 Bedroom', '2 BHK', '2 BHK', '2 BHK', '2 BHK', '3 BHK', '2 BHK', '2 BHK', '2 BHK', '3 BHK', '3 BHK', '3 BHK', '3 BHK', '3 BHK', '3 BHK', '2 BHK', '1 BHK', '3 BHK', '3 Bedroom', '7 Bedroom', '1 BHK', '2 BHK', '5 Bedroom', '5 Bedroom', '3 BHK', '2 BHK', '3 Bedroom', '2 BHK', '2 BHK', '2 BHK', '2 BHK', '2 BHK', '1 Bedroom', '3 BHK', '2 BHK', '3 BHK', '2 BHK', '3 BHK', '1 BHK', '1 BHK', '1 BHK', '2 Bedroom', '2 Bedroom', '3 Bedroom', '2 BHK', '4 Bedroom', '3 BHK', '2 BHK', '2 BHK', '2 BHK', '3 BHK', '2 BHK', '1 BHK', '2 BHK', '3 BHK', '3 BHK', '2 BHK', '4 Bedroom', '3 BHK', '3 BHK', '3 BHK', '2 BHK', '5 BHK', '2 Bedroom', '2 BHK', '2 BHK', '3 BHK', '3 BHK', '3 BHK', '4 BHK', '4 BHK', '3 BHK', '9 Bedroom', '5 Bedroom', '3 BHK', '4 Bedroom', '1 BHK', '2 BHK', '2 BHK', '2 BHK', '4 Bedroom', '2 BHK', '4 Bedroom', '3 BHK', '4 BHK', '3 Bedroom', '3 BHK', '4 Bedroom', '3 BHK', '3 BHK', '4 Bedroom', '2 BHK', '2 BHK', '1 BHK', '3 BHK', '3 Bedroom', '2 BHK', '3 BHK', '2 BHK', '3 BHK', '3 BHK', '2 BHK', '2 BHK', '3 BHK', '1 BHK', '3 BHK', '2 BHK', '2 BHK', '2 BHK', '2 BHK', '6 Bedroom', '5 Bedroom', '2 BHK', '2 BHK', '2 BHK', '3 BHK', '2 BHK', '3 BHK', '2 BHK', '2 BHK', '3 BHK', '3 BHK', '2 BHK', '2 BHK', '1 BHK', '8 Bedroom', '4 Bedroom', '1 BHK', '2 BHK', '2 BHK', '1 Bedroom', '3 Bedroom', '2 BHK', '3 BHK', '1 BHK', '3 BHK', '2 BHK', '2 BHK', '3 BHK', '3 BHK', '3 BHK', '3 BHK', '2 Bedroom', '2 BHK', '4 Bedroom', '2 BHK', '2 BHK', '4 BHK', '3 BHK', '2 BHK', '1 BHK', '2 Bedroom', '7 BHK', '1 Bedroom', '1 BHK', '2 BHK', '2 BHK', '3 BHK', '8 Bedroom', '2 BHK', '3 BHK', '2 BHK', '1 BHK', '2 BHK', '1 BHK', '2 BHK', '3 BHK', '6 Bedroom', '2 BHK', '3 BHK', '2 BHK', '2 BHK', '5 Bedroom', '4 Bedroom', '3 BHK', '3 BHK', '5 Bedroom', '3 BHK', '6 Bedroom', '3 BHK', '3 BHK', '3 BHK', '9 Bedroom', '2 BHK', '3 BHK', '3 Bedroom', '2 BHK', '3 Bedroom', '3 BHK', '2 BHK', '3 BHK', '2 BHK', '3 BHK', '3 BHK', '2 BHK', '3 BHK', '4 Bedroom', '6 Bedroom', '3 BHK', '4 BHK', '5 Bedroom', '2 BHK', '6 Bedroom', '3 Bedroom', '2 BHK', '2 BHK', '2 Bedroom', '4 BHK', '2 BHK', '2 BHK', '3 BHK', '3 BHK', '9 Bedroom', '3 BHK', '3 BHK', '3 BHK', '1 BHK', '2 BHK', '3 BHK', '2 BHK', '2 Bedroom', '4 Bedroom', '2 BHK', '3 BHK', '4 Bedroom', '2 BHK', '3 Bedroom', '2 BHK', '4 Bedroom', '3 BHK', '3 BHK', '5 BHK', '3 BHK', '3 BHK', '1 Bedroom', '3 BHK', '3 BHK', '9 Bedroom', '2 BHK', '8 Bedroom', '2 BHK', '3 BHK', '7 Bedroom', '2 BHK', '3 BHK', '3 BHK', '2 BHK', '2 BHK', '3 BHK', '2 BHK', '3 BHK', '3 BHK', '3 BHK', '2 BHK', '3 BHK', '2 BHK', '5 Bedroom', '3 Bedroom', '4 BHK', '5 Bedroom', '2 BHK', '2 BHK', '2 BHK', '2 BHK', '2 BHK', '2 BHK', '3 BHK', '2 BHK', '2 BHK', '3 BHK', '2 BHK', '4 Bedroom', '3 BHK', '2 BHK', '3 BHK', '6 Bedroom', '2 BHK', '2 BHK', '3 BHK', '3 BHK', '4 Bedroom', '2 BHK', '2 BHK', '3 BHK', '2 BHK', '3 BHK', '2 BHK', '4 Bedroom', '2 BHK', '4 Bedroom', '2 BHK', '3 BHK', '2 BHK', '2 BHK', '2 BHK', '2 BHK', '6 BHK', '2 BHK', '3 BHK', '3 BHK', '2 BHK', '1 BHK', '2 BHK', '3 BHK', '3 BHK', '2 BHK', '3 BHK', '2 BHK', '3 BHK', '3 BHK', '3 BHK', '3 BHK', '3 BHK', '1 BHK', '1 BHK', '2 BHK', '3 BHK', '2 BHK', '4 Bedroom', '3 BHK', '4 BHK', '2 BHK', '2 BHK', '1 BHK', '2 BHK', '3 BHK', '2 BHK', '3 BHK', '2 BHK', '1 Bedroom', '3 BHK', '2 BHK', '3 BHK', '2 BHK', '3 BHK', '3 BHK', '4 BHK', '2 BHK', '3 BHK', '3 BHK', '3 Bedroom', '3 BHK', '3 BHK', '3 BHK', '2 BHK', '5 Bedroom', '5 Bedroom', '2 BHK', '3 Bedroom', '3 BHK', '3 BHK', '3 BHK', '3 BHK', '2 BHK', '7 Bedroom', '2 BHK', '9 Bedroom', '3 BHK', '3 BHK', '2 BHK', '2 BHK', '4 Bedroom', '3 BHK', '2 BHK', '3 BHK', '3 Bedroom', '3 BHK', '4 Bedroom', '4 Bedroom', '1 BHK', '1 BHK', '2 BHK', '3 BHK', '2 BHK', '3 BHK', '2 BHK', '2 BHK', '3 BHK', '4 BHK', '3 BHK', '3 BHK', '3 BHK', '2 BHK', '2 Bedroom', '3 BHK', '2 BHK', '6 Bedroom', '2 BHK', '1 BHK', '4 Bedroom', '3 BHK', '4 Bedroom', '3 BHK', '2 BHK', '4 Bedroom', '3 BHK', '4 BHK', '3 BHK', '3 Bedroom', '4 Bedroom', '2 BHK', '3 BHK', '2 BHK', '6 Bedroom', '2 BHK', '3 BHK', '2 BHK', '2 BHK', '2 BHK', '3 Bedroom', '2 BHK', '2 BHK', '2 BHK', '3 BHK', '2 BHK', '3 Bedroom', '3 BHK', '1 BHK', '3 BHK', '3 BHK', '4 Bedroom', '4 BHK', '3 BHK', '2 BHK', '2 BHK', '3 BHK', '2 BHK', '3 BHK', '3 BHK', '3 BHK', '4 Bedroom', '3 BHK', '1 BHK', '9 Bedroom', '3 Bedroom', '2 BHK', '4 BHK', '2 BHK', '3 BHK', '3 BHK', '2 BHK', '3 BHK', '2 BHK', '3 BHK', '3 BHK', '3 BHK', '2 BHK', '3 BHK', '8 Bedroom', '2 BHK', '2 BHK', '3 BHK', '2 BHK', '1 BHK', '3 BHK', '3 BHK', '3 BHK', '2 BHK', '3 Bedroom', '4 Bedroom', '2 BHK', '3 BHK', '2 BHK', '2 BHK', '4 BHK', '3 BHK', '2 BHK', '3 BHK', '3 Bedroom', '2 BHK', '2 BHK', '2 BHK', '2 BHK', '2 BHK', '3 BHK', '3 BHK', '3 Bedroom', '2 BHK', '3 BHK', '3 BHK', '3 BHK', '3 BHK', '3 BHK', '2 Bedroom', '2 BHK', '2 BHK', '7 Bedroom', '2 BHK', '2 BHK', '3 BHK', '2 BHK', '3 BHK', '3 BHK', '2 BHK', '3 BHK', '4 Bedroom', '2 BHK', '1 RK', '6 Bedroom', '2 BHK', '3 BHK', '3 BHK', '3 BHK', '2 BHK', '2 BHK', '5 Bedroom', '2 BHK', '3 BHK', '4 BHK', '3 BHK', '3 BHK', '2 BHK', '2 BHK', '8 Bedroom', '3 BHK', '2 BHK', '3 BHK', '3 Bedroom', '1 BHK', '3 BHK', '3 BHK', '2 BHK', '3 Bedroom', '5 Bedroom', '3 BHK', '2 BHK', '2 BHK', '4 Bedroom', '2 BHK', '2 BHK', '2 BHK', '2 BHK', '4 BHK', '2 BHK', '9 BHK', '2 BHK', '3 BHK', '3 BHK', '3 BHK', '4 BHK', '2 BHK', '5 Bedroom', '3 BHK', '2 BHK', '2 BHK', '2 BHK', '2 BHK', '3 BHK', '3 BHK', '2 BHK', '3 BHK', '2 BHK', '2 BHK', '3 Bedroom', '3 BHK', '2 BHK', '2 BHK', '2 BHK', '2 BHK', '3 Bedroom', '3 BHK', '3 BHK', '1 BHK', '3 BHK', '2 BHK', '2 Bedroom', '2 BHK', '2 BHK', '2 BHK', '3 BHK', '2 BHK', '3 BHK', '2 Bedroom', '1 Bedroom', '4 BHK', '3 BHK', '3 BHK', '3 BHK', '3 BHK', '2 BHK', '1 BHK', '1 BHK', '5 Bedroom', '3 BHK', '3 BHK', '2 BHK', '2 BHK', '3 BHK', '2 BHK', '3 BHK', '2 Bedroom', '2 BHK', '2 BHK', '5 Bedroom', '3 BHK', '3 BHK', '3 BHK', '2 BHK', '3 BHK', '2 BHK', '4 Bedroom', '3 BHK', '2 BHK', '2 BHK', '3 BHK', '1 BHK', '4 Bedroom', '2 BHK', '2 BHK', '2 BHK', '2 BHK', '3 BHK', '3 BHK', '2 BHK', '2 Bedroom', '4 Bedroom', '2 BHK', '2 BHK', '2 BHK', '2 BHK', '3 BHK', '2 BHK', '2 BHK', '3 BHK', '9 Bedroom', '1 BHK', '7 Bedroom', '2 BHK', '3 BHK', '2 BHK', '3 BHK', '3 BHK', '4 Bedroom', '2 BHK', '2 BHK', '2 BHK', '2 BHK', '3 BHK', '2 BHK', '3 BHK', '2 BHK', '3 BHK', '2 BHK', '3 BHK', '1 BHK', '2 BHK', '2 BHK', '2 BHK', '2 BHK', '2 BHK', '3 BHK', '3 BHK', '2 BHK', '3 Bedroom', '2 BHK', '3 BHK', '2 BHK', '2 Bedroom', '3 BHK', '2 BHK', '2 BHK', '2 BHK', '2 BHK', '2 BHK', '2 BHK', '2 BHK', '2 BHK', '3 BHK', '4 Bedroom', '5 Bedroom', '4 BHK', '2 BHK', '3 BHK', '2 BHK', '2 BHK', '2 BHK', '1 BHK', '3 BHK', '3 BHK', '2 BHK', '4 Bedroom', '2 BHK', '2 BHK', '3 BHK', '2 BHK', '2 BHK', '5 Bedroom', '3 BHK', '4 Bedroom', '2 BHK', '3 BHK', '2 BHK', '3 BHK', '2 BHK', '2 BHK', '3 Bedroom', '2 Bedroom', '3 BHK', '3 BHK', '3 BHK', '3 BHK', '5 Bedroom', '3 Bedroom', '4 BHK', '2 BHK', '2 BHK', '3 BHK', '2 BHK', '4 Bedroom', '7 Bedroom', '2 BHK', '2 BHK', '6 Bedroom', '3 BHK', '4 Bedroom', '2 BHK', '3 BHK', '2 BHK', '3 BHK', '2 BHK', '3 BHK', '3 BHK', '2 BHK', '3 BHK', '5 Bedroom', '2 BHK', '2 BHK', '9 Bedroom', '4 Bedroom', '4 BHK', '3 BHK', '4 BHK', '4 Bedroom', '4 BHK', '2 BHK', '3 BHK', '3 BHK', '2 BHK', '3 Bedroom', '3 BHK', '3 BHK', '3 BHK', '1 BHK', '4 BHK', '3 BHK', '2 BHK', '2 BHK', '3 BHK', '4 BHK', '2 BHK', '3 BHK', '3 Bedroom', '3 Bedroom', '3 BHK', '3 Bedroom', '2 BHK', '3 Bedroom', '2 BHK', '6 Bedroom', '3 Bedroom', '3 BHK', '1 BHK', '2 BHK', '2 BHK', '3 BHK', '3 BHK', '2 BHK', '3 BHK', '3 BHK', '3 BHK', '2 BHK', '2 Bedroom', '2 BHK', '2 BHK', '2 BHK', '3 Bedroom', '2 BHK', '3 BHK', '1 BHK', '2 BHK', '4 Bedroom', '2 BHK', '2 BHK', '4 Bedroom', '2 BHK', '3 BHK', '3 BHK', '2 BHK', '4 BHK', '4 BHK', '3 BHK', '2 BHK', '3 BHK', '3 BHK', '3 BHK', '4 BHK', '2 BHK', '2 BHK', '2 BHK', '3 BHK', '1 BHK', '2 BHK', '3 BHK', '4 Bedroom', '3 BHK', '5 Bedroom', '6 Bedroom', '3 BHK', '3 BHK', '6 BHK', '3 BHK', '2 BHK', '5 Bedroom', '2 BHK', '3 BHK', '5 Bedroom', '3 Bedroom', '4 BHK', '3 BHK', '5 BHK', '1 BHK', '4 Bedroom', '2 BHK', '2 BHK', '3 BHK', '3 BHK', '1 BHK', '3 Bedroom', '4 BHK', '2 BHK', '2 BHK', '1 Bedroom', '2 BHK', '3 BHK', '2 BHK', '7 Bedroom', '2 BHK', '3 BHK', '2 BHK', '2 BHK', '2 BHK', '3 BHK', '3 BHK', '3 BHK', '2 BHK', '4 Bedroom', '3 Bedroom', '3 BHK', '2 Bedroom', '2 BHK', '4 BHK', '3 BHK', '27 BHK', '4 BHK', '2 BHK', '2 BHK', '2 BHK', '2 BHK', '1 BHK', '3 BHK', '2 BHK', '4 Bedroom', '2 BHK', '2 BHK', '2 BHK', '3 BHK', '1 BHK', '4 Bedroom', '2 BHK', '10 Bedroom', '2 BHK', '2 BHK', '2 BHK', '3 BHK', '3 Bedroom', '1 BHK', '3 BHK', '3 BHK', '5 Bedroom', '4 Bedroom', '2 BHK', '2 BHK', '2 BHK', '3 Bedroom', '3 BHK', '2 BHK', '3 BHK', '2 BHK', '2 BHK', '3 BHK', '4 Bedroom', '2 BHK', '8 Bedroom', '3 BHK', '2 BHK', '3 Bedroom', '2 BHK', '3 BHK', '2 BHK', '4 BHK', '2 BHK', '2 BHK', '11 Bedroom', '6 Bedroom', '4 Bedroom', '4 BHK', '3 BHK', '3 BHK', '3 BHK', '2BHK', '3 BHK', '2 BHK', '2 BHK', '3 BHK', '3 BHK', '3 BHK', '2 BHK', '2 BHK', '2 Bedroom', '2 BHK', '2 BHK', '3 BHK', '3 BHK', '4 Bedroom', '2 BHK', '3 BHK', '2 BHK', '2 BHK', '3 BHK', '10 Bedroom', '3 BHK', '3 BHK', '1 BHK', '2 BHK', '3 BHK', '2 BHK', '4 Bedroom', '2 BHK', '2 Bedroom', '3 BHK', '2 BHK', '3 BHK', '2 BHK', '2 Bedroom', '3 BHK', '2 BHK', '4 BHK', '2 BHK', '3 BHK', '3 Bedroom', '3 BHK', '3 BHK', '2 BHK', '3 BHK', '5 Bedroom', '3 Bedroom', '1 BHK', '2 BHK', '2 BHK', '7 Bedroom', '2 BHK', '2 Bedroom', '4 BHK', '2 BHK', '3 Bedroom', '4 BHK', '3 Bedroom', '2 BHK', '3 BHK', '4 BHK', '2 BHK', '3 BHK', '4 BHK', '3 BHK', '4 BHK', '3 BHK', '3 BHK', '2 BHK', '2 BHK', '2 BHK', '2 Bedroom', '2 BHK', '3 BHK', '2 BHK', '2 BHK', '2 BHK', '4 BHK', '2 BHK', '3 BHK', '4 BHK', '3 BHK', '3 BHK', '2 Bedroom', '2 BHK', '5 Bedroom', '2 BHK', '2 BHK', '3 Bedroom', '2 BHK', '2 BHK', '2 BHK', '4 Bedroom', '2 Bedroom', '2 BHK', '4 Bedroom', '3 Bedroom', '3 BHK', '5 Bedroom', '3 BHK', '3 Bedroom', '2 Bedroom', '2 Bedroom', '4 Bedroom', '2 BHK', '6 BHK', '4 BHK', '3 BHK', '3 BHK', '2 BHK', '4 Bedroom', '3 BHK', '7 BHK', '2 BHK', '4 BHK', '2 BHK', '3 BHK', '3 BHK', '2 BHK', '3 Bedroom', '2 BHK', '2 BHK', '2 BHK', '2 BHK', '2 BHK', '2 BHK', '3 BHK', '3 BHK', '4 Bedroom', '2 Bedroom', '3 BHK', '2 BHK', '1 BHK', '2 BHK', '3 BHK', '2 BHK', '2 Bedroom', '2 Bedroom', '2 BHK', '2 BHK', '3 BHK', '2 BHK', '4 Bedroom', '2 BHK', '2 BHK', '2 BHK', '3 BHK', '2 BHK', '4 Bedroom', '2 BHK', '3 BHK', '3 BHK', '2 BHK', '3 BHK', '2 Bedroom', '4 Bedroom', '3 BHK', '2 BHK', '2 BHK', '3 BHK', '3 BHK', '1 BHK', '9 Bedroom', '2 BHK', '6 Bedroom', '3 BHK', '3 Bedroom', '3 BHK', '3 BHK', '2 Bedroom', '1 BHK', '4 Bedroom', '3 BHK', '4 Bedroom', '2 BHK', '3 BHK', '2 BHK', '3 BHK', '8 Bedroom', '3 BHK', '2 BHK', '3 BHK', '2 BHK', '2 BHK', '3 BHK', '3 BHK', '2 BHK', '3 BHK', '2 BHK', '1 BHK', '3 BHK', '2 BHK', '1 BHK', '2 BHK', '3 BHK', '3 BHK', '3 BHK', '2 BHK', '2 BHK', '3 Bedroom', '3 BHK', '4 BHK', '3 BHK', '3 Bedroom', '8 Bedroom', '3 Bedroom', '2 BHK', '3 BHK', '2 BHK', '4 Bedroom', '4 Bedroom', '3 BHK', '3 BHK', '2 BHK', '3 BHK', '2 BHK', '2 BHK', '3 BHK', '2 BHK', '2 BHK', '7 Bedroom', '2 BHK', '1 BHK', '3 BHK', '3 BHK', '4 BHK', '1 BHK', '1 BHK', '2 BHK', '3 BHK', '2 BHK', '2 Bedroom', '1 BHK', '3 BHK', '3 BHK', '3 BHK', '3 BHK', '3 BHK', '3 BHK', '3 Bedroom', '2 BHK', '2 BHK', '2 BHK', '2 BHK', '4 Bedroom', '3 BHK', '2 Bedroom', '3 BHK', '3 BHK', '7 Bedroom', '2 BHK', '1 BHK', '2 BHK', '3 BHK', '4 BHK', '3 BHK', '7 Bedroom', '2 BHK', '6 Bedroom', '2 BHK', '2 BHK', '1 BHK', '2 BHK', '3 Bedroom', '4 BHK', '2 BHK', '1 BHK', '3 BHK', '3 BHK', '3 BHK', '2 BHK', '3 BHK', '3 BHK', '3 BHK', '2 BHK', '2 BHK', '3 BHK', '3 BHK', '2 BHK', '3 BHK', '2 BHK', '2 BHK', '3 BHK', '3 BHK', '2 BHK', '2 BHK', '2 BHK', '2 Bedroom', '3 BHK', '2 BHK', '3 BHK', '3 BHK', '4 Bedroom', '3 BHK', '2 Bedroom', '3 BHK', '2 Bedroom', '2 BHK', '4 BHK', '3 BHK', '2 BHK', '3 BHK', '3 BHK', '3 Bedroom', '2 BHK', '3 BHK', '4 Bedroom', '2 BHK', '2 BHK', '3 BHK', '2 BHK', '5 Bedroom', '2 BHK', '2 BHK', '3 BHK', '2 BHK', '2 BHK', '2 BHK', '3 BHK', '1 BHK', '3 Bedroom', '2 BHK', '3 BHK', '2 BHK', '2 Bedroom', '2 BHK', '2 BHK', '2 BHK', '4 Bedroom', '3 Bedroom', '2 BHK', '3 BHK', '3 BHK', '5 Bedroom', '3 BHK', '3 BHK', '3 BHK', '2 BHK', '4 BHK', '3 BHK', '4 Bedroom', '3 BHK', '4 Bedroom', '2 BHK', '3 BHK', '4 BHK', '3 BHK', '3 BHK', '2 Bedroom', '2 BHK', '3 BHK', '2 BHK', '2 BHK', '1 BHK', '2 BHK', '2 BHK', '2 BHK', '4 Bedroom', '4 Bedroom', '3 BHK', '4 Bedroom', '3 BHK', '3 BHK', '3 Bedroom', '2 BHK', '3 BHK', '3 BHK', '4 BHK', '4 BHK', '3 BHK', '2 BHK', '4 Bedroom', '2 BHK', '2 BHK', '2 BHK', '1 BHK', '3 BHK', '3 BHK', '4 BHK', '3 BHK', '2 BHK', '1 BHK', '3 BHK', '3 BHK', '2 BHK', '3 BHK', '4 Bedroom', '8 Bedroom', '2 BHK', '3 Bedroom', '9 Bedroom', '1 BHK', '2 BHK', '3 Bedroom', '3 BHK', '2 BHK', '2 BHK', '2 BHK', '3 BHK', '3 BHK', '2 BHK', '2 BHK', '8 Bedroom', '3 BHK', '6 Bedroom', '2 BHK', '4 Bedroom', '3 BHK', '2 BHK', '8 Bedroom', '2 BHK', '3 Bedroom', '5 BHK', '2 BHK', '2 BHK', '4 Bedroom', '4 BHK', '3 BHK', '3 BHK', '3 BHK', '2 BHK', '2 BHK', '2 BHK', '4 Bedroom', '2 BHK', '3 BHK', '1 BHK', '3 BHK', '2 BHK', '3 BHK', '3 BHK', '3 BHK', '2 BHK', '4 BHK', '3 Bedroom', '3 BHK', '2 BHK', '3 BHK', '5 Bedroom', '2 BHK', '2 BHK', '2 BHK', '2 BHK', '2 BHK', '3 BHK', '3 BHK', '2 BHK', '4 BHK', '4 Bedroom', '2 BHK', '2 BHK', '3 BHK', '2 BHK', '3 BHK', '2 BHK', '2 BHK', '2 BHK', '3 Bedroom', '2 BHK', '4 BHK', '2 BHK', '3 BHK', '4 Bedroom', '3 BHK', '2 Bedroom', '6 Bedroom', '2 BHK', '2 Bedroom', '2 Bedroom', '2 Bedroom', '2 BHK', '2 BHK', '2 BHK', '3 BHK', '2 BHK', '3 BHK', '2 BHK', '6 BHK', '2 BHK', '2 BHK', '2 BHK', '3 BHK', '1 Bedroom', '2 BHK', '3 BHK', '3 Bedroom', '3 BHK', '3 BHK', '3 BHK', '2BHK', '4 BHK', '4 BHK', '4 BHK', '2 BHK', '2 BHK', '4 Bedroom', '3 BHK', '4 BHK', '3 BHK', '3 Bedroom', '2 BHK', '2 BHK', '3 BHK', '3 BHK', '2 BHK', '1 BHK', '3 BHK', '3 BHK', '2 BHK', '2 Bedroom', '3 BHK', '4 Bedroom', '2 BHK', '2 BHK', '2 BHK', '2 BHK', '3 BHK', '5 Bedroom', '2 BHK', '3 BHK', '2 BHK', '3 BHK', '1 Bedroom', '3 BHK', '3 BHK', '3 Bedroom', '2 BHK', '3 BHK', '2 BHK', '2 BHK', '2 BHK', '4 BHK', '2 BHK', '3 BHK', '4 Bedroom', '4 BHK', '1 BHK', '3 BHK', '2 BHK', '6 Bedroom', '2 BHK', '3 BHK', '2 BHK', '2 Bedroom', '2 BHK', '3 BHK', '3 BHK', '4 Bedroom', '2 BHK', '2 BHK', '3 BHK', '2 BHK', '2 BHK', '4 Bedroom', '2 BHK', '3 BHK', '3 BHK', '2 BHK', '3 BHK', '2 BHK', '5 Bedroom', '2 BHK', '3 BHK', '4 BHK', '2 BHK', '2 BHK', '4 Bedroom', '2 BHK', '2 BHK', '3 BHK', '2 BHK', '2 BHK', '2 BHK', '3 BHK', '2 Bedroom', '2 BHK', '3 BHK', '4 BHK', '5 Bedroom', '3 BHK', '4 Bedroom', '2 BHK', '2 BHK', '2 BHK', '3 BHK', '3 BHK', '3 BHK', '3 BHK', '3 BHK', '2 BHK', '3 BHK', '4 Bedroom', '4 Bedroom', '5 Bedroom', '3 BHK', '2 BHK', '3 Bedroom', '3 BHK', '4 Bedroom', '2 BHK', '2 BHK', '2 BHK', '2 BHK', '2 BHK', '4 BHK', '4 Bedroom', '3 BHK', '2 Bedroom', '3 BHK', '2 BHK', '3 BHK', '3 BHK', '3 BHK', '3 BHK', '3 BHK', '3 BHK', '4 Bedroom', '4 BHK', '2 BHK', '3 BHK', '2 BHK', '1 BHK', '3 BHK', '2 BHK', '1 BHK', '5 Bedroom', '3 Bedroom', '2 BHK', '3 BHK', '1 BHK', '2 BHK', '3 BHK', '4 Bedroom', '2 BHK', '1 Bedroom', '2 BHK', '2 BHK', '2 BHK', '3 BHK', '2 Bedroom', '3 BHK', '2 Bedroom', '4 Bedroom', '2 BHK', '2 BHK', '2 BHK', '4 Bedroom', '2 BHK', '4 Bedroom', '3 BHK', '2 BHK', '3 BHK', '3 BHK', '4 BHK', '4 Bedroom', '3 BHK', '4 BHK', '3 BHK', '3 BHK', '3 BHK', '2 BHK', '2 BHK', '1 BHK', '2 BHK', '6 Bedroom', '4 BHK', '5 Bedroom', '3 BHK', '2 BHK', '3 BHK', '3 BHK', '2 BHK', '3 BHK', '2 BHK', '3 Bedroom', '3 BHK', '3 BHK', '3 BHK', '3 BHK', '3 Bedroom', '2 BHK', '2 BHK', '5 Bedroom', '3 BHK', '7 Bedroom', '2 BHK', '2 Bedroom', '2 BHK', '1 BHK', '6 Bedroom', '2 BHK', '2 BHK', '2 BHK', '4 Bedroom', '3 Bedroom', '2 BHK', '2 BHK', '2 BHK', '3 BHK', '2 Bedroom', '2 BHK', '3 BHK', '2 BHK', '2 BHK', '1 Bedroom', '3 BHK', '2 BHK', '2 BHK', '3 BHK', '2 BHK', '3 BHK', '1 RK', '5 Bedroom', '2 BHK', '3 BHK', '2 BHK', '2 BHK', '2 BHK', '2 BHK', '3 BHK', '3 Bedroom', '3 BHK', '3 BHK', '4 BHK', '3 BHK', '4 BHK', '4 BHK', '4 BHK', '2 BHK', '2 BHK', '2 BHK', '4 BHK', '2 BHK', '3 BHK', '2 BHK', '3 BHK', '3 BHK', '3 BHK', '3 BHK', '2 BHK', '2 BHK', '2 BHK', '3 BHK', '4 Bedroom', '5 BHK', '3 Bedroom', '6 Bedroom', '3 BHK', '2 BHK', '2 BHK', '2 BHK', '3 BHK', '2 BHK', '4 BHK', '2 BHK', '2 BHK', '2 BHK', '2 BHK', '2 BHK', '3 BHK', '3 BHK', '5 Bedroom', '3 BHK', '3 BHK', '1 BHK', '2 BHK', '3 BHK', '2 BHK', '4 Bedroom', '3 BHK', '2 BHK', '3 BHK', '3 BHK', '2 BHK', '4 BHK', '2 BHK', '3 BHK', '7 Bedroom', '2 BHK', '3 BHK', '2 BHK', '3 BHK', '1 RK', '2 BHK', '3 Bedroom', '4 Bedroom', '3 BHK', '3 Bedroom', '4 BHK', '3 BHK', '3 BHK', '3 BHK', '2 BHK', '3 Bedroom', '2 BHK', '3 BHK', '2 BHK', '3 BHK', '2 BHK', '2 BHK', '4 BHK', '2 BHK', '2 BHK', '2 BHK', '4 BHK', '1 Bedroom', '3 BHK', '2 BHK', '2 BHK', '4 BHK', '2 BHK', '2 BHK', '1 BHK', '2 BHK', '2 BHK', '2 BHK', '3 BHK', '2 BHK', '2 BHK', '3 BHK', '3 BHK', '4 Bedroom', '2 BHK', '2 BHK', '3 BHK', '3 BHK', '3 BHK', '4 BHK', '2 BHK', '3 BHK', '2 BHK', '3 BHK', '2 BHK', '4 Bedroom', '3 BHK', '2 BHK', '2 BHK', '3 BHK', '3 BHK', '3 BHK', '3 BHK', '2 BHK', '4 BHK', '2 BHK', '3 BHK', '6 BHK', '3 BHK', '3 BHK', '4 Bedroom', '3 BHK', '2 BHK', '2 BHK', '3 BHK', '3 BHK', '3 BHK', '4 Bedroom', '2 BHK', '3 BHK', '2 BHK', '3 Bedroom', '3 Bedroom', '2 BHK', '3 BHK', '2 BHK', '3 BHK', '2 BHK', '2 BHK', '2 BHK', '3 BHK', '2 BHK', '3 BHK', '3 BHK', '2 BHK', '2 BHK', '7 Bedroom', '3 BHK', '2 BHK', '2 BHK', '2 BHK', '4 Bedroom', '2 BHK', '2 BHK', '4 BHK', '2 BHK', '2 BHK', '4 BHK', '2 Bedroom', '4 Bedroom', '4 Bedroom', '2 BHK', '3 BHK', '3 BHK', '3 BHK', '2 BHK', '2 BHK', '3 BHK', '3 BHK', '3 BHK', '3 BHK', '3 BHK', '3 Bedroom', '2 BHK', '3 BHK', '3 Bedroom', '2 BHK', '3 Bedroom', '1 BHK', '3 BHK', '2 BHK', '2 BHK', '3 BHK', '3 BHK', '2 BHK', '2 BHK', '2 BHK', '3 BHK', '2 BHK', '2 BHK', '2 BHK', '4 Bedroom', '2 BHK', '3 BHK', '2 BHK', '2 BHK', '2 BHK', '3 BHK', '2 BHK', '1 BHK', '3 BHK', '3 BHK', '2 BHK', '3 BHK', '2 BHK', '3 BHK', '3 BHK', '3 BHK', '3 BHK', '2 BHK', '3 BHK', '2 BHK', '2 BHK', '2 BHK', '1 BHK', '3 Bedroom', '3 BHK', '3 BHK', '3 BHK', '2 BHK', '3 BHK', '2 BHK', '2 BHK', '2 BHK', '3 BHK', '2 BHK', '2 BHK', '2 BHK', '3 BHK', '2 BHK', '3 Bedroom', '4 BHK', '3 BHK', '3 BHK', '2 BHK', '2 BHK', '7 BHK', '2 BHK', '2 BHK', '3 BHK', '3 Bedroom', '3 BHK', '4 Bedroom', '2 BHK', '2 BHK', '2 BHK', '2 BHK', '3 Bedroom', '2 BHK', '7 Bedroom', '2 BHK', '2 BHK', '1 BHK', '2 BHK', '2 BHK', '4 Bedroom', '3 BHK', '3 BHK', '3 BHK', '2 BHK', '3 Bedroom', '2 BHK', '4 Bedroom', '2 BHK', '4 BHK', '2 BHK', '3 BHK', '4 Bedroom', '2 BHK', '2 BHK', '2 BHK', '4 Bedroom', '1 BHK', '2 BHK', '2 BHK', '5 Bedroom', '2 Bedroom', '2 BHK', '7 Bedroom', '3 BHK', '3 BHK', '2 BHK', '2 BHK', '4 Bedroom', '3 BHK', '1 RK', '3 Bedroom', '3 BHK', '3 BHK', '2 BHK', '2 BHK', '6 Bedroom', '3 BHK', '3 BHK', '4 Bedroom', '2 Bedroom', '4 Bedroom', '2 BHK', '3 BHK', '4 Bedroom', '6 Bedroom', '2 BHK', '3 BHK', '2 Bedroom', '2 BHK', '2 BHK', '2BHK', '2 BHK', '3 BHK', '1 BHK', '3 BHK', '2 BHK', '9 Bedroom', '3 BHK', '3 BHK', '2 BHK', '2 BHK', '3 BHK', '2 BHK', '2 BHK', '2 BHK', '3 BHK', '3 BHK', '9 Bedroom', '2 BHK', '2 BHK', '2 BHK', '2 BHK', '3 BHK', '2 BHK', '2 BHK', '3 BHK', '3 Bedroom', '3 BHK', '2 BHK', '1 BHK', '2 BHK', '3 BHK', '1 BHK', '2 BHK', '3 Bedroom', '1 Bedroom', '2 BHK', '1 Bedroom', '3 BHK', '2 BHK', '3 BHK', '4 BHK', '3 BHK', '2 BHK', '1 BHK', '3 BHK', '2 Bedroom', '2 BHK', '9 Bedroom', '1 BHK', '2 BHK', '4 BHK', '2 BHK', '2BHK', '4 Bedroom', '4 Bedroom', '2 BHK', '1 Bedroom', '3 BHK', '3 BHK', '2 BHK', '2 BHK', '2 BHK', '2 BHK', '6 Bedroom', '3 BHK', '2 BHK', '3 Bedroom', '2 BHK', '5 Bedroom', '2 BHK', '3 BHK', '2 BHK', '2 BHK', '3 BHK', '4 Bedroom', '7 Bedroom', '3 BHK', '3 BHK', '2 BHK', '2 BHK', '3 BHK', '2 BHK', '3 BHK', '3 Bedroom', '1 BHK', '3 BHK', '2 BHK', '4 Bedroom', '2 BHK', '2 BHK', '3 Bedroom', '4 Bedroom', '2 BHK', '3 Bedroom', '2 BHK', '2 BHK', '2 BHK', '3 Bedroom', '3 BHK', '3 BHK', '4 Bedroom', '3 BHK', '3 Bedroom', '3 BHK', '3 BHK', '3 BHK', '2 BHK', '2 BHK', '2 BHK', '1 BHK', '2 BHK', '2 BHK', '3 BHK', '2 BHK', '4 Bedroom', '2 BHK', '3 BHK', '7 Bedroom', '2 BHK', '9 Bedroom', '2 BHK', '4 Bedroom', '3 BHK', '3 BHK', '2 BHK', '2 BHK', '2 BHK', '7 Bedroom', '3 BHK', '2 BHK', '1 BHK', '2 BHK', '2 BHK', '4 BHK', '3 BHK', '2 BHK', '2 Bedroom', '5 Bedroom', '2 BHK', '2 BHK', '3 Bedroom', '3 BHK', '3 BHK', '2 BHK', '2 BHK', '2 BHK', '3 BHK', '2 BHK', '2 BHK', '5 BHK', '2 BHK', '3 BHK', '2 BHK', '3 BHK', '2 BHK', '2 BHK', '2 BHK', '3 BHK', '3 BHK', '2 BHK', '2 BHK', '2 BHK', '3 BHK', '1 BHK', '2 BHK', '3 BHK', '2 BHK', '2 BHK', '3 BHK', '2 BHK', '2 Bedroom', '3 BHK', '3 BHK', '2 BHK', '3 BHK', '3 BHK', '3 BHK', '5 Bedroom', '2 BHK', '2 BHK', '2 BHK', '3 BHK', '2 BHK', '3 Bedroom', '3 Bedroom', '2 Bedroom', '2 BHK', '1 BHK', '3 BHK', '3 BHK', '5 Bedroom', '2 BHK', '5 Bedroom', '2 BHK', '3 BHK', '4 BHK', '1 Bedroom', '3 BHK', '2 BHK', '3 BHK', '4 Bedroom', '2 BHK', '3 BHK', '2 BHK', '3 BHK', '3 BHK', '2 BHK', '2 BHK', '2 BHK', '2 BHK', '4 Bedroom', '3 BHK', '2 BHK', '4 Bedroom', '3 BHK', '2 BHK', '3 BHK', '3 BHK', '5 Bedroom', '3 BHK', '5 Bedroom', '3 BHK', '2 BHK', '3 BHK', '2 BHK', '3 BHK', '3 BHK', '2 Bedroom', '5 BHK', '7 Bedroom', '3 BHK', '2 BHK', '2 BHK', '2 BHK', '3 BHK', '5 Bedroom', '1 BHK', '2 BHK', '2 BHK', '3 BHK', '3 BHK', '3 BHK', '2 BHK', '2 BHK', '4 Bedroom', '2 BHK', '2 BHK', '3 Bedroom', '2 BHK', '2 BHK', '2 BHK', '3 BHK', '3 BHK', '3 BHK', '5 BHK', '3 BHK', '2 BHK', '1 Bedroom', '2 BHK', '2 BHK', '3 BHK', '2 BHK', '3 BHK', '3 Bedroom', '2 BHK', '4 BHK', '3 BHK', '4 Bedroom', '3 BHK', '3 BHK', '2 BHK', '2 BHK', '3 BHK', '5 Bedroom', '2 BHK', '2 BHK', '2 BHK', '5 Bedroom', '3 BHK', '3 BHK', '2 BHK', '2 BHK', '6 Bedroom', '2 BHK', '3 BHK', '8 Bedroom', '10 BHK', '5 Bedroom', '3 BHK', '2 BHK', '3 BHK', '3 BHK', '2 BHK', '2 BHK', '3 BHK', '6 Bedroom', '2 BHK', '3 BHK', '2 BHK', '4 BHK', '3 BHK', '4 BHK', '2 BHK', '3 Bedroom', '3 BHK', '3 BHK', '2 BHK', '4 BHK', '2 BHK', '3 BHK', '2 BHK', '4 Bedroom', '4 BHK', '5 Bedroom', '4 Bedroom', '3 BHK', '3 Bedroom', '2 BHK', '3 BHK', '2 BHK', '2 BHK', '3 BHK', '2 BHK', '3 BHK', '4 BHK', '2 BHK', '2 BHK', '2 BHK', '3 BHK', '3 BHK', '5 BHK', '2 BHK', '3 BHK', '2 BHK', '3 BHK', '3 BHK', '3 BHK', '3 BHK', '3 BHK', '3 BHK', '3 BHK', '4 Bedroom', '1 BHK', '3 Bedroom', '4 Bedroom', '3 Bedroom', '4 BHK', '4 Bedroom', '3 BHK', '3 BHK', '2 BHK', '3 BHK', '3 BHK', '4 Bedroom', '4 Bedroom', '3 BHK', '2 BHK', '3 BHK', '2 BHK', '4 BHK', '1 BHK', '2 BHK', '4 Bedroom', '2 BHK', '4 BHK', '3 BHK', '3 BHK', '2 BHK', '3 BHK', '3 BHK', '5 BHK', '2 BHK', '3 BHK', '3 BHK', '3 BHK', '3 BHK', '3 BHK', '2 BHK', '3 BHK', '1 BHK', '3 BHK', '7 Bedroom', '2 BHK', '3 BHK', '2 BHK', '4 Bedroom', '3 BHK', '3 BHK', '3 BHK', '2 BHK', '3 BHK', '2 BHK', '2 BHK', '2 BHK', '2 BHK', '3 BHK', '3 BHK', '4 BHK', '2 BHK', '2 BHK', '3 BHK', '7 Bedroom', '2 BHK', '3 BHK', '3 BHK', '2 BHK', '2 BHK', '3 BHK', '2 BHK', '2 BHK', '4 Bedroom', '3 BHK', '2 BHK', '6 Bedroom', '1 BHK', '2 BHK', '2 BHK', '2 BHK', '5 Bedroom', '3 BHK', '2 BHK', '3 BHK', '3 BHK', '3 BHK', '2 BHK', '5 Bedroom', '2 Bedroom', '3 BHK', '2 BHK', '2 Bedroom', '2 BHK', '4 Bedroom', '3 BHK', '2 BHK', '3 Bedroom', '3 BHK', '4 Bedroom', '2 BHK', '3 BHK', '3 BHK', '3 BHK', '3 BHK', '2 Bedroom', '2 BHK', '2 BHK', '2 BHK', '3 BHK', '2 BHK', '2 Bedroom', '2 BHK', '2 BHK', '2 BHK', '4 BHK', '2 BHK', '4 BHK', '3 BHK', '2 BHK', '2 BHK', '2 BHK', '2 BHK', '2 BHK', '2 BHK', '2 BHK', '2 BHK', '2 BHK', '4 Bedroom', '3 BHK', '2 BHK', '1 BHK', '3 BHK', '2 BHK', '3 BHK', '5 Bedroom', '3 BHK', '2 BHK', '4 Bedroom', '4 Bedroom', '2 BHK', '3 Bedroom', '3 BHK', '3 BHK', '5 Bedroom', '2 BHK', '4 Bedroom', '2 BHK', '2 BHK', '3 BHK', '6 Bedroom', '2 BHK', '2 BHK', '4 BHK', '2 BHK', '3 Bedroom', '3 BHK', '2 BHK', '3 BHK', '3 BHK', '3 BHK', '2 BHK', '3 BHK', '2 BHK', '2 BHK', '2 BHK', '3 BHK', '2 BHK', '3 Bedroom', '3 BHK', '6 Bedroom', '3 BHK', '3 BHK', '3 BHK', '2 BHK', '2 BHK', '2 BHK', '2 BHK', '3 BHK', '2 BHK', '2 BHK', '3 Bedroom', '3 BHK', '3 BHK', '2 BHK', '3 BHK', '2 BHK', '3 BHK', '2 BHK', '1 BHK', '2 BHK', '3 BHK', '3 BHK', '3 BHK', '2 BHK', '3 Bedroom', '4 Bedroom', '3 BHK', '3 Bedroom', '3 BHK', '3 BHK', '2 BHK', '3 BHK', '2 BHK', '3 BHK', '3 BHK', '2 BHK', '5 BHK', '2 BHK', '4 BHK', '4 Bedroom', '3 BHK', '2 BHK', '2 BHK', '3 BHK', '2 BHK', '3 BHK', '1 BHK', '3 BHK', '3 BHK', '4 BHK', '1 BHK', '3 BHK', '3 BHK', '2 BHK', '3 BHK', '2 BHK', '2 BHK', '3 BHK', '1 BHK', '5 BHK', '2 BHK', '19 BHK', '3 Bedroom', '2 BHK', '3 BHK', '3 BHK', '2 BHK', '3 BHK', '3 BHK', '4 BHK', '5 Bedroom', '2 BHK', '2 Bedroom', '2 BHK', '2 BHK', '2 BHK', '3 BHK', '6 Bedroom', '2 BHK', '6 Bedroom', '3 BHK', '2 BHK', '3 BHK', '2 BHK', '2 BHK', '3 BHK', '1 BHK', '3 BHK', '3 BHK', '2 BHK', '4 Bedroom', '3 BHK', '3 BHK', '3 BHK', '3 BHK', '4 BHK', '4 BHK', '3 BHK', '2 BHK', '2 BHK', '5 Bedroom', '2 Bedroom', '2 BHK', '2 BHK', '2 BHK', '3 BHK', '4 BHK', '5 BHK', '3 BHK', '4 BHK', '2 BHK', '2 BHK', '4 BHK', '2 BHK', '2 BHK', '4 Bedroom', '2 BHK', '1 BHK', '2 Bedroom', '6 Bedroom', '3 BHK', '2 Bedroom', '6 Bedroom', '3 BHK', '5 Bedroom', '2 BHK', '2 BHK', '4 Bedroom', '3 BHK', '3 BHK', '3 BHK', '3 BHK', '5 Bedroom', '5 BHK', '2 BHK', '1 BHK', '2 BHK', '2 BHK', '3 BHK', '3 BHK', '3 BHK', '3 Bedroom', '4 Bedroom', '2 Bedroom', '3 BHK', '3 BHK', '1 BHK', '2 BHK', '6 Bedroom', '3 BHK', '2 BHK', '4 Bedroom', '3 BHK', '3 BHK', '3 BHK', '2 BHK', '2 BHK', '2 BHK', '3 BHK', '2 BHK', '3 Bedroom', '2 BHK', '3 BHK', '3 BHK', '2 Bedroom', '6 Bedroom', '3 BHK', '2 BHK', '3 BHK', '2 BHK', '3 BHK', '4 Bedroom', '4 Bedroom', '2 BHK', '2 BHK', '2 BHK', '2 BHK', '1 Bedroom', '2 BHK', '1 BHK', '3 BHK', '3 BHK', '3 BHK', '3 BHK', '2 BHK', '1 BHK', '2 BHK', '2 BHK', '5 Bedroom', '2 BHK', '2 BHK', '3 Bedroom', '3 BHK', '7 Bedroom', '3 BHK', '1 Bedroom', '4 BHK', '2 BHK', '2 Bedroom', '2 BHK', '4 BHK', '3 BHK', '3 BHK', '2 Bedroom', '3 BHK', '10 Bedroom', '4 BHK', '2 Bedroom', '3 Bedroom', '8 Bedroom', '4 Bedroom', '2 BHK', '1 BHK', '3 Bedroom', '1 Bedroom', '2 BHK', '3 Bedroom', '3 BHK', '5 Bedroom', '2 BHK', '4 BHK', '1 BHK', '1 BHK', '4 BHK', '2 BHK', '2 BHK', '3 BHK', '3 BHK', '3 BHK', '3 BHK', '1 Bedroom', '2 BHK', '5 Bedroom', '2 BHK', '2 BHK', '3 BHK', '2 BHK', '3 BHK', '3 BHK', '4 BHK', '3 BHK', '3 BHK', '3 BHK', '2 BHK', '4 Bedroom', '3 Bedroom', '2 BHK', '2 BHK', '3 Bedroom', '2 BHK', '3 Bedroom', '2 BHK', '3 BHK', '2 BHK', '2 BHK', '2 BHK', '2 BHK', '4 Bedroom', '2 BHK', '1 BHK', '2 BHK', '2 BHK', '3 BHK', '2 BHK', '2 BHK', '3 BHK', '2 BHK', '2 BHK', '3 BHK', '2 BHK', '4 BHK', '2 BHK', '3 BHK', '3 BHK', '4 BHK', '3 BHK', '6 Bedroom', '2 Bedroom', '6 Bedroom', '3 BHK', '4 BHK', '2 BHK', '3 BHK', '2 BHK', '2 BHK', '2 BHK', '2 BHK', '1 BHK', '4 BHK', '4 BHK', '1 BHK', '16 BHK', '4 Bedroom', '3 BHK', '2 BHK', '4 BHK', '2 BHK', '2 BHK', '2 BHK', '2 BHK', '3 BHK', '3 BHK', '3 BHK', '3 BHK', '3 Bedroom', '2 BHK', '2 BHK', '3 BHK', '3 BHK', '2 BHK', '2 BHK', '2 BHK', '4 BHK', '3 BHK', '3 BHK', '3 BHK', '3 BHK', '2 BHK', '4 Bedroom', '2 BHK', '3 Bedroom', '4 Bedroom', '2 BHK', '4 BHK', '2 BHK', '1 BHK', '3 Bedroom', '3 BHK', '4 Bedroom', '4 Bedroom', '2 BHK', '2 BHK', '3 BHK', '1 Bedroom', '3 BHK', '3 BHK', '3 BHK', '2 BHK', '1 BHK', '3 BHK', '2 BHK', '3 BHK', '2 BHK', '2 BHK', '3 BHK', '2 BHK', '3 BHK', '7 Bedroom', '1 BHK', '2 BHK', '3 BHK', '3 BHK', '1 BHK', '2 BHK', '2 BHK', '4 Bedroom', '2 BHK', '2 BHK', '2 BHK', '2 BHK', '3 Bedroom', '2 BHK', '2 BHK', '1 BHK', '3 BHK', '1 BHK', '2 BHK', '6 Bedroom', '2 BHK', '2 BHK', '2 BHK', '4 Bedroom', '3 BHK', '2 BHK', '5 Bedroom', '3 BHK', '2 BHK', '3 BHK', '4 Bedroom', '4 Bedroom', '3 BHK', '3 BHK', '2 BHK', '3 BHK', '3 BHK', '3 Bedroom', '5 Bedroom', '4 BHK', '4 Bedroom', '3 BHK', '2 BHK', '3 BHK', '1 BHK', '3 BHK', '2 BHK', '2 Bedroom', '4 BHK', '2 BHK', '5 Bedroom', '2 BHK', '3 BHK', '3 BHK', '3 BHK', '3 BHK', '3 BHK', '2 BHK', '2 BHK', '2 BHK', '3 Bedroom', '4 BHK', '4 BHK', '3 BHK', '3 BHK', '2 BHK', '7 Bedroom', '3 BHK', '4 Bedroom', '3 BHK', '4 BHK', '4 BHK', '2 BHK', '2 BHK', '3 BHK', '1 BHK', '3 BHK', '3 Bedroom', '1 BHK', '2 Bedroom', '3 BHK', '2 BHK', '3 BHK', '2 BHK', '2 BHK', '3 BHK', '2 BHK', '6 Bedroom', '3 BHK', '3 BHK', '1 BHK', '3 BHK', '2 BHK', '2 BHK', '3 BHK', '3 BHK', '3 BHK', '2 BHK', '3 Bedroom', '2 BHK', '3 BHK', '2 BHK', '3 BHK', '6 Bedroom', '3 BHK', '2 Bedroom', '2 BHK', '2 BHK', '2 BHK', '2 BHK', '2 BHK', '1 BHK', '3 Bedroom', '2 BHK', '2 BHK', '3 BHK', '3 BHK', '2 BHK', '3 BHK', '3 Bedroom', '3 BHK', '3 Bedroom', '2 BHK', '2 BHK', '5 Bedroom', '3 BHK', '2 BHK', '4 Bedroom', '6 Bedroom', '3 BHK', '3 BHK', '2 Bedroom', '2 BHK', '3 BHK', '2 BHK', '3 BHK', '2 BHK', '3 BHK', '3 BHK', '5 Bedroom', '2 BHK', '3 BHK', '2 BHK', '3 BHK', '4 BHK', '4 BHK', '3 BHK', '3 BHK', '3 BHK', '9 Bedroom', '2 BHK', '2 BHK', '2 Bedroom', '2 BHK', '3 BHK', '2 BHK', '5 Bedroom', '4 BHK', '2 BHK', '2 BHK', '3 BHK', '3 BHK', '2 BHK', '3 Bedroom', '1 BHK', '3 BHK', '2 BHK', '2 BHK', '3 BHK', '3 BHK', '4 Bedroom', '3 BHK', '4 BHK', '3 BHK', '2 BHK', '9 Bedroom', '2 BHK', '7 Bedroom', '2 BHK', '2 BHK', '3 BHK', '3 BHK', '2 BHK', '3 BHK', '2 BHK', '3 BHK', '3 BHK', '11 Bedroom', '2 BHK', '3 Bedroom', '2 BHK', '6 BHK', '2 BHK', '3 BHK', '2 BHK', '4 BHK', '4 Bedroom', '3 BHK', '3 BHK', '2 BHK', '3 BHK', '4 Bedroom', '3 BHK', '2 BHK', '4 Bedroom', '3 BHK', '2 BHK', '2 BHK', '3 BHK', '3 BHK', '2 BHK', '3 BHK', '3 BHK', '3 Bedroom', '3 BHK', '3 BHK', '4 Bedroom', '2 BHK', '3 BHK', '3 BHK', '4 Bedroom', '3 BHK', '2 BHK', '2 BHK', '3 BHK', '4 Bedroom', '2 BHK', '2 BHK', '3 BHK', '4 BHK', '3 BHK', '2 BHK', '2 BHK', '2 BHK', '2 BHK', '2 BHK', '2 BHK', '2 BHK', '2 BHK', '2 BHK', '2 BHK', '3 BHK', '2 BHK', '2 BHK', '3 BHK', '3 BHK', '2 BHK', '2 BHK', '3 BHK', '5 Bedroom', '7 Bedroom', '4 BHK', '2 BHK', '2 BHK', '3 Bedroom', '4 BHK', '2 BHK', '2 BHK', '2 BHK', '2 BHK', '4 Bedroom', '3 BHK', '3 BHK', '2 BHK', '3 BHK', '2 BHK', '3 BHK', '2 BHK', '3 BHK', '3 BHK', '5 Bedroom', '2 BHK', '3 BHK', '2 BHK', '4 BHK', '1 BHK', '5 Bedroom', '2 BHK', '1 Bedroom', '3 Bedroom', '2 BHK', '4 Bedroom', '4 BHK', '5 Bedroom', '2 BHK', '2 BHK', '2 BHK', '3 BHK', '2 BHK', '2 BHK', '2 BHK', '2 BHK', '2 BHK', '3 BHK', '3 BHK', '3 BHK', '2 BHK', '2 BHK', '3 BHK', '2 BHK', '3 BHK', '3 BHK', '3 BHK', '1 BHK', '3 BHK', '2 BHK', '3 BHK', '3 BHK', '4 BHK', '2 Bedroom', '1 BHK', '4 Bedroom', '4 BHK', '3 BHK', '3 BHK', '2 BHK', '2 Bedroom', '3 BHK', '3 BHK', '3 BHK', '2 Bedroom', '3 BHK', '2 BHK', '3 BHK', '2 BHK', '2 Bedroom', '3 BHK', '3 BHK', '1 BHK', '4 Bedroom', '3 Bedroom', '2 BHK', '4 Bedroom', '3 BHK', '3 BHK', '3 BHK', '3 BHK', '3 BHK', '3 BHK', '2 BHK', '2 BHK', '4 BHK', '2 BHK', '2 BHK', '2 BHK', '8 Bedroom', '2 BHK', '3 BHK', '2 BHK', '2 BHK', '2 BHK', '2 BHK', '3 BHK', '5 Bedroom', '2 BHK', '2 BHK', '2 BHK', '2 BHK', '2 BHK', '2 BHK', '3 BHK', '1 BHK', '1 BHK', '3 BHK', '3 BHK', '3 BHK', '2 BHK', '2 BHK', '4 BHK', '3 Bedroom', '2 BHK', '2 Bedroom', '3 BHK', '3 Bedroom', '3 BHK', '3 BHK', '2 BHK', '3 Bedroom', '3 BHK', '4 Bedroom', '2 BHK', '2 BHK', '2 BHK', '3 BHK', '2 BHK', '3 BHK', '4 BHK', '2 BHK', '2 BHK', '4 Bedroom', '2 BHK', '3 BHK', '4 Bedroom', '2 BHK', '3 BHK', '7 BHK', '4 Bedroom', '2 BHK', '2 BHK', '3 BHK', '4 Bedroom', '2 BHK', '2 BHK', '2 BHK', '3 BHK', '3 BHK', '3 BHK', '6 Bedroom', '3 BHK', '3 BHK', '2 BHK', '3 BHK', '3 BHK', '1 BHK', '3 BHK', '2 BHK', '2 BHK', '3 BHK', '3 BHK', '3 BHK', '4 Bedroom', '2 BHK', '3 BHK', '5 Bedroom', '2 BHK', '2 BHK', '2 BHK', '3 BHK', '3 BHK', '3 BHK', '2 BHK', '3 BHK', '2 BHK', '2 BHK', '3 BHK', '2 BHK', '2 BHK', '3 BHK', '2 BHK', '5 BHK', '2 BHK', '2 BHK', '4 BHK', '3 BHK', '4 BHK', '3 BHK', '6 Bedroom', '3 BHK', '2 Bedroom', '2 BHK', '2 BHK', '2 BHK', '2 BHK', '3 BHK', '2 BHK', '3 Bedroom', '2 BHK', '3 BHK', '2 Bedroom', '4 BHK', '7 Bedroom', '2 BHK', '3 BHK', '2 BHK', '3 BHK', '2 BHK', '2 BHK', '3 BHK', '2 BHK', '3 BHK', '3 BHK', '3 BHK', '3 BHK', '3 Bedroom', '3 BHK', '2 BHK', '3 Bedroom', '2 BHK', '2 BHK', '3 BHK', '2 Bedroom', '2 BHK', '3 BHK', '3 BHK', '2 BHK', '3 BHK', '3 BHK', '3 BHK', '2 BHK', '2 BHK', '4 Bedroom', '2 BHK', '2 BHK', '3 BHK', '3 BHK', '2 BHK', '4 Bedroom', '2 BHK', '2 BHK', '2 BHK', '2 BHK', '8 Bedroom', '1 BHK', '3 BHK', '2 BHK', '3 BHK', '4 Bedroom', '4 Bedroom', '4 BHK', '3 BHK', '2 BHK', '8 Bedroom', '3 BHK', '2 BHK', '2 BHK', '2 BHK', '3 BHK', '3 BHK', '2 BHK', '2 BHK', '2 BHK', '4 Bedroom', '3 BHK', '4 Bedroom', '1 BHK', '2 BHK', '3 BHK', '3 BHK', '3 BHK', '4 BHK', '2 BHK', '2 Bedroom', '3 BHK', '4 Bedroom', '2 BHK', '3 BHK', '2 BHK', '4 Bedroom', '2 BHK', '2 BHK', '3 BHK', '4 BHK', '2 BHK', '2 BHK', '3 BHK', '2 BHK', '2 BHK', '2 BHK', '4 BHK', '3 BHK', '4 Bedroom', '2 BHK', '3 BHK', '2 BHK', '3 BHK', '3 BHK', '2 Bedroom', '3 BHK', '3 BHK', '2 BHK', '1 BHK', '2 BHK', '3 BHK', '2 BHK', '2 BHK', '2 BHK', '3 BHK', '4 BHK', '3 BHK', '3 BHK', '3 BHK', '3 BHK', '4 Bedroom', '3 BHK', '2 BHK', '3 Bedroom', '3 BHK', '4 Bedroom', '3 BHK', '2 BHK', '2 BHK', '4 Bedroom', '9 Bedroom', '3 Bedroom', '3 BHK', '1 BHK', '2 BHK', '4 Bedroom', '5 Bedroom', '3 BHK', '4 BHK', '3 BHK', '2 Bedroom', '2 BHK', '3 BHK', '2 BHK', '4 Bedroom', '3 BHK', '4 Bedroom', '2 BHK', '3 BHK', '4 BHK', '4 BHK', '5 Bedroom', '4 Bedroom', '3 Bedroom', '2 BHK', '1 Bedroom', '2 BHK', '2 BHK', '2 BHK', '2 BHK', '2 BHK', '2 Bedroom', '2 BHK', '3 Bedroom', '4 Bedroom', '3 Bedroom', '2 BHK', '2 BHK', '2 BHK', '3 BHK', '3 BHK', '1 BHK', '2 BHK', '2 Bedroom', '2 BHK', '4 BHK', '3 BHK', '2 BHK', '3 BHK', '3 Bedroom', '3 BHK', '1 Bedroom', '2 BHK', '2 BHK', '3 BHK', '3 BHK', '2 BHK', '2 BHK', '2 BHK', '3 BHK', '4 Bedroom', '3 BHK', '2 BHK', '2 BHK', '1 BHK', '4 Bedroom', '4 BHK', '2 Bedroom', '3 BHK', '3 BHK', '4 Bedroom', '2 BHK', '1 BHK', '2 BHK', '3 BHK', '3 BHK', '2 BHK', '3 BHK', '2 BHK', '2 BHK', '2 BHK', '4 BHK', '2 BHK', '3 BHK', '2 BHK', '2 BHK', '3 Bedroom', '3 BHK', '2 BHK', '3 BHK', '3 BHK', '2 BHK', '7 Bedroom', '3 BHK', '3 BHK', '6 Bedroom', '2 BHK', '5 Bedroom', '3 BHK', '3 BHK', '3 BHK', '2 Bedroom', '2 BHK', '4 Bedroom', '2 BHK', '2 BHK', '2 BHK', '1 BHK', '4 Bedroom', '5 Bedroom', '4 BHK', '6 Bedroom', '3 BHK', '3 BHK', '3 BHK', '3 BHK', '3 BHK', '3 BHK', '5 Bedroom', '2 BHK', '3 BHK', '7 Bedroom', '3 BHK', '3 BHK', '2 BHK', '4 BHK', '3 BHK', '3 BHK', '2 BHK', '1 BHK', '8 Bedroom', '8 Bedroom', '4 Bedroom', '3 BHK', '2 BHK', '2 BHK', '2 BHK', '2 Bedroom', '3 BHK', '2 BHK', '2 BHK', '2 BHK', '2 BHK', '2 BHK', '3 BHK', '2 BHK', '1 BHK', '8 Bedroom', '5 Bedroom', '2 BHK', '1 BHK', '3 Bedroom', '3 BHK', '3 BHK', '2 BHK', '4 Bedroom', '2 BHK', '3 BHK', '2 BHK', '4 BHK', '3 BHK', '2 BHK', '2 BHK', '2 BHK', '4 Bedroom', '4 BHK', '3 BHK', '3 BHK', '2 BHK', '2 BHK', '2 BHK', '3 BHK', '2 BHK', '3 Bedroom', '4 Bedroom', '2 BHK', '3 BHK', '3 BHK', '2 BHK', '3 BHK', '3 BHK', '4 BHK', '2 BHK', '2 Bedroom', '3 BHK', '2 BHK', '3 BHK', '3 BHK', '1 BHK', '3 BHK', '2 BHK', '2 BHK', '6 Bedroom', '2 BHK', '3 BHK', '4 Bedroom', '4 BHK', '2 BHK', '8 Bedroom', '2 BHK', '3 BHK', '2 Bedroom', '5 Bedroom', '3 BHK', '3 BHK', '2 BHK', '1 BHK', '2 BHK', '3 BHK', '2 BHK', '2 BHK', '3 BHK', '3 BHK', '3 BHK', '3 BHK', '3 BHK', '2 BHK', '3 BHK', '4 BHK', '2 BHK', '2 BHK', '5 Bedroom', '6 Bedroom', '2 BHK', '3 BHK', '2 BHK', '4 Bedroom', '2 BHK', '2 BHK', '3 BHK', '2 BHK', '2 BHK', '2 BHK', '3 BHK', '8 Bedroom', '2 BHK', '2 BHK', '4 BHK', '2 BHK', '4 BHK', '4 BHK', '3 BHK', '3 Bedroom', '2 BHK', '8 Bedroom', '2 BHK', '2 Bedroom', '2 BHK', '2 BHK', '4 BHK', '4 BHK', '2 BHK', '3 BHK', '3 BHK', '3 BHK', '4 Bedroom', '2 BHK', '1 BHK', '3 BHK', '2 BHK', '3 BHK', '2 BHK', '10 Bedroom', '2 BHK', '3 BHK', '3 BHK', '2 BHK', '4 Bedroom', '3 Bedroom', '5 Bedroom', '3 BHK', '2 BHK', '3 BHK', '2 BHK', '3 BHK', '3 BHK', '2 BHK', '3 Bedroom', '3 BHK', '2 BHK', '3 BHK', '4 Bedroom', '2 BHK', '2 BHK', '3 BHK', '2 BHK', '2 Bedroom', '3 BHK', '3 Bedroom', '2 BHK', '3 BHK', '4 Bedroom', '3 Bedroom', '1 BHK', '2 BHK', '4 BHK', '2 Bedroom', '4 Bedroom', '4 BHK', '2 BHK', '2 Bedroom', '3 BHK', '2 BHK', '1 BHK', '4 Bedroom', '2 BHK', '3 BHK', '3 BHK', '2 BHK', '1 BHK', '3 BHK', '2 Bedroom', '3 BHK', '3 BHK', '3 BHK', '2 BHK', '2 Bedroom', '9 Bedroom', '3 BHK', '3 Bedroom', '3 BHK', '3 BHK', '2 BHK', '3 Bedroom', '2 BHK', '2 BHK', '1 BHK', '4 Bedroom', '6 Bedroom', '3 Bedroom', '4 Bedroom', '4 BHK', '3 BHK', '2 BHK', '2 BHK', '2 BHK', '3 BHK', '9 BHK', '2 BHK', '3 BHK', '2 BHK', '6 Bedroom', '4 Bedroom', '2 BHK', '2 Bedroom', '5 Bedroom', '4 BHK', '6 Bedroom', '3 BHK', '2 BHK', '3 BHK', '2 BHK', '4 BHK', '6 Bedroom', '4 Bedroom', '2 BHK', '1 BHK', '2 BHK', '3 BHK', '3 BHK', '3 BHK', '2 BHK', '2 BHK', '2 BHK', '2 BHK', '2 BHK', '4 Bedroom', '2 BHK', '3 BHK', '3 Bedroom', '2 BHK', '3 BHK', '2 BHK', '2 BHK', '4 Bedroom', '3 BHK', '2 BHK', '4 BHK', '3 Bedroom', '1 BHK', '2 Bedroom', '1 BHK', '2 BHK', '3 BHK', '4 BHK', '3 BHK', '3 BHK', '4 BHK', '2 BHK', '2 BHK', '3 BHK', '3 BHK', '2 BHK', '3 BHK', '4 Bedroom', '3 BHK', '2 Bedroom', '2 BHK', '2 Bedroom', '2 BHK', '3 BHK', '2 BHK', '2 BHK', '2 BHK', '3 BHK', '2 BHK', '6 Bedroom', '4 Bedroom', '2 Bedroom', '1 BHK', '3 BHK', '4 Bedroom', '3 BHK', '7 BHK', '3 BHK', '2 BHK', '2 Bedroom', '1 BHK', '5 Bedroom', '2 BHK', '2 BHK', '3 BHK', '2 BHK', '3 BHK', '3 BHK', '3 Bedroom', '3 BHK', '3 BHK', '2 BHK', '2 BHK', '3 BHK', '2 BHK', '3 BHK', '3 BHK', '2 BHK', '9 Bedroom', '43 Bedroom', '1 BHK', '3 BHK', '3 Bedroom', '1 BHK', '4 BHK', '3 Bedroom', '10 Bedroom', '2 BHK', '3 BHK', '2 BHK', '2 BHK', '2 BHK', '6 Bedroom', '1 BHK', '3 BHK', '2 BHK', '3 BHK', '2 BHK', '2 BHK', '3 BHK', '2 BHK', '4 Bedroom', '2 BHK', '4 Bedroom', '3 BHK', '3 BHK', '2 BHK', '5 Bedroom', '2 BHK', '5 Bedroom', '5 BHK', '3 BHK', '3 BHK', '2 BHK', '4 Bedroom', '3 BHK', '3 Bedroom', '2 BHK', '2 BHK', '4 BHK', '3 BHK', '2 BHK', '3 BHK', '3 BHK', '3 BHK', '3 BHK', '2 BHK', '2 BHK', '3 BHK', '2 BHK', '2 BHK', '2 BHK', '4 Bedroom', '6 Bedroom', '2 BHK', '2 BHK', '3 BHK', '6 Bedroom', '2 BHK', '3 Bedroom', '2 BHK', '2 BHK', '4 Bedroom', '2 BHK', '3 BHK', '3 BHK', '3 BHK', '2 BHK', '3 BHK', '4 BHK', '3 BHK', '3 Bedroom', '3 BHK', '1 BHK', '2 BHK', '2 BHK', '4 BHK', '3 BHK', '3 BHK', '2 BHK', '2 BHK', '1 BHK', '3 BHK', '2 Bedroom', '3 BHK', '2 BHK', '2 BHK', '3 BHK', '2 BHK', '2 BHK', '3 BHK', '2 BHK', '2 BHK', '2 BHK', '3 BHK', '3 Bedroom', '4 BHK', '3 BHK', '3 BHK', '2 BHK', '3 BHK', '2 BHK', '2 BHK', '3 BHK', '4 BHK', '2 BHK', '2 BHK', '2 BHK', '4 Bedroom', '4 BHK', '2 BHK', '3 BHK', '2 BHK', '3 BHK', '3 Bedroom', '2 BHK', '3 BHK', '4 BHK', '3 BHK', '2 BHK', '2 BHK', '2 BHK', '2 BHK', '2 BHK', '2 BHK', '2 BHK', '2 BHK', '4 Bedroom', '3 BHK', '3 BHK', '2 BHK', '2 BHK', '2 BHK', '2 Bedroom', '3 Bedroom', '5 Bedroom', '2 BHK', '7 Bedroom', '3 BHK', '3 BHK', '3 BHK', '3 BHK', '1 BHK', '4 Bedroom', '3 Bedroom', '3 BHK', '2 BHK', '1 BHK', '2 BHK', '2 BHK', '3 BHK', '9 Bedroom', '3 BHK', '2 BHK', '2 BHK', '2 BHK', '2 BHK', '4 Bedroom', '4 BHK', '7 Bedroom', '1 BHK', '2 BHK', '3 BHK', '2 BHK', '3 BHK', '3 BHK', '2 Bedroom', '3 BHK', '1 BHK', '3 BHK', '2 Bedroom', '2 BHK', '3 BHK', '2 BHK', '2 BHK', '2 BHK', '1 BHK', '2 BHK', '4 Bedroom', '3 BHK', '3 BHK', '2 BHK', '3 Bedroom', '2 BHK', '3 BHK', '2 BHK', '6 Bedroom', '3 BHK', '2 BHK', '5 Bedroom', '2 BHK', '1 RK', '3 BHK', '2 BHK', '2 BHK', '3 BHK', '2 BHK', '2 BHK', '2 BHK', '2 BHK', '3 BHK', '2 BHK', '2 BHK', '2 BHK', '4 BHK', '3 BHK', '4 Bedroom', '3 BHK', '3 BHK', '3 BHK', '2 BHK', '3 BHK', '2 BHK', '3 BHK', '3 BHK', '3 BHK', '3 BHK', '2 BHK', '3 BHK', '4 BHK', '3 BHK', '4 BHK', '2 BHK', '3 BHK', '2 BHK', '5 Bedroom', '3 BHK', '9 Bedroom', '2 BHK', '2 BHK', '2 BHK', '14 BHK', '2 BHK', '3 Bedroom', '2 BHK', '3 BHK', '2 BHK', '2 BHK', '2 BHK', '2 BHK', '3 BHK', '2 BHK', '2 BHK', '3 BHK', '8 Bedroom', '2 BHK', '3 BHK', '5 Bedroom', '3 BHK', '2 BHK', '3 BHK', '3 Bedroom', '4 Bedroom', '2 BHK', '2 BHK', '3 BHK', '5 Bedroom', '2 BHK', '1 BHK', '2 BHK', '3 BHK', '3 BHK', '2 BHK', '3 BHK', '2 BHK', '3 BHK', '3 BHK', '3 BHK', '4 Bedroom', '2 BHK', '2 BHK', '3 Bedroom', '3 Bedroom', '3 BHK', '3 BHK', '2 BHK', '2 BHK', '3 BHK', '5 BHK', '3 BHK', '5 Bedroom', '2 BHK', '4 Bedroom', '3 BHK', '2 BHK', '3 BHK', '3 BHK', '7 BHK', '3 BHK', '2 BHK', '2 BHK', '2 BHK', '2 BHK', '2 BHK', '2 BHK', '3 BHK', '1 BHK', '4 BHK', '2 BHK', '2 BHK', '3 BHK', '3 BHK', '3 BHK', '2 BHK', '2 BHK', '2 BHK', '2 BHK', '5 Bedroom', '3 BHK', '2 BHK', '3 BHK', '2 BHK', '2 BHK', '3 BHK', '3 Bedroom', '3 BHK', '3 BHK', '2 BHK', '2 BHK', '2 BHK', '2 Bedroom', '3 BHK', '2 BHK', '2 Bedroom', '3 BHK', '5 BHK', '2 BHK', '2 BHK', '2 BHK', '2 BHK', '9 Bedroom', '2 BHK', '2 BHK', '2 BHK', '3 BHK', '4 BHK', '2 BHK', '2 BHK', '2 BHK', '4 Bedroom', '3 BHK', '3 BHK', '3 BHK', '1 BHK', '2 BHK', '2 BHK', '4 BHK', '2 BHK', '8 Bedroom', '1 BHK', '2 BHK', '5 Bedroom', '5 BHK', '2 BHK', '3 BHK', '2 BHK', '3 BHK', '6 Bedroom', '3 BHK', '1 BHK', '2 BHK', '3 BHK', '2 BHK', '3 BHK', '3 Bedroom', '2 BHK', '2 BHK', '3 BHK', '3 Bedroom', '2 BHK', '6 BHK', '2 BHK', '3 BHK', '3 BHK', '2 BHK', '3 BHK', '4 Bedroom', '3 BHK', '3 BHK', '2 BHK', '3 BHK', '3 BHK', '3 Bedroom', '2 BHK', '2 Bedroom', '3 BHK', '8 Bedroom', '2 BHK', '2 BHK', '4 BHK', '5 Bedroom', '4 BHK', '3 BHK', '3 BHK', '1 RK', '2 BHK', '3 BHK', '4 Bedroom', '2 BHK', '4 BHK', '4 Bedroom', '3 BHK', '3 BHK', '2 BHK', '3 BHK', '2 BHK', '2 BHK', '3 BHK', '2 Bedroom', '4 Bedroom', '2 BHK', '3 BHK', '4 BHK', '4 BHK', '2 BHK', '3 BHK', '3 BHK', '3 BHK', '2 BHK', '3 BHK', '2 BHK', '3 BHK', '2 BHK', '3 BHK', '3 BHK', '3 BHK', '2 BHK', '8 Bedroom', '2 BHK', '3 BHK', '7 Bedroom', '2 BHK', '3 BHK', '2 BHK', '2 BHK', '2 BHK', '3 BHK', '3 BHK', '2 BHK', '2 BHK', '3 BHK', '3 Bedroom', '2 BHK', '3 BHK', '3 BHK', '2 BHK', '2 BHK', '2 BHK', '2 Bedroom', '2 BHK', '2 BHK', '4 Bedroom', '1 BHK', '6 Bedroom', '1 BHK', '2 BHK', '5 Bedroom', '3 BHK', '4 BHK', '3 BHK', '3 BHK', '2 BHK', '4 Bedroom', '2 BHK', '3 BHK', '2 BHK', '7 Bedroom', '3 Bedroom', '2 BHK', '1 BHK', '2 BHK', '3 BHK', '3 Bedroom', '4 BHK', '4 BHK', '3 BHK', '3 BHK', '3 BHK', '3 BHK', '4 Bedroom', '2 BHK', '6 Bedroom', '2 BHK', '2 BHK', '1 BHK', '2 BHK', '4 Bedroom', '2 BHK', '2 BHK', '1 BHK', '2 BHK', '4 Bedroom', '3 BHK', '2 BHK', '1 BHK', '4 Bedroom', '5 Bedroom', '3 BHK', '1 BHK', '3 Bedroom', '3 BHK', '3 BHK', '2 BHK', '6 Bedroom', '2 BHK', '5 Bedroom', '3 BHK', '2 BHK', '3 Bedroom', '3 BHK', '4 Bedroom', '2 BHK', '4 Bedroom', '2 BHK', '2 BHK', '3 BHK', '1 BHK', '2 BHK', '3 BHK', '8 Bedroom', '2 BHK', '3 Bedroom', '2 BHK', '3 BHK', '2 BHK', '2 BHK', '3 BHK', '3 BHK', '2 BHK', '2 BHK', '3 BHK', '3 BHK', '2 BHK', '4 BHK', '3 BHK', '1 Bedroom', '1 BHK', '3 BHK', '4 BHK', '3 BHK', '5 Bedroom', '3 BHK', '7 BHK', '2 BHK', '2 BHK', '2 BHK', '4 Bedroom', '2 BHK', '2 BHK', '2 BHK', '2 Bedroom', '3 BHK', '2 BHK', '3 BHK', '2 BHK', '3 BHK', '2 BHK', '3 BHK', '2 BHK', '2 BHK', '3 BHK', '2 BHK', '3 BHK', '2 BHK', '2 BHK', '3 BHK', '4 Bedroom', '2 BHK', '3 BHK', '2 BHK', '4 BHK', '2 BHK', '4 Bedroom', '2 BHK', '2 BHK', '2 BHK', '4 BHK', '2 BHK', '3 BHK', '3 BHK', '2 Bedroom', '2 BHK', '3 BHK', '3 BHK', '2 BHK', '2 BHK', '3 BHK', '2 BHK', '3 BHK', '3 Bedroom', '3 BHK', '2 BHK', '3 BHK', '4 BHK', '3 BHK', '3 BHK', '3 BHK', '3 BHK', '2 BHK', '4 BHK', '1 RK', '2 BHK', '2 BHK', '4 BHK', '2 BHK', '1 BHK', '2 BHK', '2 BHK', '2 BHK', '4 BHK', '2 BHK', '1 BHK', '1 Bedroom', '2 BHK', '2 BHK', '3 BHK', '2 BHK', '2 BHK', '2 BHK', '3 Bedroom', '2 BHK', '4 Bedroom', '1 Bedroom', '2 BHK', '2 BHK', '3 BHK', '3 BHK', '2 BHK', '2 BHK', '3 BHK', '3 BHK', '3 BHK', '3 BHK', '2 BHK', '3 BHK', '3 BHK', '2 BHK', '2 BHK', '2 BHK', '3 BHK', '1 BHK', '2 BHK', '3 BHK', '2 BHK', '5 Bedroom', '2 BHK', '2 BHK', '2 BHK', '2BHK', '2 BHK', '2 BHK', '3 BHK', '4 Bedroom', '1 BHK', '3 BHK', '2 BHK', '3 BHK', '2 BHK', '4 Bedroom', '3 BHK', '2 BHK', '2 BHK', '2 BHK', '4 Bedroom', '3 Bedroom', '2 BHK', '3 BHK', '2 BHK', '3 BHK', '1 BHK', '2 BHK', '2 BHK', '3 BHK', '2 BHK', '3 Bedroom', '3 BHK', '3 BHK', '3 BHK', '4 Bedroom', '2 BHK', '4 Bedroom', '3 Bedroom', '3 BHK', '2 BHK', '1 BHK', '3 BHK', '2 BHK', '2 BHK', '2 BHK', '2 BHK', '2 BHK', '2 BHK', '2 BHK', '2 BHK', '2 BHK', '2 BHK', '2 BHK', '1 BHK', '2 BHK', '1 BHK', '4 BHK', '2 BHK', '3 BHK', '2 BHK', '2 BHK', '2 BHK', '2 BHK', '4 BHK', '9 BHK', '2 BHK', '2 BHK', '2 BHK', '2 BHK', '2 BHK', '3 BHK', '2 BHK', '3 BHK', '2 BHK', '4 Bedroom', '2 BHK', '3 BHK', '2 BHK', '2 BHK', '2 BHK', '3 BHK', '1 BHK', '3 BHK', '2 BHK', '2 BHK', '3 BHK', '4 Bedroom', '2 BHK', '4 BHK', '2 BHK', '2 BHK', '2 BHK', '2 BHK', '3 Bedroom', '3 BHK', '3 BHK', '2 BHK', '2 BHK', '3 BHK', '2 Bedroom', '2 Bedroom', '4 BHK', '2 BHK', '3 BHK', '3 BHK', '2 BHK', '2 BHK', '2 BHK', '3 BHK', '3 BHK', '2 BHK', '3 BHK', '3 Bedroom', '4 BHK', '2 BHK', '3 BHK', '3 BHK', '2 BHK', '2 BHK', '2 BHK', '5 Bedroom', '3 BHK', '2 BHK', '2 BHK', '6 Bedroom', '3 BHK', '2 BHK', '4 Bedroom', '2 BHK', '3 Bedroom', '2 BHK', '2 BHK', '3 BHK', '4 Bedroom', '6 BHK', '3 BHK', '2 BHK', '2 BHK', '3 BHK', '2 BHK', '4 BHK', '1 BHK', '3 BHK', '2 BHK', '3 BHK', '2 BHK', '2 BHK', '4 Bedroom', '1 Bedroom', '2 BHK', '2 BHK', '8 Bedroom', '3 Bedroom', '2 BHK', '4 BHK', '2 BHK', '3 BHK', '3 BHK', '2 BHK', '1 Bedroom', '2 BHK', '3 BHK', '2 BHK', '2 BHK', '1 BHK', '3 BHK', '2 BHK', '3 BHK', '2 BHK', '4 Bedroom', '5 BHK', '3 BHK', '3 Bedroom', '2 BHK', '2 BHK', '7 Bedroom', '3 BHK', '2 BHK', '3 BHK', '2 BHK', '2 BHK', '3 BHK', '2 BHK', '2 BHK', '3 BHK', '2 BHK', '2 BHK', '1 Bedroom', '2 BHK', '4 BHK', '4 BHK', '3 BHK', '3 BHK', '2 BHK', '2 BHK', '3 BHK', '2 BHK', '2 BHK', '3 BHK', '6 Bedroom', '3 BHK', '3 BHK', '2 BHK', '2 BHK', '3 BHK', '6 Bedroom', '2 BHK', '3 Bedroom', '3 BHK', '4 Bedroom', '3 BHK', '2 BHK', '3 BHK', '4 BHK', '3 BHK', '1 BHK', '4 BHK', '3 BHK', '2 Bedroom', '3 BHK', '3 BHK', '2 Bedroom', '4 BHK', '2 BHK', '2 BHK', '3 BHK', '2 BHK', '3 BHK', '4 Bedroom', '2 BHK', '3 BHK', '2 BHK', '2 BHK', '3 BHK', '2 BHK', '3 Bedroom', '2 BHK', '1 BHK', '2 BHK', '2 BHK', '2 Bedroom', '2 BHK', '2 BHK', '3 BHK', '1 BHK', '3 BHK', '3 BHK', '2 BHK', '2 BHK', '8 Bedroom', '2 BHK', '2 BHK', '2 BHK', '5 Bedroom', '3 BHK', '3 BHK', '2 BHK', '2 BHK', '3 BHK', '4 Bedroom', '1 BHK', '3 BHK', '9 Bedroom', '4 Bedroom', '3 BHK', '3 BHK', '2 BHK', '2 BHK', '2 BHK', '2 BHK', '3 BHK', '2 BHK', '3 BHK', '2 Bedroom', '2 BHK', '2 BHK', '2 BHK', '3 BHK', '3 Bedroom', '3 BHK', '4 BHK', '3 BHK', '3 BHK', '3 BHK', '3 BHK', '2 BHK', '2 BHK', '4 Bedroom', '3 BHK', '3 BHK', '2 BHK', '3 BHK', '3 BHK', '2 BHK', '6 Bedroom', '3 BHK', '3 BHK', '2 BHK', '2 BHK', '3 Bedroom', '3 BHK', '2 BHK', '3 BHK', '2 Bedroom', '3 BHK', '2 BHK', '6 Bedroom', '3 BHK', '3 BHK', '3 BHK', '4 Bedroom', '2 BHK', '4 Bedroom', '2 Bedroom', '2 BHK', '2 BHK', '3 BHK', '2 BHK', '2 BHK', '3 BHK', '2 BHK', '3 BHK', '1 BHK', '2 BHK', '3 BHK', '1 BHK', '2 BHK', '2 BHK', '2 BHK', '2 BHK', '1 Bedroom', '2 BHK', '2 BHK', '2 BHK', '1 BHK', '3 BHK', '2 BHK', '7 Bedroom', '1 BHK', '5 Bedroom', '3 BHK', '4 Bedroom', '4 Bedroom', '2 Bedroom', '2 BHK', '2 BHK', '2 BHK', '3 BHK', '3 BHK', '3 BHK', '4 Bedroom', '3 BHK', '3 BHK', '3 BHK', '3 BHK', '2 BHK', '2 BHK', '2 BHK', '1 BHK', '3 BHK', '5 Bedroom', '3 BHK', '4 BHK', '2 BHK', '2 BHK', '2 BHK', '3 BHK', '2 BHK', '4 Bedroom', '2 BHK', '3 Bedroom', '2 BHK', '6 Bedroom', '2 BHK', '4 BHK', '2 BHK', '2 BHK', '4 BHK', '3 BHK', '4 Bedroom', '4 BHK', '2 BHK', '4 Bedroom', '2 BHK', '1 Bedroom', '3 BHK', '3 BHK', '3 BHK', '4 BHK', '3 BHK', '3 BHK', '2 BHK', '2 BHK', '2 BHK', '2 BHK', '3 BHK', '2 BHK', '3 BHK', '3 BHK', '3 BHK', '2 BHK', '2 Bedroom', '2 BHK', '3 Bedroom', '2 BHK', '2 BHK', '2 BHK', '4 Bedroom', '2 BHK', '2 BHK', '2 Bedroom', '3 Bedroom', '4 BHK', '4 BHK', '2 BHK', '2 BHK', '2 BHK', '2 BHK', '1 BHK', '5 BHK', '4 Bedroom', '3 BHK', '2 BHK', '2 BHK', '2 BHK', '2 BHK', '3 BHK', '2 BHK', '5 Bedroom', '3 BHK', '2 BHK', '4 Bedroom', '2 BHK', '4 Bedroom', '3 BHK', '2 BHK', '3 BHK', '3 BHK', '2 BHK', '3 BHK', '4 BHK', '5 Bedroom', '3 BHK', '3 BHK', '4 BHK', '7 Bedroom', '2 BHK', '2 BHK', '6 Bedroom', '2 BHK', '4 Bedroom', '2 Bedroom', '4 BHK', '1 BHK', '4 Bedroom', '2 BHK', '3 BHK', '2 BHK', '3 BHK', '2 BHK', '1 BHK', '2 BHK', '1 BHK', '2 BHK', '2 BHK', '9 Bedroom', '2 BHK', '3 Bedroom', '3 BHK', '2 BHK', '3 BHK', '3 BHK', '2 BHK', '3 BHK', '2 BHK', '3 BHK', '5 Bedroom', '2 BHK', '3 BHK', '2 BHK', '2 BHK', '3 BHK', '3 BHK', '3 BHK', '2 BHK', '1 BHK', '3 BHK', '2 BHK', '2 BHK', '4 Bedroom', '3 BHK', '2 BHK', '2 Bedroom', '2 BHK', '2 BHK', '3 BHK', '3 BHK', '3 BHK', '2 BHK', '2 Bedroom', '4 Bedroom', '2 BHK', '2 BHK', '2 BHK', '6 BHK', '3 BHK', '3 BHK', '2 BHK', '2 BHK', '2 BHK', '2 BHK', '8 Bedroom', '4 Bedroom', '2 BHK', '7 Bedroom', '6 Bedroom', '2 BHK', '3 BHK', '9 BHK', '1 BHK', '3 Bedroom', '2 BHK', '5 Bedroom', '3 BHK', '3 BHK', '2 BHK', '3 BHK', '3 Bedroom', '2 BHK', '6 Bedroom', '3 BHK', '2 BHK', '1 BHK', '2 BHK', '3 BHK', '3 BHK', '3 BHK', '4 Bedroom', '2 BHK', '3 Bedroom', '2 BHK', '3 BHK', '3 BHK', '3 BHK', '2 BHK', '3 Bedroom', '3 BHK', '3 BHK', '2 BHK', '4 Bedroom', '3 BHK', '2 BHK', '3 BHK', '3 Bedroom', '4 Bedroom', '6 Bedroom', '2 BHK', '1 BHK', '4 BHK', '3 Bedroom', '2 Bedroom', '2 BHK', '1 BHK', '2 BHK', '4 Bedroom', '3 BHK', '2 BHK', '2 BHK', '2 BHK', '3 BHK', '2 BHK', '3 BHK', '3 BHK', '2 BHK', '3 Bedroom', '2 BHK', '2 BHK', '2 BHK', '2 BHK', '1 BHK', '2 BHK', '2 BHK', '3 BHK', '6 Bedroom', '8 Bedroom', '3 BHK', '3 BHK', '3 BHK', '3 BHK', '4 BHK', '2 Bedroom', '3 BHK', '2 BHK', '1 Bedroom', '2 BHK', '3 Bedroom', '3 BHK', '2 BHK', '2 BHK', '3 BHK', '3 BHK', '3 BHK', '3 BHK', '2 BHK', '3 BHK', '5 Bedroom', '4 Bedroom', '3 BHK', '3 BHK', '4 BHK', '3 Bedroom', '3 BHK', '2 BHK', '4 Bedroom', '5 BHK', '3 BHK', '2 BHK', '6 Bedroom', '2 BHK', '3 BHK', '2 BHK', '3 BHK', '4 BHK', '2 BHK', '2 BHK', '3 BHK', '2 BHK', '2 BHK', '3 BHK', '3 Bedroom', '2 BHK', '2 BHK', '3 BHK', '3 BHK', '3 BHK', '2 BHK', '6 Bedroom', '2 BHK', '1 BHK', '5 Bedroom', '2 BHK', '1 Bedroom', '2 BHK', '2 BHK', '1 BHK', '3 Bedroom', '3 BHK', '1 BHK', '3 BHK', '2 BHK', '3 BHK', '3 BHK', '2 BHK', '2 BHK', '2 BHK', '4 Bedroom', '4 BHK', '2 BHK', '3 BHK', '3 BHK', '1 Bedroom', '4 Bedroom', '2 BHK', '3 BHK', '3 BHK', '3 BHK', '2 BHK', '2 Bedroom', '3 BHK', '4 Bedroom', '3 BHK', '3 BHK', '3 BHK', '2 BHK', '2 BHK', '2 BHK', '2 Bedroom', '2 BHK', '3 BHK', '3 BHK', '2 BHK', '5 BHK', '1 BHK', '3 Bedroom', '4 BHK', '3 BHK', '1 BHK', '3 BHK', '5 Bedroom', '1 BHK', '3 BHK', '2 BHK', '2 BHK', '4 Bedroom', '3 BHK', '2 BHK', '2 Bedroom', '3 BHK', '2 BHK', '6 BHK', '3 BHK', '2 BHK', '3 BHK', '5 Bedroom', '2 BHK', '4 Bedroom', '3 BHK', '2 BHK', '4 BHK', '8 Bedroom', '2 BHK', '2 BHK', '3 BHK', '3 BHK', '3 BHK', '2 Bedroom', '4 BHK', '3 BHK', '4 BHK', '7 Bedroom', '2 BHK', '2 BHK', '4 BHK', '7 Bedroom', '2 BHK', '3 BHK', '4 BHK', '2 BHK', '1 BHK', '3 BHK', '3 BHK', '3 BHK', '6 Bedroom', '3 BHK', '2 BHK', '2 BHK', '3 BHK', '2 BHK', '2 BHK', '8 Bedroom', '3 BHK', '3 Bedroom', '4 Bedroom', '3 BHK', '6 Bedroom', '2 BHK', '4 Bedroom', '3 BHK', '2 BHK', '3 BHK', '2 BHK', '4 Bedroom', '3 BHK', '3 BHK', '3 BHK', '3 BHK', '3 BHK', '2 Bedroom', '2 BHK', '2 BHK', '3 BHK', '3 BHK', '3 BHK', '2 BHK', '2 BHK', '6 BHK', '2 BHK', '2 Bedroom', '4 BHK', '3 BHK', '3 BHK', '1 BHK', '3 BHK', '4 Bedroom', '5 BHK', '2 BHK', '3 BHK', '3 BHK', '3 BHK', '2 BHK', '2 BHK', '2 BHK', '3 Bedroom', '2 BHK', '3 BHK', '2 BHK', '2 BHK', '3 BHK', '4 BHK', '3 BHK', '2 BHK', '3 BHK', '2 BHK', '3 BHK', '3 BHK', '1 BHK', '3 Bedroom', '7 Bedroom', '2 BHK', '3 BHK', '3 BHK', '2 BHK', '4 Bedroom', '2 BHK', '2 BHK', '2 BHK', '2 BHK', '6 Bedroom', '2 BHK', '2 BHK', '3 BHK', '2 BHK', '2 BHK', '3 BHK', '3 BHK', '2 BHK', '3 BHK', '2 BHK', '4 Bedroom', '4 BHK', '8 BHK', '3 Bedroom', '4 BHK', '2 BHK', '2 BHK', '4 BHK', '3 BHK', '3 BHK', '2 BHK', '3 BHK', '3 BHK', '2 BHK', '3 BHK', '3 Bedroom', '3 BHK', '6 Bedroom', '2 BHK', '3 BHK', '3 BHK', '8 Bedroom', '6 Bedroom', '2 BHK', '2 BHK', '2 BHK', '2 BHK', '3 BHK', '3 BHK', '4 BHK', '2 BHK', '2 BHK', '3 Bedroom', '4 Bedroom', '1 BHK', '4 Bedroom', '2 BHK', '5 Bedroom', '3 BHK', '3 Bedroom', '3 BHK', '3 BHK', '3 BHK', '4 BHK', '2 BHK', '2 BHK', '3 BHK', '6 Bedroom', '3 Bedroom', '2 BHK', '2 BHK', '4 Bedroom', '2 BHK', '2 BHK', '2 BHK', '2 BHK', '3 BHK', '4 Bedroom', '4 BHK', '2 BHK', '2 BHK', '4 BHK', '3 BHK', '3 BHK', '5 Bedroom', '2 BHK', '3 BHK', '6 Bedroom', '3 BHK', '3 BHK', '2 BHK', '3 BHK', '2 BHK', '2 BHK', '2 Bedroom', '3 BHK', '3 BHK', '2 BHK', '4 BHK', '2 BHK', '4 BHK', '2 BHK', '3 BHK', '6 Bedroom', '5 Bedroom', '2 BHK', '2 BHK', '3 BHK', '2 BHK', '2 BHK', '3 BHK', '3 BHK', '3 BHK', '1 BHK', '3 BHK', '2 BHK', '3 BHK', '3 BHK', '2 BHK', '3 BHK', '2 BHK', '5 Bedroom', '3 BHK', '3 Bedroom', '3 Bedroom', '2 BHK', '3 BHK', '2 BHK', '1 BHK', '4 Bedroom', '2 BHK', '2 BHK', '3 BHK', '2 BHK', '3 BHK', '3 BHK', '2 BHK', '3 BHK', '3 BHK', '3 BHK', '2 BHK', '2 BHK', '3 BHK', '3 BHK', '4 Bedroom', '2 Bedroom', '3 BHK', '7 Bedroom', '4 BHK', '3 BHK', '2 BHK', '4 BHK', '2 Bedroom', '2 BHK', '2 BHK', '4 Bedroom', '5 Bedroom', '3 BHK', '2 BHK', '2 Bedroom', '3 BHK', '3 BHK', '3 BHK', '3 BHK', '1 BHK', '3 Bedroom', '3 BHK', '4 Bedroom', '5 Bedroom', '3 BHK', '3 Bedroom', '3 BHK', '2 BHK', '4 Bedroom', '3 BHK', '2 BHK', '3 BHK', '3 BHK', '2 BHK', '5 Bedroom', '3 BHK', '2 BHK', '7 Bedroom', '2 BHK', '2 BHK', '3 BHK', '3 BHK', '3 BHK', '3 BHK', '3 BHK', '2 BHK', '3 BHK', '4 Bedroom', '3 BHK', '3 BHK', '2 BHK', '3 BHK', '2 BHK', '3 BHK', '3 BHK', '2 BHK', '1 BHK', '2 BHK', '1 BHK', '2 BHK', '2 BHK', '2 Bedroom', '4 BHK', '2 BHK', '2 Bedroom', '4 Bedroom', '6 Bedroom', '1 BHK', '3 BHK', '3 BHK', '4 BHK', '3 BHK', '2 BHK', '2 BHK', '2 BHK', '2 BHK', '3 Bedroom', '2 BHK', '4 Bedroom', '2 BHK', '2 BHK', '2 BHK', '4 Bedroom', '1 BHK', '3 BHK', '2 BHK', '2 BHK', '4 BHK', '4 Bedroom', '3 BHK', '2 BHK', '2 BHK', '4 Bedroom', '2 BHK', '1 BHK', '4 BHK', '1 BHK', '2 BHK', '2 BHK', '2 BHK', '3 Bedroom', '1 BHK', '3 BHK', '3 BHK', '3 BHK', '1 Bedroom', '2 BHK', '2 BHK', '3 BHK', '3 BHK', '3 BHK', '3 BHK', '2 BHK', '2 BHK', '2 BHK', '3 BHK', '3 BHK', '2 BHK', '1 Bedroom', '3 BHK', '1 Bedroom', '5 Bedroom', '3 BHK', '2 BHK', '2 BHK', '3 BHK', '2 BHK', '2 BHK', '2 BHK', '4 Bedroom', '2 BHK', '2 BHK', '2 BHK', '3 BHK', '4 BHK', '2 BHK', '4 Bedroom', '2 BHK', '2 BHK', '3 BHK', '2 BHK', '3 BHK', '3 BHK', '3 BHK', '2 BHK', '2 BHK', '2 BHK', '4 BHK', '2 BHK', '4 Bedroom', '6 Bedroom', '2BHK', '2 BHK', '3 BHK', '3 BHK', '4 Bedroom', '2 BHK', '2 BHK', '2 BHK', '2 BHK', '3 Bedroom', '2 BHK', '2 BHK', '3 BHK', '3 BHK', '3 BHK', '2 BHK', '2 BHK', '3 BHK', '2 BHK', '2 BHK', '3 Bedroom', '2 Bedroom', '2 BHK', '2 BHK', '4 Bedroom', '2 BHK', '2 BHK', '2 Bedroom', '10 Bedroom', '2 BHK', '3 BHK', '2 BHK', '3 BHK', '3 BHK', '5 Bedroom', '4 BHK', '2 BHK', '2 BHK', '2 BHK', '2 BHK', '2 BHK', '3 BHK', '3 BHK', '1 BHK', '2 BHK', '2 BHK', '3 BHK', '4 Bedroom', '2 BHK', '2 BHK', '3 BHK', '3 BHK', '2 BHK', '3 BHK', '2 BHK', '2 BHK', '2 BHK', '2 BHK', '3 BHK', '3 BHK', '2 BHK', '3 BHK', '3 BHK', '6 Bedroom', '2 BHK', '5 Bedroom', '2 BHK', '3 BHK', '3 BHK', '3 BHK', '3 BHK', '2 BHK', '2 BHK', '3 BHK', '2 BHK', '2 BHK', '2 BHK', '2 BHK', '2 BHK', '3 BHK', '3 BHK', '3 BHK', '9 Bedroom', '3 Bedroom', '3 Bedroom', '2 BHK', '3 BHK', '3 BHK', '1 BHK', '2 BHK', '3 BHK', '2 BHK', '2 BHK', '3 BHK', '2 BHK', '3 BHK', '2 BHK', '2 BHK', '2 BHK', '3 BHK', '3 BHK', '2 BHK', '1 BHK', '3 BHK', '3 BHK', '3 BHK', '2 BHK', '2 BHK', '4 BHK', '6 Bedroom', '12 Bedroom', '3 BHK', '2 BHK', '2 BHK', '3 BHK', '9 Bedroom', '4 BHK', '4 Bedroom', '2 BHK', '3 BHK', '3 BHK', '3 BHK', '3 BHK', '2 BHK', '3 BHK', '2 BHK', '1 Bedroom', '5 BHK', '2 BHK', '5 Bedroom', '3 BHK', '2 BHK', '4 Bedroom', '2 BHK', '3 BHK', '3 BHK', '4 Bedroom', '2 BHK', '3 BHK', '3 Bedroom', '3 BHK', '3 BHK', '3 Bedroom', '3 Bedroom', '3 Bedroom', '3 BHK', '2 Bedroom', '3 BHK', '2 BHK', '2 BHK', '2 BHK', '4 BHK', '2 BHK', '2 BHK', '3 BHK', '3 BHK', '2 BHK', '3 BHK', '3 BHK', '2 BHK', '3 BHK', '3 BHK', '3 Bedroom', '1 RK', '1 BHK', '2 BHK', '2 BHK', '3 BHK', '2 BHK', '4 BHK', '3 Bedroom', '2 BHK', '3 BHK', '3 BHK', '2 BHK', '4 Bedroom', '3 BHK', '8 Bedroom', '3 BHK', '3 BHK', '3 BHK', '3 BHK', '1 BHK', '9 Bedroom', '8 BHK', '2 BHK', '3 BHK', '4 BHK', '4 Bedroom', '2 BHK', '2 BHK', '2 BHK', '2 BHK', '2 BHK', '3 BHK', '3 BHK', '3 BHK', '3 BHK', '7 Bedroom', '3 BHK', '2 BHK', '3 BHK', '3 BHK', '3 BHK', '2 BHK', '6 Bedroom', '3 BHK', '3 BHK', '2 BHK', '2 BHK', '5 Bedroom', '1 BHK', '3 BHK', '2BHK', '2 BHK', '3 Bedroom', '2 BHK', '3 BHK', '3 BHK', '2 BHK', '4 BHK', '3 BHK', '3 BHK', '2 BHK', '3 BHK', '3 BHK', '2 BHK', '3 Bedroom', '3 BHK', '2 BHK', '3 BHK', '2 Bedroom', '1 BHK', '4 Bedroom', '3 Bedroom', '2 BHK', '4 Bedroom', '3 BHK', '2 BHK', '4 Bedroom', '5 Bedroom', '3 BHK', '2 BHK', '2 BHK', '2 BHK', '3 BHK', '3 BHK', '3 BHK', '4 Bedroom', '3 BHK', '2 BHK', '4 Bedroom', '5 Bedroom', '2 BHK', '3 BHK', '2 BHK', '2 BHK', '2 BHK', '2 BHK', '1 BHK', '2 BHK', '2 BHK', '3 BHK', '3 BHK', '3 BHK', '2 BHK', '3 BHK', '2 BHK', '1 BHK', '4 Bedroom', '3 BHK', '2 BHK', '3 BHK', '3 BHK', '2 BHK', '1 BHK', '2 BHK', '4 Bedroom', '2 BHK', '3 BHK', '2 BHK', '3 BHK', '2 BHK', '8 Bedroom', '2 BHK', '2 BHK', '3 Bedroom', '2 BHK', '3 BHK', '2 BHK', '5 Bedroom', '1 BHK', '3 BHK', '1 BHK', '1 BHK', '3 BHK', '2BHK', '2 BHK', '2 BHK', '3 BHK', '3 BHK', '2 BHK', '2 BHK', '2 BHK', '4 BHK', '3 BHK', '4 BHK', '2 BHK', '2 BHK', '2 Bedroom', '2 BHK', '3 BHK', '3 BHK', '2 BHK', '2 BHK', '2 BHK', '2 BHK', '1 BHK', '4 Bedroom', '2 BHK', '2 BHK', '3 BHK', '3 BHK', '2 BHK', '2 BHK', '2 BHK', '2 BHK', '3 BHK', '3 BHK', '3 BHK', '2 BHK', '3 BHK', '2 BHK', '3 BHK', '2 BHK', '4 Bedroom', '2 BHK', '7 Bedroom', '3 BHK', '3 BHK', '6 Bedroom', '6 Bedroom', '2 BHK', '2 BHK', '1 BHK', '2 BHK', '3 BHK', '2 BHK', '3 BHK', '3 BHK', '2 BHK', '3 BHK', '3 BHK', '4 Bedroom', '3 BHK', '4 BHK', '2 BHK', '2 BHK', '4 Bedroom', '3 BHK', '2 BHK', '3 Bedroom', '3 BHK', '3 BHK', '1 BHK', '2 BHK', '3 BHK', '3 Bedroom', '4 Bedroom', '2 BHK', '2 BHK', '3 BHK', '2 BHK', '2 BHK', '3 BHK', '2 BHK', '3 BHK', '2 BHK', '2 BHK', '2 BHK', '3 BHK', '2 BHK', '3 BHK', '2 BHK', '2 BHK', '1 BHK', '3 BHK', '2 BHK', '2 BHK', '2 BHK', '9 Bedroom', '3 BHK', '4 Bedroom', '2 Bedroom', '3 Bedroom', '6 Bedroom', '2 BHK', '3 BHK', '3 BHK', '2 BHK', '3 BHK', '2 BHK', '2 BHK', '2 BHK', '3 BHK', '3 Bedroom', '3 BHK', '3 Bedroom', '4 Bedroom', '2 BHK', '2 BHK', '2 Bedroom', '2 BHK', '4 BHK', '2 BHK', '5 BHK', '3 BHK', '2 BHK', '2 BHK', '4 Bedroom', '5 Bedroom', '3 BHK', '2 BHK', '3 BHK', '3 BHK', '2 BHK', '2 BHK', '3 BHK', '3 BHK', '2 BHK', '3 BHK', '4 Bedroom', '2 BHK', '2 Bedroom', '1 BHK', '3 BHK', '2 BHK', '3 Bedroom', '2 BHK', '8 Bedroom', '2 Bedroom', '3 BHK', '2 BHK', '3 BHK', '2 Bedroom', '8 Bedroom', '4 Bedroom', '2 BHK', '2 BHK', '2 BHK', '3 BHK', '4 BHK', '2 BHK', '3 BHK', '2 BHK', '2 BHK', '1 BHK', '2 BHK', '2 Bedroom', '2 BHK', '2 BHK', '3 BHK', '3 BHK', '2 BHK', '3 BHK', '2 BHK', '3 BHK', '2 BHK', '2 BHK', '3 Bedroom', '3 Bedroom', '2 BHK', '2 BHK', '3 Bedroom', '3 BHK', '2 BHK', '4 Bedroom', '2 BHK', '2 BHK', '3 BHK', '1 BHK', '3 Bedroom', '2 BHK', '2 Bedroom', '2 BHK', '2 BHK', '4 BHK', '3 BHK', '2 BHK', '2 BHK', '2 BHK', '3 BHK', '2 BHK', '2 BHK', '3 BHK', '4 Bedroom', '2 BHK', '2 BHK', '3 BHK', '2 BHK', '3 Bedroom', '3 BHK', '2 BHK', '3 BHK', '3 BHK', '2 BHK', '3 BHK', '3 BHK', '3 BHK', '2 BHK', '3 BHK', '2 BHK', '3 BHK', '3 BHK', '9 Bedroom', '5 Bedroom', '3 BHK', '2 BHK', '2 BHK', '2 Bedroom', '2 BHK', '3 BHK', '2 BHK', '2 BHK', '3 BHK', '2 BHK', '2 BHK', '2 BHK', '5 Bedroom', '1 BHK', '3 BHK', '3 BHK', '3 BHK', '5 Bedroom', '3 BHK', '2 BHK', '3 Bedroom', '3 BHK', '3 BHK', '3 BHK', '2 BHK', '1 BHK', '2 BHK', '3 BHK', '3 BHK', '2 BHK', '6 Bedroom', '2 BHK', '3 BHK', '3 Bedroom', '3 BHK', '3 BHK', '2 BHK', '1 BHK', '2 Bedroom', '2 BHK', '2 BHK', '2 BHK', '3 Bedroom', '3 BHK', '3 BHK', '3 Bedroom', '6 Bedroom', '2 BHK', '2 BHK', '4 Bedroom', '3 BHK', '1 BHK', '3 BHK', '3 BHK', '2 BHK', '2 BHK', '2 BHK', '4 Bedroom', '4 BHK', '3 BHK', '2 BHK', '2 BHK', '8 Bedroom', '2 BHK', '7 Bedroom', '3 BHK', '3 BHK', '2 BHK', '3 Bedroom', '1 BHK', '2 BHK', '2 BHK', '3 BHK', '2 BHK', '3 BHK', '6 BHK', '3 BHK', '2 Bedroom', '2 BHK', '6 Bedroom', '3 BHK', '3 BHK', '2 BHK', '3 BHK', '3 BHK', '4 Bedroom', '2 BHK', '3 Bedroom', '5 Bedroom', '2 BHK', '2 BHK', '3 BHK', '3 BHK', '2 BHK', '2 BHK', '3 BHK', '4 Bedroom', '1 BHK', '2 BHK', '2 Bedroom', '2 BHK', '2 Bedroom', '2 Bedroom', '3 Bedroom', '3 BHK', '2 BHK', '3 BHK', '2 BHK', '2 BHK', '1 BHK', '4 Bedroom', '2 BHK', '3 BHK', '2 BHK', '2 BHK', '2 BHK', '2 Bedroom', '2 BHK', '3 BHK', '2 BHK', '3 BHK', '9 Bedroom', '2 BHK', '2 BHK', '3 BHK', '3 BHK', '2 BHK', '3 BHK', '3 BHK', '2 BHK', '2 BHK', '1 BHK', '2 BHK', '3 BHK', '2 BHK', '2 BHK', '1 Bedroom', '2 BHK', '2 BHK', '2 BHK', '3 Bedroom', '3 Bedroom', '3 BHK', '4 BHK', '3 Bedroom', '2 BHK', '2 Bedroom', '3 Bedroom', '5 Bedroom', '1 BHK', '5 Bedroom', '3 BHK', '3 BHK', '2 BHK', '8 Bedroom', '3 Bedroom', '3 BHK', '2 BHK', '1 BHK', '3 BHK', '4 Bedroom', '2 BHK', '3 BHK', '2 BHK', '3 BHK', '8 Bedroom', '3 BHK', '4 Bedroom', '1 BHK', '3 BHK', '2 BHK', '2 BHK', '3 Bedroom', '3 BHK', '3 BHK', '3 BHK', '2 BHK', '3 BHK', '3 Bedroom', '2 Bedroom', '3 BHK', '4 Bedroom', '8 Bedroom', '1 Bedroom', '3 BHK', '2 BHK', '3 BHK', '2 BHK', '5 Bedroom', '3 BHK', '2 BHK', '2 Bedroom', '6 Bedroom', '2 BHK', '3 BHK', '3 BHK', '2 BHK', '2 BHK', '5 Bedroom', '3 BHK', '3 BHK', '2 BHK', '3 BHK', '4 Bedroom', '2 BHK', '2 BHK', '3 BHK', '2 BHK', '3 BHK', '2 BHK', '3 BHK', '2 BHK', '2 BHK', '3 BHK', '2 BHK', '2 Bedroom', '4 BHK', '2 BHK', '2 BHK', '4 BHK', '1 BHK', '3 BHK', '3 Bedroom', '2 Bedroom', '1 BHK', '2 BHK', '3 BHK', '3 BHK', '2 BHK', '2 Bedroom', '3 BHK', '3 BHK', '2 BHK', '3 BHK', '2 BHK', '2 BHK', '5 Bedroom', '3 BHK', '2 BHK', '4 BHK', '4 Bedroom', '3 BHK', '3 BHK', '2 BHK', '2 BHK', '3 BHK', '3 Bedroom', '3 Bedroom', '2 BHK', '6 Bedroom', '4 BHK', '3 BHK', '3 BHK', '3 BHK', '3 Bedroom', '3 BHK', '2 BHK', '3 BHK', '2 BHK', '3 BHK', '3 Bedroom', '3 BHK', '2 BHK', '4 Bedroom', '4 BHK', '6 Bedroom', '2 BHK', '2 BHK', '4 Bedroom', '3 BHK', '2 BHK', '5 Bedroom', '2 BHK', '2 BHK', '3 BHK', '2 BHK', '4 Bedroom', '2 BHK', '3 Bedroom', '2 BHK', '2 BHK', '2 BHK', '3 BHK', '3 BHK', '2 BHK', '3 BHK', '3 BHK', '2 BHK', '3 BHK', '3 BHK', '3 BHK', '3 BHK', '1 BHK', '3 BHK', '3 BHK', '2 BHK', '2 BHK', '2 BHK', '2 BHK', '2 BHK', '2 BHK', '3 BHK', '3 BHK', '1 Bedroom', '2 BHK', '4 BHK', '2 BHK', '2 BHK', '2 BHK', '2 BHK', '3 BHK', '7 Bedroom', '3 BHK', '2 BHK', '2 BHK', '3 BHK', '2 BHK', '9 BHK', '2 BHK', '2 BHK', '3 BHK', '2 BHK', '1 BHK', '2 BHK', '2 BHK', '3 BHK', '2 BHK', '2 BHK', '3 BHK', '3 BHK', '2 BHK', '3 BHK', '2 BHK', '1 Bedroom', '2 BHK', '3 BHK', '2 BHK', '2 BHK', '4 BHK', '2 BHK', '2 BHK', '3 BHK', '2 BHK', '2 BHK', '3 BHK', '3 BHK', '2 BHK', '2 BHK', '3 BHK', '3 BHK', '5 Bedroom', '2 BHK', '3 BHK', '2 BHK', '2 BHK', '3 BHK', '3 BHK', '3 BHK', '1 BHK', '8 Bedroom', '3 BHK', '2 BHK', '2 BHK', '4 BHK', '3 BHK', '3 BHK', '2 BHK', '3 BHK', '2 BHK', '3 BHK', '2 BHK', '3 BHK', '2 BHK', '2 BHK', '3 BHK', '3 Bedroom', '4 Bedroom', '3 BHK', '2 BHK', '3 BHK', '2 BHK', '3 Bedroom', '2 BHK', '3 BHK', '4 Bedroom', '2 BHK', '3 Bedroom', '2 BHK', '3 BHK', '1 BHK', '3 BHK', '3 Bedroom', '8 Bedroom', '3 BHK', '4 Bedroom', '1 Bedroom', '1 Bedroom', '2 BHK', '2 BHK', '2 BHK', '3 BHK', '4 Bedroom', '3 BHK', '3 BHK', '3 BHK', '2 BHK', '3 BHK', '3 BHK', '1 BHK', '3 BHK', '3 Bedroom', '2 Bedroom', '2 BHK', '2 BHK', '2 BHK', '4 BHK', '3 BHK', '4 Bedroom', '3 BHK', '2 BHK', '2 BHK', '6 BHK', '2 BHK', '3 BHK', '3 BHK', '3 BHK', '2 BHK', '4 Bedroom', '2 BHK', '2 BHK', '4 Bedroom', '4 Bedroom', '5 Bedroom', '3 BHK', '2 BHK', '3 BHK', '2 BHK', '3 Bedroom', '3 Bedroom', '3 BHK', '4 BHK', '2 BHK', '2 BHK', '2 BHK', '4 BHK', '2 BHK', '2 BHK', '3 BHK', '2 BHK', '4 BHK', '2 BHK', '3 BHK', '3 BHK', '3 BHK', '2 BHK', '1 BHK', '3 Bedroom', '3 BHK', '2 BHK', '3 BHK', '3 BHK', '3 BHK', '2 BHK', '3 BHK', '4 Bedroom', '2 BHK', '1 BHK', '2 BHK', '3 BHK', '2 BHK', '2 BHK', '2 BHK', '2 BHK', '3 BHK', '2 BHK', '2 BHK', '2 Bedroom', '3 BHK', '2 BHK', '3 BHK', '2 BHK', '3 BHK', '3 BHK', '2 Bedroom', '3 BHK', '2 BHK', '3 BHK', '3 BHK', '2 BHK', '2 BHK', '2 BHK', '3 BHK', '2 BHK', '2 BHK', '2 BHK', '2 BHK', '3 Bedroom', '2 Bedroom', '3 BHK', '3 BHK', '3 BHK', '3 BHK', '4 BHK', '3 BHK', '3 BHK', '3 BHK', '3 BHK', '3 BHK', '5 BHK', '3 BHK', '2 BHK', '3 BHK', '3 BHK', '4 Bedroom', '3 BHK', '4 Bedroom', '4 Bedroom', '2 BHK', '3 BHK', '2 Bedroom', '5 Bedroom', '2 BHK', '2 Bedroom', '2 BHK', '2 BHK', '2 BHK', '3 BHK', '3 BHK', '3 BHK', '5 Bedroom', '3 BHK', '2 BHK', '3 BHK', '2 BHK', '3 BHK', '2 BHK', '2 BHK', '6 BHK', '2 BHK', '2 BHK', '2 BHK', '3 BHK', '3 BHK', '1 BHK', '2 BHK', '6 Bedroom', '2 BHK', '4 BHK', '2 BHK', '2 BHK', '3 BHK', '3 BHK', '4 Bedroom', '3 BHK', '3 BHK', '2 BHK', '3 Bedroom', '3 Bedroom', '3 BHK', '3 BHK', '3 BHK', '3 BHK', '3 BHK', '3 BHK', '3 BHK', '2 BHK', '3 BHK', '3 BHK', '3 BHK', '2 BHK', '2 BHK', '3 BHK', '2 BHK', '2 BHK', '3 Bedroom', '2 BHK', '3 BHK', '3 BHK', '4 BHK', '3 BHK', '2 BHK', '3 BHK', '2 BHK', '3 BHK', '3 BHK', '4 BHK', '2 BHK', '2 BHK', '2 BHK', '4 Bedroom', '2 BHK', '2 BHK', '2 BHK', '3 BHK', '3 BHK', '3 BHK', '4 BHK', '2 BHK', '4 Bedroom', '3 BHK', '3 BHK', '3 BHK', '3 BHK', '3 BHK', '1 BHK', '2 BHK', '3 BHK', '4 BHK', '1 BHK', '2 BHK', '3 BHK', '1 BHK', '3 BHK', '3 BHK', '2 BHK', '6 Bedroom', '3 BHK', '5 Bedroom', '3 BHK', '3 Bedroom', '2 BHK', '2 BHK', '3 BHK', '2 BHK', '2 BHK', '3 BHK', '2 BHK', '2 BHK', '3 BHK', '4 Bedroom', '2 BHK', '2 BHK', '3 BHK', '4 Bedroom', '4 Bedroom', '2 BHK', '2 BHK', '3 Bedroom', '3 BHK', '3 BHK', '2 BHK', '2 BHK', '6 Bedroom', '3 BHK', '2 BHK', '1 BHK', '2 BHK', '2 BHK', '4 Bedroom', '4 Bedroom', '7 Bedroom', '4 Bedroom', '3 BHK', '3 BHK', '6 Bedroom', '3 BHK', '4 Bedroom', '8 BHK', '4 Bedroom', '4 Bedroom', '2 BHK', '4 BHK', '3 BHK', '2 BHK', '3 BHK', '3 BHK', '3 BHK', '3 BHK', '3 Bedroom', '3 BHK', '3 BHK', '2 BHK', '4 Bedroom', '4 Bedroom', '2 BHK', '5 Bedroom', '3 BHK', '1 BHK', '4 BHK', '3 BHK', '3 Bedroom', '2 Bedroom', '4 Bedroom', '3 Bedroom', '3 BHK', '1 Bedroom', '4 Bedroom', '3 BHK', '2 BHK', '2 BHK', '2 BHK', '3 BHK', '3 Bedroom', '3 BHK', '2 BHK', '2 BHK', '3 BHK', '3 BHK', '3 BHK', '1 RK', '4 BHK', '3 Bedroom', '3 BHK', '2 BHK', '8 Bedroom', '2 BHK', '2 BHK', '4 BHK', '3 BHK', '4 Bedroom', '3 BHK', '3 BHK', '3 BHK', '3 BHK', '3 BHK', '2 BHK', '3 Bedroom', '3 BHK', '1 BHK', '2 BHK', '2 BHK', '2 BHK', '2 BHK', '2 BHK', '3 BHK', '3 BHK', '6 BHK', '2 BHK', '5 Bedroom', '5 Bedroom', '2 BHK', '4 BHK', '3 BHK', '2 BHK', '3 BHK', '3 BHK', '2 BHK', '2 BHK', '3 BHK', '3 BHK', '1 BHK', '2BHK', '2 BHK', '3 BHK', '2 BHK', '2 BHK', '3 BHK', '2 BHK', '2 BHK', '2 BHK', '2 BHK', '2 BHK', '2 BHK', '6 Bedroom', '4 Bedroom', '2 BHK', '3 BHK', '2 BHK', '3 BHK', '2 BHK', '3 Bedroom', '3 Bedroom', '2 BHK', '2 BHK', '5 Bedroom', '6 Bedroom', '2 BHK', '3 BHK', '2 BHK', '1 BHK', '4 Bedroom', '2 BHK', '7 Bedroom', '3 BHK', '2 BHK', '3 BHK', '2 BHK', '3 BHK', '3 BHK', '4 Bedroom', '3 Bedroom', '2 Bedroom', '4 Bedroom', '2 BHK', '4 BHK', '1 Bedroom', '2 BHK', '1 Bedroom', '4 BHK', '2 BHK', '2 BHK', '2 Bedroom', '5 Bedroom', '2 BHK', '9 Bedroom', '3 BHK', '4 Bedroom', '2 BHK', '2 BHK', '2 BHK', '2 BHK', '3 BHK', '2 BHK', '3 BHK', '3 BHK', '3 Bedroom', '3 BHK', '2 BHK', '1 BHK', '2 BHK', '3 BHK', '4 Bedroom', '3 BHK', '2 BHK', '4 Bedroom', '2 BHK', '3 BHK', '4 BHK', '2 BHK', '2 BHK', '3 BHK', '2 BHK', '2 BHK', '4 Bedroom', '5 Bedroom', '4 Bedroom', '2 BHK', '2 BHK', '3 BHK', '3 BHK', '3 BHK', '4 BHK', '2 BHK', '2 BHK', '2 BHK', '3 BHK', '2 BHK', '2 BHK', '3 BHK', '2 BHK', '2 BHK', '2 BHK', '3 BHK', '2 BHK', '3 BHK', '3 BHK', '2 BHK', '3 BHK', '3 BHK', '3 BHK', '3 BHK', '2 BHK', '2 BHK', '3 BHK', '2 BHK', '3 BHK', '3 BHK', '2 BHK', '4 BHK', '2 BHK', '2 BHK', '1 Bedroom', '4 BHK', '4 BHK', '2 BHK', '2 BHK', '3 BHK', '3 BHK', '2 BHK', '3 BHK', '3 BHK', '3 Bedroom', '5 Bedroom', '2 BHK', '3 BHK', '3 BHK', '2 BHK', '2 BHK', '2 BHK', '2 Bedroom', '2 BHK', '4 Bedroom', '3 BHK', '3 BHK', '4 BHK', '1 BHK', '2 BHK', '1 BHK', '3 BHK', '8 Bedroom', '2 BHK', '3 BHK', '3 BHK', '4 Bedroom', '2 BHK', '2 BHK', '2 BHK', '4 Bedroom', '4 Bedroom', '4 Bedroom', '2 BHK', '3 BHK', '5 Bedroom', '1 BHK', '1 BHK', '3 BHK', '2 BHK', '2 BHK', '1 BHK', '1 BHK', '4 BHK', '5 Bedroom', '4 Bedroom', '4 Bedroom', '3 BHK', '3 BHK', '4 Bedroom', '2 BHK', '3 BHK', '1 BHK', '4 Bedroom', '6 Bedroom', '3 BHK', '3 BHK', '2 BHK', '3 BHK', '4 BHK', '3 BHK', '2 BHK', '2 BHK', '4 Bedroom', '3 BHK', '3 BHK', '1 Bedroom', '3 BHK', '3 Bedroom', '1 BHK', '4 Bedroom', '3 Bedroom', '2 Bedroom', '2 BHK', '3 BHK', '3 BHK', '2 BHK', '4 BHK', '1 BHK', '2 BHK', '8 Bedroom', '3 Bedroom', '2 BHK', '2 BHK', '3 BHK', '2 BHK', '5 Bedroom', '3 BHK', '4 Bedroom', '4 BHK', '3 BHK', '3 BHK', '3 Bedroom', '2 BHK', '3 BHK', '1 BHK', '3 Bedroom', '2 BHK', '2 BHK', '2 BHK', '4 Bedroom', '2 BHK', '1 BHK', '3 BHK', '3 Bedroom', '2 BHK', '2 BHK', '3 BHK', '3 BHK', '2 BHK', '3 BHK', '4 Bedroom', '2 BHK', '1 BHK', '3 BHK', '3 BHK', '2 BHK', '2 BHK', '3 BHK', '3 BHK', '3 BHK', '2 BHK', '2 BHK', '2 BHK', '3 BHK', '2 BHK', '1 BHK', '3 BHK', '4 Bedroom', '2 BHK', '2 BHK', '3 BHK', '3 BHK', '2 BHK', '3 Bedroom', '2 BHK', '4 Bedroom', '2 BHK', '3 BHK', '5 Bedroom', '2 BHK', '3 BHK', '2 BHK', '3 BHK', '3 BHK', '3 BHK', '3 BHK', '3 BHK', '3 BHK', '3 Bedroom', '2 BHK', '2 BHK', '3 BHK', '3 BHK', '2 BHK', '4 BHK', '4 Bedroom', '2 BHK', '2 BHK', '2 BHK', '3 Bedroom', '3 BHK', '4 BHK', '3 BHK', '3 Bedroom', '3 BHK', '4 BHK', '2 BHK', '2 BHK', '2 BHK', '4 Bedroom', '2 BHK', '1 BHK', '11 BHK', '7 Bedroom', '2 BHK', '2 BHK', '3 BHK', '5 BHK', '2 Bedroom', '4 Bedroom', '3 BHK', '3 BHK', '3 BHK', '3 BHK', '2 BHK', '2 Bedroom', '7 Bedroom', '2 BHK', '3 BHK', '3 BHK', '3 Bedroom', '3 BHK', '5 Bedroom', '3 BHK', '2 BHK', '4 Bedroom', '2 BHK', '5 BHK', '6 Bedroom', '4 Bedroom', '3 Bedroom', '5 Bedroom', '3 BHK', '2 BHK', '3 BHK', '4 Bedroom', '3 BHK', '3 BHK', '3 BHK', '4 Bedroom', '2 Bedroom', '4 Bedroom', '2 BHK', '4 BHK', '7 Bedroom', '3 BHK', '4 Bedroom', '2 BHK', '4 BHK', '3 BHK', '1 BHK', '1 BHK', '3 BHK', '7 Bedroom', '4 Bedroom', '2 BHK', '3 BHK', '3 BHK', '3 Bedroom', '1 BHK', '2 BHK', '3 BHK', '3 BHK', '3 BHK', '2 BHK', '2 BHK', '2 BHK', '3 BHK', '3 BHK', '4 BHK', '2 BHK', '2 BHK', '3 BHK', '9 Bedroom', '1 Bedroom', '2 BHK', '2 BHK', '3 Bedroom', '2 BHK', '3 BHK', '4 Bedroom', '2 BHK', '3 BHK', '2 BHK', '2 BHK', '2 BHK', '3 BHK', '2 BHK', '3 BHK', '2 Bedroom', '2 BHK', '3 BHK', '1 BHK', '2 BHK', '5 Bedroom', '2 BHK', '1 BHK', '2 BHK', '4 BHK', '3 BHK', '2 Bedroom', '2 BHK', '2 BHK', '2 BHK', '5 Bedroom', '5 Bedroom', '3 BHK', '3 BHK', '2 BHK', '2 BHK', '1 BHK', '2 BHK', '4 Bedroom', '2 BHK', '2 BHK', '2 BHK', '2 Bedroom', '2 BHK', '2 BHK', '3 BHK', '4 BHK', '3 BHK', '3 BHK', '2 BHK', '3 BHK', '3 BHK', '1 BHK', '2 BHK', '3 BHK', '8 Bedroom', '4 Bedroom', '2 BHK', '2 BHK', '2 BHK', '1 BHK', '3 BHK', '5 Bedroom', '3 BHK', '2 BHK', '3 BHK', '2 BHK', '2 BHK', '4 BHK', '2 BHK', '2 BHK', '1 BHK', '3 BHK', '2 BHK', '3 BHK', '5 Bedroom', '4 BHK', '4 Bedroom', '3 BHK', '4 Bedroom', '2 BHK', '3 BHK', '3 BHK', '2 BHK', '2 BHK', '2 BHK', '4 BHK', '4 Bedroom', '2 BHK', '3 BHK', '3 BHK', '4 BHK', '2 Bedroom', '2 BHK', '2 BHK', '5 Bedroom', '4 Bedroom', '4 Bedroom', '1 Bedroom', '3 BHK', '2 BHK', '3 BHK', '2 BHK', '9 Bedroom', '3 BHK', '4 Bedroom', '2 BHK', '2 BHK', '3 BHK', '2 BHK', '2 BHK', '1 BHK', '3 BHK', '3 BHK', '4 BHK', '2 BHK', '3 BHK', '3 BHK', '4 Bedroom', '3 BHK', '3 BHK', '3 BHK', '2 BHK', '3 BHK', '3 BHK', '3 BHK', '3 BHK', '4 Bedroom', '3 BHK', '2 BHK', '3 BHK', '3 BHK', '3 BHK', '2 BHK', '2 BHK', '2 Bedroom', '3 Bedroom', '2 BHK', '3 BHK', '8 Bedroom', '2 BHK', '2 BHK', '4 Bedroom', '2 BHK', '4 Bedroom', '2 BHK', '2 Bedroom', '3 BHK', '3 BHK', '3 BHK', '6 Bedroom', '2 BHK', '2 BHK', '2 BHK', '3 Bedroom', '3 Bedroom', '2 BHK', '4 Bedroom', '2 BHK', '2 BHK', '3 BHK', '4 BHK', '3 BHK', '3 BHK', '2 BHK', '2 BHK', '3 BHK', '3 BHK', '3 BHK', '3 BHK', '3 BHK', '3 BHK', '3 BHK', '2 BHK', '4 BHK', '2 BHK', '2 Bedroom', '2 BHK', '3 BHK', '2 BHK', '3 BHK', '2 BHK', '3 BHK', '3 Bedroom', '2 BHK', '1 BHK', '4 Bedroom', '1 BHK', '2 BHK', '2 BHK', '3 BHK', '1 BHK', '2 BHK', '4 BHK', '2 BHK', '2 BHK', '3 BHK', '3 BHK', '3 BHK', '3 BHK', '1 BHK', '3 BHK', '4 BHK', '3 BHK', '2 BHK', '4 BHK', '3 BHK', '2 BHK', '2 BHK', '2 BHK', '2 BHK', '3 BHK', '2 BHK', '3 BHK', '2 Bedroom', '2 BHK', '1 BHK', '2 BHK', '2 BHK', '2 BHK', '4 Bedroom', '2 BHK', '3 BHK', '3 BHK', '1 BHK', '3 BHK', '2 BHK', '2 BHK', '3 BHK', '4 BHK', '3 BHK', '2 BHK', '3 BHK', '2 BHK', '2 BHK', '2 BHK', '3 BHK', '4 Bedroom', '2 BHK', '2 BHK', '3 BHK', '3 BHK', '2 BHK', '2 BHK', '3 BHK', '2 BHK', '2 BHK', '2 BHK', '2 BHK', '3 BHK', '4 BHK', '4 BHK', '2 BHK', '3 BHK', '3 BHK', '2BHK', '3 BHK', '2 BHK', '2 BHK', '3 Bedroom', '3 BHK', '1 BHK', '3 BHK', '5 Bedroom', '6 Bedroom', '1 Bedroom', '3 BHK', '2 BHK', '2 BHK', '3 BHK', '4 Bedroom', '3 Bedroom', '3 BHK', '4 Bedroom', '2 BHK', '2 BHK', '2 BHK', '2 BHK', '3 BHK', '2 BHK', '3 BHK', '3 Bedroom', '3 BHK', '2 BHK', '2 BHK', '3 Bedroom', '3 BHK', '2 BHK', '4 BHK', '2 BHK', '2 Bedroom', '3 BHK', '4 Bedroom', '2 BHK', '2 BHK', '4 BHK', '3 BHK', '3 BHK', '3 BHK', '2 BHK', '4 Bedroom', '6 Bedroom', '2 Bedroom', '2 BHK', '1 BHK', '2 BHK', '3 BHK', '2 BHK', '4 BHK', '2 BHK', '3 BHK', '4 Bedroom', '3 Bedroom', '2 BHK', '2 BHK', '3 BHK', '4 BHK', '2 BHK', '4 Bedroom', '5 Bedroom', '4 Bedroom', '2 BHK', '2 BHK', '3 BHK', '2 BHK', '2 BHK', '3 BHK', '2 BHK', '2 BHK', '2 BHK', '2 BHK', '2 Bedroom', '2 BHK', '3 BHK', '1 RK', '3 BHK', '4 BHK', '2 BHK', '2 BHK', '3 BHK', '1 BHK', '3 BHK', '2 BHK', '4 Bedroom', '3 BHK', '3 BHK', '3 BHK', '5 BHK', '2 BHK', '2 BHK', '2 BHK', '2 BHK', '3 BHK', '3 BHK', '3 BHK', '2 BHK', '2 BHK', '4 BHK', '4 Bedroom', '2 BHK', '4 Bedroom', '2 BHK', '4 Bedroom', '3 BHK', '3 BHK', '2 BHK', '2 BHK', '2 BHK', '2 BHK', '3 BHK', '2 BHK', '2 BHK', '3 BHK', '2 BHK', '4 Bedroom', '3 BHK', '1 Bedroom', '4 Bedroom', '2 BHK', '1 BHK', '1 BHK', '4 Bedroom', '2 BHK', '2 BHK', '4 Bedroom', '5 BHK', '2 BHK', '2 BHK', '2 BHK', '2 BHK', '3 BHK', '3 BHK', '3 BHK', '4 BHK', '3 BHK', '2 BHK', '3 BHK', '2 BHK', '4 BHK', '3 BHK', '3 BHK', '2 BHK', '3 BHK', '2 BHK', '4 Bedroom', '3 BHK', '3 BHK', '3 BHK', '2 BHK', '2 BHK', '2 BHK', '6 Bedroom', '3 BHK', '4 Bedroom', '4 BHK', '3 BHK', '4 Bedroom', '2 Bedroom', '3 Bedroom', '1 BHK', '2 BHK', '4 BHK', '2 BHK', '4 BHK', '3 BHK', '2 BHK', '1 BHK', '3 Bedroom', '2 BHK', '1 Bedroom', '3 Bedroom', '2 BHK', '2 BHK', '2 BHK', '1 BHK', '5 Bedroom', '5 Bedroom', '3 BHK', '3 BHK', '5 Bedroom', '5 Bedroom', '3 BHK', '3 BHK', '2 Bedroom', '2 BHK', '3 BHK', '3 BHK', '2 BHK', '2 BHK', '4 BHK', '2 BHK', '3 BHK', '1 BHK', '2 BHK', '2 BHK', '3 BHK', '3 BHK', '3 BHK', '2 BHK', '2 BHK', '3 BHK', '3 BHK', '1 BHK', '2 BHK', '4 BHK', '3 BHK', '4 Bedroom', '3 BHK', '3 BHK', '2 BHK', '3 BHK', '2 BHK', '2 BHK', '3 BHK', '3 BHK', '2 BHK', '1 BHK', '2 Bedroom', '2 BHK', '3 BHK', '2 BHK', '2 Bedroom', '1 Bedroom', '2 BHK', '2 BHK', '3 BHK', '1 Bedroom', '3 BHK', '2 BHK', '3 BHK', '1 BHK', '2 BHK', '2 BHK', '3 BHK', '1 Bedroom', '3 Bedroom', '3 BHK', '2 BHK', '2 BHK', '4 Bedroom', '3 BHK', '3 BHK', '2 BHK', '2 BHK', '4 Bedroom', '2 BHK', '2 BHK', '3 BHK', '2 BHK', '2 BHK', '4 BHK', '3 BHK', '4 Bedroom', '3 BHK', '2BHK', '2 BHK', '3 BHK', '2 BHK', '2 BHK', '2 BHK', '1 BHK', '2 BHK', '4 BHK', '2 BHK', '2 BHK', '8 Bedroom', '3 BHK', '3 BHK', '2 BHK', '2 BHK', '2 Bedroom', '2 Bedroom', '3 BHK', '3 BHK', '2 BHK', '3 BHK', '3 BHK', '2 BHK', '2 BHK', '3 BHK', '2 BHK', '4 BHK', '2 BHK', '1 BHK', '2 BHK', '3 BHK', '3 BHK', '3 BHK', '2 BHK', '3 BHK', '2 Bedroom', '2 BHK', '2 BHK', '2 BHK', '3 BHK', '2 BHK', '3 BHK', '3 BHK', '2 BHK', '3 BHK', '3 BHK', '3 BHK', '2 BHK', '4 Bedroom', '3 BHK', '4 BHK', '2 BHK', '2 BHK', '2 BHK', '3 Bedroom', '3 BHK', '2 BHK', '2 BHK', '3 BHK', '2 BHK', '2 BHK', '3 Bedroom', '3 BHK', '3 BHK', '4 BHK', '3 BHK', '2 BHK', '5 Bedroom', '2 BHK', '3 BHK', '10 BHK', '1 Bedroom', '2 BHK', '2 BHK', '5 Bedroom', '4 Bedroom', '3 BHK', '2 BHK', '2 BHK', '4 BHK', '3 BHK', '2 BHK', '2 BHK', '2 BHK', '3 BHK', '2 BHK', '3 BHK', '2 Bedroom', '3 BHK', '2 Bedroom', '3 BHK', '1 BHK', '2 BHK', '2 BHK', '3 Bedroom', '1 BHK', '2 BHK', '3 BHK', '2 Bedroom', '1 BHK', '2 BHK', '5 Bedroom', '3 BHK', '2 BHK', '3 BHK', '3 BHK', '2 BHK', '5 Bedroom', '3 BHK', '2 Bedroom', '2 BHK', '3 BHK', '4 BHK', '2 BHK', '3 BHK', '2 BHK', '4 Bedroom', '2 BHK', '5 Bedroom', '4 Bedroom', '2 BHK', '3 BHK', '3 Bedroom', '3 BHK', '3 BHK', '2 BHK', '2 BHK', '2 BHK', '3 BHK', '2 BHK', '2 BHK', '2 Bedroom', '4 BHK', '2 BHK', '2 BHK', '2 BHK', '2 BHK', '2BHK', '3 BHK', '4 BHK', '3 Bedroom', '3 BHK', '2 BHK', '3 BHK', '2 BHK', '2 BHK', '3 BHK', '2 BHK', '3 BHK', '2 BHK', '3 BHK', '3 BHK', '2 BHK', '3 Bedroom', '2 BHK', '2 Bedroom', '2 BHK', '4 Bedroom', '1 BHK', '1 BHK', '2 BHK', '3 BHK', '3 BHK', '2 BHK', '4 BHK', '3 BHK', '2 BHK', '3 BHK', '3 BHK', '2 BHK', '1 BHK', '3 BHK', '3 Bedroom', '3 BHK', '3 BHK', '2 Bedroom', '1 BHK', '7 Bedroom', '4 Bedroom', '2 BHK', '3 BHK', '4 Bedroom', '8 Bedroom', '3 BHK', '2 BHK', '2 BHK', '3 BHK', '3 BHK', '3 BHK', '2 BHK', '3 BHK', '4 Bedroom', '3 BHK', '2 BHK', '3 BHK', '3 Bedroom', '4 Bedroom', '2 BHK', '3 BHK', '2 Bedroom', '3 BHK', '3 BHK', '1 BHK', '2 BHK', '3 BHK', '2 BHK', '3 BHK', '2 BHK', '2 BHK', '2 BHK', '2 BHK', '2 BHK', '2 BHK', '1 BHK', '3 BHK', '3 BHK', '3 BHK', '3 BHK', '2 BHK', '2 BHK', '3 BHK', '2 BHK', '2 BHK', '6 BHK', '2 BHK', '1 BHK', '2 BHK', '3 BHK', '3 BHK', '2 BHK', '3 BHK', '3 BHK', '3 BHK', '2 BHK', '1 BHK', '3 BHK', '1 BHK', '6 Bedroom', '3 BHK', '3 BHK', '2 BHK', '2 BHK', '2 BHK', '2 BHK', '1 Bedroom', '3 Bedroom', '3 BHK', '2 BHK', '3 BHK', '1 BHK', '2 Bedroom', '2 BHK', '3 BHK', '2 BHK', '2 BHK', '2 BHK', '3 Bedroom', '2 BHK', '3 BHK', '3 BHK', '3 BHK', '3 Bedroom', '3 BHK', '3 BHK', '2 BHK', '2 BHK', '2 BHK', '5 Bedroom', '2 BHK', '2 BHK', '3 BHK', '2 BHK', '2 BHK', '3 BHK', '4 Bedroom', '3 BHK', '2 BHK', '3 BHK', '3 BHK', '1 BHK', '3 BHK', '6 Bedroom', '2 BHK', '4 Bedroom', '2 BHK', '6 Bedroom', '2 BHK', '3 BHK', '2 BHK', '2 BHK', '2 BHK', '2 BHK', '3 BHK', '1 BHK', '3 Bedroom', '4 Bedroom', '2 BHK', '2 BHK', '2 BHK', '2 BHK', '3 BHK', '2 BHK', '2 BHK', '2 BHK', '3 BHK', '1 BHK', '3 BHK', '3 BHK', '2 BHK', '2 BHK', '7 Bedroom', '4 Bedroom', '2 Bedroom', '5 Bedroom', '2 BHK', '2 BHK', '3 BHK', '7 Bedroom', '2 BHK', '3 BHK', '4 Bedroom', '2 BHK', '3 BHK', '2 BHK', '1 BHK', '9 BHK', '2 BHK', '4 Bedroom', '3 BHK', '3 BHK', '3 BHK', '2 BHK', '3 BHK', '3 BHK', '2 BHK', '3 BHK', '4 Bedroom', '3 BHK', '3 BHK', '2 BHK', '2 BHK', '2 BHK', '3 BHK', '3 Bedroom', '3 BHK', '3 BHK', '2 BHK', '2 BHK', '3 BHK', '2 BHK', '3 BHK', '3 BHK', '2 BHK', '1 BHK', '2 BHK', '2 BHK', '2 BHK', '4 BHK', '3 BHK', '4 BHK', '2 BHK', '2 BHK', '3 BHK', '2 BHK', '6 Bedroom', '3 BHK', '2 BHK', '3 BHK', '2 BHK', '3 BHK', '3 BHK', '2 BHK', '2 BHK', '2 BHK', '2 BHK', '3 BHK', '2 BHK', '2 BHK', '3 BHK', '2 BHK', '3 BHK', '4 Bedroom', '1 Bedroom', '2 BHK', '2 BHK', '2 BHK', '3 BHK', '3 BHK', '3 BHK', '3 BHK', '5 Bedroom', '8 Bedroom', '5 Bedroom', '3 BHK', '3 BHK', '3 BHK', '2 BHK', '3 BHK', '3 Bedroom', '3 BHK', '6 Bedroom', '3 BHK', '2 BHK', '2 BHK', '3 BHK', '3 BHK', '3 BHK', '3 BHK', '3 BHK', '4 Bedroom', '2 BHK', '3 BHK', '2 BHK', '6 Bedroom', '4 Bedroom', '2 BHK', '2 BHK', '3 BHK', '3 BHK', '4 BHK', '8 Bedroom', '4 Bedroom', '2 BHK', '2 BHK', '2 BHK', '2 BHK', '3 BHK', '3 BHK', '1 BHK', '2 BHK', '2 BHK', '3 BHK', '4 Bedroom', '3 BHK', '1 BHK', '3 BHK', '2 BHK', '3 BHK', '3 BHK', '2 BHK', '3 BHK', '3 BHK', '2 BHK', '2 BHK', '2 BHK', '2 BHK', '2 BHK', '3 BHK', '3 Bedroom', '1 BHK', '4 BHK', '3 BHK', '2 BHK', '3 Bedroom', '2 BHK', '2 BHK', '1 BHK', '2 BHK', '3 BHK', '2 BHK', '3 Bedroom', '3 BHK', '2 BHK', '2 BHK', '3 BHK', '3 BHK', '3 BHK', '1 BHK', '3 BHK', '6 Bedroom', '2 BHK', '2 BHK', '2 BHK', '2 BHK', '3 BHK', '3 BHK', '2 BHK', '2 BHK', '3 BHK', '2 BHK', '1 BHK', '1 Bedroom', '2 Bedroom', '3 BHK', '3 BHK', '2 BHK', '3 BHK', '4 Bedroom', '2 BHK', '2 BHK', '4 Bedroom', '2 BHK', '2 BHK', '2 BHK', '2 BHK', '2 Bedroom', '3 BHK', '3 BHK', '2 BHK', '2 BHK', '2 BHK', '2 BHK', '2 BHK', '2 BHK', '3 Bedroom', '1 BHK', '2 BHK', '2 BHK', '3 BHK', '3 BHK', '3 BHK', '3 BHK', '1 Bedroom', '2 BHK', '3 Bedroom', '3 BHK', '2 BHK', '3 BHK', '2 BHK', '3 BHK', '3 BHK', '2 BHK', '3 BHK', '2 BHK', '2 BHK', '3 BHK', '2 BHK', '4 Bedroom', '3 BHK', '2 BHK', '3 BHK', '2 BHK', '3 BHK', '2 BHK', '2 BHK', '2 Bedroom', '1 BHK', '4 BHK', '3 BHK', '3 BHK', '3 BHK', '2 BHK', '3 BHK', '3 Bedroom', '2 Bedroom', '3 BHK', '3 BHK', '3 BHK', '3 BHK', '2 BHK', '3 BHK', '2 BHK', '3 BHK', '2 BHK', '3 BHK', '2 BHK', '3 BHK', '3 BHK', '3 BHK', '2 BHK', '2 BHK', '5 Bedroom', '4 BHK', '3 BHK', '4 Bedroom', '2 BHK', '3 BHK', '2 BHK', '2 BHK', '1 BHK', '3 BHK', '2 BHK', '2 BHK', '3 BHK', '4 Bedroom', '2 BHK', '2 BHK', '2 BHK', '2 BHK', '4 Bedroom', '3 Bedroom', '2 BHK', '3 Bedroom', '4 BHK', '1 BHK', '4 Bedroom', '3 BHK', '3 BHK', '4 Bedroom', '2 BHK', '2 BHK', '3 BHK', '2 BHK', '2 BHK', '2 Bedroom', '2 BHK', '2 BHK', '2 BHK', '2 BHK', '3 BHK', '2 BHK', '3 BHK', '2 BHK', '2 BHK', '4 Bedroom', '1 Bedroom', '3 Bedroom', '5 Bedroom', '2 BHK', '3 BHK', '2 BHK', '3 BHK', '3 BHK', '3 BHK', '6 Bedroom', '4 BHK', '2 BHK', '2 BHK', '3 BHK', '4 Bedroom', '6 Bedroom', '2 BHK', '3 BHK', '2 BHK', '2 BHK', '3 BHK', '2 BHK', '2 Bedroom', '3 BHK', '3 BHK', '3 BHK', '2 BHK', '3 BHK', '3 BHK', '4 BHK', '2 BHK', '4 Bedroom', '2 BHK', '4 Bedroom', '2 BHK', '2 BHK', '2 BHK', '3 Bedroom', '2 BHK', '3 BHK', '7 BHK', '3 Bedroom', '3 BHK', '3 BHK', '2 BHK', '3 BHK', '4 Bedroom', '3 BHK', '2 BHK', '1 Bedroom', '2 BHK', '1 Bedroom', '3 BHK', '4 BHK', '2 BHK', '3 BHK', '2 BHK', '3 BHK', '3 BHK', '2 Bedroom', '3 BHK', '2 BHK', '4 BHK', '2 BHK', '3 BHK', '2 BHK', '4 Bedroom', '2 BHK', '2 BHK', '4 Bedroom', '3 BHK', '3 BHK', '4 BHK', '4 Bedroom', '3 BHK', '1 BHK', '2 BHK', '3 BHK', '6 Bedroom', '3 BHK', '2 BHK', '2 BHK', '5 Bedroom', '2 BHK', '3 BHK', '3 BHK', '3 BHK', '3 BHK', '2 BHK', '3 BHK', '4 Bedroom', '3 Bedroom', '2 BHK', '2 Bedroom', '3 BHK', '3 Bedroom', '2 BHK', '2 BHK', '2 BHK', '2 BHK', '3 BHK', '3 BHK', '3 BHK', '3 BHK', '6 Bedroom', '3 BHK', '3 BHK', '2 BHK', '2 BHK', '2 BHK', '3 BHK', '2 BHK', '2 BHK', '3 Bedroom', '1 BHK', '3 BHK', '3 BHK', '2 BHK', '2 BHK', '3 BHK', '2 BHK', '3 BHK', '2 BHK', '2 BHK', '4 Bedroom', '3 BHK', '3 BHK', '2 BHK', '1 BHK', '2 BHK', '2 BHK', '2 BHK', '2 BHK', '6 BHK', '3 BHK', '3 BHK', '2 BHK', '3 BHK', '2 BHK', '3 BHK', '3 BHK', '1 BHK', '4 Bedroom', '4 BHK', '2 BHK', '6 Bedroom', '2 BHK', '2 BHK', '2 BHK', '2 BHK', '2 BHK', '4 BHK', '3 BHK', '4 BHK', '4 Bedroom', '2 BHK', '2 Bedroom', '2 BHK', '2 BHK', '2 BHK', '3 BHK', '2 BHK', '2 BHK', '2 BHK', '2 BHK', '3 Bedroom', '2 BHK', '3 BHK', '3 BHK', '2 BHK', '3 BHK', '8 Bedroom', '9 Bedroom', '2 BHK', '2 BHK', '3 BHK', '5 Bedroom', '3 BHK', '2 BHK', '2 BHK', '4 Bedroom', '3 BHK', '2 BHK', '2 BHK', '4 Bedroom', '3 BHK', '2 BHK', '2 BHK', '2 BHK', '2 BHK', '2 BHK', '2 BHK', '1 BHK', '1 BHK', '3 BHK', '3 BHK', '2 BHK', '2 BHK', '4 BHK', '3 BHK', '1 BHK', '2 Bedroom', '2 BHK', '1 BHK', '2 BHK', '3 BHK', '4 BHK', '2 BHK', '2 BHK', '4 Bedroom', '3 Bedroom', '1 BHK', '3 BHK', '4 Bedroom', '3 BHK', '4 Bedroom', '2 BHK', '2 Bedroom', '2 BHK', '3 Bedroom', '3 Bedroom', '2 BHK', '3 BHK', '2 BHK', '3 BHK', '3 BHK', '2 BHK', '3 BHK', '5 BHK', '3 BHK', '3 BHK', '2 BHK', '3 BHK', '5 BHK', '2 BHK', '4 BHK', '2 BHK', '2 BHK', '2 BHK', '4 Bedroom', '2 BHK', '1 BHK', '2 BHK', '3 BHK', '3 BHK', '3 BHK', '2 BHK', '6 Bedroom', '2 BHK', '2 BHK', '3 BHK', '2 BHK', '1 Bedroom', '2 BHK', '2 BHK', '4 Bedroom', '3 BHK', '2 Bedroom', '3 BHK', '2 BHK', '3 BHK', '3 BHK', '3 BHK', '2 BHK', '3 BHK', '3 BHK', '4 Bedroom', '2 BHK', '5 BHK', '2 BHK', '2 BHK', '2 BHK', '2 BHK', '3 BHK', '2 BHK', '2 BHK', '3 BHK', '2 BHK', '5 Bedroom', '3 BHK', '2 Bedroom', '2 BHK', '2 BHK', '2 BHK', '3 BHK', '3 Bedroom', '2 BHK', '4 Bedroom', '4 Bedroom', '2 BHK', '2 BHK', '2 BHK', '3 BHK', '2 BHK', '2 BHK', '2 BHK', '2 BHK', '3 BHK', '3 BHK', '2 BHK', '2 BHK', '4 Bedroom', '2 BHK', '5 Bedroom', '3 BHK', '1 BHK', '1 BHK', '4 BHK', '2 BHK', '4 BHK', '2 BHK', '4 BHK', '2 Bedroom', '2 BHK', '2 BHK', '3 BHK', '2 BHK', '3 BHK', '2 BHK', '4 BHK', '3 BHK', '3 BHK', '2 BHK', '2 BHK', '2 BHK', '2 BHK', '4 BHK', '2 BHK', '2 BHK', '2 BHK', '2 BHK', '3 BHK', '4 BHK', '3 BHK', '4 BHK', '3 BHK', '4 BHK', '3 BHK', '1 BHK', '2 BHK', '10 Bedroom', '1 Bedroom', '6 Bedroom', '2 BHK', '2 BHK', '2 BHK', '9 Bedroom', '3 BHK', '3 Bedroom', '2 BHK', '4 BHK', '4 BHK', '4 Bedroom', '4 Bedroom', '2 BHK', '2 BHK', '3 BHK', '3 BHK', '2 BHK', '3 BHK', '4 BHK', '2 BHK', '3 BHK', '1 BHK', '4 Bedroom', '1 Bedroom', '2 BHK', '3 Bedroom', '2 BHK', '7 Bedroom', '3 BHK', '2 BHK', '2 BHK', '1 BHK', '4 BHK', '5 Bedroom', '2 BHK', '4 Bedroom', '3 BHK', '3 BHK', '5 Bedroom', '2 BHK', '3 BHK', '4 BHK', '3 BHK', '2 BHK', '3 BHK', '4 Bedroom', '2 BHK', '1 BHK', '3 BHK', '4 Bedroom', '3 BHK', '3 BHK', '3 BHK', '3 BHK', '3 Bedroom', '3 BHK', '3 BHK', '5 Bedroom', '2 BHK', '2 BHK', '2 BHK', '4 BHK', '1 BHK', '3 BHK', '5 Bedroom', '2 BHK', '3 BHK', '3 BHK', '3 BHK', '2 BHK', '3 BHK', '2 BHK', '3 BHK', '2 BHK', '3 BHK', '2 BHK', '2 BHK', '2 BHK', '2 BHK', '3 BHK', '3 BHK', '3 BHK', '2 BHK', '2 BHK', '1 Bedroom', '4 BHK', '1 BHK', '2 BHK', '4 BHK', '3 BHK', '1 BHK', '2 BHK', '2 BHK', '2 BHK', '2 BHK', '2 BHK', '3 BHK', '2 BHK', '3 Bedroom', '4 BHK', '2 BHK', '3 BHK', '4 Bedroom', '4 Bedroom', '2 BHK', '1 BHK', '2 BHK', '2 BHK', '5 Bedroom', '3 BHK', '3 BHK', '2 BHK', '3 BHK', '2 BHK', '3 BHK', '2 BHK', '1 BHK', '2 BHK', '4 Bedroom', '3 BHK', '6 Bedroom', '2 BHK', '2 BHK', '6 Bedroom', '2 BHK', '3 BHK', '3 BHK', '6 Bedroom', '3 Bedroom', '1 BHK', '4 Bedroom', '3 BHK', '3 Bedroom', '5 Bedroom', '1 Bedroom', '2 BHK', '4 BHK', '2 BHK', '2 BHK', '6 Bedroom', '2 BHK', '2 BHK', '3 BHK', '3 BHK', '2 BHK', '3 BHK', '4 BHK', '2 BHK', '2 BHK', '3 BHK', '2 BHK', '2 BHK', '2 BHK', '3 BHK', '3 Bedroom', '5 BHK', '2 BHK', '2 BHK', '2 BHK', '2 BHK', '3 BHK', '2 BHK', '2 BHK', '3 BHK', '2 BHK', '2 BHK', '3 BHK', '2 BHK', '1 BHK', '2 Bedroom', '3 Bedroom', '3 BHK', '2 Bedroom', '5 Bedroom', '3 BHK', '3 Bedroom', '3 Bedroom', '2 BHK', '1 Bedroom', '2 BHK', '2 Bedroom', '2 BHK', '3 Bedroom', '3 BHK', '3 BHK', '3 BHK', '4 BHK', '2 BHK', '3 Bedroom', '3 BHK', '5 Bedroom', '3 BHK', '3 BHK', '2 BHK', '2 BHK', '3 BHK', '3 BHK', '2 BHK', '3 BHK', '3 BHK', '3 BHK', '2 BHK', '3 BHK', '2 BHK', '2 BHK', '7 Bedroom', '3 BHK', '3 BHK', '2 BHK', '2 Bedroom', '4 Bedroom', '2 BHK', '4 Bedroom', '4 Bedroom', '4 Bedroom', '3 BHK', '3 BHK', '3 BHK', '2 BHK', '3 BHK', '2 BHK', '1 BHK', '3 BHK', '1 BHK', '4 Bedroom', '3 BHK', '3 BHK', '2 BHK', '3 BHK', '3 BHK', '2 BHK', '3 BHK', '3 BHK', '4 Bedroom', '2 BHK', '3 BHK', '2 BHK', '3 BHK', '2 BHK', '2 BHK', '2 BHK', '2 BHK', '2 BHK', '3 BHK', '2 BHK', '4 BHK', '4 BHK', '2 BHK', '2 BHK', '2 BHK', '2 BHK', '3 Bedroom', '2 BHK', '3 BHK', '4 BHK', '3 BHK', '10 Bedroom', '2 BHK', '4 Bedroom', '3 BHK', '2 BHK', '3 Bedroom', '3 BHK', '2 BHK', '2 BHK', '2 BHK', '2 BHK', '3 BHK', '1 BHK', '2 BHK', '2 BHK', '3 BHK', '2 BHK', '3 BHK', '1 BHK', '3 BHK', '2 Bedroom', '3 BHK', '2 BHK', '2 BHK', '3 BHK', '2 BHK', '2 BHK', '4 BHK', '3 BHK', '3 Bedroom', '3 BHK', '4 BHK', '3 Bedroom', '3 Bedroom', '7 Bedroom', '5 Bedroom', '4 Bedroom', '3 BHK', '4 Bedroom', '2 BHK', '2 BHK', '3 BHK', '2 BHK', '2 Bedroom', '3 BHK', '4 BHK', '2 BHK', '4 BHK', '4 BHK', '3 BHK', '2 BHK', '3 BHK', '3 Bedroom', '3 BHK', '3 BHK', '4 BHK', '3 BHK', '2 BHK', '2 BHK', '4 Bedroom', '3 Bedroom', '5 Bedroom', '4 Bedroom', '3 BHK', '3 BHK', '3 BHK', '4 Bedroom', '3 BHK', '3 BHK', '3 Bedroom', '3 BHK', '3 BHK', '3 BHK', '2 BHK', '2 BHK', '3 BHK', '1 Bedroom', '2 BHK', '2 BHK', '3 BHK', '3 BHK', '3 BHK', '4 Bedroom', '3 BHK', '1 BHK', '2 BHK', '2 BHK', '2 BHK', '2 BHK', '2 BHK', '4 BHK', '6 Bedroom', '2 BHK', '6 Bedroom', '4 Bedroom', '3 BHK', '2 BHK', '3 BHK', '3 BHK', '3 BHK', '5 Bedroom', '3 BHK', '5 BHK', '2 BHK', '2 BHK', '4 BHK', '3 BHK', '2 BHK', '3 BHK', '2 BHK', '5 Bedroom', '3 BHK', '2 BHK', '3 BHK', '4 Bedroom', '2 BHK', '3 BHK', '4 BHK', '5 Bedroom', '4 BHK', '5 Bedroom', '2 BHK', '2 Bedroom', '4 Bedroom', '2 BHK', '2 BHK', '2 BHK', '1 BHK', '3 BHK', '2 BHK', '2 BHK', '4 Bedroom', '4 Bedroom', '4 BHK', '3 BHK', '5 BHK', '4 Bedroom', '2 BHK', '4 Bedroom', '2 BHK', '6 Bedroom', '3 BHK', '2 BHK', '3 BHK', '2 BHK', '2 BHK', '3 BHK', '3 BHK', '2 Bedroom', '1 BHK', '3 BHK', '3 BHK', '3 BHK', '2 BHK', '3 BHK', '2 BHK', '4 BHK', '3 BHK', '2 BHK', '2 BHK', '5 Bedroom', '3 BHK', '3 BHK', '3 BHK', '3 Bedroom', '2 BHK', '13 BHK', '3 BHK', '2 BHK', '4 Bedroom', '3 BHK', '2 BHK', '2 BHK', '4 Bedroom', '3 BHK', '2 Bedroom', '2 BHK', '4 BHK', '1 BHK', '2 BHK', '1 BHK', '2 BHK', '2 BHK', '4 Bedroom', '2 BHK', '5 Bedroom', '1 BHK', '2 BHK', '3 Bedroom', '3 BHK', '4 Bedroom', '2 BHK', '3 BHK', '2 BHK', '2 BHK', '2 BHK', '2 BHK', '2 BHK', '2 BHK', '2 BHK', '2 BHK', '3 BHK', '2 BHK', '3 BHK', '6 Bedroom', '3 Bedroom', '4 BHK', '3 BHK', '2 BHK', '2 Bedroom', '2 BHK', '3 BHK', '3 BHK', '2 Bedroom', '3 BHK', '2 BHK', '3 BHK', '4 BHK', '2 BHK', '3 BHK', '2 BHK', '6 Bedroom', '6 Bedroom', '3 Bedroom', '3 BHK', '3 BHK', '3 BHK', '2 BHK', '3 Bedroom', '3 Bedroom', '5 Bedroom', '2 BHK', '2 BHK', '4 Bedroom', '3 BHK', '3 BHK', '6 Bedroom', '2 BHK', '3 BHK', '8 Bedroom', '3 BHK', '3 BHK', '2 BHK', '2 BHK', '3 BHK', '3 BHK', '4 BHK', '3 BHK', '4 BHK', '3 Bedroom', '5 Bedroom', '3 BHK', '3 BHK', '2 BHK', '3 BHK', '1 BHK', '3 BHK', '3 Bedroom', '2 BHK', '2 BHK', '3 BHK', '3 BHK', '3 BHK', '2 Bedroom', '2 BHK', '4 BHK', '2 BHK', '3 BHK', '7 Bedroom', '2 BHK', '2 BHK', '2 BHK', '3 BHK', '2 BHK', '1 Bedroom', '2 BHK', '2 BHK', '3 BHK', '2 BHK', '3 Bedroom', '5 Bedroom', '5 BHK', '1 Bedroom', '2 BHK', '3 BHK', '2 BHK', '3 BHK', '3 BHK', '2 BHK', '2 Bedroom', '2 BHK', '3 BHK', '2 BHK', '2 BHK', '2 BHK', '2 BHK', '2 BHK', '4 BHK', '4 Bedroom', '4 Bedroom', '2 BHK', '3 Bedroom', '3 BHK', '3 BHK', '2 BHK', '2 BHK', '1 Bedroom', '3 Bedroom', '4 Bedroom', '3 Bedroom', '3 BHK', '3 BHK', '2 BHK', '2 BHK', '3 BHK', '2 BHK', '4 Bedroom', '2 BHK', '2 BHK', '9 Bedroom', '3 Bedroom', '2 BHK', '3 BHK', '4 Bedroom', '2 BHK', '3 Bedroom', '2 BHK', '2 Bedroom', '2 BHK', '2 BHK', '3 BHK', '2 BHK', '6 Bedroom', '2 BHK', '2 BHK', '2 BHK', '1 BHK', '3 BHK', '1 BHK', '6 Bedroom', '5 BHK', '3 BHK', '5 Bedroom', '3 BHK', '2 BHK', '3 BHK', '2 BHK', '2 BHK', '4 Bedroom', '3 BHK', '4 BHK', '3 BHK', '2 BHK', '4 Bedroom', '3 BHK', '3 Bedroom', '2 BHK', '2 BHK', '4 Bedroom', '2 BHK', '2 BHK', '3 BHK', '2 BHK', '2 BHK', '3 Bedroom', '3 BHK', '2 BHK', '3 BHK', '1 Bedroom', '2 BHK', '2 BHK', '4 Bedroom', '3 BHK', '3 BHK', '2 BHK', '3 BHK', '2 BHK', '3 BHK', '3 Bedroom', '3 BHK', '2 BHK', '3 BHK', '4 Bedroom', '3 BHK', '2 BHK', '3 BHK', '4 Bedroom', '4 BHK', '2 BHK', '4 BHK', '3 BHK', '3 BHK', '3 BHK', '2 BHK', '3 BHK', '3 BHK', '3 BHK', '3 BHK', '2 BHK', '2 BHK', '3 BHK', '2 BHK', '2 BHK', '2 BHK', '3 BHK', '3 BHK', '1 BHK', '2 BHK', '3 BHK', '5 BHK', '3 BHK', '6 Bedroom', '2 Bedroom', '3 BHK', '2 BHK', '3 BHK', '3 BHK', '3 Bedroom', '2 BHK', '3 BHK', '2 Bedroom', '3 BHK', '1 BHK', '2 BHK', '3 BHK', '3 BHK', '4 Bedroom', '2 BHK', '5 Bedroom', '5 Bedroom', '3 BHK', '2 BHK', '2 BHK', '5 BHK', '3 BHK', '5 Bedroom', '3 BHK', '2 BHK', '2 BHK', '3 BHK', '3 BHK', '3 BHK', '2 BHK', '3 BHK', '3 Bedroom', '2 BHK', '3 BHK', '2 BHK', '3 BHK', '2 BHK', '2 BHK', '2 BHK', '1 Bedroom', '2 BHK', '5 Bedroom', '2 BHK', '2 BHK', '4 Bedroom', '2 BHK', '2 BHK', '3 BHK', '2 Bedroom', '2 BHK', '2 BHK', '4 BHK', '2 BHK', '2 BHK', '2 BHK', '3 Bedroom', '2 BHK', '9 Bedroom', '1 Bedroom', '2 BHK', '3 BHK', '2 BHK', '3 BHK', '2 Bedroom', '2 BHK', '1 BHK', '2 BHK', '4 Bedroom', '3 BHK', '6 Bedroom', '3 BHK', '3 BHK', '2 Bedroom', '3 BHK', '2 BHK', '2 BHK', '2 BHK', '3 BHK', '2 BHK', '1 BHK', '2 Bedroom', '2 BHK', '2 BHK', '2 BHK', '3 BHK', '2 BHK', '3 BHK', '4 BHK', '3 BHK', '3 BHK', '3 BHK', '2 BHK', '3 BHK', '3 BHK', '3 BHK', '3 BHK', '3 BHK', '2 BHK', '6 Bedroom', '3 BHK', '2 BHK', '3 BHK', '2 BHK', '2 BHK', '2 BHK', '2 BHK', '2 BHK', '2 BHK', '2 BHK', '2 BHK', '4 BHK', '2 BHK', '2 BHK', '3 Bedroom', '2 BHK', '3 BHK', '3 BHK', '2 BHK', '3 BHK', '2 BHK', '3 BHK', '2 BHK', '4 Bedroom', '4 Bedroom', '1 BHK', '8 Bedroom', '3 BHK', '4 Bedroom', '3 Bedroom', '3 BHK', '3 BHK', '5 Bedroom', '2 BHK', '2 BHK', '4 BHK', '3 BHK', '3 BHK', '1 BHK', '4 Bedroom', '2 BHK', '3 BHK', '3 BHK', '5 Bedroom', '2 BHK', '2 BHK', '4 Bedroom', '3 Bedroom', '3 BHK', '3 BHK', '2 BHK', '3 BHK', '3 BHK', '2 BHK', '2 BHK', '3 BHK', '3 BHK', '3 Bedroom', '2 BHK', '2 BHK', '2 BHK', '1 BHK', '2 BHK', '2 BHK', '2 BHK', '2 BHK', '4 Bedroom', '3 BHK', '2 BHK', '3 BHK', '1 BHK', '2 BHK', '2 BHK', '2 BHK', '3 BHK', '3 BHK', '2 BHK', '2 BHK', '2 BHK', '6 Bedroom', '4 Bedroom', '3 BHK', '2 BHK', '3 BHK', '3 BHK', '8 Bedroom', '5 Bedroom', '2 BHK', '2 BHK', '3 BHK', '2 BHK', '3 BHK', '5 Bedroom', '2 BHK', '2 BHK', '4 Bedroom', '3 BHK', '3 BHK', '2 BHK', '3 BHK', '3 BHK', '3 BHK', '3 BHK', '3 BHK', '3 BHK', '5 BHK', '2 BHK', '2 BHK', '3 BHK', '2 BHK', '2 BHK', '3 BHK', '2 BHK', '2 BHK', '3 BHK', '3 BHK', '2 BHK', '2 BHK', '4 BHK', '3 BHK', '2 BHK', '2 BHK', '3 BHK', '3 BHK', '5 BHK', '3 BHK', '4 Bedroom', '3 Bedroom', '3 BHK', '5 Bedroom', '2 BHK', '2 BHK', '3 BHK', '2 BHK', '2 BHK', '3 Bedroom', '3 BHK', '2 BHK', '3 BHK', '2 BHK', '2 Bedroom', '4 Bedroom', '2 BHK', '2 BHK', '3 BHK', '3 BHK', '2 BHK', '2 BHK', '4 Bedroom', '2 BHK', '3 BHK', '2 BHK', '2 Bedroom', '3 BHK', '3 BHK', '2 BHK', '2 BHK', '2 BHK', '2 BHK', '3 BHK', '4 BHK', '2 BHK', '3 BHK', '2 BHK', '2 BHK', '2 BHK', '2 BHK', '2 BHK', '2 BHK', '2 BHK', '3 BHK', '2 BHK', '2 BHK', '2 BHK', '3 BHK', '2 BHK', '2 BHK', '2 BHK', '2 BHK', '3 BHK', '3 Bedroom', '3 BHK', '1 BHK', '3 BHK', '2 BHK', '1 BHK', '4 BHK', '4 Bedroom', '2 BHK', '2 BHK', '2 BHK', '2 BHK', '3 BHK', '2 BHK', '9 Bedroom', '3 Bedroom', '5 Bedroom', '2 Bedroom', '2 BHK', '3 BHK', '2 BHK', '2 BHK', '5 Bedroom', '3 BHK', '5 BHK', '3 BHK', '2 BHK', '2 Bedroom', '3 Bedroom', '3 BHK', '2 BHK', '3 BHK', '2 BHK', '3 BHK', '2 BHK', '3 BHK', '2 BHK', '2 BHK', '4 Bedroom', '2 Bedroom', '4 Bedroom', '3 Bedroom', '2 BHK', '1 BHK', '3 BHK', '2 BHK', '3 BHK', '2 BHK', '2 BHK', '4 BHK', '2 BHK', '2 Bedroom', '3 BHK', '3 BHK', '4 Bedroom', '2 BHK', '2 BHK', '3 BHK', '2 BHK', '3 BHK', '3 BHK', '4 BHK', '3 BHK', '3 Bedroom', '3 BHK', '1 BHK', '1 BHK', '2 BHK', '2 BHK', '2 Bedroom', '2 BHK', '3 BHK', '3 BHK', '3 BHK', '4 Bedroom', '6 BHK', '2 BHK', '2 BHK', '2 BHK', '3 Bedroom', '1 BHK', '4 Bedroom', '4 Bedroom', '4 Bedroom', '3 BHK', '2 BHK', '2 BHK', '4 Bedroom', '2 Bedroom', '1 BHK', '3 BHK', '2 Bedroom', '4 Bedroom', '4 BHK', '2 BHK', '2 BHK', '3 BHK', '3 BHK', '1 BHK', '5 Bedroom', '3 BHK', '2 BHK', '2 BHK', '4 BHK', '2 BHK', '5 Bedroom', '3 BHK', '3 BHK', '2 BHK', '4 Bedroom', '2 BHK', '2 BHK', '3 BHK', '2 BHK', '2 BHK', '1 RK', '2 BHK', '2 BHK', '4 BHK', '4 Bedroom', '2 BHK', '2 BHK', '3 BHK', '3 BHK', '2 BHK', '2 BHK', '2 BHK', '2 BHK', '4 BHK', '7 Bedroom', '3 BHK', '7 BHK', '4 Bedroom', '4 Bedroom', '2 BHK', '4 BHK', '2 BHK', '8 Bedroom', '2 BHK', '3 BHK', '3 BHK', '3 BHK', '2 BHK', '1 BHK', '3 BHK', '2 BHK', '2 BHK', '1 BHK', '3 BHK', '2 Bedroom', '1 BHK', '2 BHK', '2 BHK', '2 BHK', '2 BHK', '2 BHK', '5 BHK', '2 BHK', '2 BHK', '4 BHK', '2 BHK', '3 BHK', '2 BHK', '4 Bedroom', '2 Bedroom', '2 Bedroom', '3 BHK', '3 BHK', '2 BHK', '2 BHK', '4 BHK', '2 BHK', '3 BHK', '2BHK', '2 BHK', '3 BHK', '2 BHK', '2 BHK', '4 BHK', '2 BHK', '5 Bedroom', '4 Bedroom', '2 BHK', '2 BHK', '1 Bedroom', '2 BHK', '4 Bedroom', '1 BHK', '9 Bedroom', '3 BHK', '1 Bedroom', '2 BHK', '2 BHK', '2 BHK', '2 BHK', '2 BHK', '3 BHK', '3 BHK', '2 BHK', '1 Bedroom', '4 Bedroom', '3 BHK', '2 BHK', '2 BHK', '3 BHK', '3 BHK', '3 BHK', '2 BHK', '1 BHK', '3 BHK', '3 BHK', '2 BHK', '2 BHK', '4 Bedroom', '2 BHK', '2 BHK', '2 BHK', '2 BHK', '3 BHK', '3 BHK', '3 BHK', '1 BHK', '2 BHK', '4 Bedroom', '2 BHK', '4 Bedroom', '3 BHK', '2 BHK', '1 BHK', '3 BHK', '5 Bedroom', '2 BHK', '2 BHK', '2 Bedroom', '9 Bedroom', '2 BHK', '4 BHK', '6 Bedroom', '3 BHK', '2 BHK', '2 BHK', '2 BHK', '1 BHK', '1 BHK', '2 Bedroom', '1 BHK', '3 Bedroom', '2 BHK', '2 BHK', '3 BHK', '2 BHK', '3 BHK', '6 BHK', '3 BHK', '3 BHK', '2 BHK', '4 Bedroom', '4 Bedroom', '3 BHK', '3 BHK', '2 BHK', '2 BHK', '3 BHK', '3 BHK', '3 BHK', '3 BHK', '2 BHK', '3 BHK', '1 BHK', '3 BHK', '4 BHK', '3 BHK', '3 BHK', '2 BHK', '2 BHK', '3 BHK', '4 Bedroom', '2 BHK', '2 BHK', '2 BHK', '3 BHK', '2 BHK', '4 Bedroom', '1 BHK', '2 BHK', '2 BHK', '3 BHK', '2 BHK', '5 Bedroom', '2 BHK', '2 BHK', '1 BHK', '2 BHK', '5 Bedroom', '2 BHK', '4 BHK', '3 BHK', '8 Bedroom', '4 BHK', '4 Bedroom', '2 BHK', '3 BHK', '5 Bedroom', '2 BHK', '4 Bedroom', '3 BHK', '2 BHK', '2 BHK', '3 BHK', '5 Bedroom', '2 BHK', '2 BHK', '3 BHK', '4 Bedroom', '1 BHK', '2 BHK', '3 BHK', '3 BHK', '2 BHK', '1 BHK', '1 BHK', '3 BHK', '3 Bedroom', '2 BHK', '2 BHK', '7 Bedroom', '2 BHK', '2 Bedroom', '2 BHK', '2 BHK', '5 Bedroom', '3 Bedroom', '2 BHK', '3 BHK', '2 BHK', '2 BHK', '2 BHK', '2 BHK', '4 Bedroom', '3 BHK', '2 BHK', '2 Bedroom', '2 BHK', '3 BHK', '3 BHK', '2 BHK', '2 BHK', '2 BHK', '4 Bedroom', '5 Bedroom', '2 BHK', '3 BHK', '3 BHK', '2 BHK', '3 BHK', '2 BHK', '2 BHK', '3 BHK', '3 BHK', '3 BHK', '2 BHK', '4 BHK', '2 BHK', '2 BHK', '2 BHK', '3 BHK', '2 BHK', '3 BHK', '4 BHK', '2 BHK', '3 BHK', '2 BHK', '4 Bedroom', '3 BHK', '4 Bedroom', '3 BHK', '2 BHK', '1 BHK', '3 BHK', '3 BHK', '3 BHK', '2 BHK', '2 BHK', '2 Bedroom', '3 BHK', '6 Bedroom', '3 BHK', '3 BHK', '2 BHK', '2 BHK', '2 BHK', '8 Bedroom', '3 Bedroom', '3 BHK', '2 BHK', '3 BHK', '3 BHK', '3 BHK', '3 BHK', '3 BHK', '2 BHK', '2 BHK', '3 BHK', '3 BHK', '3 BHK', '2 BHK', '2 BHK', '2 BHK', '2 BHK', '2 BHK', '3 BHK', '2 BHK', '3 BHK', '1 BHK', '3 BHK', '2 BHK', '2 BHK', '3 BHK', '2 BHK', '2 BHK', '4 Bedroom', '2 BHK', '3 BHK', '2 Bedroom', '3 Bedroom', '5 Bedroom', '4 BHK', '2 BHK', '2 BHK', '2 BHK', '2 BHK', '1 BHK', '3 BHK', '3 BHK', '1 BHK', '3 BHK', '3 BHK', '2 BHK', '3 BHK', '3 BHK', '2 BHK', '2 BHK', '2 BHK', '3 BHK', '3 BHK', '3 BHK', '2 BHK', '4 BHK', '2 BHK', '5 BHK', '2 BHK', '3 BHK', '3 BHK', '3 BHK', '2 BHK', '3 BHK', '3 BHK', '3 BHK', '4 Bedroom', '2 BHK', '3 BHK', '3 BHK', '1 BHK', '3 BHK', '2 BHK', '4 BHK', '2 BHK', '4 BHK', '3 BHK', '3 BHK', '2 BHK', '1 BHK', '5 Bedroom', '3 Bedroom', '3 BHK', '2 BHK', '2 Bedroom', '3 BHK', '2 BHK', '3 BHK', '1 BHK', '2 BHK', '3 BHK', '3 BHK', '2 BHK', '3 BHK', '3 BHK', '2 BHK', '3 BHK', '2 BHK', '2 BHK', '2 BHK', '2 BHK', '3 BHK', '1 Bedroom', '4 BHK', '2 BHK', '2 BHK', '2 BHK', '3 BHK', '2 BHK', '2 BHK', '2 BHK', '4 BHK', '3 BHK', '3 BHK', '3 BHK', '2 BHK', '3 BHK', '2 BHK', '3 BHK', '4 BHK', '2 BHK', '3 BHK', '2 Bedroom', '2 BHK', '2 BHK', '2 BHK', '3 BHK', '3 BHK', '5 Bedroom', '2 BHK', '4 BHK', '3 BHK', '2 BHK', '3 BHK', '3 BHK', '3 BHK', '3 BHK', '2 BHK', '3 BHK', '3 BHK', '2 BHK', '1 BHK', '2 BHK', '4 Bedroom', '2 Bedroom', '2 BHK', '5 Bedroom', '3 BHK', '4 Bedroom', '4 Bedroom', '3 BHK', '3 BHK', '2 BHK', '4 Bedroom', '3 BHK', '2 BHK', '4 Bedroom', '3 BHK', '2 BHK', '2 BHK', '7 BHK', '4 BHK', '4 Bedroom', '4 Bedroom', '2 BHK', '2 Bedroom', '2BHK', '2 BHK', '3 BHK', '3 BHK', '3 BHK', '2 BHK', '2 BHK', '2 BHK', '3 BHK', '2 BHK', '2 BHK', '5 BHK', '4 Bedroom', '4 BHK', '3 BHK', '3 Bedroom', '4 BHK', '3 BHK', '2 BHK', '2 BHK', '2 BHK', '2 BHK', '2 BHK', '3 BHK', '7 BHK', '4 Bedroom', '3 BHK', '3 BHK', '3 BHK', '3 Bedroom', '2 BHK', '4 BHK', '3 BHK', '3 BHK', '3 BHK', '3 BHK', '6 Bedroom', '3 BHK', '3 BHK', '2 BHK', '4 BHK', '3 Bedroom', '2 BHK', '2 BHK', '2 BHK', '2 BHK', '3 BHK', '3 BHK', '2 BHK', '2 BHK', '3 BHK', '8 Bedroom', '4 Bedroom', '2 BHK', '2 BHK', '2 BHK', '8 Bedroom', '3 BHK', '2 BHK', '8 Bedroom', '3 BHK', '4 BHK', '3 BHK', '4 BHK', '2 BHK', '3 BHK', '2 BHK', '2 Bedroom', '2 BHK', '2 BHK', '3 BHK', '3 BHK', '1 BHK', '3 BHK', '3 BHK', '6 BHK', '2 BHK', '3 Bedroom', '4 BHK', '3 BHK', '2 BHK', '4 BHK', '3 BHK', '6 Bedroom', '2 BHK', '2 BHK', '3 BHK', '3 BHK', '3 BHK', '3 BHK', '2 BHK', '3 BHK', '3 BHK', '3 BHK', '2 BHK', '2 BHK', '2 BHK', '2 BHK', '1 BHK', '3 BHK', '2 BHK', '3 BHK', '1 BHK', '3 Bedroom', '3 BHK', '2 BHK', '2 BHK', '3 BHK', '2 BHK', '10 Bedroom', '4 Bedroom', '2 BHK', '3 BHK', '2 BHK', '2 BHK', '2 BHK', '3 BHK', '2 BHK', '3 BHK', '3 BHK', '5 Bedroom', '2 BHK', '2 BHK', '10 Bedroom', '3 BHK', '3 BHK', '3 Bedroom', '2 BHK', '4 BHK', '2 BHK', '3 BHK', '3 BHK', '2 BHK', '3 BHK', '2 BHK', '2 BHK', '2 BHK', '2 BHK', '2 BHK', '2 BHK', '2 BHK', '6 BHK', '2 BHK', '3 BHK', '5 Bedroom', '2 BHK', '1 BHK', '3 Bedroom', '2 BHK', '2 BHK', '2 BHK', '2 BHK', '3 Bedroom', '4 Bedroom', '2 BHK', '2 BHK', '3 BHK', '3 BHK', '3 BHK', '3 BHK', '6 Bedroom', '2 BHK', '3 BHK', '2 BHK', '2 BHK', '3 Bedroom', '3 BHK', '3 Bedroom', '4 Bedroom', '3 BHK', '2 BHK', '8 Bedroom', '1 BHK', '4 Bedroom', '3 BHK', '4 Bedroom', '2 BHK', '6 Bedroom', '2 BHK', '4 BHK', '3 BHK', '3 BHK', '2 BHK', '1 BHK', '2 BHK', '2 BHK', '2 BHK', '4 Bedroom', '2 BHK', '3 BHK', '3 BHK', '2 BHK', '3 BHK', '3 BHK', '2 BHK', '4 Bedroom', '2 BHK', '2 BHK', '3 BHK', '4 BHK', '3 BHK', '3 Bedroom', '3 BHK', '2 BHK', '2 BHK', '2 BHK', '2 BHK', '4 Bedroom', '3 BHK', '4 Bedroom', '3 BHK', '2 BHK', '4 BHK', '4 BHK', '2 BHK', '4 Bedroom', '2 BHK', '2 BHK', '3 BHK', '3 BHK', '2 BHK', '4 Bedroom', '3 BHK', '2 BHK', '3 BHK', '6 Bedroom', '4 Bedroom', '3 BHK', '3 BHK', '3 BHK', '3 BHK', '3 Bedroom', '3 BHK', '3 BHK', '2 BHK', '5 Bedroom', '2 BHK', '3 BHK', '1 BHK', '6 Bedroom', '2 BHK', '2 Bedroom', '2 BHK', '3 BHK', '2 BHK', '2 BHK', '3 BHK', '3 BHK', '3 BHK', '2 BHK', '3 BHK', '3 BHK', '2 BHK', '2 BHK', '2 BHK', '2 BHK', '3 BHK', '3 BHK', '4 Bedroom', '3 BHK', '3 BHK', '3 BHK', '2 BHK', '3 BHK', '5 Bedroom', '3 BHK', '3 BHK', '2 BHK', '2 BHK', '2 BHK', '3 BHK', '4 Bedroom', '2 BHK', '4 BHK', '2 BHK', '2 BHK', '3 BHK', '3 BHK', '4 BHK', '3 Bedroom', '3 BHK', '2 Bedroom', '3 Bedroom', '2 BHK', '6 Bedroom', '2 BHK', '4 BHK', '2 BHK', '2 BHK', '3 BHK', '4 BHK', '6 BHK', '2 BHK', '2 BHK', '2 Bedroom', '4 BHK', '2 BHK', '2 BHK', '2 BHK', '1 BHK', '3 BHK', '1 Bedroom', '3 BHK', '3 BHK', '3 Bedroom', '9 Bedroom', '2 BHK', '3 BHK', '10 Bedroom', '4 BHK', '3 BHK', '2 BHK', '2 Bedroom', '1 BHK', '5 Bedroom', '3 BHK', '2 BHK', '3 BHK', '2 BHK', '8 Bedroom', '2 BHK', '2 BHK', '2 Bedroom', '2 BHK', '5 Bedroom', '2 BHK', '2 BHK', '3 BHK', '3 BHK', '4 Bedroom', '3 BHK', '8 Bedroom', '2 BHK', '3 BHK', '2 BHK', '2 BHK', '7 Bedroom', '3 BHK', '2 BHK', '4 BHK', '2 BHK', '3 BHK', '2 Bedroom', '3 BHK', '4 BHK', '5 Bedroom', '3 BHK', '4 Bedroom', '2 BHK', '2 BHK', '2 BHK', '3 BHK', '4 Bedroom', '2 BHK', '2 BHK', '3 Bedroom', '2 BHK', '2 BHK', '3 Bedroom', '8 BHK', '2 BHK', '5 Bedroom', '4 Bedroom', '2 BHK', '2 BHK', '3 BHK', '2 BHK', '2 BHK', '2 BHK', '3 BHK', '4 BHK', '2 BHK', '2 BHK', '3 BHK', '2 BHK', '2 BHK', '3 BHK', '6 BHK', '2 BHK', '3 BHK', '3 BHK', '6 Bedroom', '3 BHK', '4 BHK', '2 BHK', '2 BHK', '2 BHK', '2 BHK', '3 BHK', '4 BHK', '3 BHK', '3 BHK', '3 Bedroom', '4 Bedroom', '1 BHK', '3 BHK', '4 BHK', '2 BHK', '3 BHK', '3 BHK', '3 BHK', '4 Bedroom', '2 BHK', '3 BHK', '2 BHK', '2 BHK', '1 BHK', '3 BHK', '3 BHK', '3 BHK', '2 BHK', '4 Bedroom', '3 BHK', '3 BHK', '3 BHK', '2 Bedroom', '3 Bedroom', '3 BHK', '2 BHK', '2 BHK', '3 BHK', '3 Bedroom', '4 BHK', '2 BHK', '4 Bedroom', '3 BHK', '4 BHK', '3 BHK', '2 BHK', '3 BHK', '2 BHK', '2 BHK', '2 BHK', '3 BHK', '2 BHK', '3 Bedroom', '2 BHK', '4 BHK', '2 BHK', '2 BHK', '2 BHK', '3 BHK', '3 BHK', '2 BHK', '3 Bedroom', '2 BHK', '3 BHK', '5 Bedroom', '4 Bedroom', '2 BHK', '3 BHK', '3 BHK', '6 Bedroom', '4 BHK', '2 BHK', '4 Bedroom', '2 BHK', '2 BHK', '3 BHK', '3 BHK', '3 BHK', '4 BHK', '1 Bedroom', '4 Bedroom', '5 Bedroom', '3 BHK', '2 BHK', '3 BHK', '3 BHK', '2 BHK', '2 BHK', '4 Bedroom', '3 BHK', '2 BHK', '4 Bedroom', '2 BHK', '2 BHK', '1 BHK', '3 Bedroom', '1 BHK', '3 BHK', '3 Bedroom', '3 BHK', '4 BHK', '2 BHK', '3 Bedroom', '6 BHK', '4 Bedroom', '3 BHK', '3 BHK', '1 Bedroom', '3 BHK', '2 BHK', '2 BHK', '3 Bedroom', '2 BHK', '3 BHK', '3 BHK', '2 Bedroom', '6 Bedroom', '3 BHK', '3 BHK', '2 BHK', '3 BHK', '3 BHK', '3 BHK', '2 BHK', '2 BHK', '2 BHK', '2 BHK', '2 BHK', '2 BHK', '3 BHK', '3 Bedroom', '3 BHK', '3 BHK', '1 Bedroom', '3 BHK', '3 BHK', '3 BHK', '2 BHK', '3 BHK', '3 BHK', '2 BHK', '4 Bedroom', '3 BHK', '4 Bedroom', '2 BHK', '4 Bedroom', '4 Bedroom', '4 BHK', '3 BHK', '2 BHK', '2 BHK', '4 BHK', '3 BHK', '2 BHK', '3 BHK', '2 BHK', '4 Bedroom', '18 Bedroom', '2 BHK', '2 BHK', '3 BHK', '2 BHK', '2 Bedroom', '3 BHK', '2 BHK', '2 BHK', '2 BHK', '2BHK', '2 BHK', '3 BHK', '2 Bedroom', '2 BHK', '3 BHK', '2 BHK', '4 Bedroom', '6 Bedroom', '3 BHK', '3 BHK', '2 BHK', '2 BHK', '2 BHK', '2 BHK', '3 Bedroom', '2 BHK', '2 BHK', '2 BHK', '3 BHK', '2 BHK', '1 BHK', '3 BHK', '3 Bedroom', '2 BHK', '2 BHK', '3 BHK', '8 Bedroom', '2 BHK', '3 BHK', '2 BHK', '2 BHK', '2 BHK', '3 BHK', '3 Bedroom', '3 BHK', '3 BHK', '2 Bedroom', '4 Bedroom', '3 BHK', '2 BHK', '2 BHK', '3 BHK', '3 Bedroom', '6 Bedroom', '3 BHK', '3 Bedroom', '2 BHK', '1 BHK', '2 BHK', '3 BHK', '3 BHK', '2 BHK', '3 BHK', '3 Bedroom', '2 BHK', '2 BHK', '2 BHK', '2 BHK', '3 BHK', '2 BHK', '2 BHK', '2 BHK', '3 BHK', '3 BHK', '2 BHK', '3 BHK', '3 BHK', '3 BHK', '3 Bedroom', '2 BHK', '3 BHK', '3 BHK', '2 BHK', '2 BHK', '3 BHK', '6 Bedroom', '4 Bedroom', '3 BHK', '4 BHK', '2 BHK', '2 BHK', '5 BHK', '3 Bedroom', '4 Bedroom', '1 BHK', '3 BHK', '4 BHK', '2 BHK', '4 Bedroom', '3 BHK', '1 BHK', '3 Bedroom', '2 BHK', '3 BHK', '2 BHK', '3 BHK', '3 BHK', '4 Bedroom', '4 Bedroom', '2 BHK', '3 BHK', '3 BHK', '3 BHK', '1 BHK', '5 Bedroom', '4 Bedroom', '2 BHK', '2 BHK', '3 BHK', '2 BHK', '2 BHK', '3 BHK', '2 BHK', '2 BHK', '2 Bedroom', '4 Bedroom', '2 BHK', '3 BHK', '2 BHK', '2 BHK', '2 BHK', '2 BHK', '3 BHK', '2 BHK', '2 BHK', '2 BHK', '2 BHK', '1 BHK', '2 BHK', '2 BHK', '2 BHK', '4 BHK', '4 Bedroom', '3 BHK', '2 BHK', '3 BHK', '1 BHK', '2 BHK', '7 Bedroom', '1 BHK', '3 Bedroom', '2 BHK', '3 BHK', '3 BHK', '2 BHK', '3 BHK', '3 BHK', '2 BHK', '2 BHK', '2 BHK', '3 BHK', '3 BHK', '3 BHK', '3 BHK', '2 BHK', '2 BHK', '3 BHK', '2 BHK', '3 BHK', '3 BHK', '2 BHK', '2 BHK', '3 BHK', '4 BHK', '3 BHK', '3 BHK', '7 Bedroom', '2 BHK', '5 Bedroom', '3 BHK', '3 BHK', '2 BHK', '3 BHK', '2 BHK', '3 BHK', '4 Bedroom', '2 BHK', '3 BHK', '3 BHK', '3 BHK', '4 Bedroom', '1 Bedroom', '2 BHK', '3 BHK', '2 BHK', '2 BHK', '3 BHK', '3 BHK', '5 BHK', '4 Bedroom', '2 BHK', '2 BHK', '3 Bedroom', '5 Bedroom', '4 BHK', '2 BHK', '3 BHK', '2 BHK', '6 Bedroom', '3 BHK', '3 BHK', '2 BHK', '3 BHK', '2 BHK', '4 Bedroom', '1 BHK', '2 BHK', '2 Bedroom', '4 BHK', '3 BHK', '2 BHK', '2 BHK', '3 BHK', '5 Bedroom', '2 BHK', '3 BHK', '3 BHK', '2 BHK', '2 BHK', '3 BHK', '1 BHK', '1 BHK', '4 Bedroom', '2 BHK', '2 BHK', '3 BHK', '3 BHK', '3 BHK', '2 BHK', '3 BHK', '2 BHK', '3 BHK', '2 BHK', '3 BHK', '2 BHK', '3 BHK', '3 BHK', '2 BHK', '3 BHK', '4 Bedroom', '2 BHK', '3 BHK', '4 Bedroom', '3 BHK', '2 BHK', '2 BHK', '4 BHK', '2 BHK', '3 BHK', '3 BHK', '3 BHK', '2 BHK', '2 BHK', '3 BHK', '2 BHK', '2 BHK', '5 Bedroom', '3 BHK', '3 BHK', '5 Bedroom', '2 BHK', '4 Bedroom', '2 BHK', '2 BHK', '3 BHK', '1 BHK', '1 BHK', '2 BHK', '2 Bedroom', '3 BHK', '3 BHK', '2 BHK', '3 Bedroom', '2 BHK', '3 BHK', '3 Bedroom', '2 BHK', '3 BHK', '1 BHK', '2 BHK', '2 BHK', '2 BHK', '3 BHK', '2 BHK', '2 BHK', '3 BHK', '2 BHK', '3 BHK', '3 BHK', '1 BHK', '3 BHK', '1 Bedroom', '3 BHK', '3 BHK', '3 BHK', '2 BHK', '2 BHK', '3 Bedroom', '2 BHK', '2 BHK', '3 BHK', '3 BHK', '4 Bedroom', '1 BHK', '2 BHK', '2 BHK', '2 BHK', '4 BHK', '5 Bedroom', '3 BHK', '3 BHK', '2 BHK', '4 Bedroom', '3 BHK', '2 BHK', '4 Bedroom', '4 BHK', '3 Bedroom', '9 Bedroom', '2 BHK', '2 BHK', '3 BHK', '3 BHK', '2 BHK', '3 Bedroom', '3 BHK', '2 BHK', '2 BHK', '2 BHK', '3 BHK', '2 BHK', '7 Bedroom', '3 BHK', '3 BHK', '3 BHK', '3 BHK', '3 BHK', '3 BHK', '6 BHK', '3 BHK', '3 Bedroom', '3 BHK', '5 Bedroom', '2 BHK', '2 BHK', '2 Bedroom', '2 BHK', '2 BHK', '3 BHK', '2 BHK', '4 Bedroom', '4 BHK', '2 BHK', '3 BHK', '4 Bedroom', '6 Bedroom', '7 Bedroom', '2 Bedroom', '2 BHK', '1 BHK', '2 BHK', '2 BHK', '1 BHK', '2 BHK', '2 BHK', '2 Bedroom', '2 BHK', '3 BHK', '3 BHK', '2 BHK', '3 Bedroom', '2 BHK', '2 BHK', '3 BHK', '2 BHK', '1 BHK', '3 BHK', '2 BHK', '3 BHK', '2 BHK', '3 BHK', '4 Bedroom', '2 BHK', '3 BHK', '3 BHK', '3 BHK', '3 BHK', '2 BHK', '1 BHK', '3 BHK', '4 Bedroom', '3 BHK', '3 BHK', '2 BHK', '5 Bedroom', '3 BHK', '4 Bedroom', '3 BHK', '3 BHK', '1 BHK', '3 BHK', '2 BHK', '2 BHK', '3 BHK', '2 BHK', '3 BHK', '2 BHK', '2 BHK', '3 BHK', '2 BHK', '3 BHK', '7 Bedroom', '2 BHK', '3 Bedroom', '3 BHK', '3 BHK', '5 Bedroom', '3 BHK', '4 Bedroom', '3 BHK', '2 BHK', '3 BHK', '2 BHK', '3 BHK', '3 BHK', '2 BHK', '3 BHK', '2 BHK', '3 BHK', '2 BHK', '2 BHK', '2 BHK', '2 BHK', '2 BHK', '3 BHK', '2 BHK', '3 BHK', '2 BHK', '3 BHK', '2 BHK', '1 Bedroom', '8 BHK', '3 BHK', '3 BHK', '3 BHK', '2 BHK', '3 BHK', '3 BHK', '2 BHK', '2 BHK', '4 Bedroom', '3 Bedroom', '3 BHK', '3 BHK', '2 BHK', '2 BHK', '5 Bedroom', '3 BHK', '3 BHK', '3 BHK', '3 BHK', '4 Bedroom', '3 Bedroom', '2 BHK', '2 BHK', '4 BHK', '2 BHK', '2 BHK', '3 BHK', '3 BHK', '2 BHK', '2 BHK', '2 BHK', '2 BHK', '2 BHK', '2 BHK', '2 BHK', '2 BHK', '3 BHK', '4 BHK', '5 Bedroom', '2 BHK', '1 Bedroom', '3 BHK', '2 BHK', '8 Bedroom', '4 Bedroom', '2 BHK', '5 Bedroom', '4 Bedroom', '5 Bedroom', '3 BHK', '3 BHK', '2 BHK', '2 BHK', '2 BHK', '3 BHK', '8 Bedroom', '6 Bedroom', '2 BHK', '4 Bedroom', '2 BHK', '3 BHK', '3 BHK', '3 BHK', '2 BHK', '2 Bedroom', '4 BHK', '4 Bedroom', '3 BHK', '2 BHK', '1 BHK', '2 BHK', '3 BHK', '2 BHK', '3 BHK', '2 BHK', '3 BHK', '3 Bedroom', '3 BHK', '1 BHK', '2 BHK', '3 BHK', '2 BHK', '2 BHK', '2 BHK', '2 BHK', '3 BHK', '2 BHK', '2 BHK', '2 Bedroom', '3 BHK', '4 Bedroom', '3 BHK', '4 Bedroom', '3 BHK', '2 BHK', '2 BHK', '2 BHK', '4 Bedroom', '2 BHK', '3 Bedroom', '3 BHK', '2 BHK', '4 BHK', '3 BHK', '2 BHK', '3 BHK', '2 BHK', '2 BHK', '2 BHK', '3 BHK', '3 BHK', '4 Bedroom', '2 BHK', '2 BHK', '3 BHK', '3 Bedroom', '3 BHK', '2 BHK', '2 BHK', '3 BHK', '4 BHK', '6 Bedroom', '3 BHK', '5 Bedroom', '2 BHK', '2 BHK', '3 BHK', '2 BHK', '2 BHK', '2 BHK', '3 BHK', '2 BHK', '2 BHK', '2 BHK', '2 BHK', '2 BHK', '3 BHK', '3 BHK', '4 BHK', '3 BHK', '3 BHK', '3 BHK', '2 BHK', '3 BHK', '3 BHK', '2 Bedroom', '3 BHK', '3 BHK', '3 BHK', '1 BHK', '2 BHK', '1 BHK', '5 Bedroom', '2 BHK', '2 BHK', '2 BHK', '2 BHK', '1 BHK', '3 BHK', '2 BHK', '1 BHK', '3 BHK', '2 BHK', '3 BHK', '3 BHK', '4 Bedroom', '2 BHK', '3 BHK', '3 BHK', '3 Bedroom', '3 BHK', '2 BHK', '3 BHK', '2 BHK', '2 BHK', '2 BHK', '2 BHK', '1 BHK', '2 BHK', '3 BHK', '4 BHK', '2 BHK', '3 BHK', '4 Bedroom', '1 Bedroom', '2 BHK', '5 Bedroom', '3 BHK', '2 BHK', '2 BHK', '3 BHK', '2 BHK', '3 BHK', '2 BHK', '3 BHK', '2 BHK', '3 BHK', '7 Bedroom', '4 BHK', '3 Bedroom', '3 BHK', '4 Bedroom', '2 BHK', '6 Bedroom', '2 BHK', '2 BHK', '2 BHK', '3 BHK', '2 BHK', '3 BHK', '3 BHK', '2 BHK', '2 BHK', '2 BHK', '2 BHK', '3 BHK', '3 BHK', '3 BHK', '5 BHK', '1 BHK', '5 Bedroom', '2 BHK', '2 BHK', '3 BHK', '3 BHK', '4 Bedroom', '3 BHK', '2 BHK', '3 BHK', '2 BHK', '3 BHK', '2 BHK', '2 Bedroom', '2 BHK', '2 BHK', '2 BHK', '2 BHK', '3 BHK', '3 BHK', '3 BHK', '5 BHK', '7 BHK', '3 BHK', '5 Bedroom', '2 BHK', '2 BHK', '2 BHK', '2 BHK', '4 Bedroom', '2 BHK', '4 Bedroom', '2 BHK', '2 BHK', '2 BHK', '2 BHK', '3 BHK', '4 Bedroom', '4 BHK', '4 Bedroom', '3 BHK', '3 BHK', '8 Bedroom', '2 BHK', '3 BHK', '2 BHK', '2 BHK', '2 BHK', '2 BHK', '4 BHK', '2 BHK', '3 BHK', '3 BHK', '3 BHK', '3 BHK', '2 BHK', '2 BHK', '2 BHK', '2 BHK', '2 BHK', '3 BHK', '4 Bedroom', '3 Bedroom', '2 BHK', '3 BHK', '3 BHK', '2 BHK', '2 BHK', '2 BHK', '2 BHK', '3 BHK', '3 BHK', '4 Bedroom', '2 BHK', '2 BHK', '2 BHK', '4 Bedroom', '2 BHK', '2 BHK', '1 BHK', '2 BHK', '2 BHK', '3 Bedroom', '3 Bedroom', '3 BHK', '2 BHK', '3 BHK', '2 BHK', '2 BHK', '2 BHK', '2 BHK', '2 BHK', '3 BHK', '1 BHK', '2 BHK', '3 BHK', '2 BHK', '2 BHK', '3 BHK', '2 BHK', '4 Bedroom', '3 Bedroom', '3 BHK', '1 BHK', '5 Bedroom', '3 BHK', '1 Bedroom', '3 Bedroom', '2 BHK', '3 BHK', '3 BHK', '2 BHK', '2 BHK', '2 BHK', '1 BHK', '3 BHK', '4 Bedroom', '3 BHK', '3 BHK', '2 BHK', '4 Bedroom', '4 Bedroom', '3 Bedroom', '4 BHK', '4 BHK', '2 BHK', '2 BHK', '3 BHK', '2 Bedroom', '8 Bedroom', '2 BHK', '2 BHK', '5 Bedroom', '1 BHK', '3 BHK', '3 Bedroom', '2 BHK', '2 BHK', '3 BHK', '2 BHK', '3 BHK', '2 BHK', '3 BHK', '3 BHK', '2 BHK', '6 Bedroom', '2 BHK', '2 BHK', '3 BHK', '3 BHK', '2 BHK', '1 BHK', '2 BHK', '2 BHK', '4 BHK', '2 Bedroom', '2 BHK', '4 Bedroom', '2 BHK', '4 Bedroom', '4 Bedroom', '2 BHK', '4 BHK', '2 BHK', '3 BHK', '2 BHK', '3 BHK', '3 BHK', '3 Bedroom', '3 BHK', '2 BHK', '2 BHK', '3 BHK', '2 BHK', '4 BHK', '3 BHK', '2 BHK', '3 BHK', '3 BHK', '2 BHK', '2 BHK', '2 Bedroom', '7 BHK', '4 Bedroom', '3 BHK', '3 BHK', '3 BHK', '3 BHK', '3 BHK', '3 BHK', '3 BHK', '4 BHK', '3 BHK', '3 BHK', '3 BHK', '3 BHK', '2 BHK', '3 BHK', '2 BHK', '2 BHK', '2 BHK', '1 BHK', '1 BHK', '2 BHK', '3 BHK', '3 Bedroom', '3 BHK', '4 Bedroom', '4 Bedroom', '3 BHK', '3 Bedroom', '2 BHK', '4 Bedroom', '2 BHK', '3 BHK', '2 BHK', '2 BHK', '2 BHK', '4 Bedroom', '3 BHK', '6 Bedroom', '3 BHK', '2 BHK', '2 BHK', '4 BHK', '3 BHK', '5 Bedroom', '3 BHK', '4 Bedroom', '2 BHK', '3 BHK', '2 BHK', '2 BHK', '4 Bedroom', '3 Bedroom', '2 BHK', '6 Bedroom', '2 BHK', '3 BHK', '4 BHK', '1 BHK', '2 BHK', '2 BHK', '3 BHK', '2 BHK', '4 BHK', '2 BHK', '2 BHK', '3 BHK', '6 Bedroom', '2 BHK', '2 BHK', '4 Bedroom', '2 BHK', '4 BHK', '2 Bedroom', '2 BHK', '3 Bedroom', '2 BHK', '2 BHK', '4 Bedroom', '3 BHK', '4 BHK', '2 BHK', '5 Bedroom', '3 BHK', '3 BHK', '2 BHK', '2 BHK', '3 BHK', '2 BHK', '3 BHK', '3 BHK', '4 Bedroom', '2 BHK', '1 BHK', '5 Bedroom', '1 BHK', '3 BHK', '3 BHK', '2 BHK', '2 BHK', '3 BHK', '2 BHK', '3 Bedroom', '3 BHK', '3 BHK', '2 BHK', '4 Bedroom', '8 Bedroom', '3 BHK', '3 BHK', '3 Bedroom', '3 BHK', '2 BHK', '2 BHK', '2 BHK', '2 BHK', '2 BHK', '2 BHK', '3 BHK', '3 BHK', '2 BHK', '2 BHK', '3 BHK', '2 BHK', '2 BHK', '3 BHK', '4 BHK', '3 BHK', '3 BHK', '3 BHK', '2 BHK', '4 BHK', '2 BHK', '3 BHK', '2 BHK', '3 BHK', '2 BHK', '3 BHK', '4 BHK', '2 BHK', '3 BHK', '3 BHK', '3 BHK', '2 BHK', '3 BHK', '2 BHK', '3 BHK', '3 BHK', '2 BHK', '2 BHK', '2 BHK', '4 BHK', '1 BHK', '2 BHK', '5 Bedroom', '2 BHK', '2 BHK', '2 BHK', '3 Bedroom', '4 BHK', '2 BHK', '1 BHK', '2 BHK', '2 BHK', '2 BHK', '2 BHK', '1 BHK', '3 BHK', '2 Bedroom', '3 BHK', '3 BHK', '3 BHK', '2 BHK', '4 Bedroom', '1 BHK', '3 Bedroom', '2 BHK', '2 BHK', '1 Bedroom', '3 BHK', '3 Bedroom', '5 Bedroom', '2 BHK', '2 BHK', '3 BHK', '3 BHK', '4 BHK', '4 Bedroom', '2 BHK', '1 BHK', '3 BHK', '1 BHK', '2 BHK', '3 BHK', '3 BHK', '2 BHK', '3 BHK', '3 BHK', '3 BHK', '2 BHK', '2 BHK', '7 Bedroom', '4 Bedroom', '2 BHK', '3 BHK', '3 BHK', '2 BHK', '2 BHK', '2 BHK', '3 BHK', '2 BHK', '2 BHK', '4 Bedroom', '2 BHK', '3 BHK', '2 BHK', '3 BHK', '2 BHK', '2 BHK', '4 Bedroom', '7 Bedroom', '2 BHK', '2 BHK', '2 BHK', '1 BHK', '3 BHK', '4 Bedroom', '3 BHK', '3 BHK', '2 BHK', '1 BHK', '3 BHK', '3 Bedroom', '2 BHK', '1 BHK', '2 BHK', '2 BHK', '4 Bedroom', '2 BHK', '2 Bedroom', '3 BHK', '2 BHK', '2 BHK', '2 BHK', '7 Bedroom', '2 BHK', '8 Bedroom', '3 BHK', '3 BHK', '2 BHK', '2 BHK', '3 BHK', '3 BHK', '2 BHK', '2 BHK', '3 BHK', '3 Bedroom', '2 BHK', '2 BHK', '2 BHK', '3 BHK', '2 BHK', '3 BHK', '2 BHK', '3 BHK', '3 BHK', '7 Bedroom', '4 BHK', '3 BHK', '4 BHK', '3 BHK', '3 BHK', '4 Bedroom', '3 BHK', '3 BHK', '4 Bedroom', '3 BHK', '3 BHK', '3 BHK', '2 Bedroom', '2 BHK', '1 BHK', '2 BHK', '2 BHK', '3 BHK', '3 BHK', '1 BHK', '7 Bedroom', '3 BHK', '3 BHK', '4 Bedroom', '3 BHK', '3 BHK', '3 BHK', '3 BHK', '4 Bedroom', '2 BHK', '2 BHK', '3 Bedroom', '3 BHK', '3 BHK', '2 BHK', '2 BHK', '3 BHK', '2 BHK', '3 BHK', '2 BHK', '2 BHK', '1 Bedroom', '3 BHK', '3 BHK', '8 Bedroom', '2 BHK', '6 Bedroom', '5 Bedroom', '3 BHK', '3 BHK', '2 BHK', '3 BHK', '2 BHK', '3 BHK', '2 BHK', '2 BHK', '3 BHK', '2 BHK', '2 BHK', '2 BHK', '2 BHK', '2 BHK', '4 BHK', '4 Bedroom', '3 BHK', '3 Bedroom', '1 BHK', '2 BHK', '5 Bedroom', '2 BHK', '6 Bedroom', '2 BHK', '6 Bedroom', '5 Bedroom', '3 BHK', '2 BHK', '2 BHK', '3 BHK', '3 BHK', '2 BHK', '2 BHK', '3 BHK', '2 BHK', '3 BHK', '2 BHK', '5 Bedroom', '3 BHK', '2 BHK', '5 Bedroom', '3 BHK', '2 BHK', '2 BHK', '2 BHK', '3 BHK', '3 BHK', '2 BHK', '3 BHK', '1 BHK', '3 BHK', '2 BHK', '2 BHK', '3 Bedroom', '3 BHK', '9 Bedroom', '2 BHK', '2 Bedroom', '3 Bedroom', '3 BHK', '3 BHK', '4 Bedroom', '2 Bedroom', '2 BHK', '3 BHK', '2 BHK', '2 BHK', '3 BHK', '5 Bedroom', '3 BHK', '3 BHK', '3 BHK', '3 BHK', '3 BHK', '3 BHK', '3 BHK', '2 BHK', '3 BHK', '3 BHK', '3 BHK', '3 BHK', '2 BHK', '3 BHK', '2 BHK', '2 BHK', '2 Bedroom', '2 BHK', '2 BHK', '2 BHK', '1 BHK', '3 Bedroom', '2 BHK', '3 BHK', '3 BHK', '3 BHK', '3 Bedroom', '2 Bedroom', '2 BHK', '3 BHK', '2 BHK', '2 BHK', '4 Bedroom', '2 BHK', '2 BHK', '3 Bedroom', '4 BHK', '2 BHK', '3 BHK', '2 BHK', '2 BHK', '3 BHK', '3 BHK', '3 BHK', '2 BHK', '3 BHK', '3 BHK', '3 BHK', '2 BHK', '3 BHK', '2 BHK', '3 BHK', '2 BHK', '3 BHK', '2 BHK', '2 BHK', '3 BHK', '4 Bedroom', '3 BHK', '2 BHK', '3 BHK', '2 BHK', '3 BHK', '2 BHK', '4 BHK', '2 BHK', '3 BHK', '2 BHK', '2 BHK', '3 BHK', '6 Bedroom', '2 BHK', '2 Bedroom', '2 BHK', '4 Bedroom', '2 BHK', '4 Bedroom', '2 BHK', '3 BHK', '2 BHK', '2 BHK', '6 BHK', '2 BHK', '2 BHK', '2 BHK', '2 BHK', '2 BHK', '3 BHK', '4 Bedroom', '4 BHK', '3 BHK', '2 BHK', '2 BHK', '3 BHK', '2 BHK', '7 Bedroom', '1 BHK', '2 BHK', '1 BHK', '5 BHK', '3 BHK', '3 BHK', '3 BHK', '2 BHK', '3 BHK', '2 BHK', '2 BHK', '3 BHK', '5 Bedroom', '3 BHK', '2 BHK', '4 Bedroom', '2 BHK', '2 BHK', '3 BHK', '2 BHK', '4 BHK', '3 BHK', '2 BHK', '2 BHK', '3 Bedroom', '5 Bedroom', '3 BHK', '2 BHK', '3 BHK', '2 BHK', '2 BHK', '2 BHK', '3 BHK', '3 BHK', '2 BHK', '3 BHK', '2 BHK', '3 BHK', '2 BHK', '2 BHK', '2 BHK', '4 Bedroom', '3 BHK', '4 Bedroom', '2 BHK', '2 BHK', '2 BHK', '4 Bedroom', '3 Bedroom', '6 Bedroom', '2 BHK', '2 BHK', '2 BHK', '2 BHK', '3 BHK', '3 Bedroom', '3 BHK', '4 Bedroom', '3 BHK', '2 BHK', '2 BHK', '1 BHK', '3 BHK', '5 Bedroom', '4 Bedroom', '3 BHK', '4 Bedroom', '2 BHK', '6 BHK', '6 Bedroom', '4 Bedroom', '3 BHK', '2 BHK', '3 BHK', '3 BHK', '3 BHK', '3 BHK', '2 BHK', '3 BHK', '2 BHK', '3 Bedroom', '2 BHK', '2 BHK', '2 BHK', '7 Bedroom', '3 BHK', '2 BHK', '2 BHK', '3 BHK', '2 BHK', '3 BHK', '4 BHK', '3 BHK', '2 BHK', '6 Bedroom', '2 BHK', '2 BHK', '3 BHK', '2 BHK', '5 Bedroom', '5 BHK', '3 BHK', '3 BHK', '2 BHK', '2 BHK', '2 BHK', '2 BHK', '3 Bedroom', '2 BHK', '3 BHK', '2 BHK', '3 BHK', '3 BHK', '3 BHK', '4 Bedroom', '3 BHK', '3 BHK', '2 BHK', '2 BHK', '3 BHK', '3 BHK', '3 BHK', '2 BHK', '3 BHK', '3 BHK', '2 BHK', '5 Bedroom', '4 Bedroom', '2 BHK', '2 BHK', '6 Bedroom', '2 BHK', '3 BHK', '2 BHK', '4 BHK', '2 BHK', '4 BHK', '3 BHK', '2 BHK', '2 BHK', '3 Bedroom', '2 BHK', '3 BHK', '5 Bedroom', '3 Bedroom', '2 BHK', '3 BHK', '3 BHK', '2 BHK', '2 BHK', '3 BHK', '3 BHK', '6 Bedroom', '3 BHK', '3 BHK', '3 BHK', '2 BHK', '4 BHK', '3 BHK', '4 Bedroom', '2 BHK', '2 BHK', '3 BHK', '2 BHK', '3 BHK', '3 BHK', '2 BHK', '3 BHK', '5 Bedroom', '3 BHK', '4 Bedroom', '2 BHK', '3 BHK', '2 BHK', '10 Bedroom', '3 BHK', '2 BHK', '2 BHK', '3 BHK', '2 BHK', '4 Bedroom', '2 BHK', '3 BHK', '2 BHK', '2 BHK', '2 BHK', '3 Bedroom', '3 BHK', '3 BHK', '2 BHK', '2 BHK', '2 BHK', '3 Bedroom', '5 BHK', '2 BHK', '3 BHK', '4 BHK', '3 BHK', '2 BHK', '4 BHK', '2 BHK', '2 BHK', '4 BHK', '2 BHK', '3 BHK', '2 BHK', '1 Bedroom', '2 BHK', '2 BHK', '3 BHK', '2 BHK', '4 BHK', '2 BHK', '2 BHK', '2 BHK', '2 BHK', '3 BHK', '4 Bedroom', '2 BHK', '3 Bedroom', '3 BHK', '2 BHK', '1 BHK', '2 BHK', '3 Bedroom', '2 BHK', '4 Bedroom', '3 BHK', '3 BHK', '3 BHK', '2 BHK', '3 BHK', '3 BHK', '4 Bedroom', '3 BHK', '2 BHK', '4 BHK', '3 BHK', '3 BHK', '4 Bedroom', '3 Bedroom', '4 BHK', '3 BHK', '3 BHK', '2 BHK', '2 BHK', '2 BHK', '2 BHK', '9 BHK', '3 BHK', '2 BHK', '3 BHK', '3 Bedroom', '7 BHK', '3 BHK', '2 BHK', '3 BHK', '3 BHK', '2 BHK', '3 BHK', '3 BHK', '2 BHK', '2 Bedroom', '3 BHK', '2 BHK', '1 BHK', '3 BHK', '2 BHK', '1 BHK', '2 BHK', '2 BHK', '2 BHK', '3 BHK', '2 BHK', '2 Bedroom', '2 Bedroom', '3 BHK', '6 Bedroom', '4 BHK', '3 BHK', '2 BHK', '2 BHK', '3 BHK', '2 BHK', '2 BHK', '2 BHK', '2 BHK', '4 BHK', '2 BHK', '3 BHK', '2 BHK', '2 BHK', '2 BHK', '2 BHK', '8 Bedroom', '3 BHK', '3 BHK', '5 Bedroom', '3 BHK', '3 BHK', '2 BHK', '2 BHK', '2 BHK', '2 BHK', '4 Bedroom', '8 Bedroom', '2 BHK', '6 Bedroom', '2 BHK', '2 BHK', '2 BHK', '2 BHK', '3 Bedroom', '2 BHK', '3 BHK', '4 BHK', '3 BHK', '3 BHK', '2 BHK', '1 BHK', '4 Bedroom', '3 BHK', '1 Bedroom', '1 BHK', '6 Bedroom', '2 BHK', '7 Bedroom', '1 BHK', '9 Bedroom', '3 BHK', '2 BHK', '1 BHK', '3 BHK', '8 Bedroom', '2 BHK', '3 BHK', '3 BHK', '3 BHK', '3 BHK', '3 BHK', '3 BHK', '2 BHK', '3 BHK', '2 BHK', '2 BHK', '2 BHK', '2 BHK', '1 BHK', '3 BHK', '3 BHK', '3 BHK', '2 BHK', '1 BHK', '4 Bedroom', '4 Bedroom', '2 BHK', '2 Bedroom', '3 BHK', '4 BHK', '3 BHK', '2 BHK', '2 BHK', '2 BHK', '2 BHK', '3 BHK', '1 BHK', '3 BHK', '2 BHK', '3 Bedroom', '2 BHK', '3 BHK', '2 BHK', '2 BHK', '3 BHK', '2 BHK', '4 BHK', '3 Bedroom', '3 BHK', '2 BHK', '2 BHK', '1 BHK', '2 BHK', '4 Bedroom', '2 BHK', '7 Bedroom', '2 BHK', '6 Bedroom', '3 BHK', '5 Bedroom', '3 BHK', '3 BHK', '2 BHK', '2 BHK', '3 BHK', '2 BHK', '2 BHK', '2 BHK', '4 BHK', '1 Bedroom', '3 BHK', '4 BHK', '4 BHK', '3 BHK', '2 BHK', '2 BHK', '2 BHK', '4 BHK', '5 Bedroom', '3 BHK', '2 BHK', '5 Bedroom', '2 BHK', '1 BHK', '4 Bedroom', '3 BHK', '3 BHK', '3 BHK', '2 BHK', '7 Bedroom', '2 BHK', '3 BHK', '3 BHK', '5 Bedroom', '4 BHK', '2 BHK', '4 BHK', '1 BHK'] not found in axis\"",
     "output_type": "error",
     "traceback": [
      "\u001b[0;31m---------------------------------------------------------------------------\u001b[0m",
      "\u001b[0;31mKeyError\u001b[0m                                  Traceback (most recent call last)",
      "\u001b[1;32m/Users/tirththesiya/code/Bangalore-house-price-prediction/house_pred.ipynb Cell 37\u001b[0m line \u001b[0;36m1\n\u001b[0;32m----> <a href='vscode-notebook-cell:/Users/tirththesiya/code/Bangalore-house-price-prediction/house_pred.ipynb#X51sZmlsZQ%3D%3D?line=0'>1</a>\u001b[0m df\u001b[39m.\u001b[39;49mdrop(df[\u001b[39m'\u001b[39;49m\u001b[39msize\u001b[39;49m\u001b[39m'\u001b[39;49m],inplace\u001b[39m=\u001b[39;49m\u001b[39mTrue\u001b[39;49;00m)\n",
      "File \u001b[0;32m/Library/Frameworks/Python.framework/Versions/3.11/lib/python3.11/site-packages/pandas/util/_decorators.py:331\u001b[0m, in \u001b[0;36mdeprecate_nonkeyword_arguments.<locals>.decorate.<locals>.wrapper\u001b[0;34m(*args, **kwargs)\u001b[0m\n\u001b[1;32m    325\u001b[0m \u001b[39mif\u001b[39;00m \u001b[39mlen\u001b[39m(args) \u001b[39m>\u001b[39m num_allow_args:\n\u001b[1;32m    326\u001b[0m     warnings\u001b[39m.\u001b[39mwarn(\n\u001b[1;32m    327\u001b[0m         msg\u001b[39m.\u001b[39mformat(arguments\u001b[39m=\u001b[39m_format_argument_list(allow_args)),\n\u001b[1;32m    328\u001b[0m         \u001b[39mFutureWarning\u001b[39;00m,\n\u001b[1;32m    329\u001b[0m         stacklevel\u001b[39m=\u001b[39mfind_stack_level(),\n\u001b[1;32m    330\u001b[0m     )\n\u001b[0;32m--> 331\u001b[0m \u001b[39mreturn\u001b[39;00m func(\u001b[39m*\u001b[39;49margs, \u001b[39m*\u001b[39;49m\u001b[39m*\u001b[39;49mkwargs)\n",
      "File \u001b[0;32m/Library/Frameworks/Python.framework/Versions/3.11/lib/python3.11/site-packages/pandas/core/frame.py:5399\u001b[0m, in \u001b[0;36mDataFrame.drop\u001b[0;34m(self, labels, axis, index, columns, level, inplace, errors)\u001b[0m\n\u001b[1;32m   5251\u001b[0m \u001b[39m@deprecate_nonkeyword_arguments\u001b[39m(version\u001b[39m=\u001b[39m\u001b[39mNone\u001b[39;00m, allowed_args\u001b[39m=\u001b[39m[\u001b[39m\"\u001b[39m\u001b[39mself\u001b[39m\u001b[39m\"\u001b[39m, \u001b[39m\"\u001b[39m\u001b[39mlabels\u001b[39m\u001b[39m\"\u001b[39m])\n\u001b[1;32m   5252\u001b[0m \u001b[39mdef\u001b[39;00m \u001b[39mdrop\u001b[39m(  \u001b[39m# type: ignore[override]\u001b[39;00m\n\u001b[1;32m   5253\u001b[0m     \u001b[39mself\u001b[39m,\n\u001b[0;32m   (...)\u001b[0m\n\u001b[1;32m   5260\u001b[0m     errors: IgnoreRaise \u001b[39m=\u001b[39m \u001b[39m\"\u001b[39m\u001b[39mraise\u001b[39m\u001b[39m\"\u001b[39m,\n\u001b[1;32m   5261\u001b[0m ) \u001b[39m-\u001b[39m\u001b[39m>\u001b[39m DataFrame \u001b[39m|\u001b[39m \u001b[39mNone\u001b[39;00m:\n\u001b[1;32m   5262\u001b[0m \u001b[39m    \u001b[39m\u001b[39m\"\"\"\u001b[39;00m\n\u001b[1;32m   5263\u001b[0m \u001b[39m    Drop specified labels from rows or columns.\u001b[39;00m\n\u001b[1;32m   5264\u001b[0m \n\u001b[0;32m   (...)\u001b[0m\n\u001b[1;32m   5397\u001b[0m \u001b[39m            weight  1.0     0.8\u001b[39;00m\n\u001b[1;32m   5398\u001b[0m \u001b[39m    \"\"\"\u001b[39;00m\n\u001b[0;32m-> 5399\u001b[0m     \u001b[39mreturn\u001b[39;00m \u001b[39msuper\u001b[39;49m()\u001b[39m.\u001b[39;49mdrop(\n\u001b[1;32m   5400\u001b[0m         labels\u001b[39m=\u001b[39;49mlabels,\n\u001b[1;32m   5401\u001b[0m         axis\u001b[39m=\u001b[39;49maxis,\n\u001b[1;32m   5402\u001b[0m         index\u001b[39m=\u001b[39;49mindex,\n\u001b[1;32m   5403\u001b[0m         columns\u001b[39m=\u001b[39;49mcolumns,\n\u001b[1;32m   5404\u001b[0m         level\u001b[39m=\u001b[39;49mlevel,\n\u001b[1;32m   5405\u001b[0m         inplace\u001b[39m=\u001b[39;49minplace,\n\u001b[1;32m   5406\u001b[0m         errors\u001b[39m=\u001b[39;49merrors,\n\u001b[1;32m   5407\u001b[0m     )\n",
      "File \u001b[0;32m/Library/Frameworks/Python.framework/Versions/3.11/lib/python3.11/site-packages/pandas/util/_decorators.py:331\u001b[0m, in \u001b[0;36mdeprecate_nonkeyword_arguments.<locals>.decorate.<locals>.wrapper\u001b[0;34m(*args, **kwargs)\u001b[0m\n\u001b[1;32m    325\u001b[0m \u001b[39mif\u001b[39;00m \u001b[39mlen\u001b[39m(args) \u001b[39m>\u001b[39m num_allow_args:\n\u001b[1;32m    326\u001b[0m     warnings\u001b[39m.\u001b[39mwarn(\n\u001b[1;32m    327\u001b[0m         msg\u001b[39m.\u001b[39mformat(arguments\u001b[39m=\u001b[39m_format_argument_list(allow_args)),\n\u001b[1;32m    328\u001b[0m         \u001b[39mFutureWarning\u001b[39;00m,\n\u001b[1;32m    329\u001b[0m         stacklevel\u001b[39m=\u001b[39mfind_stack_level(),\n\u001b[1;32m    330\u001b[0m     )\n\u001b[0;32m--> 331\u001b[0m \u001b[39mreturn\u001b[39;00m func(\u001b[39m*\u001b[39;49margs, \u001b[39m*\u001b[39;49m\u001b[39m*\u001b[39;49mkwargs)\n",
      "File \u001b[0;32m/Library/Frameworks/Python.framework/Versions/3.11/lib/python3.11/site-packages/pandas/core/generic.py:4505\u001b[0m, in \u001b[0;36mNDFrame.drop\u001b[0;34m(self, labels, axis, index, columns, level, inplace, errors)\u001b[0m\n\u001b[1;32m   4503\u001b[0m \u001b[39mfor\u001b[39;00m axis, labels \u001b[39min\u001b[39;00m axes\u001b[39m.\u001b[39mitems():\n\u001b[1;32m   4504\u001b[0m     \u001b[39mif\u001b[39;00m labels \u001b[39mis\u001b[39;00m \u001b[39mnot\u001b[39;00m \u001b[39mNone\u001b[39;00m:\n\u001b[0;32m-> 4505\u001b[0m         obj \u001b[39m=\u001b[39m obj\u001b[39m.\u001b[39;49m_drop_axis(labels, axis, level\u001b[39m=\u001b[39;49mlevel, errors\u001b[39m=\u001b[39;49merrors)\n\u001b[1;32m   4507\u001b[0m \u001b[39mif\u001b[39;00m inplace:\n\u001b[1;32m   4508\u001b[0m     \u001b[39mself\u001b[39m\u001b[39m.\u001b[39m_update_inplace(obj)\n",
      "File \u001b[0;32m/Library/Frameworks/Python.framework/Versions/3.11/lib/python3.11/site-packages/pandas/core/generic.py:4546\u001b[0m, in \u001b[0;36mNDFrame._drop_axis\u001b[0;34m(self, labels, axis, level, errors, only_slice)\u001b[0m\n\u001b[1;32m   4544\u001b[0m         new_axis \u001b[39m=\u001b[39m axis\u001b[39m.\u001b[39mdrop(labels, level\u001b[39m=\u001b[39mlevel, errors\u001b[39m=\u001b[39merrors)\n\u001b[1;32m   4545\u001b[0m     \u001b[39melse\u001b[39;00m:\n\u001b[0;32m-> 4546\u001b[0m         new_axis \u001b[39m=\u001b[39m axis\u001b[39m.\u001b[39;49mdrop(labels, errors\u001b[39m=\u001b[39;49merrors)\n\u001b[1;32m   4547\u001b[0m     indexer \u001b[39m=\u001b[39m axis\u001b[39m.\u001b[39mget_indexer(new_axis)\n\u001b[1;32m   4549\u001b[0m \u001b[39m# Case for non-unique axis\u001b[39;00m\n\u001b[1;32m   4550\u001b[0m \u001b[39melse\u001b[39;00m:\n",
      "File \u001b[0;32m/Library/Frameworks/Python.framework/Versions/3.11/lib/python3.11/site-packages/pandas/core/indexes/base.py:6934\u001b[0m, in \u001b[0;36mIndex.drop\u001b[0;34m(self, labels, errors)\u001b[0m\n\u001b[1;32m   6932\u001b[0m \u001b[39mif\u001b[39;00m mask\u001b[39m.\u001b[39many():\n\u001b[1;32m   6933\u001b[0m     \u001b[39mif\u001b[39;00m errors \u001b[39m!=\u001b[39m \u001b[39m\"\u001b[39m\u001b[39mignore\u001b[39m\u001b[39m\"\u001b[39m:\n\u001b[0;32m-> 6934\u001b[0m         \u001b[39mraise\u001b[39;00m \u001b[39mKeyError\u001b[39;00m(\u001b[39mf\u001b[39m\u001b[39m\"\u001b[39m\u001b[39m{\u001b[39;00m\u001b[39mlist\u001b[39m(labels[mask])\u001b[39m}\u001b[39;00m\u001b[39m not found in axis\u001b[39m\u001b[39m\"\u001b[39m)\n\u001b[1;32m   6935\u001b[0m     indexer \u001b[39m=\u001b[39m indexer[\u001b[39m~\u001b[39mmask]\n\u001b[1;32m   6936\u001b[0m \u001b[39mreturn\u001b[39;00m \u001b[39mself\u001b[39m\u001b[39m.\u001b[39mdelete(indexer)\n",
      "\u001b[0;31mKeyError\u001b[0m: \"['2 BHK', '4 Bedroom', '3 BHK', '3 BHK', '2 BHK', '2 BHK', '4 BHK', '4 BHK', '3 BHK', '6 Bedroom', '3 BHK', '4 Bedroom', '2 BHK', '2 BHK', '3 Bedroom', '2 BHK', '3 BHK', '3 BHK', '3 BHK', '2 BHK', '1 BHK', '3 BHK', '4 Bedroom', '3 BHK', '1 RK', '3 BHK', '2 BHK', '3 BHK', '2 BHK', '3 BHK', '4 BHK', '3 BHK', '3 BHK', '3 BHK', '3 BHK', '2 BHK', '2 BHK', '3 BHK', '3 BHK', '2 BHK', '2 BHK', '3 BHK', '1 BHK', '1 Bedroom', '2 BHK', '8 Bedroom', '2 BHK', '2 BHK', '2 Bedroom', '2 BHK', '2 BHK', '3 BHK', '3 BHK', '2 BHK', '3 BHK', '2 BHK', '4 Bedroom', '2 BHK', '6 Bedroom', '2 BHK', '3 Bedroom', '2 BHK', '4 Bedroom', '2 BHK', '8 Bedroom', '2 BHK', '2 BHK', '2 BHK', '8 Bedroom', '2 BHK', '3 Bedroom', '2 BHK', '3 BHK', '2 BHK', '3 BHK', '2 BHK', '2 BHK', '3 BHK', '2 BHK', '6 Bedroom', '3 BHK', '4 Bedroom', '2 BHK', '3 BHK', '3 BHK', '6 Bedroom', '3 BHK', '2 BHK', '2 BHK', '6 Bedroom', '2 BHK', '2 BHK', '3 BHK', '4 Bedroom', '2 BHK', '3 BHK', '4 Bedroom', '3 BHK', '2 BHK', '3 Bedroom', '3 BHK', '2 BHK', '3 Bedroom', '2 BHK', '2 BHK', '2 BHK', '3 BHK', '3 BHK', '2 BHK', '2 BHK', '3 BHK', '3 BHK', '2 BHK', '3 BHK', '4 Bedroom', '3 Bedroom', '3 BHK', '3 BHK', '2 BHK', '2 Bedroom', '3 BHK', '3 BHK', '4 BHK', '4 BHK', '3 BHK', '2 BHK', '3 BHK', '2 BHK', '2 BHK', '7 Bedroom', '3 BHK', '3 Bedroom', '2 BHK', '4 Bedroom', '3 BHK', '2 BHK', '2 BHK', '2 BHK', '3 BHK', '3 BHK', '8 Bedroom', '5 BHK', '3 BHK', '2 BHK', '2 BHK', '7 BHK', '3 BHK', '2 BHK', '3 BHK', '6 Bedroom', '3 BHK', '2 BHK', '3 BHK', '3 BHK', '2 BHK', '2 BHK', '2 BHK', '3 BHK', '3 BHK', '4 Bedroom', '3 BHK', '2 BHK', '3 BHK', '4 Bedroom', '3 BHK', '2 BHK', '3 BHK', '3 BHK', '2 BHK', '3 BHK', '6 BHK', '1 BHK', '2 BHK', '3 BHK', '3 BHK', '3 Bedroom', '5 Bedroom', '1 Bedroom', '1 BHK', '2 BHK', '2 BHK', '3 BHK', '3 BHK', '3 BHK', '2 BHK', '3 Bedroom', '2 BHK', '2 BHK', '2 BHK', '2 BHK', '4 Bedroom', '3 BHK', '4 Bedroom', '7 Bedroom', '2 BHK', '2 BHK', '2 BHK', '3 Bedroom', '3 BHK', '2 BHK', '2 BHK', '3 BHK', '2 BHK', '2 BHK', '3 BHK', '3 BHK', '3 BHK', '2 BHK', '2 BHK', '4 Bedroom', '4 BHK', '3 BHK', '3 BHK', '3 BHK', '3 BHK', '2 BHK', '6 Bedroom', '1 BHK', '3 BHK', '3 BHK', '3 BHK', '3 BHK', '4 BHK', '2 BHK', '3 BHK', '3 BHK', '2 BHK', '2 Bedroom', '3 BHK', '2 BHK', '2 BHK', '2 BHK', '2 BHK', '2 BHK', '2 BHK', '3 BHK', '2 BHK', '3 BHK', '5 Bedroom', '2 BHK', '1 BHK', '8 Bedroom', '1 BHK', '3 BHK', '2 BHK', '3 Bedroom', '2 BHK', '3 BHK', '3 Bedroom', '3 BHK', '2 BHK', '2 BHK', '2 BHK', '2 BHK', '2 Bedroom', '4 Bedroom', '2 BHK', '2 BHK', '5 Bedroom', '3 BHK', '4 Bedroom', '3 BHK', '2 BHK', '2 BHK', '2 BHK', '4 Bedroom', '3 BHK', '3 BHK', '2 BHK', '3 BHK', '2 BHK', '3 BHK', '2 BHK', '2 Bedroom', '3 BHK', '3 BHK', '2 BHK', '4 Bedroom', '3 BHK', '3 BHK', '2 BHK', '3 BHK', '6 Bedroom', '3 BHK', '3 BHK', '3 BHK', '2 BHK', '3 BHK', '2 BHK', '2 BHK', '2 BHK', '2 BHK', '2 BHK', '2 BHK', '2 BHK', '2 BHK', '3 Bedroom', '2 BHK', '4 BHK', '3 Bedroom', '4 BHK', '2 BHK', '3 BHK', '3 BHK', '3 BHK', '2 BHK', '1 BHK', '3 BHK', '4 BHK', '3 BHK', '2 BHK', '3 BHK', '2 BHK', '3 BHK', '2 BHK', '5 Bedroom', '2 BHK', '2 BHK', '2 BHK', '2 BHK', '2 BHK', '2 BHK', '2 Bedroom', '4 Bedroom', '3 BHK', '4 Bedroom', '3 BHK', '2 BHK', '2 BHK', '3 BHK', '3 BHK', '2 BHK', '4 Bedroom', '2 BHK', '3 BHK', '2 BHK', '2 BHK', '4 BHK', '3 BHK', '2 Bedroom', '2 BHK', '2 BHK', '2 BHK', '3 BHK', '1 BHK', '2 BHK', '3 Bedroom', '3 BHK', '3 BHK', '3 Bedroom', '2 BHK', '2 BHK', '3 BHK', '2 BHK', '1 BHK', '3 Bedroom', '3 BHK', '2 BHK', '4 BHK', '2 BHK', '2 BHK', '3 BHK', '4 Bedroom', '1 BHK', '2 BHK', '1 BHK', '2 BHK', '2 BHK', '2 BHK', '2 BHK', '4 BHK', '2 BHK', '2 BHK', '3 BHK', '2 BHK', '3 BHK', '3 BHK', '1 BHK', '3 BHK', '3 BHK', '3 BHK', '2 BHK', '2 Bedroom', '2 BHK', '2 BHK', '2 BHK', '3 BHK', '3 BHK', '3 BHK', '2 BHK', '2 BHK', '2 BHK', '3 BHK', '2 BHK', '2 BHK', '2 BHK', '2 BHK', '6 BHK', '2 BHK', '3 BHK', '3 BHK', '4 BHK', '2 Bedroom', '4 BHK', '2 BHK', '2 Bedroom', '4 Bedroom', '3 BHK', '7 BHK', '2 Bedroom', '1 BHK', '2 BHK', '2 BHK', '6 Bedroom', '3 BHK', '3 BHK', '2 BHK', '3 Bedroom', '2 Bedroom', '2 BHK', '2 Bedroom', '3 BHK', '2 BHK', '2 BHK', '2 BHK', '6 Bedroom', '3 BHK', '2 BHK', '2 BHK', '3 BHK', '2 BHK', '2 BHK', '2 BHK', '2 BHK', '8 Bedroom', '3 BHK', '3 BHK', '3 BHK', '2 BHK', '3 Bedroom', '4 Bedroom', '2 BHK', '3 BHK', '3 BHK', '3 BHK', '2 BHK', '3 BHK', '1 BHK', '3 BHK', '3 BHK', '2 BHK', '3 Bedroom', '2 BHK', '4 Bedroom', '2 BHK', '4 Bedroom', '3 BHK', '3 BHK', '2 BHK', '11 BHK', '3 BHK', '3 BHK', '2 BHK', '2 BHK', '2 BHK', '2 BHK', '3 BHK', '3 BHK', '2 BHK', '4 Bedroom', '2 Bedroom', '2 BHK', '4 BHK', '2 BHK', '2 BHK', '2 BHK', '2 BHK', '4 BHK', '2 BHK', '2 BHK', '4 BHK', '4 Bedroom', '5 Bedroom', '5 Bedroom', '3 BHK', '4 BHK', '4 Bedroom', '2 BHK', '2 BHK', '3 BHK', '5 BHK', '3 Bedroom', '2 BHK', '2 BHK', '2 BHK', '2 BHK', '2 BHK', '2 BHK', '3 BHK', '2 BHK', '2 Bedroom', '3 BHK', '3 BHK', '3 BHK', '1 BHK', '2 BHK', '2 BHK', '2 BHK', '2 BHK', '2 BHK', '4 Bedroom', '1 Bedroom', '2 BHK', '4 Bedroom', '4 Bedroom', '4 BHK', '4 BHK', '3 BHK', '4 Bedroom', '3 BHK', '3 BHK', '2 BHK', '3 BHK', '2 BHK', '4 BHK', '2 BHK', '1 BHK', '2 BHK', '4 BHK', '3 BHK', '2 BHK', '2 BHK', '2 BHK', '3 BHK', '3 BHK', '3 BHK', '2 BHK', '3 BHK', '9 BHK', '5 Bedroom', '2 BHK', '3 BHK', '3 BHK', '3 BHK', '3 Bedroom', '3 Bedroom', '2 BHK', '5 BHK', '3 BHK', '2 BHK', '3 BHK', '2 BHK', '2 BHK', '3 BHK', '6 Bedroom', '2 Bedroom', '2 BHK', '1 BHK', '2 BHK', '4 Bedroom', '2 BHK', '1 BHK', '2 BHK', '3 BHK', '2 BHK', '3 BHK', '4 Bedroom', '3 BHK', '3 BHK', '2 BHK', '4 Bedroom', '3 BHK', '2 BHK', '4 Bedroom', '3 BHK', '3 BHK', '2 BHK', '2 Bedroom', '3 BHK', '2BHK', '2 BHK', '1 Bedroom', '1 BHK', '3 BHK', '3 BHK', '2 BHK', '2 BHK', '2 BHK', '2 BHK', '2 BHK', '3 BHK', '3 BHK', '2 Bedroom', '1 BHK', '2 BHK', '3 BHK', '2 BHK', '3 BHK', '3 BHK', '3 BHK', '3 BHK', '1 BHK', '1 BHK', '3 Bedroom', '3 BHK', '7 BHK', '2 BHK', '2 BHK', '3 BHK', '4 BHK', '4 Bedroom', '2 BHK', '2 BHK', '2 BHK', '5 Bedroom', '6 Bedroom', '2 BHK', '4 Bedroom', '4 BHK', '3 BHK', '3 BHK', '2 BHK', '3 BHK', '1 BHK', '3 BHK', '3 BHK', '3 BHK', '2 BHK', '2 BHK', '3 BHK', '2 Bedroom', '3 BHK', '2 BHK', '1 BHK', '4 BHK', '2 BHK', '3 BHK', '3 BHK', '6 BHK', '4 BHK', '2 BHK', '3 Bedroom', '2 BHK', '1 BHK', '2 BHK', '2 BHK', '3 BHK', '2 BHK', '9 Bedroom', '3 BHK', '2 BHK', '3 BHK', '3 BHK', '2 BHK', '3 BHK', '3 BHK', '4 BHK', '3 BHK', '2 BHK', '2 BHK', '3 BHK', '2 BHK', '2 BHK', '4 Bedroom', '3 BHK', '3 BHK', '2 BHK', '2 BHK', '3 BHK', '5 BHK', '3 Bedroom', '3 BHK', '4 Bedroom', '3 BHK', '3 BHK', '2 BHK', '1 Bedroom', '7 Bedroom', '3 BHK', '5 Bedroom', '3 BHK', '4 Bedroom', '2 BHK', '3 BHK', '3 BHK', '3 Bedroom', '2 BHK', '3 BHK', '3 BHK', '4 BHK', '4 Bedroom', '2 BHK', '2 Bedroom', '3 BHK', '2 BHK', '3 BHK', '2 BHK', '3 Bedroom', '2 BHK', '3 Bedroom', '2 BHK', '2 BHK', '5 BHK', '3 BHK', '3 Bedroom', '2 BHK', '3 Bedroom', '3 BHK', '2 BHK', '2 BHK', '2 BHK', '2 BHK', '3 BHK', '3 BHK', '3 BHK', '3 BHK', '3 BHK', '2 BHK', '2 BHK', '3 BHK', '3 BHK', '3 BHK', '2 BHK', '2 BHK', '3 BHK', '4 Bedroom', '3 BHK', '5 Bedroom', '4 Bedroom', '2 BHK', '2 BHK', '2 BHK', '3 BHK', '2 BHK', '2 BHK', '2 BHK', '4 BHK', '2 BHK', '3 BHK', '3 BHK', '2 BHK', '1 BHK', '2 BHK', '4 BHK', '2 BHK', '2 BHK', '2 BHK', '1 Bedroom', '2 BHK', '4 Bedroom', '3 BHK', '2 BHK', '2 BHK', '4 BHK', '2 BHK', '3 BHK', '2 BHK', '5 Bedroom', '2 BHK', '4 Bedroom', '2 BHK', '2 BHK', '2 BHK', '1 BHK', '2 BHK', '3 BHK', '2 BHK', '5 Bedroom', '3 BHK', '2 BHK', '9 Bedroom', '2 BHK', '2 BHK', '3 BHK', '2 BHK', '1 BHK', '3 BHK', '2 BHK', '3 BHK', '3 BHK', '2 BHK', '2 BHK', '1 RK', '6 Bedroom', '3 BHK', '3 BHK', '2 BHK', '4 BHK', '4 Bedroom', '6 Bedroom', '3 BHK', '2 BHK', '2 BHK', '2 BHK', '7 Bedroom', '3 BHK', '2 BHK', '2 BHK', '2 BHK', '3 BHK', '3 BHK', '4 BHK', '2 BHK', '2 BHK', '2 BHK', '3 BHK', '2 BHK', '4 Bedroom', '3 BHK', '3 BHK', '4 Bedroom', '4 BHK', '2 BHK', '2 BHK', '2 BHK', '2 BHK', '1 BHK', '2 BHK', '3 BHK', '4 BHK', '3 BHK', '3 BHK', '2 BHK', '4 BHK', '2 BHK', '4 BHK', '3 BHK', '3 BHK', '3 BHK', '1 BHK', '2 BHK', '2 BHK', '3 BHK', '2 BHK', '2 BHK', '2 BHK', '2 BHK', '2 BHK', '6 Bedroom', '2 Bedroom', '3 BHK', '2 BHK', '3 BHK', '2 BHK', '2 BHK', '4 Bedroom', '3 BHK', '3 BHK', '3 BHK', '3 BHK', '2 BHK', '3 BHK', '3 BHK', '2 BHK', '3 BHK', '4 Bedroom', '3 BHK', '8 Bedroom', '2 BHK', '2 BHK', '6 Bedroom', '4 Bedroom', '2 BHK', '2 BHK', '2 BHK', '2 BHK', '5 Bedroom', '2 BHK', '2 BHK', '2 BHK', '2 BHK', '3 BHK', '2 BHK', '2 BHK', '2 BHK', '3 BHK', '3 BHK', '3 BHK', '3 BHK', '3 BHK', '3 BHK', '2 BHK', '1 BHK', '3 BHK', '3 Bedroom', '7 Bedroom', '1 BHK', '2 BHK', '5 Bedroom', '5 Bedroom', '3 BHK', '2 BHK', '3 Bedroom', '2 BHK', '2 BHK', '2 BHK', '2 BHK', '2 BHK', '1 Bedroom', '3 BHK', '2 BHK', '3 BHK', '2 BHK', '3 BHK', '1 BHK', '1 BHK', '1 BHK', '2 Bedroom', '2 Bedroom', '3 Bedroom', '2 BHK', '4 Bedroom', '3 BHK', '2 BHK', '2 BHK', '2 BHK', '3 BHK', '2 BHK', '1 BHK', '2 BHK', '3 BHK', '3 BHK', '2 BHK', '4 Bedroom', '3 BHK', '3 BHK', '3 BHK', '2 BHK', '5 BHK', '2 Bedroom', '2 BHK', '2 BHK', '3 BHK', '3 BHK', '3 BHK', '4 BHK', '4 BHK', '3 BHK', '9 Bedroom', '5 Bedroom', '3 BHK', '4 Bedroom', '1 BHK', '2 BHK', '2 BHK', '2 BHK', '4 Bedroom', '2 BHK', '4 Bedroom', '3 BHK', '4 BHK', '3 Bedroom', '3 BHK', '4 Bedroom', '3 BHK', '3 BHK', '4 Bedroom', '2 BHK', '2 BHK', '1 BHK', '3 BHK', '3 Bedroom', '2 BHK', '3 BHK', '2 BHK', '3 BHK', '3 BHK', '2 BHK', '2 BHK', '3 BHK', '1 BHK', '3 BHK', '2 BHK', '2 BHK', '2 BHK', '2 BHK', '6 Bedroom', '5 Bedroom', '2 BHK', '2 BHK', '2 BHK', '3 BHK', '2 BHK', '3 BHK', '2 BHK', '2 BHK', '3 BHK', '3 BHK', '2 BHK', '2 BHK', '1 BHK', '8 Bedroom', '4 Bedroom', '1 BHK', '2 BHK', '2 BHK', '1 Bedroom', '3 Bedroom', '2 BHK', '3 BHK', '1 BHK', '3 BHK', '2 BHK', '2 BHK', '3 BHK', '3 BHK', '3 BHK', '3 BHK', '2 Bedroom', '2 BHK', '4 Bedroom', '2 BHK', '2 BHK', '4 BHK', '3 BHK', '2 BHK', '1 BHK', '2 Bedroom', '7 BHK', '1 Bedroom', '1 BHK', '2 BHK', '2 BHK', '3 BHK', '8 Bedroom', '2 BHK', '3 BHK', '2 BHK', '1 BHK', '2 BHK', '1 BHK', '2 BHK', '3 BHK', '6 Bedroom', '2 BHK', '3 BHK', '2 BHK', '2 BHK', '5 Bedroom', '4 Bedroom', '3 BHK', '3 BHK', '5 Bedroom', '3 BHK', '6 Bedroom', '3 BHK', '3 BHK', '3 BHK', '9 Bedroom', '2 BHK', '3 BHK', '3 Bedroom', '2 BHK', '3 Bedroom', '3 BHK', '2 BHK', '3 BHK', '2 BHK', '3 BHK', '3 BHK', '2 BHK', '3 BHK', '4 Bedroom', '6 Bedroom', '3 BHK', '4 BHK', '5 Bedroom', '2 BHK', '6 Bedroom', '3 Bedroom', '2 BHK', '2 BHK', '2 Bedroom', '4 BHK', '2 BHK', '2 BHK', '3 BHK', '3 BHK', '9 Bedroom', '3 BHK', '3 BHK', '3 BHK', '1 BHK', '2 BHK', '3 BHK', '2 BHK', '2 Bedroom', '4 Bedroom', '2 BHK', '3 BHK', '4 Bedroom', '2 BHK', '3 Bedroom', '2 BHK', '4 Bedroom', '3 BHK', '3 BHK', '5 BHK', '3 BHK', '3 BHK', '1 Bedroom', '3 BHK', '3 BHK', '9 Bedroom', '2 BHK', '8 Bedroom', '2 BHK', '3 BHK', '7 Bedroom', '2 BHK', '3 BHK', '3 BHK', '2 BHK', '2 BHK', '3 BHK', '2 BHK', '3 BHK', '3 BHK', '3 BHK', '2 BHK', '3 BHK', '2 BHK', '5 Bedroom', '3 Bedroom', '4 BHK', '5 Bedroom', '2 BHK', '2 BHK', '2 BHK', '2 BHK', '2 BHK', '2 BHK', '3 BHK', '2 BHK', '2 BHK', '3 BHK', '2 BHK', '4 Bedroom', '3 BHK', '2 BHK', '3 BHK', '6 Bedroom', '2 BHK', '2 BHK', '3 BHK', '3 BHK', '4 Bedroom', '2 BHK', '2 BHK', '3 BHK', '2 BHK', '3 BHK', '2 BHK', '4 Bedroom', '2 BHK', '4 Bedroom', '2 BHK', '3 BHK', '2 BHK', '2 BHK', '2 BHK', '2 BHK', '6 BHK', '2 BHK', '3 BHK', '3 BHK', '2 BHK', '1 BHK', '2 BHK', '3 BHK', '3 BHK', '2 BHK', '3 BHK', '2 BHK', '3 BHK', '3 BHK', '3 BHK', '3 BHK', '3 BHK', '1 BHK', '1 BHK', '2 BHK', '3 BHK', '2 BHK', '4 Bedroom', '3 BHK', '4 BHK', '2 BHK', '2 BHK', '1 BHK', '2 BHK', '3 BHK', '2 BHK', '3 BHK', '2 BHK', '1 Bedroom', '3 BHK', '2 BHK', '3 BHK', '2 BHK', '3 BHK', '3 BHK', '4 BHK', '2 BHK', '3 BHK', '3 BHK', '3 Bedroom', '3 BHK', '3 BHK', '3 BHK', '2 BHK', '5 Bedroom', '5 Bedroom', '2 BHK', '3 Bedroom', '3 BHK', '3 BHK', '3 BHK', '3 BHK', '2 BHK', '7 Bedroom', '2 BHK', '9 Bedroom', '3 BHK', '3 BHK', '2 BHK', '2 BHK', '4 Bedroom', '3 BHK', '2 BHK', '3 BHK', '3 Bedroom', '3 BHK', '4 Bedroom', '4 Bedroom', '1 BHK', '1 BHK', '2 BHK', '3 BHK', '2 BHK', '3 BHK', '2 BHK', '2 BHK', '3 BHK', '4 BHK', '3 BHK', '3 BHK', '3 BHK', '2 BHK', '2 Bedroom', '3 BHK', '2 BHK', '6 Bedroom', '2 BHK', '1 BHK', '4 Bedroom', '3 BHK', '4 Bedroom', '3 BHK', '2 BHK', '4 Bedroom', '3 BHK', '4 BHK', '3 BHK', '3 Bedroom', '4 Bedroom', '2 BHK', '3 BHK', '2 BHK', '6 Bedroom', '2 BHK', '3 BHK', '2 BHK', '2 BHK', '2 BHK', '3 Bedroom', '2 BHK', '2 BHK', '2 BHK', '3 BHK', '2 BHK', '3 Bedroom', '3 BHK', '1 BHK', '3 BHK', '3 BHK', '4 Bedroom', '4 BHK', '3 BHK', '2 BHK', '2 BHK', '3 BHK', '2 BHK', '3 BHK', '3 BHK', '3 BHK', '4 Bedroom', '3 BHK', '1 BHK', '9 Bedroom', '3 Bedroom', '2 BHK', '4 BHK', '2 BHK', '3 BHK', '3 BHK', '2 BHK', '3 BHK', '2 BHK', '3 BHK', '3 BHK', '3 BHK', '2 BHK', '3 BHK', '8 Bedroom', '2 BHK', '2 BHK', '3 BHK', '2 BHK', '1 BHK', '3 BHK', '3 BHK', '3 BHK', '2 BHK', '3 Bedroom', '4 Bedroom', '2 BHK', '3 BHK', '2 BHK', '2 BHK', '4 BHK', '3 BHK', '2 BHK', '3 BHK', '3 Bedroom', '2 BHK', '2 BHK', '2 BHK', '2 BHK', '2 BHK', '3 BHK', '3 BHK', '3 Bedroom', '2 BHK', '3 BHK', '3 BHK', '3 BHK', '3 BHK', '3 BHK', '2 Bedroom', '2 BHK', '2 BHK', '7 Bedroom', '2 BHK', '2 BHK', '3 BHK', '2 BHK', '3 BHK', '3 BHK', '2 BHK', '3 BHK', '4 Bedroom', '2 BHK', '1 RK', '6 Bedroom', '2 BHK', '3 BHK', '3 BHK', '3 BHK', '2 BHK', '2 BHK', '5 Bedroom', '2 BHK', '3 BHK', '4 BHK', '3 BHK', '3 BHK', '2 BHK', '2 BHK', '8 Bedroom', '3 BHK', '2 BHK', '3 BHK', '3 Bedroom', '1 BHK', '3 BHK', '3 BHK', '2 BHK', '3 Bedroom', '5 Bedroom', '3 BHK', '2 BHK', '2 BHK', '4 Bedroom', '2 BHK', '2 BHK', '2 BHK', '2 BHK', '4 BHK', '2 BHK', '9 BHK', '2 BHK', '3 BHK', '3 BHK', '3 BHK', '4 BHK', '2 BHK', '5 Bedroom', '3 BHK', '2 BHK', '2 BHK', '2 BHK', '2 BHK', '3 BHK', '3 BHK', '2 BHK', '3 BHK', '2 BHK', '2 BHK', '3 Bedroom', '3 BHK', '2 BHK', '2 BHK', '2 BHK', '2 BHK', '3 Bedroom', '3 BHK', '3 BHK', '1 BHK', '3 BHK', '2 BHK', '2 Bedroom', '2 BHK', '2 BHK', '2 BHK', '3 BHK', '2 BHK', '3 BHK', '2 Bedroom', '1 Bedroom', '4 BHK', '3 BHK', '3 BHK', '3 BHK', '3 BHK', '2 BHK', '1 BHK', '1 BHK', '5 Bedroom', '3 BHK', '3 BHK', '2 BHK', '2 BHK', '3 BHK', '2 BHK', '3 BHK', '2 Bedroom', '2 BHK', '2 BHK', '5 Bedroom', '3 BHK', '3 BHK', '3 BHK', '2 BHK', '3 BHK', '2 BHK', '4 Bedroom', '3 BHK', '2 BHK', '2 BHK', '3 BHK', '1 BHK', '4 Bedroom', '2 BHK', '2 BHK', '2 BHK', '2 BHK', '3 BHK', '3 BHK', '2 BHK', '2 Bedroom', '4 Bedroom', '2 BHK', '2 BHK', '2 BHK', '2 BHK', '3 BHK', '2 BHK', '2 BHK', '3 BHK', '9 Bedroom', '1 BHK', '7 Bedroom', '2 BHK', '3 BHK', '2 BHK', '3 BHK', '3 BHK', '4 Bedroom', '2 BHK', '2 BHK', '2 BHK', '2 BHK', '3 BHK', '2 BHK', '3 BHK', '2 BHK', '3 BHK', '2 BHK', '3 BHK', '1 BHK', '2 BHK', '2 BHK', '2 BHK', '2 BHK', '2 BHK', '3 BHK', '3 BHK', '2 BHK', '3 Bedroom', '2 BHK', '3 BHK', '2 BHK', '2 Bedroom', '3 BHK', '2 BHK', '2 BHK', '2 BHK', '2 BHK', '2 BHK', '2 BHK', '2 BHK', '2 BHK', '3 BHK', '4 Bedroom', '5 Bedroom', '4 BHK', '2 BHK', '3 BHK', '2 BHK', '2 BHK', '2 BHK', '1 BHK', '3 BHK', '3 BHK', '2 BHK', '4 Bedroom', '2 BHK', '2 BHK', '3 BHK', '2 BHK', '2 BHK', '5 Bedroom', '3 BHK', '4 Bedroom', '2 BHK', '3 BHK', '2 BHK', '3 BHK', '2 BHK', '2 BHK', '3 Bedroom', '2 Bedroom', '3 BHK', '3 BHK', '3 BHK', '3 BHK', '5 Bedroom', '3 Bedroom', '4 BHK', '2 BHK', '2 BHK', '3 BHK', '2 BHK', '4 Bedroom', '7 Bedroom', '2 BHK', '2 BHK', '6 Bedroom', '3 BHK', '4 Bedroom', '2 BHK', '3 BHK', '2 BHK', '3 BHK', '2 BHK', '3 BHK', '3 BHK', '2 BHK', '3 BHK', '5 Bedroom', '2 BHK', '2 BHK', '9 Bedroom', '4 Bedroom', '4 BHK', '3 BHK', '4 BHK', '4 Bedroom', '4 BHK', '2 BHK', '3 BHK', '3 BHK', '2 BHK', '3 Bedroom', '3 BHK', '3 BHK', '3 BHK', '1 BHK', '4 BHK', '3 BHK', '2 BHK', '2 BHK', '3 BHK', '4 BHK', '2 BHK', '3 BHK', '3 Bedroom', '3 Bedroom', '3 BHK', '3 Bedroom', '2 BHK', '3 Bedroom', '2 BHK', '6 Bedroom', '3 Bedroom', '3 BHK', '1 BHK', '2 BHK', '2 BHK', '3 BHK', '3 BHK', '2 BHK', '3 BHK', '3 BHK', '3 BHK', '2 BHK', '2 Bedroom', '2 BHK', '2 BHK', '2 BHK', '3 Bedroom', '2 BHK', '3 BHK', '1 BHK', '2 BHK', '4 Bedroom', '2 BHK', '2 BHK', '4 Bedroom', '2 BHK', '3 BHK', '3 BHK', '2 BHK', '4 BHK', '4 BHK', '3 BHK', '2 BHK', '3 BHK', '3 BHK', '3 BHK', '4 BHK', '2 BHK', '2 BHK', '2 BHK', '3 BHK', '1 BHK', '2 BHK', '3 BHK', '4 Bedroom', '3 BHK', '5 Bedroom', '6 Bedroom', '3 BHK', '3 BHK', '6 BHK', '3 BHK', '2 BHK', '5 Bedroom', '2 BHK', '3 BHK', '5 Bedroom', '3 Bedroom', '4 BHK', '3 BHK', '5 BHK', '1 BHK', '4 Bedroom', '2 BHK', '2 BHK', '3 BHK', '3 BHK', '1 BHK', '3 Bedroom', '4 BHK', '2 BHK', '2 BHK', '1 Bedroom', '2 BHK', '3 BHK', '2 BHK', '7 Bedroom', '2 BHK', '3 BHK', '2 BHK', '2 BHK', '2 BHK', '3 BHK', '3 BHK', '3 BHK', '2 BHK', '4 Bedroom', '3 Bedroom', '3 BHK', '2 Bedroom', '2 BHK', '4 BHK', '3 BHK', '27 BHK', '4 BHK', '2 BHK', '2 BHK', '2 BHK', '2 BHK', '1 BHK', '3 BHK', '2 BHK', '4 Bedroom', '2 BHK', '2 BHK', '2 BHK', '3 BHK', '1 BHK', '4 Bedroom', '2 BHK', '10 Bedroom', '2 BHK', '2 BHK', '2 BHK', '3 BHK', '3 Bedroom', '1 BHK', '3 BHK', '3 BHK', '5 Bedroom', '4 Bedroom', '2 BHK', '2 BHK', '2 BHK', '3 Bedroom', '3 BHK', '2 BHK', '3 BHK', '2 BHK', '2 BHK', '3 BHK', '4 Bedroom', '2 BHK', '8 Bedroom', '3 BHK', '2 BHK', '3 Bedroom', '2 BHK', '3 BHK', '2 BHK', '4 BHK', '2 BHK', '2 BHK', '11 Bedroom', '6 Bedroom', '4 Bedroom', '4 BHK', '3 BHK', '3 BHK', '3 BHK', '2BHK', '3 BHK', '2 BHK', '2 BHK', '3 BHK', '3 BHK', '3 BHK', '2 BHK', '2 BHK', '2 Bedroom', '2 BHK', '2 BHK', '3 BHK', '3 BHK', '4 Bedroom', '2 BHK', '3 BHK', '2 BHK', '2 BHK', '3 BHK', '10 Bedroom', '3 BHK', '3 BHK', '1 BHK', '2 BHK', '3 BHK', '2 BHK', '4 Bedroom', '2 BHK', '2 Bedroom', '3 BHK', '2 BHK', '3 BHK', '2 BHK', '2 Bedroom', '3 BHK', '2 BHK', '4 BHK', '2 BHK', '3 BHK', '3 Bedroom', '3 BHK', '3 BHK', '2 BHK', '3 BHK', '5 Bedroom', '3 Bedroom', '1 BHK', '2 BHK', '2 BHK', '7 Bedroom', '2 BHK', '2 Bedroom', '4 BHK', '2 BHK', '3 Bedroom', '4 BHK', '3 Bedroom', '2 BHK', '3 BHK', '4 BHK', '2 BHK', '3 BHK', '4 BHK', '3 BHK', '4 BHK', '3 BHK', '3 BHK', '2 BHK', '2 BHK', '2 BHK', '2 Bedroom', '2 BHK', '3 BHK', '2 BHK', '2 BHK', '2 BHK', '4 BHK', '2 BHK', '3 BHK', '4 BHK', '3 BHK', '3 BHK', '2 Bedroom', '2 BHK', '5 Bedroom', '2 BHK', '2 BHK', '3 Bedroom', '2 BHK', '2 BHK', '2 BHK', '4 Bedroom', '2 Bedroom', '2 BHK', '4 Bedroom', '3 Bedroom', '3 BHK', '5 Bedroom', '3 BHK', '3 Bedroom', '2 Bedroom', '2 Bedroom', '4 Bedroom', '2 BHK', '6 BHK', '4 BHK', '3 BHK', '3 BHK', '2 BHK', '4 Bedroom', '3 BHK', '7 BHK', '2 BHK', '4 BHK', '2 BHK', '3 BHK', '3 BHK', '2 BHK', '3 Bedroom', '2 BHK', '2 BHK', '2 BHK', '2 BHK', '2 BHK', '2 BHK', '3 BHK', '3 BHK', '4 Bedroom', '2 Bedroom', '3 BHK', '2 BHK', '1 BHK', '2 BHK', '3 BHK', '2 BHK', '2 Bedroom', '2 Bedroom', '2 BHK', '2 BHK', '3 BHK', '2 BHK', '4 Bedroom', '2 BHK', '2 BHK', '2 BHK', '3 BHK', '2 BHK', '4 Bedroom', '2 BHK', '3 BHK', '3 BHK', '2 BHK', '3 BHK', '2 Bedroom', '4 Bedroom', '3 BHK', '2 BHK', '2 BHK', '3 BHK', '3 BHK', '1 BHK', '9 Bedroom', '2 BHK', '6 Bedroom', '3 BHK', '3 Bedroom', '3 BHK', '3 BHK', '2 Bedroom', '1 BHK', '4 Bedroom', '3 BHK', '4 Bedroom', '2 BHK', '3 BHK', '2 BHK', '3 BHK', '8 Bedroom', '3 BHK', '2 BHK', '3 BHK', '2 BHK', '2 BHK', '3 BHK', '3 BHK', '2 BHK', '3 BHK', '2 BHK', '1 BHK', '3 BHK', '2 BHK', '1 BHK', '2 BHK', '3 BHK', '3 BHK', '3 BHK', '2 BHK', '2 BHK', '3 Bedroom', '3 BHK', '4 BHK', '3 BHK', '3 Bedroom', '8 Bedroom', '3 Bedroom', '2 BHK', '3 BHK', '2 BHK', '4 Bedroom', '4 Bedroom', '3 BHK', '3 BHK', '2 BHK', '3 BHK', '2 BHK', '2 BHK', '3 BHK', '2 BHK', '2 BHK', '7 Bedroom', '2 BHK', '1 BHK', '3 BHK', '3 BHK', '4 BHK', '1 BHK', '1 BHK', '2 BHK', '3 BHK', '2 BHK', '2 Bedroom', '1 BHK', '3 BHK', '3 BHK', '3 BHK', '3 BHK', '3 BHK', '3 BHK', '3 Bedroom', '2 BHK', '2 BHK', '2 BHK', '2 BHK', '4 Bedroom', '3 BHK', '2 Bedroom', '3 BHK', '3 BHK', '7 Bedroom', '2 BHK', '1 BHK', '2 BHK', '3 BHK', '4 BHK', '3 BHK', '7 Bedroom', '2 BHK', '6 Bedroom', '2 BHK', '2 BHK', '1 BHK', '2 BHK', '3 Bedroom', '4 BHK', '2 BHK', '1 BHK', '3 BHK', '3 BHK', '3 BHK', '2 BHK', '3 BHK', '3 BHK', '3 BHK', '2 BHK', '2 BHK', '3 BHK', '3 BHK', '2 BHK', '3 BHK', '2 BHK', '2 BHK', '3 BHK', '3 BHK', '2 BHK', '2 BHK', '2 BHK', '2 Bedroom', '3 BHK', '2 BHK', '3 BHK', '3 BHK', '4 Bedroom', '3 BHK', '2 Bedroom', '3 BHK', '2 Bedroom', '2 BHK', '4 BHK', '3 BHK', '2 BHK', '3 BHK', '3 BHK', '3 Bedroom', '2 BHK', '3 BHK', '4 Bedroom', '2 BHK', '2 BHK', '3 BHK', '2 BHK', '5 Bedroom', '2 BHK', '2 BHK', '3 BHK', '2 BHK', '2 BHK', '2 BHK', '3 BHK', '1 BHK', '3 Bedroom', '2 BHK', '3 BHK', '2 BHK', '2 Bedroom', '2 BHK', '2 BHK', '2 BHK', '4 Bedroom', '3 Bedroom', '2 BHK', '3 BHK', '3 BHK', '5 Bedroom', '3 BHK', '3 BHK', '3 BHK', '2 BHK', '4 BHK', '3 BHK', '4 Bedroom', '3 BHK', '4 Bedroom', '2 BHK', '3 BHK', '4 BHK', '3 BHK', '3 BHK', '2 Bedroom', '2 BHK', '3 BHK', '2 BHK', '2 BHK', '1 BHK', '2 BHK', '2 BHK', '2 BHK', '4 Bedroom', '4 Bedroom', '3 BHK', '4 Bedroom', '3 BHK', '3 BHK', '3 Bedroom', '2 BHK', '3 BHK', '3 BHK', '4 BHK', '4 BHK', '3 BHK', '2 BHK', '4 Bedroom', '2 BHK', '2 BHK', '2 BHK', '1 BHK', '3 BHK', '3 BHK', '4 BHK', '3 BHK', '2 BHK', '1 BHK', '3 BHK', '3 BHK', '2 BHK', '3 BHK', '4 Bedroom', '8 Bedroom', '2 BHK', '3 Bedroom', '9 Bedroom', '1 BHK', '2 BHK', '3 Bedroom', '3 BHK', '2 BHK', '2 BHK', '2 BHK', '3 BHK', '3 BHK', '2 BHK', '2 BHK', '8 Bedroom', '3 BHK', '6 Bedroom', '2 BHK', '4 Bedroom', '3 BHK', '2 BHK', '8 Bedroom', '2 BHK', '3 Bedroom', '5 BHK', '2 BHK', '2 BHK', '4 Bedroom', '4 BHK', '3 BHK', '3 BHK', '3 BHK', '2 BHK', '2 BHK', '2 BHK', '4 Bedroom', '2 BHK', '3 BHK', '1 BHK', '3 BHK', '2 BHK', '3 BHK', '3 BHK', '3 BHK', '2 BHK', '4 BHK', '3 Bedroom', '3 BHK', '2 BHK', '3 BHK', '5 Bedroom', '2 BHK', '2 BHK', '2 BHK', '2 BHK', '2 BHK', '3 BHK', '3 BHK', '2 BHK', '4 BHK', '4 Bedroom', '2 BHK', '2 BHK', '3 BHK', '2 BHK', '3 BHK', '2 BHK', '2 BHK', '2 BHK', '3 Bedroom', '2 BHK', '4 BHK', '2 BHK', '3 BHK', '4 Bedroom', '3 BHK', '2 Bedroom', '6 Bedroom', '2 BHK', '2 Bedroom', '2 Bedroom', '2 Bedroom', '2 BHK', '2 BHK', '2 BHK', '3 BHK', '2 BHK', '3 BHK', '2 BHK', '6 BHK', '2 BHK', '2 BHK', '2 BHK', '3 BHK', '1 Bedroom', '2 BHK', '3 BHK', '3 Bedroom', '3 BHK', '3 BHK', '3 BHK', '2BHK', '4 BHK', '4 BHK', '4 BHK', '2 BHK', '2 BHK', '4 Bedroom', '3 BHK', '4 BHK', '3 BHK', '3 Bedroom', '2 BHK', '2 BHK', '3 BHK', '3 BHK', '2 BHK', '1 BHK', '3 BHK', '3 BHK', '2 BHK', '2 Bedroom', '3 BHK', '4 Bedroom', '2 BHK', '2 BHK', '2 BHK', '2 BHK', '3 BHK', '5 Bedroom', '2 BHK', '3 BHK', '2 BHK', '3 BHK', '1 Bedroom', '3 BHK', '3 BHK', '3 Bedroom', '2 BHK', '3 BHK', '2 BHK', '2 BHK', '2 BHK', '4 BHK', '2 BHK', '3 BHK', '4 Bedroom', '4 BHK', '1 BHK', '3 BHK', '2 BHK', '6 Bedroom', '2 BHK', '3 BHK', '2 BHK', '2 Bedroom', '2 BHK', '3 BHK', '3 BHK', '4 Bedroom', '2 BHK', '2 BHK', '3 BHK', '2 BHK', '2 BHK', '4 Bedroom', '2 BHK', '3 BHK', '3 BHK', '2 BHK', '3 BHK', '2 BHK', '5 Bedroom', '2 BHK', '3 BHK', '4 BHK', '2 BHK', '2 BHK', '4 Bedroom', '2 BHK', '2 BHK', '3 BHK', '2 BHK', '2 BHK', '2 BHK', '3 BHK', '2 Bedroom', '2 BHK', '3 BHK', '4 BHK', '5 Bedroom', '3 BHK', '4 Bedroom', '2 BHK', '2 BHK', '2 BHK', '3 BHK', '3 BHK', '3 BHK', '3 BHK', '3 BHK', '2 BHK', '3 BHK', '4 Bedroom', '4 Bedroom', '5 Bedroom', '3 BHK', '2 BHK', '3 Bedroom', '3 BHK', '4 Bedroom', '2 BHK', '2 BHK', '2 BHK', '2 BHK', '2 BHK', '4 BHK', '4 Bedroom', '3 BHK', '2 Bedroom', '3 BHK', '2 BHK', '3 BHK', '3 BHK', '3 BHK', '3 BHK', '3 BHK', '3 BHK', '4 Bedroom', '4 BHK', '2 BHK', '3 BHK', '2 BHK', '1 BHK', '3 BHK', '2 BHK', '1 BHK', '5 Bedroom', '3 Bedroom', '2 BHK', '3 BHK', '1 BHK', '2 BHK', '3 BHK', '4 Bedroom', '2 BHK', '1 Bedroom', '2 BHK', '2 BHK', '2 BHK', '3 BHK', '2 Bedroom', '3 BHK', '2 Bedroom', '4 Bedroom', '2 BHK', '2 BHK', '2 BHK', '4 Bedroom', '2 BHK', '4 Bedroom', '3 BHK', '2 BHK', '3 BHK', '3 BHK', '4 BHK', '4 Bedroom', '3 BHK', '4 BHK', '3 BHK', '3 BHK', '3 BHK', '2 BHK', '2 BHK', '1 BHK', '2 BHK', '6 Bedroom', '4 BHK', '5 Bedroom', '3 BHK', '2 BHK', '3 BHK', '3 BHK', '2 BHK', '3 BHK', '2 BHK', '3 Bedroom', '3 BHK', '3 BHK', '3 BHK', '3 BHK', '3 Bedroom', '2 BHK', '2 BHK', '5 Bedroom', '3 BHK', '7 Bedroom', '2 BHK', '2 Bedroom', '2 BHK', '1 BHK', '6 Bedroom', '2 BHK', '2 BHK', '2 BHK', '4 Bedroom', '3 Bedroom', '2 BHK', '2 BHK', '2 BHK', '3 BHK', '2 Bedroom', '2 BHK', '3 BHK', '2 BHK', '2 BHK', '1 Bedroom', '3 BHK', '2 BHK', '2 BHK', '3 BHK', '2 BHK', '3 BHK', '1 RK', '5 Bedroom', '2 BHK', '3 BHK', '2 BHK', '2 BHK', '2 BHK', '2 BHK', '3 BHK', '3 Bedroom', '3 BHK', '3 BHK', '4 BHK', '3 BHK', '4 BHK', '4 BHK', '4 BHK', '2 BHK', '2 BHK', '2 BHK', '4 BHK', '2 BHK', '3 BHK', '2 BHK', '3 BHK', '3 BHK', '3 BHK', '3 BHK', '2 BHK', '2 BHK', '2 BHK', '3 BHK', '4 Bedroom', '5 BHK', '3 Bedroom', '6 Bedroom', '3 BHK', '2 BHK', '2 BHK', '2 BHK', '3 BHK', '2 BHK', '4 BHK', '2 BHK', '2 BHK', '2 BHK', '2 BHK', '2 BHK', '3 BHK', '3 BHK', '5 Bedroom', '3 BHK', '3 BHK', '1 BHK', '2 BHK', '3 BHK', '2 BHK', '4 Bedroom', '3 BHK', '2 BHK', '3 BHK', '3 BHK', '2 BHK', '4 BHK', '2 BHK', '3 BHK', '7 Bedroom', '2 BHK', '3 BHK', '2 BHK', '3 BHK', '1 RK', '2 BHK', '3 Bedroom', '4 Bedroom', '3 BHK', '3 Bedroom', '4 BHK', '3 BHK', '3 BHK', '3 BHK', '2 BHK', '3 Bedroom', '2 BHK', '3 BHK', '2 BHK', '3 BHK', '2 BHK', '2 BHK', '4 BHK', '2 BHK', '2 BHK', '2 BHK', '4 BHK', '1 Bedroom', '3 BHK', '2 BHK', '2 BHK', '4 BHK', '2 BHK', '2 BHK', '1 BHK', '2 BHK', '2 BHK', '2 BHK', '3 BHK', '2 BHK', '2 BHK', '3 BHK', '3 BHK', '4 Bedroom', '2 BHK', '2 BHK', '3 BHK', '3 BHK', '3 BHK', '4 BHK', '2 BHK', '3 BHK', '2 BHK', '3 BHK', '2 BHK', '4 Bedroom', '3 BHK', '2 BHK', '2 BHK', '3 BHK', '3 BHK', '3 BHK', '3 BHK', '2 BHK', '4 BHK', '2 BHK', '3 BHK', '6 BHK', '3 BHK', '3 BHK', '4 Bedroom', '3 BHK', '2 BHK', '2 BHK', '3 BHK', '3 BHK', '3 BHK', '4 Bedroom', '2 BHK', '3 BHK', '2 BHK', '3 Bedroom', '3 Bedroom', '2 BHK', '3 BHK', '2 BHK', '3 BHK', '2 BHK', '2 BHK', '2 BHK', '3 BHK', '2 BHK', '3 BHK', '3 BHK', '2 BHK', '2 BHK', '7 Bedroom', '3 BHK', '2 BHK', '2 BHK', '2 BHK', '4 Bedroom', '2 BHK', '2 BHK', '4 BHK', '2 BHK', '2 BHK', '4 BHK', '2 Bedroom', '4 Bedroom', '4 Bedroom', '2 BHK', '3 BHK', '3 BHK', '3 BHK', '2 BHK', '2 BHK', '3 BHK', '3 BHK', '3 BHK', '3 BHK', '3 BHK', '3 Bedroom', '2 BHK', '3 BHK', '3 Bedroom', '2 BHK', '3 Bedroom', '1 BHK', '3 BHK', '2 BHK', '2 BHK', '3 BHK', '3 BHK', '2 BHK', '2 BHK', '2 BHK', '3 BHK', '2 BHK', '2 BHK', '2 BHK', '4 Bedroom', '2 BHK', '3 BHK', '2 BHK', '2 BHK', '2 BHK', '3 BHK', '2 BHK', '1 BHK', '3 BHK', '3 BHK', '2 BHK', '3 BHK', '2 BHK', '3 BHK', '3 BHK', '3 BHK', '3 BHK', '2 BHK', '3 BHK', '2 BHK', '2 BHK', '2 BHK', '1 BHK', '3 Bedroom', '3 BHK', '3 BHK', '3 BHK', '2 BHK', '3 BHK', '2 BHK', '2 BHK', '2 BHK', '3 BHK', '2 BHK', '2 BHK', '2 BHK', '3 BHK', '2 BHK', '3 Bedroom', '4 BHK', '3 BHK', '3 BHK', '2 BHK', '2 BHK', '7 BHK', '2 BHK', '2 BHK', '3 BHK', '3 Bedroom', '3 BHK', '4 Bedroom', '2 BHK', '2 BHK', '2 BHK', '2 BHK', '3 Bedroom', '2 BHK', '7 Bedroom', '2 BHK', '2 BHK', '1 BHK', '2 BHK', '2 BHK', '4 Bedroom', '3 BHK', '3 BHK', '3 BHK', '2 BHK', '3 Bedroom', '2 BHK', '4 Bedroom', '2 BHK', '4 BHK', '2 BHK', '3 BHK', '4 Bedroom', '2 BHK', '2 BHK', '2 BHK', '4 Bedroom', '1 BHK', '2 BHK', '2 BHK', '5 Bedroom', '2 Bedroom', '2 BHK', '7 Bedroom', '3 BHK', '3 BHK', '2 BHK', '2 BHK', '4 Bedroom', '3 BHK', '1 RK', '3 Bedroom', '3 BHK', '3 BHK', '2 BHK', '2 BHK', '6 Bedroom', '3 BHK', '3 BHK', '4 Bedroom', '2 Bedroom', '4 Bedroom', '2 BHK', '3 BHK', '4 Bedroom', '6 Bedroom', '2 BHK', '3 BHK', '2 Bedroom', '2 BHK', '2 BHK', '2BHK', '2 BHK', '3 BHK', '1 BHK', '3 BHK', '2 BHK', '9 Bedroom', '3 BHK', '3 BHK', '2 BHK', '2 BHK', '3 BHK', '2 BHK', '2 BHK', '2 BHK', '3 BHK', '3 BHK', '9 Bedroom', '2 BHK', '2 BHK', '2 BHK', '2 BHK', '3 BHK', '2 BHK', '2 BHK', '3 BHK', '3 Bedroom', '3 BHK', '2 BHK', '1 BHK', '2 BHK', '3 BHK', '1 BHK', '2 BHK', '3 Bedroom', '1 Bedroom', '2 BHK', '1 Bedroom', '3 BHK', '2 BHK', '3 BHK', '4 BHK', '3 BHK', '2 BHK', '1 BHK', '3 BHK', '2 Bedroom', '2 BHK', '9 Bedroom', '1 BHK', '2 BHK', '4 BHK', '2 BHK', '2BHK', '4 Bedroom', '4 Bedroom', '2 BHK', '1 Bedroom', '3 BHK', '3 BHK', '2 BHK', '2 BHK', '2 BHK', '2 BHK', '6 Bedroom', '3 BHK', '2 BHK', '3 Bedroom', '2 BHK', '5 Bedroom', '2 BHK', '3 BHK', '2 BHK', '2 BHK', '3 BHK', '4 Bedroom', '7 Bedroom', '3 BHK', '3 BHK', '2 BHK', '2 BHK', '3 BHK', '2 BHK', '3 BHK', '3 Bedroom', '1 BHK', '3 BHK', '2 BHK', '4 Bedroom', '2 BHK', '2 BHK', '3 Bedroom', '4 Bedroom', '2 BHK', '3 Bedroom', '2 BHK', '2 BHK', '2 BHK', '3 Bedroom', '3 BHK', '3 BHK', '4 Bedroom', '3 BHK', '3 Bedroom', '3 BHK', '3 BHK', '3 BHK', '2 BHK', '2 BHK', '2 BHK', '1 BHK', '2 BHK', '2 BHK', '3 BHK', '2 BHK', '4 Bedroom', '2 BHK', '3 BHK', '7 Bedroom', '2 BHK', '9 Bedroom', '2 BHK', '4 Bedroom', '3 BHK', '3 BHK', '2 BHK', '2 BHK', '2 BHK', '7 Bedroom', '3 BHK', '2 BHK', '1 BHK', '2 BHK', '2 BHK', '4 BHK', '3 BHK', '2 BHK', '2 Bedroom', '5 Bedroom', '2 BHK', '2 BHK', '3 Bedroom', '3 BHK', '3 BHK', '2 BHK', '2 BHK', '2 BHK', '3 BHK', '2 BHK', '2 BHK', '5 BHK', '2 BHK', '3 BHK', '2 BHK', '3 BHK', '2 BHK', '2 BHK', '2 BHK', '3 BHK', '3 BHK', '2 BHK', '2 BHK', '2 BHK', '3 BHK', '1 BHK', '2 BHK', '3 BHK', '2 BHK', '2 BHK', '3 BHK', '2 BHK', '2 Bedroom', '3 BHK', '3 BHK', '2 BHK', '3 BHK', '3 BHK', '3 BHK', '5 Bedroom', '2 BHK', '2 BHK', '2 BHK', '3 BHK', '2 BHK', '3 Bedroom', '3 Bedroom', '2 Bedroom', '2 BHK', '1 BHK', '3 BHK', '3 BHK', '5 Bedroom', '2 BHK', '5 Bedroom', '2 BHK', '3 BHK', '4 BHK', '1 Bedroom', '3 BHK', '2 BHK', '3 BHK', '4 Bedroom', '2 BHK', '3 BHK', '2 BHK', '3 BHK', '3 BHK', '2 BHK', '2 BHK', '2 BHK', '2 BHK', '4 Bedroom', '3 BHK', '2 BHK', '4 Bedroom', '3 BHK', '2 BHK', '3 BHK', '3 BHK', '5 Bedroom', '3 BHK', '5 Bedroom', '3 BHK', '2 BHK', '3 BHK', '2 BHK', '3 BHK', '3 BHK', '2 Bedroom', '5 BHK', '7 Bedroom', '3 BHK', '2 BHK', '2 BHK', '2 BHK', '3 BHK', '5 Bedroom', '1 BHK', '2 BHK', '2 BHK', '3 BHK', '3 BHK', '3 BHK', '2 BHK', '2 BHK', '4 Bedroom', '2 BHK', '2 BHK', '3 Bedroom', '2 BHK', '2 BHK', '2 BHK', '3 BHK', '3 BHK', '3 BHK', '5 BHK', '3 BHK', '2 BHK', '1 Bedroom', '2 BHK', '2 BHK', '3 BHK', '2 BHK', '3 BHK', '3 Bedroom', '2 BHK', '4 BHK', '3 BHK', '4 Bedroom', '3 BHK', '3 BHK', '2 BHK', '2 BHK', '3 BHK', '5 Bedroom', '2 BHK', '2 BHK', '2 BHK', '5 Bedroom', '3 BHK', '3 BHK', '2 BHK', '2 BHK', '6 Bedroom', '2 BHK', '3 BHK', '8 Bedroom', '10 BHK', '5 Bedroom', '3 BHK', '2 BHK', '3 BHK', '3 BHK', '2 BHK', '2 BHK', '3 BHK', '6 Bedroom', '2 BHK', '3 BHK', '2 BHK', '4 BHK', '3 BHK', '4 BHK', '2 BHK', '3 Bedroom', '3 BHK', '3 BHK', '2 BHK', '4 BHK', '2 BHK', '3 BHK', '2 BHK', '4 Bedroom', '4 BHK', '5 Bedroom', '4 Bedroom', '3 BHK', '3 Bedroom', '2 BHK', '3 BHK', '2 BHK', '2 BHK', '3 BHK', '2 BHK', '3 BHK', '4 BHK', '2 BHK', '2 BHK', '2 BHK', '3 BHK', '3 BHK', '5 BHK', '2 BHK', '3 BHK', '2 BHK', '3 BHK', '3 BHK', '3 BHK', '3 BHK', '3 BHK', '3 BHK', '3 BHK', '4 Bedroom', '1 BHK', '3 Bedroom', '4 Bedroom', '3 Bedroom', '4 BHK', '4 Bedroom', '3 BHK', '3 BHK', '2 BHK', '3 BHK', '3 BHK', '4 Bedroom', '4 Bedroom', '3 BHK', '2 BHK', '3 BHK', '2 BHK', '4 BHK', '1 BHK', '2 BHK', '4 Bedroom', '2 BHK', '4 BHK', '3 BHK', '3 BHK', '2 BHK', '3 BHK', '3 BHK', '5 BHK', '2 BHK', '3 BHK', '3 BHK', '3 BHK', '3 BHK', '3 BHK', '2 BHK', '3 BHK', '1 BHK', '3 BHK', '7 Bedroom', '2 BHK', '3 BHK', '2 BHK', '4 Bedroom', '3 BHK', '3 BHK', '3 BHK', '2 BHK', '3 BHK', '2 BHK', '2 BHK', '2 BHK', '2 BHK', '3 BHK', '3 BHK', '4 BHK', '2 BHK', '2 BHK', '3 BHK', '7 Bedroom', '2 BHK', '3 BHK', '3 BHK', '2 BHK', '2 BHK', '3 BHK', '2 BHK', '2 BHK', '4 Bedroom', '3 BHK', '2 BHK', '6 Bedroom', '1 BHK', '2 BHK', '2 BHK', '2 BHK', '5 Bedroom', '3 BHK', '2 BHK', '3 BHK', '3 BHK', '3 BHK', '2 BHK', '5 Bedroom', '2 Bedroom', '3 BHK', '2 BHK', '2 Bedroom', '2 BHK', '4 Bedroom', '3 BHK', '2 BHK', '3 Bedroom', '3 BHK', '4 Bedroom', '2 BHK', '3 BHK', '3 BHK', '3 BHK', '3 BHK', '2 Bedroom', '2 BHK', '2 BHK', '2 BHK', '3 BHK', '2 BHK', '2 Bedroom', '2 BHK', '2 BHK', '2 BHK', '4 BHK', '2 BHK', '4 BHK', '3 BHK', '2 BHK', '2 BHK', '2 BHK', '2 BHK', '2 BHK', '2 BHK', '2 BHK', '2 BHK', '2 BHK', '4 Bedroom', '3 BHK', '2 BHK', '1 BHK', '3 BHK', '2 BHK', '3 BHK', '5 Bedroom', '3 BHK', '2 BHK', '4 Bedroom', '4 Bedroom', '2 BHK', '3 Bedroom', '3 BHK', '3 BHK', '5 Bedroom', '2 BHK', '4 Bedroom', '2 BHK', '2 BHK', '3 BHK', '6 Bedroom', '2 BHK', '2 BHK', '4 BHK', '2 BHK', '3 Bedroom', '3 BHK', '2 BHK', '3 BHK', '3 BHK', '3 BHK', '2 BHK', '3 BHK', '2 BHK', '2 BHK', '2 BHK', '3 BHK', '2 BHK', '3 Bedroom', '3 BHK', '6 Bedroom', '3 BHK', '3 BHK', '3 BHK', '2 BHK', '2 BHK', '2 BHK', '2 BHK', '3 BHK', '2 BHK', '2 BHK', '3 Bedroom', '3 BHK', '3 BHK', '2 BHK', '3 BHK', '2 BHK', '3 BHK', '2 BHK', '1 BHK', '2 BHK', '3 BHK', '3 BHK', '3 BHK', '2 BHK', '3 Bedroom', '4 Bedroom', '3 BHK', '3 Bedroom', '3 BHK', '3 BHK', '2 BHK', '3 BHK', '2 BHK', '3 BHK', '3 BHK', '2 BHK', '5 BHK', '2 BHK', '4 BHK', '4 Bedroom', '3 BHK', '2 BHK', '2 BHK', '3 BHK', '2 BHK', '3 BHK', '1 BHK', '3 BHK', '3 BHK', '4 BHK', '1 BHK', '3 BHK', '3 BHK', '2 BHK', '3 BHK', '2 BHK', '2 BHK', '3 BHK', '1 BHK', '5 BHK', '2 BHK', '19 BHK', '3 Bedroom', '2 BHK', '3 BHK', '3 BHK', '2 BHK', '3 BHK', '3 BHK', '4 BHK', '5 Bedroom', '2 BHK', '2 Bedroom', '2 BHK', '2 BHK', '2 BHK', '3 BHK', '6 Bedroom', '2 BHK', '6 Bedroom', '3 BHK', '2 BHK', '3 BHK', '2 BHK', '2 BHK', '3 BHK', '1 BHK', '3 BHK', '3 BHK', '2 BHK', '4 Bedroom', '3 BHK', '3 BHK', '3 BHK', '3 BHK', '4 BHK', '4 BHK', '3 BHK', '2 BHK', '2 BHK', '5 Bedroom', '2 Bedroom', '2 BHK', '2 BHK', '2 BHK', '3 BHK', '4 BHK', '5 BHK', '3 BHK', '4 BHK', '2 BHK', '2 BHK', '4 BHK', '2 BHK', '2 BHK', '4 Bedroom', '2 BHK', '1 BHK', '2 Bedroom', '6 Bedroom', '3 BHK', '2 Bedroom', '6 Bedroom', '3 BHK', '5 Bedroom', '2 BHK', '2 BHK', '4 Bedroom', '3 BHK', '3 BHK', '3 BHK', '3 BHK', '5 Bedroom', '5 BHK', '2 BHK', '1 BHK', '2 BHK', '2 BHK', '3 BHK', '3 BHK', '3 BHK', '3 Bedroom', '4 Bedroom', '2 Bedroom', '3 BHK', '3 BHK', '1 BHK', '2 BHK', '6 Bedroom', '3 BHK', '2 BHK', '4 Bedroom', '3 BHK', '3 BHK', '3 BHK', '2 BHK', '2 BHK', '2 BHK', '3 BHK', '2 BHK', '3 Bedroom', '2 BHK', '3 BHK', '3 BHK', '2 Bedroom', '6 Bedroom', '3 BHK', '2 BHK', '3 BHK', '2 BHK', '3 BHK', '4 Bedroom', '4 Bedroom', '2 BHK', '2 BHK', '2 BHK', '2 BHK', '1 Bedroom', '2 BHK', '1 BHK', '3 BHK', '3 BHK', '3 BHK', '3 BHK', '2 BHK', '1 BHK', '2 BHK', '2 BHK', '5 Bedroom', '2 BHK', '2 BHK', '3 Bedroom', '3 BHK', '7 Bedroom', '3 BHK', '1 Bedroom', '4 BHK', '2 BHK', '2 Bedroom', '2 BHK', '4 BHK', '3 BHK', '3 BHK', '2 Bedroom', '3 BHK', '10 Bedroom', '4 BHK', '2 Bedroom', '3 Bedroom', '8 Bedroom', '4 Bedroom', '2 BHK', '1 BHK', '3 Bedroom', '1 Bedroom', '2 BHK', '3 Bedroom', '3 BHK', '5 Bedroom', '2 BHK', '4 BHK', '1 BHK', '1 BHK', '4 BHK', '2 BHK', '2 BHK', '3 BHK', '3 BHK', '3 BHK', '3 BHK', '1 Bedroom', '2 BHK', '5 Bedroom', '2 BHK', '2 BHK', '3 BHK', '2 BHK', '3 BHK', '3 BHK', '4 BHK', '3 BHK', '3 BHK', '3 BHK', '2 BHK', '4 Bedroom', '3 Bedroom', '2 BHK', '2 BHK', '3 Bedroom', '2 BHK', '3 Bedroom', '2 BHK', '3 BHK', '2 BHK', '2 BHK', '2 BHK', '2 BHK', '4 Bedroom', '2 BHK', '1 BHK', '2 BHK', '2 BHK', '3 BHK', '2 BHK', '2 BHK', '3 BHK', '2 BHK', '2 BHK', '3 BHK', '2 BHK', '4 BHK', '2 BHK', '3 BHK', '3 BHK', '4 BHK', '3 BHK', '6 Bedroom', '2 Bedroom', '6 Bedroom', '3 BHK', '4 BHK', '2 BHK', '3 BHK', '2 BHK', '2 BHK', '2 BHK', '2 BHK', '1 BHK', '4 BHK', '4 BHK', '1 BHK', '16 BHK', '4 Bedroom', '3 BHK', '2 BHK', '4 BHK', '2 BHK', '2 BHK', '2 BHK', '2 BHK', '3 BHK', '3 BHK', '3 BHK', '3 BHK', '3 Bedroom', '2 BHK', '2 BHK', '3 BHK', '3 BHK', '2 BHK', '2 BHK', '2 BHK', '4 BHK', '3 BHK', '3 BHK', '3 BHK', '3 BHK', '2 BHK', '4 Bedroom', '2 BHK', '3 Bedroom', '4 Bedroom', '2 BHK', '4 BHK', '2 BHK', '1 BHK', '3 Bedroom', '3 BHK', '4 Bedroom', '4 Bedroom', '2 BHK', '2 BHK', '3 BHK', '1 Bedroom', '3 BHK', '3 BHK', '3 BHK', '2 BHK', '1 BHK', '3 BHK', '2 BHK', '3 BHK', '2 BHK', '2 BHK', '3 BHK', '2 BHK', '3 BHK', '7 Bedroom', '1 BHK', '2 BHK', '3 BHK', '3 BHK', '1 BHK', '2 BHK', '2 BHK', '4 Bedroom', '2 BHK', '2 BHK', '2 BHK', '2 BHK', '3 Bedroom', '2 BHK', '2 BHK', '1 BHK', '3 BHK', '1 BHK', '2 BHK', '6 Bedroom', '2 BHK', '2 BHK', '2 BHK', '4 Bedroom', '3 BHK', '2 BHK', '5 Bedroom', '3 BHK', '2 BHK', '3 BHK', '4 Bedroom', '4 Bedroom', '3 BHK', '3 BHK', '2 BHK', '3 BHK', '3 BHK', '3 Bedroom', '5 Bedroom', '4 BHK', '4 Bedroom', '3 BHK', '2 BHK', '3 BHK', '1 BHK', '3 BHK', '2 BHK', '2 Bedroom', '4 BHK', '2 BHK', '5 Bedroom', '2 BHK', '3 BHK', '3 BHK', '3 BHK', '3 BHK', '3 BHK', '2 BHK', '2 BHK', '2 BHK', '3 Bedroom', '4 BHK', '4 BHK', '3 BHK', '3 BHK', '2 BHK', '7 Bedroom', '3 BHK', '4 Bedroom', '3 BHK', '4 BHK', '4 BHK', '2 BHK', '2 BHK', '3 BHK', '1 BHK', '3 BHK', '3 Bedroom', '1 BHK', '2 Bedroom', '3 BHK', '2 BHK', '3 BHK', '2 BHK', '2 BHK', '3 BHK', '2 BHK', '6 Bedroom', '3 BHK', '3 BHK', '1 BHK', '3 BHK', '2 BHK', '2 BHK', '3 BHK', '3 BHK', '3 BHK', '2 BHK', '3 Bedroom', '2 BHK', '3 BHK', '2 BHK', '3 BHK', '6 Bedroom', '3 BHK', '2 Bedroom', '2 BHK', '2 BHK', '2 BHK', '2 BHK', '2 BHK', '1 BHK', '3 Bedroom', '2 BHK', '2 BHK', '3 BHK', '3 BHK', '2 BHK', '3 BHK', '3 Bedroom', '3 BHK', '3 Bedroom', '2 BHK', '2 BHK', '5 Bedroom', '3 BHK', '2 BHK', '4 Bedroom', '6 Bedroom', '3 BHK', '3 BHK', '2 Bedroom', '2 BHK', '3 BHK', '2 BHK', '3 BHK', '2 BHK', '3 BHK', '3 BHK', '5 Bedroom', '2 BHK', '3 BHK', '2 BHK', '3 BHK', '4 BHK', '4 BHK', '3 BHK', '3 BHK', '3 BHK', '9 Bedroom', '2 BHK', '2 BHK', '2 Bedroom', '2 BHK', '3 BHK', '2 BHK', '5 Bedroom', '4 BHK', '2 BHK', '2 BHK', '3 BHK', '3 BHK', '2 BHK', '3 Bedroom', '1 BHK', '3 BHK', '2 BHK', '2 BHK', '3 BHK', '3 BHK', '4 Bedroom', '3 BHK', '4 BHK', '3 BHK', '2 BHK', '9 Bedroom', '2 BHK', '7 Bedroom', '2 BHK', '2 BHK', '3 BHK', '3 BHK', '2 BHK', '3 BHK', '2 BHK', '3 BHK', '3 BHK', '11 Bedroom', '2 BHK', '3 Bedroom', '2 BHK', '6 BHK', '2 BHK', '3 BHK', '2 BHK', '4 BHK', '4 Bedroom', '3 BHK', '3 BHK', '2 BHK', '3 BHK', '4 Bedroom', '3 BHK', '2 BHK', '4 Bedroom', '3 BHK', '2 BHK', '2 BHK', '3 BHK', '3 BHK', '2 BHK', '3 BHK', '3 BHK', '3 Bedroom', '3 BHK', '3 BHK', '4 Bedroom', '2 BHK', '3 BHK', '3 BHK', '4 Bedroom', '3 BHK', '2 BHK', '2 BHK', '3 BHK', '4 Bedroom', '2 BHK', '2 BHK', '3 BHK', '4 BHK', '3 BHK', '2 BHK', '2 BHK', '2 BHK', '2 BHK', '2 BHK', '2 BHK', '2 BHK', '2 BHK', '2 BHK', '2 BHK', '3 BHK', '2 BHK', '2 BHK', '3 BHK', '3 BHK', '2 BHK', '2 BHK', '3 BHK', '5 Bedroom', '7 Bedroom', '4 BHK', '2 BHK', '2 BHK', '3 Bedroom', '4 BHK', '2 BHK', '2 BHK', '2 BHK', '2 BHK', '4 Bedroom', '3 BHK', '3 BHK', '2 BHK', '3 BHK', '2 BHK', '3 BHK', '2 BHK', '3 BHK', '3 BHK', '5 Bedroom', '2 BHK', '3 BHK', '2 BHK', '4 BHK', '1 BHK', '5 Bedroom', '2 BHK', '1 Bedroom', '3 Bedroom', '2 BHK', '4 Bedroom', '4 BHK', '5 Bedroom', '2 BHK', '2 BHK', '2 BHK', '3 BHK', '2 BHK', '2 BHK', '2 BHK', '2 BHK', '2 BHK', '3 BHK', '3 BHK', '3 BHK', '2 BHK', '2 BHK', '3 BHK', '2 BHK', '3 BHK', '3 BHK', '3 BHK', '1 BHK', '3 BHK', '2 BHK', '3 BHK', '3 BHK', '4 BHK', '2 Bedroom', '1 BHK', '4 Bedroom', '4 BHK', '3 BHK', '3 BHK', '2 BHK', '2 Bedroom', '3 BHK', '3 BHK', '3 BHK', '2 Bedroom', '3 BHK', '2 BHK', '3 BHK', '2 BHK', '2 Bedroom', '3 BHK', '3 BHK', '1 BHK', '4 Bedroom', '3 Bedroom', '2 BHK', '4 Bedroom', '3 BHK', '3 BHK', '3 BHK', '3 BHK', '3 BHK', '3 BHK', '2 BHK', '2 BHK', '4 BHK', '2 BHK', '2 BHK', '2 BHK', '8 Bedroom', '2 BHK', '3 BHK', '2 BHK', '2 BHK', '2 BHK', '2 BHK', '3 BHK', '5 Bedroom', '2 BHK', '2 BHK', '2 BHK', '2 BHK', '2 BHK', '2 BHK', '3 BHK', '1 BHK', '1 BHK', '3 BHK', '3 BHK', '3 BHK', '2 BHK', '2 BHK', '4 BHK', '3 Bedroom', '2 BHK', '2 Bedroom', '3 BHK', '3 Bedroom', '3 BHK', '3 BHK', '2 BHK', '3 Bedroom', '3 BHK', '4 Bedroom', '2 BHK', '2 BHK', '2 BHK', '3 BHK', '2 BHK', '3 BHK', '4 BHK', '2 BHK', '2 BHK', '4 Bedroom', '2 BHK', '3 BHK', '4 Bedroom', '2 BHK', '3 BHK', '7 BHK', '4 Bedroom', '2 BHK', '2 BHK', '3 BHK', '4 Bedroom', '2 BHK', '2 BHK', '2 BHK', '3 BHK', '3 BHK', '3 BHK', '6 Bedroom', '3 BHK', '3 BHK', '2 BHK', '3 BHK', '3 BHK', '1 BHK', '3 BHK', '2 BHK', '2 BHK', '3 BHK', '3 BHK', '3 BHK', '4 Bedroom', '2 BHK', '3 BHK', '5 Bedroom', '2 BHK', '2 BHK', '2 BHK', '3 BHK', '3 BHK', '3 BHK', '2 BHK', '3 BHK', '2 BHK', '2 BHK', '3 BHK', '2 BHK', '2 BHK', '3 BHK', '2 BHK', '5 BHK', '2 BHK', '2 BHK', '4 BHK', '3 BHK', '4 BHK', '3 BHK', '6 Bedroom', '3 BHK', '2 Bedroom', '2 BHK', '2 BHK', '2 BHK', '2 BHK', '3 BHK', '2 BHK', '3 Bedroom', '2 BHK', '3 BHK', '2 Bedroom', '4 BHK', '7 Bedroom', '2 BHK', '3 BHK', '2 BHK', '3 BHK', '2 BHK', '2 BHK', '3 BHK', '2 BHK', '3 BHK', '3 BHK', '3 BHK', '3 BHK', '3 Bedroom', '3 BHK', '2 BHK', '3 Bedroom', '2 BHK', '2 BHK', '3 BHK', '2 Bedroom', '2 BHK', '3 BHK', '3 BHK', '2 BHK', '3 BHK', '3 BHK', '3 BHK', '2 BHK', '2 BHK', '4 Bedroom', '2 BHK', '2 BHK', '3 BHK', '3 BHK', '2 BHK', '4 Bedroom', '2 BHK', '2 BHK', '2 BHK', '2 BHK', '8 Bedroom', '1 BHK', '3 BHK', '2 BHK', '3 BHK', '4 Bedroom', '4 Bedroom', '4 BHK', '3 BHK', '2 BHK', '8 Bedroom', '3 BHK', '2 BHK', '2 BHK', '2 BHK', '3 BHK', '3 BHK', '2 BHK', '2 BHK', '2 BHK', '4 Bedroom', '3 BHK', '4 Bedroom', '1 BHK', '2 BHK', '3 BHK', '3 BHK', '3 BHK', '4 BHK', '2 BHK', '2 Bedroom', '3 BHK', '4 Bedroom', '2 BHK', '3 BHK', '2 BHK', '4 Bedroom', '2 BHK', '2 BHK', '3 BHK', '4 BHK', '2 BHK', '2 BHK', '3 BHK', '2 BHK', '2 BHK', '2 BHK', '4 BHK', '3 BHK', '4 Bedroom', '2 BHK', '3 BHK', '2 BHK', '3 BHK', '3 BHK', '2 Bedroom', '3 BHK', '3 BHK', '2 BHK', '1 BHK', '2 BHK', '3 BHK', '2 BHK', '2 BHK', '2 BHK', '3 BHK', '4 BHK', '3 BHK', '3 BHK', '3 BHK', '3 BHK', '4 Bedroom', '3 BHK', '2 BHK', '3 Bedroom', '3 BHK', '4 Bedroom', '3 BHK', '2 BHK', '2 BHK', '4 Bedroom', '9 Bedroom', '3 Bedroom', '3 BHK', '1 BHK', '2 BHK', '4 Bedroom', '5 Bedroom', '3 BHK', '4 BHK', '3 BHK', '2 Bedroom', '2 BHK', '3 BHK', '2 BHK', '4 Bedroom', '3 BHK', '4 Bedroom', '2 BHK', '3 BHK', '4 BHK', '4 BHK', '5 Bedroom', '4 Bedroom', '3 Bedroom', '2 BHK', '1 Bedroom', '2 BHK', '2 BHK', '2 BHK', '2 BHK', '2 BHK', '2 Bedroom', '2 BHK', '3 Bedroom', '4 Bedroom', '3 Bedroom', '2 BHK', '2 BHK', '2 BHK', '3 BHK', '3 BHK', '1 BHK', '2 BHK', '2 Bedroom', '2 BHK', '4 BHK', '3 BHK', '2 BHK', '3 BHK', '3 Bedroom', '3 BHK', '1 Bedroom', '2 BHK', '2 BHK', '3 BHK', '3 BHK', '2 BHK', '2 BHK', '2 BHK', '3 BHK', '4 Bedroom', '3 BHK', '2 BHK', '2 BHK', '1 BHK', '4 Bedroom', '4 BHK', '2 Bedroom', '3 BHK', '3 BHK', '4 Bedroom', '2 BHK', '1 BHK', '2 BHK', '3 BHK', '3 BHK', '2 BHK', '3 BHK', '2 BHK', '2 BHK', '2 BHK', '4 BHK', '2 BHK', '3 BHK', '2 BHK', '2 BHK', '3 Bedroom', '3 BHK', '2 BHK', '3 BHK', '3 BHK', '2 BHK', '7 Bedroom', '3 BHK', '3 BHK', '6 Bedroom', '2 BHK', '5 Bedroom', '3 BHK', '3 BHK', '3 BHK', '2 Bedroom', '2 BHK', '4 Bedroom', '2 BHK', '2 BHK', '2 BHK', '1 BHK', '4 Bedroom', '5 Bedroom', '4 BHK', '6 Bedroom', '3 BHK', '3 BHK', '3 BHK', '3 BHK', '3 BHK', '3 BHK', '5 Bedroom', '2 BHK', '3 BHK', '7 Bedroom', '3 BHK', '3 BHK', '2 BHK', '4 BHK', '3 BHK', '3 BHK', '2 BHK', '1 BHK', '8 Bedroom', '8 Bedroom', '4 Bedroom', '3 BHK', '2 BHK', '2 BHK', '2 BHK', '2 Bedroom', '3 BHK', '2 BHK', '2 BHK', '2 BHK', '2 BHK', '2 BHK', '3 BHK', '2 BHK', '1 BHK', '8 Bedroom', '5 Bedroom', '2 BHK', '1 BHK', '3 Bedroom', '3 BHK', '3 BHK', '2 BHK', '4 Bedroom', '2 BHK', '3 BHK', '2 BHK', '4 BHK', '3 BHK', '2 BHK', '2 BHK', '2 BHK', '4 Bedroom', '4 BHK', '3 BHK', '3 BHK', '2 BHK', '2 BHK', '2 BHK', '3 BHK', '2 BHK', '3 Bedroom', '4 Bedroom', '2 BHK', '3 BHK', '3 BHK', '2 BHK', '3 BHK', '3 BHK', '4 BHK', '2 BHK', '2 Bedroom', '3 BHK', '2 BHK', '3 BHK', '3 BHK', '1 BHK', '3 BHK', '2 BHK', '2 BHK', '6 Bedroom', '2 BHK', '3 BHK', '4 Bedroom', '4 BHK', '2 BHK', '8 Bedroom', '2 BHK', '3 BHK', '2 Bedroom', '5 Bedroom', '3 BHK', '3 BHK', '2 BHK', '1 BHK', '2 BHK', '3 BHK', '2 BHK', '2 BHK', '3 BHK', '3 BHK', '3 BHK', '3 BHK', '3 BHK', '2 BHK', '3 BHK', '4 BHK', '2 BHK', '2 BHK', '5 Bedroom', '6 Bedroom', '2 BHK', '3 BHK', '2 BHK', '4 Bedroom', '2 BHK', '2 BHK', '3 BHK', '2 BHK', '2 BHK', '2 BHK', '3 BHK', '8 Bedroom', '2 BHK', '2 BHK', '4 BHK', '2 BHK', '4 BHK', '4 BHK', '3 BHK', '3 Bedroom', '2 BHK', '8 Bedroom', '2 BHK', '2 Bedroom', '2 BHK', '2 BHK', '4 BHK', '4 BHK', '2 BHK', '3 BHK', '3 BHK', '3 BHK', '4 Bedroom', '2 BHK', '1 BHK', '3 BHK', '2 BHK', '3 BHK', '2 BHK', '10 Bedroom', '2 BHK', '3 BHK', '3 BHK', '2 BHK', '4 Bedroom', '3 Bedroom', '5 Bedroom', '3 BHK', '2 BHK', '3 BHK', '2 BHK', '3 BHK', '3 BHK', '2 BHK', '3 Bedroom', '3 BHK', '2 BHK', '3 BHK', '4 Bedroom', '2 BHK', '2 BHK', '3 BHK', '2 BHK', '2 Bedroom', '3 BHK', '3 Bedroom', '2 BHK', '3 BHK', '4 Bedroom', '3 Bedroom', '1 BHK', '2 BHK', '4 BHK', '2 Bedroom', '4 Bedroom', '4 BHK', '2 BHK', '2 Bedroom', '3 BHK', '2 BHK', '1 BHK', '4 Bedroom', '2 BHK', '3 BHK', '3 BHK', '2 BHK', '1 BHK', '3 BHK', '2 Bedroom', '3 BHK', '3 BHK', '3 BHK', '2 BHK', '2 Bedroom', '9 Bedroom', '3 BHK', '3 Bedroom', '3 BHK', '3 BHK', '2 BHK', '3 Bedroom', '2 BHK', '2 BHK', '1 BHK', '4 Bedroom', '6 Bedroom', '3 Bedroom', '4 Bedroom', '4 BHK', '3 BHK', '2 BHK', '2 BHK', '2 BHK', '3 BHK', '9 BHK', '2 BHK', '3 BHK', '2 BHK', '6 Bedroom', '4 Bedroom', '2 BHK', '2 Bedroom', '5 Bedroom', '4 BHK', '6 Bedroom', '3 BHK', '2 BHK', '3 BHK', '2 BHK', '4 BHK', '6 Bedroom', '4 Bedroom', '2 BHK', '1 BHK', '2 BHK', '3 BHK', '3 BHK', '3 BHK', '2 BHK', '2 BHK', '2 BHK', '2 BHK', '2 BHK', '4 Bedroom', '2 BHK', '3 BHK', '3 Bedroom', '2 BHK', '3 BHK', '2 BHK', '2 BHK', '4 Bedroom', '3 BHK', '2 BHK', '4 BHK', '3 Bedroom', '1 BHK', '2 Bedroom', '1 BHK', '2 BHK', '3 BHK', '4 BHK', '3 BHK', '3 BHK', '4 BHK', '2 BHK', '2 BHK', '3 BHK', '3 BHK', '2 BHK', '3 BHK', '4 Bedroom', '3 BHK', '2 Bedroom', '2 BHK', '2 Bedroom', '2 BHK', '3 BHK', '2 BHK', '2 BHK', '2 BHK', '3 BHK', '2 BHK', '6 Bedroom', '4 Bedroom', '2 Bedroom', '1 BHK', '3 BHK', '4 Bedroom', '3 BHK', '7 BHK', '3 BHK', '2 BHK', '2 Bedroom', '1 BHK', '5 Bedroom', '2 BHK', '2 BHK', '3 BHK', '2 BHK', '3 BHK', '3 BHK', '3 Bedroom', '3 BHK', '3 BHK', '2 BHK', '2 BHK', '3 BHK', '2 BHK', '3 BHK', '3 BHK', '2 BHK', '9 Bedroom', '43 Bedroom', '1 BHK', '3 BHK', '3 Bedroom', '1 BHK', '4 BHK', '3 Bedroom', '10 Bedroom', '2 BHK', '3 BHK', '2 BHK', '2 BHK', '2 BHK', '6 Bedroom', '1 BHK', '3 BHK', '2 BHK', '3 BHK', '2 BHK', '2 BHK', '3 BHK', '2 BHK', '4 Bedroom', '2 BHK', '4 Bedroom', '3 BHK', '3 BHK', '2 BHK', '5 Bedroom', '2 BHK', '5 Bedroom', '5 BHK', '3 BHK', '3 BHK', '2 BHK', '4 Bedroom', '3 BHK', '3 Bedroom', '2 BHK', '2 BHK', '4 BHK', '3 BHK', '2 BHK', '3 BHK', '3 BHK', '3 BHK', '3 BHK', '2 BHK', '2 BHK', '3 BHK', '2 BHK', '2 BHK', '2 BHK', '4 Bedroom', '6 Bedroom', '2 BHK', '2 BHK', '3 BHK', '6 Bedroom', '2 BHK', '3 Bedroom', '2 BHK', '2 BHK', '4 Bedroom', '2 BHK', '3 BHK', '3 BHK', '3 BHK', '2 BHK', '3 BHK', '4 BHK', '3 BHK', '3 Bedroom', '3 BHK', '1 BHK', '2 BHK', '2 BHK', '4 BHK', '3 BHK', '3 BHK', '2 BHK', '2 BHK', '1 BHK', '3 BHK', '2 Bedroom', '3 BHK', '2 BHK', '2 BHK', '3 BHK', '2 BHK', '2 BHK', '3 BHK', '2 BHK', '2 BHK', '2 BHK', '3 BHK', '3 Bedroom', '4 BHK', '3 BHK', '3 BHK', '2 BHK', '3 BHK', '2 BHK', '2 BHK', '3 BHK', '4 BHK', '2 BHK', '2 BHK', '2 BHK', '4 Bedroom', '4 BHK', '2 BHK', '3 BHK', '2 BHK', '3 BHK', '3 Bedroom', '2 BHK', '3 BHK', '4 BHK', '3 BHK', '2 BHK', '2 BHK', '2 BHK', '2 BHK', '2 BHK', '2 BHK', '2 BHK', '2 BHK', '4 Bedroom', '3 BHK', '3 BHK', '2 BHK', '2 BHK', '2 BHK', '2 Bedroom', '3 Bedroom', '5 Bedroom', '2 BHK', '7 Bedroom', '3 BHK', '3 BHK', '3 BHK', '3 BHK', '1 BHK', '4 Bedroom', '3 Bedroom', '3 BHK', '2 BHK', '1 BHK', '2 BHK', '2 BHK', '3 BHK', '9 Bedroom', '3 BHK', '2 BHK', '2 BHK', '2 BHK', '2 BHK', '4 Bedroom', '4 BHK', '7 Bedroom', '1 BHK', '2 BHK', '3 BHK', '2 BHK', '3 BHK', '3 BHK', '2 Bedroom', '3 BHK', '1 BHK', '3 BHK', '2 Bedroom', '2 BHK', '3 BHK', '2 BHK', '2 BHK', '2 BHK', '1 BHK', '2 BHK', '4 Bedroom', '3 BHK', '3 BHK', '2 BHK', '3 Bedroom', '2 BHK', '3 BHK', '2 BHK', '6 Bedroom', '3 BHK', '2 BHK', '5 Bedroom', '2 BHK', '1 RK', '3 BHK', '2 BHK', '2 BHK', '3 BHK', '2 BHK', '2 BHK', '2 BHK', '2 BHK', '3 BHK', '2 BHK', '2 BHK', '2 BHK', '4 BHK', '3 BHK', '4 Bedroom', '3 BHK', '3 BHK', '3 BHK', '2 BHK', '3 BHK', '2 BHK', '3 BHK', '3 BHK', '3 BHK', '3 BHK', '2 BHK', '3 BHK', '4 BHK', '3 BHK', '4 BHK', '2 BHK', '3 BHK', '2 BHK', '5 Bedroom', '3 BHK', '9 Bedroom', '2 BHK', '2 BHK', '2 BHK', '14 BHK', '2 BHK', '3 Bedroom', '2 BHK', '3 BHK', '2 BHK', '2 BHK', '2 BHK', '2 BHK', '3 BHK', '2 BHK', '2 BHK', '3 BHK', '8 Bedroom', '2 BHK', '3 BHK', '5 Bedroom', '3 BHK', '2 BHK', '3 BHK', '3 Bedroom', '4 Bedroom', '2 BHK', '2 BHK', '3 BHK', '5 Bedroom', '2 BHK', '1 BHK', '2 BHK', '3 BHK', '3 BHK', '2 BHK', '3 BHK', '2 BHK', '3 BHK', '3 BHK', '3 BHK', '4 Bedroom', '2 BHK', '2 BHK', '3 Bedroom', '3 Bedroom', '3 BHK', '3 BHK', '2 BHK', '2 BHK', '3 BHK', '5 BHK', '3 BHK', '5 Bedroom', '2 BHK', '4 Bedroom', '3 BHK', '2 BHK', '3 BHK', '3 BHK', '7 BHK', '3 BHK', '2 BHK', '2 BHK', '2 BHK', '2 BHK', '2 BHK', '2 BHK', '3 BHK', '1 BHK', '4 BHK', '2 BHK', '2 BHK', '3 BHK', '3 BHK', '3 BHK', '2 BHK', '2 BHK', '2 BHK', '2 BHK', '5 Bedroom', '3 BHK', '2 BHK', '3 BHK', '2 BHK', '2 BHK', '3 BHK', '3 Bedroom', '3 BHK', '3 BHK', '2 BHK', '2 BHK', '2 BHK', '2 Bedroom', '3 BHK', '2 BHK', '2 Bedroom', '3 BHK', '5 BHK', '2 BHK', '2 BHK', '2 BHK', '2 BHK', '9 Bedroom', '2 BHK', '2 BHK', '2 BHK', '3 BHK', '4 BHK', '2 BHK', '2 BHK', '2 BHK', '4 Bedroom', '3 BHK', '3 BHK', '3 BHK', '1 BHK', '2 BHK', '2 BHK', '4 BHK', '2 BHK', '8 Bedroom', '1 BHK', '2 BHK', '5 Bedroom', '5 BHK', '2 BHK', '3 BHK', '2 BHK', '3 BHK', '6 Bedroom', '3 BHK', '1 BHK', '2 BHK', '3 BHK', '2 BHK', '3 BHK', '3 Bedroom', '2 BHK', '2 BHK', '3 BHK', '3 Bedroom', '2 BHK', '6 BHK', '2 BHK', '3 BHK', '3 BHK', '2 BHK', '3 BHK', '4 Bedroom', '3 BHK', '3 BHK', '2 BHK', '3 BHK', '3 BHK', '3 Bedroom', '2 BHK', '2 Bedroom', '3 BHK', '8 Bedroom', '2 BHK', '2 BHK', '4 BHK', '5 Bedroom', '4 BHK', '3 BHK', '3 BHK', '1 RK', '2 BHK', '3 BHK', '4 Bedroom', '2 BHK', '4 BHK', '4 Bedroom', '3 BHK', '3 BHK', '2 BHK', '3 BHK', '2 BHK', '2 BHK', '3 BHK', '2 Bedroom', '4 Bedroom', '2 BHK', '3 BHK', '4 BHK', '4 BHK', '2 BHK', '3 BHK', '3 BHK', '3 BHK', '2 BHK', '3 BHK', '2 BHK', '3 BHK', '2 BHK', '3 BHK', '3 BHK', '3 BHK', '2 BHK', '8 Bedroom', '2 BHK', '3 BHK', '7 Bedroom', '2 BHK', '3 BHK', '2 BHK', '2 BHK', '2 BHK', '3 BHK', '3 BHK', '2 BHK', '2 BHK', '3 BHK', '3 Bedroom', '2 BHK', '3 BHK', '3 BHK', '2 BHK', '2 BHK', '2 BHK', '2 Bedroom', '2 BHK', '2 BHK', '4 Bedroom', '1 BHK', '6 Bedroom', '1 BHK', '2 BHK', '5 Bedroom', '3 BHK', '4 BHK', '3 BHK', '3 BHK', '2 BHK', '4 Bedroom', '2 BHK', '3 BHK', '2 BHK', '7 Bedroom', '3 Bedroom', '2 BHK', '1 BHK', '2 BHK', '3 BHK', '3 Bedroom', '4 BHK', '4 BHK', '3 BHK', '3 BHK', '3 BHK', '3 BHK', '4 Bedroom', '2 BHK', '6 Bedroom', '2 BHK', '2 BHK', '1 BHK', '2 BHK', '4 Bedroom', '2 BHK', '2 BHK', '1 BHK', '2 BHK', '4 Bedroom', '3 BHK', '2 BHK', '1 BHK', '4 Bedroom', '5 Bedroom', '3 BHK', '1 BHK', '3 Bedroom', '3 BHK', '3 BHK', '2 BHK', '6 Bedroom', '2 BHK', '5 Bedroom', '3 BHK', '2 BHK', '3 Bedroom', '3 BHK', '4 Bedroom', '2 BHK', '4 Bedroom', '2 BHK', '2 BHK', '3 BHK', '1 BHK', '2 BHK', '3 BHK', '8 Bedroom', '2 BHK', '3 Bedroom', '2 BHK', '3 BHK', '2 BHK', '2 BHK', '3 BHK', '3 BHK', '2 BHK', '2 BHK', '3 BHK', '3 BHK', '2 BHK', '4 BHK', '3 BHK', '1 Bedroom', '1 BHK', '3 BHK', '4 BHK', '3 BHK', '5 Bedroom', '3 BHK', '7 BHK', '2 BHK', '2 BHK', '2 BHK', '4 Bedroom', '2 BHK', '2 BHK', '2 BHK', '2 Bedroom', '3 BHK', '2 BHK', '3 BHK', '2 BHK', '3 BHK', '2 BHK', '3 BHK', '2 BHK', '2 BHK', '3 BHK', '2 BHK', '3 BHK', '2 BHK', '2 BHK', '3 BHK', '4 Bedroom', '2 BHK', '3 BHK', '2 BHK', '4 BHK', '2 BHK', '4 Bedroom', '2 BHK', '2 BHK', '2 BHK', '4 BHK', '2 BHK', '3 BHK', '3 BHK', '2 Bedroom', '2 BHK', '3 BHK', '3 BHK', '2 BHK', '2 BHK', '3 BHK', '2 BHK', '3 BHK', '3 Bedroom', '3 BHK', '2 BHK', '3 BHK', '4 BHK', '3 BHK', '3 BHK', '3 BHK', '3 BHK', '2 BHK', '4 BHK', '1 RK', '2 BHK', '2 BHK', '4 BHK', '2 BHK', '1 BHK', '2 BHK', '2 BHK', '2 BHK', '4 BHK', '2 BHK', '1 BHK', '1 Bedroom', '2 BHK', '2 BHK', '3 BHK', '2 BHK', '2 BHK', '2 BHK', '3 Bedroom', '2 BHK', '4 Bedroom', '1 Bedroom', '2 BHK', '2 BHK', '3 BHK', '3 BHK', '2 BHK', '2 BHK', '3 BHK', '3 BHK', '3 BHK', '3 BHK', '2 BHK', '3 BHK', '3 BHK', '2 BHK', '2 BHK', '2 BHK', '3 BHK', '1 BHK', '2 BHK', '3 BHK', '2 BHK', '5 Bedroom', '2 BHK', '2 BHK', '2 BHK', '2BHK', '2 BHK', '2 BHK', '3 BHK', '4 Bedroom', '1 BHK', '3 BHK', '2 BHK', '3 BHK', '2 BHK', '4 Bedroom', '3 BHK', '2 BHK', '2 BHK', '2 BHK', '4 Bedroom', '3 Bedroom', '2 BHK', '3 BHK', '2 BHK', '3 BHK', '1 BHK', '2 BHK', '2 BHK', '3 BHK', '2 BHK', '3 Bedroom', '3 BHK', '3 BHK', '3 BHK', '4 Bedroom', '2 BHK', '4 Bedroom', '3 Bedroom', '3 BHK', '2 BHK', '1 BHK', '3 BHK', '2 BHK', '2 BHK', '2 BHK', '2 BHK', '2 BHK', '2 BHK', '2 BHK', '2 BHK', '2 BHK', '2 BHK', '2 BHK', '1 BHK', '2 BHK', '1 BHK', '4 BHK', '2 BHK', '3 BHK', '2 BHK', '2 BHK', '2 BHK', '2 BHK', '4 BHK', '9 BHK', '2 BHK', '2 BHK', '2 BHK', '2 BHK', '2 BHK', '3 BHK', '2 BHK', '3 BHK', '2 BHK', '4 Bedroom', '2 BHK', '3 BHK', '2 BHK', '2 BHK', '2 BHK', '3 BHK', '1 BHK', '3 BHK', '2 BHK', '2 BHK', '3 BHK', '4 Bedroom', '2 BHK', '4 BHK', '2 BHK', '2 BHK', '2 BHK', '2 BHK', '3 Bedroom', '3 BHK', '3 BHK', '2 BHK', '2 BHK', '3 BHK', '2 Bedroom', '2 Bedroom', '4 BHK', '2 BHK', '3 BHK', '3 BHK', '2 BHK', '2 BHK', '2 BHK', '3 BHK', '3 BHK', '2 BHK', '3 BHK', '3 Bedroom', '4 BHK', '2 BHK', '3 BHK', '3 BHK', '2 BHK', '2 BHK', '2 BHK', '5 Bedroom', '3 BHK', '2 BHK', '2 BHK', '6 Bedroom', '3 BHK', '2 BHK', '4 Bedroom', '2 BHK', '3 Bedroom', '2 BHK', '2 BHK', '3 BHK', '4 Bedroom', '6 BHK', '3 BHK', '2 BHK', '2 BHK', '3 BHK', '2 BHK', '4 BHK', '1 BHK', '3 BHK', '2 BHK', '3 BHK', '2 BHK', '2 BHK', '4 Bedroom', '1 Bedroom', '2 BHK', '2 BHK', '8 Bedroom', '3 Bedroom', '2 BHK', '4 BHK', '2 BHK', '3 BHK', '3 BHK', '2 BHK', '1 Bedroom', '2 BHK', '3 BHK', '2 BHK', '2 BHK', '1 BHK', '3 BHK', '2 BHK', '3 BHK', '2 BHK', '4 Bedroom', '5 BHK', '3 BHK', '3 Bedroom', '2 BHK', '2 BHK', '7 Bedroom', '3 BHK', '2 BHK', '3 BHK', '2 BHK', '2 BHK', '3 BHK', '2 BHK', '2 BHK', '3 BHK', '2 BHK', '2 BHK', '1 Bedroom', '2 BHK', '4 BHK', '4 BHK', '3 BHK', '3 BHK', '2 BHK', '2 BHK', '3 BHK', '2 BHK', '2 BHK', '3 BHK', '6 Bedroom', '3 BHK', '3 BHK', '2 BHK', '2 BHK', '3 BHK', '6 Bedroom', '2 BHK', '3 Bedroom', '3 BHK', '4 Bedroom', '3 BHK', '2 BHK', '3 BHK', '4 BHK', '3 BHK', '1 BHK', '4 BHK', '3 BHK', '2 Bedroom', '3 BHK', '3 BHK', '2 Bedroom', '4 BHK', '2 BHK', '2 BHK', '3 BHK', '2 BHK', '3 BHK', '4 Bedroom', '2 BHK', '3 BHK', '2 BHK', '2 BHK', '3 BHK', '2 BHK', '3 Bedroom', '2 BHK', '1 BHK', '2 BHK', '2 BHK', '2 Bedroom', '2 BHK', '2 BHK', '3 BHK', '1 BHK', '3 BHK', '3 BHK', '2 BHK', '2 BHK', '8 Bedroom', '2 BHK', '2 BHK', '2 BHK', '5 Bedroom', '3 BHK', '3 BHK', '2 BHK', '2 BHK', '3 BHK', '4 Bedroom', '1 BHK', '3 BHK', '9 Bedroom', '4 Bedroom', '3 BHK', '3 BHK', '2 BHK', '2 BHK', '2 BHK', '2 BHK', '3 BHK', '2 BHK', '3 BHK', '2 Bedroom', '2 BHK', '2 BHK', '2 BHK', '3 BHK', '3 Bedroom', '3 BHK', '4 BHK', '3 BHK', '3 BHK', '3 BHK', '3 BHK', '2 BHK', '2 BHK', '4 Bedroom', '3 BHK', '3 BHK', '2 BHK', '3 BHK', '3 BHK', '2 BHK', '6 Bedroom', '3 BHK', '3 BHK', '2 BHK', '2 BHK', '3 Bedroom', '3 BHK', '2 BHK', '3 BHK', '2 Bedroom', '3 BHK', '2 BHK', '6 Bedroom', '3 BHK', '3 BHK', '3 BHK', '4 Bedroom', '2 BHK', '4 Bedroom', '2 Bedroom', '2 BHK', '2 BHK', '3 BHK', '2 BHK', '2 BHK', '3 BHK', '2 BHK', '3 BHK', '1 BHK', '2 BHK', '3 BHK', '1 BHK', '2 BHK', '2 BHK', '2 BHK', '2 BHK', '1 Bedroom', '2 BHK', '2 BHK', '2 BHK', '1 BHK', '3 BHK', '2 BHK', '7 Bedroom', '1 BHK', '5 Bedroom', '3 BHK', '4 Bedroom', '4 Bedroom', '2 Bedroom', '2 BHK', '2 BHK', '2 BHK', '3 BHK', '3 BHK', '3 BHK', '4 Bedroom', '3 BHK', '3 BHK', '3 BHK', '3 BHK', '2 BHK', '2 BHK', '2 BHK', '1 BHK', '3 BHK', '5 Bedroom', '3 BHK', '4 BHK', '2 BHK', '2 BHK', '2 BHK', '3 BHK', '2 BHK', '4 Bedroom', '2 BHK', '3 Bedroom', '2 BHK', '6 Bedroom', '2 BHK', '4 BHK', '2 BHK', '2 BHK', '4 BHK', '3 BHK', '4 Bedroom', '4 BHK', '2 BHK', '4 Bedroom', '2 BHK', '1 Bedroom', '3 BHK', '3 BHK', '3 BHK', '4 BHK', '3 BHK', '3 BHK', '2 BHK', '2 BHK', '2 BHK', '2 BHK', '3 BHK', '2 BHK', '3 BHK', '3 BHK', '3 BHK', '2 BHK', '2 Bedroom', '2 BHK', '3 Bedroom', '2 BHK', '2 BHK', '2 BHK', '4 Bedroom', '2 BHK', '2 BHK', '2 Bedroom', '3 Bedroom', '4 BHK', '4 BHK', '2 BHK', '2 BHK', '2 BHK', '2 BHK', '1 BHK', '5 BHK', '4 Bedroom', '3 BHK', '2 BHK', '2 BHK', '2 BHK', '2 BHK', '3 BHK', '2 BHK', '5 Bedroom', '3 BHK', '2 BHK', '4 Bedroom', '2 BHK', '4 Bedroom', '3 BHK', '2 BHK', '3 BHK', '3 BHK', '2 BHK', '3 BHK', '4 BHK', '5 Bedroom', '3 BHK', '3 BHK', '4 BHK', '7 Bedroom', '2 BHK', '2 BHK', '6 Bedroom', '2 BHK', '4 Bedroom', '2 Bedroom', '4 BHK', '1 BHK', '4 Bedroom', '2 BHK', '3 BHK', '2 BHK', '3 BHK', '2 BHK', '1 BHK', '2 BHK', '1 BHK', '2 BHK', '2 BHK', '9 Bedroom', '2 BHK', '3 Bedroom', '3 BHK', '2 BHK', '3 BHK', '3 BHK', '2 BHK', '3 BHK', '2 BHK', '3 BHK', '5 Bedroom', '2 BHK', '3 BHK', '2 BHK', '2 BHK', '3 BHK', '3 BHK', '3 BHK', '2 BHK', '1 BHK', '3 BHK', '2 BHK', '2 BHK', '4 Bedroom', '3 BHK', '2 BHK', '2 Bedroom', '2 BHK', '2 BHK', '3 BHK', '3 BHK', '3 BHK', '2 BHK', '2 Bedroom', '4 Bedroom', '2 BHK', '2 BHK', '2 BHK', '6 BHK', '3 BHK', '3 BHK', '2 BHK', '2 BHK', '2 BHK', '2 BHK', '8 Bedroom', '4 Bedroom', '2 BHK', '7 Bedroom', '6 Bedroom', '2 BHK', '3 BHK', '9 BHK', '1 BHK', '3 Bedroom', '2 BHK', '5 Bedroom', '3 BHK', '3 BHK', '2 BHK', '3 BHK', '3 Bedroom', '2 BHK', '6 Bedroom', '3 BHK', '2 BHK', '1 BHK', '2 BHK', '3 BHK', '3 BHK', '3 BHK', '4 Bedroom', '2 BHK', '3 Bedroom', '2 BHK', '3 BHK', '3 BHK', '3 BHK', '2 BHK', '3 Bedroom', '3 BHK', '3 BHK', '2 BHK', '4 Bedroom', '3 BHK', '2 BHK', '3 BHK', '3 Bedroom', '4 Bedroom', '6 Bedroom', '2 BHK', '1 BHK', '4 BHK', '3 Bedroom', '2 Bedroom', '2 BHK', '1 BHK', '2 BHK', '4 Bedroom', '3 BHK', '2 BHK', '2 BHK', '2 BHK', '3 BHK', '2 BHK', '3 BHK', '3 BHK', '2 BHK', '3 Bedroom', '2 BHK', '2 BHK', '2 BHK', '2 BHK', '1 BHK', '2 BHK', '2 BHK', '3 BHK', '6 Bedroom', '8 Bedroom', '3 BHK', '3 BHK', '3 BHK', '3 BHK', '4 BHK', '2 Bedroom', '3 BHK', '2 BHK', '1 Bedroom', '2 BHK', '3 Bedroom', '3 BHK', '2 BHK', '2 BHK', '3 BHK', '3 BHK', '3 BHK', '3 BHK', '2 BHK', '3 BHK', '5 Bedroom', '4 Bedroom', '3 BHK', '3 BHK', '4 BHK', '3 Bedroom', '3 BHK', '2 BHK', '4 Bedroom', '5 BHK', '3 BHK', '2 BHK', '6 Bedroom', '2 BHK', '3 BHK', '2 BHK', '3 BHK', '4 BHK', '2 BHK', '2 BHK', '3 BHK', '2 BHK', '2 BHK', '3 BHK', '3 Bedroom', '2 BHK', '2 BHK', '3 BHK', '3 BHK', '3 BHK', '2 BHK', '6 Bedroom', '2 BHK', '1 BHK', '5 Bedroom', '2 BHK', '1 Bedroom', '2 BHK', '2 BHK', '1 BHK', '3 Bedroom', '3 BHK', '1 BHK', '3 BHK', '2 BHK', '3 BHK', '3 BHK', '2 BHK', '2 BHK', '2 BHK', '4 Bedroom', '4 BHK', '2 BHK', '3 BHK', '3 BHK', '1 Bedroom', '4 Bedroom', '2 BHK', '3 BHK', '3 BHK', '3 BHK', '2 BHK', '2 Bedroom', '3 BHK', '4 Bedroom', '3 BHK', '3 BHK', '3 BHK', '2 BHK', '2 BHK', '2 BHK', '2 Bedroom', '2 BHK', '3 BHK', '3 BHK', '2 BHK', '5 BHK', '1 BHK', '3 Bedroom', '4 BHK', '3 BHK', '1 BHK', '3 BHK', '5 Bedroom', '1 BHK', '3 BHK', '2 BHK', '2 BHK', '4 Bedroom', '3 BHK', '2 BHK', '2 Bedroom', '3 BHK', '2 BHK', '6 BHK', '3 BHK', '2 BHK', '3 BHK', '5 Bedroom', '2 BHK', '4 Bedroom', '3 BHK', '2 BHK', '4 BHK', '8 Bedroom', '2 BHK', '2 BHK', '3 BHK', '3 BHK', '3 BHK', '2 Bedroom', '4 BHK', '3 BHK', '4 BHK', '7 Bedroom', '2 BHK', '2 BHK', '4 BHK', '7 Bedroom', '2 BHK', '3 BHK', '4 BHK', '2 BHK', '1 BHK', '3 BHK', '3 BHK', '3 BHK', '6 Bedroom', '3 BHK', '2 BHK', '2 BHK', '3 BHK', '2 BHK', '2 BHK', '8 Bedroom', '3 BHK', '3 Bedroom', '4 Bedroom', '3 BHK', '6 Bedroom', '2 BHK', '4 Bedroom', '3 BHK', '2 BHK', '3 BHK', '2 BHK', '4 Bedroom', '3 BHK', '3 BHK', '3 BHK', '3 BHK', '3 BHK', '2 Bedroom', '2 BHK', '2 BHK', '3 BHK', '3 BHK', '3 BHK', '2 BHK', '2 BHK', '6 BHK', '2 BHK', '2 Bedroom', '4 BHK', '3 BHK', '3 BHK', '1 BHK', '3 BHK', '4 Bedroom', '5 BHK', '2 BHK', '3 BHK', '3 BHK', '3 BHK', '2 BHK', '2 BHK', '2 BHK', '3 Bedroom', '2 BHK', '3 BHK', '2 BHK', '2 BHK', '3 BHK', '4 BHK', '3 BHK', '2 BHK', '3 BHK', '2 BHK', '3 BHK', '3 BHK', '1 BHK', '3 Bedroom', '7 Bedroom', '2 BHK', '3 BHK', '3 BHK', '2 BHK', '4 Bedroom', '2 BHK', '2 BHK', '2 BHK', '2 BHK', '6 Bedroom', '2 BHK', '2 BHK', '3 BHK', '2 BHK', '2 BHK', '3 BHK', '3 BHK', '2 BHK', '3 BHK', '2 BHK', '4 Bedroom', '4 BHK', '8 BHK', '3 Bedroom', '4 BHK', '2 BHK', '2 BHK', '4 BHK', '3 BHK', '3 BHK', '2 BHK', '3 BHK', '3 BHK', '2 BHK', '3 BHK', '3 Bedroom', '3 BHK', '6 Bedroom', '2 BHK', '3 BHK', '3 BHK', '8 Bedroom', '6 Bedroom', '2 BHK', '2 BHK', '2 BHK', '2 BHK', '3 BHK', '3 BHK', '4 BHK', '2 BHK', '2 BHK', '3 Bedroom', '4 Bedroom', '1 BHK', '4 Bedroom', '2 BHK', '5 Bedroom', '3 BHK', '3 Bedroom', '3 BHK', '3 BHK', '3 BHK', '4 BHK', '2 BHK', '2 BHK', '3 BHK', '6 Bedroom', '3 Bedroom', '2 BHK', '2 BHK', '4 Bedroom', '2 BHK', '2 BHK', '2 BHK', '2 BHK', '3 BHK', '4 Bedroom', '4 BHK', '2 BHK', '2 BHK', '4 BHK', '3 BHK', '3 BHK', '5 Bedroom', '2 BHK', '3 BHK', '6 Bedroom', '3 BHK', '3 BHK', '2 BHK', '3 BHK', '2 BHK', '2 BHK', '2 Bedroom', '3 BHK', '3 BHK', '2 BHK', '4 BHK', '2 BHK', '4 BHK', '2 BHK', '3 BHK', '6 Bedroom', '5 Bedroom', '2 BHK', '2 BHK', '3 BHK', '2 BHK', '2 BHK', '3 BHK', '3 BHK', '3 BHK', '1 BHK', '3 BHK', '2 BHK', '3 BHK', '3 BHK', '2 BHK', '3 BHK', '2 BHK', '5 Bedroom', '3 BHK', '3 Bedroom', '3 Bedroom', '2 BHK', '3 BHK', '2 BHK', '1 BHK', '4 Bedroom', '2 BHK', '2 BHK', '3 BHK', '2 BHK', '3 BHK', '3 BHK', '2 BHK', '3 BHK', '3 BHK', '3 BHK', '2 BHK', '2 BHK', '3 BHK', '3 BHK', '4 Bedroom', '2 Bedroom', '3 BHK', '7 Bedroom', '4 BHK', '3 BHK', '2 BHK', '4 BHK', '2 Bedroom', '2 BHK', '2 BHK', '4 Bedroom', '5 Bedroom', '3 BHK', '2 BHK', '2 Bedroom', '3 BHK', '3 BHK', '3 BHK', '3 BHK', '1 BHK', '3 Bedroom', '3 BHK', '4 Bedroom', '5 Bedroom', '3 BHK', '3 Bedroom', '3 BHK', '2 BHK', '4 Bedroom', '3 BHK', '2 BHK', '3 BHK', '3 BHK', '2 BHK', '5 Bedroom', '3 BHK', '2 BHK', '7 Bedroom', '2 BHK', '2 BHK', '3 BHK', '3 BHK', '3 BHK', '3 BHK', '3 BHK', '2 BHK', '3 BHK', '4 Bedroom', '3 BHK', '3 BHK', '2 BHK', '3 BHK', '2 BHK', '3 BHK', '3 BHK', '2 BHK', '1 BHK', '2 BHK', '1 BHK', '2 BHK', '2 BHK', '2 Bedroom', '4 BHK', '2 BHK', '2 Bedroom', '4 Bedroom', '6 Bedroom', '1 BHK', '3 BHK', '3 BHK', '4 BHK', '3 BHK', '2 BHK', '2 BHK', '2 BHK', '2 BHK', '3 Bedroom', '2 BHK', '4 Bedroom', '2 BHK', '2 BHK', '2 BHK', '4 Bedroom', '1 BHK', '3 BHK', '2 BHK', '2 BHK', '4 BHK', '4 Bedroom', '3 BHK', '2 BHK', '2 BHK', '4 Bedroom', '2 BHK', '1 BHK', '4 BHK', '1 BHK', '2 BHK', '2 BHK', '2 BHK', '3 Bedroom', '1 BHK', '3 BHK', '3 BHK', '3 BHK', '1 Bedroom', '2 BHK', '2 BHK', '3 BHK', '3 BHK', '3 BHK', '3 BHK', '2 BHK', '2 BHK', '2 BHK', '3 BHK', '3 BHK', '2 BHK', '1 Bedroom', '3 BHK', '1 Bedroom', '5 Bedroom', '3 BHK', '2 BHK', '2 BHK', '3 BHK', '2 BHK', '2 BHK', '2 BHK', '4 Bedroom', '2 BHK', '2 BHK', '2 BHK', '3 BHK', '4 BHK', '2 BHK', '4 Bedroom', '2 BHK', '2 BHK', '3 BHK', '2 BHK', '3 BHK', '3 BHK', '3 BHK', '2 BHK', '2 BHK', '2 BHK', '4 BHK', '2 BHK', '4 Bedroom', '6 Bedroom', '2BHK', '2 BHK', '3 BHK', '3 BHK', '4 Bedroom', '2 BHK', '2 BHK', '2 BHK', '2 BHK', '3 Bedroom', '2 BHK', '2 BHK', '3 BHK', '3 BHK', '3 BHK', '2 BHK', '2 BHK', '3 BHK', '2 BHK', '2 BHK', '3 Bedroom', '2 Bedroom', '2 BHK', '2 BHK', '4 Bedroom', '2 BHK', '2 BHK', '2 Bedroom', '10 Bedroom', '2 BHK', '3 BHK', '2 BHK', '3 BHK', '3 BHK', '5 Bedroom', '4 BHK', '2 BHK', '2 BHK', '2 BHK', '2 BHK', '2 BHK', '3 BHK', '3 BHK', '1 BHK', '2 BHK', '2 BHK', '3 BHK', '4 Bedroom', '2 BHK', '2 BHK', '3 BHK', '3 BHK', '2 BHK', '3 BHK', '2 BHK', '2 BHK', '2 BHK', '2 BHK', '3 BHK', '3 BHK', '2 BHK', '3 BHK', '3 BHK', '6 Bedroom', '2 BHK', '5 Bedroom', '2 BHK', '3 BHK', '3 BHK', '3 BHK', '3 BHK', '2 BHK', '2 BHK', '3 BHK', '2 BHK', '2 BHK', '2 BHK', '2 BHK', '2 BHK', '3 BHK', '3 BHK', '3 BHK', '9 Bedroom', '3 Bedroom', '3 Bedroom', '2 BHK', '3 BHK', '3 BHK', '1 BHK', '2 BHK', '3 BHK', '2 BHK', '2 BHK', '3 BHK', '2 BHK', '3 BHK', '2 BHK', '2 BHK', '2 BHK', '3 BHK', '3 BHK', '2 BHK', '1 BHK', '3 BHK', '3 BHK', '3 BHK', '2 BHK', '2 BHK', '4 BHK', '6 Bedroom', '12 Bedroom', '3 BHK', '2 BHK', '2 BHK', '3 BHK', '9 Bedroom', '4 BHK', '4 Bedroom', '2 BHK', '3 BHK', '3 BHK', '3 BHK', '3 BHK', '2 BHK', '3 BHK', '2 BHK', '1 Bedroom', '5 BHK', '2 BHK', '5 Bedroom', '3 BHK', '2 BHK', '4 Bedroom', '2 BHK', '3 BHK', '3 BHK', '4 Bedroom', '2 BHK', '3 BHK', '3 Bedroom', '3 BHK', '3 BHK', '3 Bedroom', '3 Bedroom', '3 Bedroom', '3 BHK', '2 Bedroom', '3 BHK', '2 BHK', '2 BHK', '2 BHK', '4 BHK', '2 BHK', '2 BHK', '3 BHK', '3 BHK', '2 BHK', '3 BHK', '3 BHK', '2 BHK', '3 BHK', '3 BHK', '3 Bedroom', '1 RK', '1 BHK', '2 BHK', '2 BHK', '3 BHK', '2 BHK', '4 BHK', '3 Bedroom', '2 BHK', '3 BHK', '3 BHK', '2 BHK', '4 Bedroom', '3 BHK', '8 Bedroom', '3 BHK', '3 BHK', '3 BHK', '3 BHK', '1 BHK', '9 Bedroom', '8 BHK', '2 BHK', '3 BHK', '4 BHK', '4 Bedroom', '2 BHK', '2 BHK', '2 BHK', '2 BHK', '2 BHK', '3 BHK', '3 BHK', '3 BHK', '3 BHK', '7 Bedroom', '3 BHK', '2 BHK', '3 BHK', '3 BHK', '3 BHK', '2 BHK', '6 Bedroom', '3 BHK', '3 BHK', '2 BHK', '2 BHK', '5 Bedroom', '1 BHK', '3 BHK', '2BHK', '2 BHK', '3 Bedroom', '2 BHK', '3 BHK', '3 BHK', '2 BHK', '4 BHK', '3 BHK', '3 BHK', '2 BHK', '3 BHK', '3 BHK', '2 BHK', '3 Bedroom', '3 BHK', '2 BHK', '3 BHK', '2 Bedroom', '1 BHK', '4 Bedroom', '3 Bedroom', '2 BHK', '4 Bedroom', '3 BHK', '2 BHK', '4 Bedroom', '5 Bedroom', '3 BHK', '2 BHK', '2 BHK', '2 BHK', '3 BHK', '3 BHK', '3 BHK', '4 Bedroom', '3 BHK', '2 BHK', '4 Bedroom', '5 Bedroom', '2 BHK', '3 BHK', '2 BHK', '2 BHK', '2 BHK', '2 BHK', '1 BHK', '2 BHK', '2 BHK', '3 BHK', '3 BHK', '3 BHK', '2 BHK', '3 BHK', '2 BHK', '1 BHK', '4 Bedroom', '3 BHK', '2 BHK', '3 BHK', '3 BHK', '2 BHK', '1 BHK', '2 BHK', '4 Bedroom', '2 BHK', '3 BHK', '2 BHK', '3 BHK', '2 BHK', '8 Bedroom', '2 BHK', '2 BHK', '3 Bedroom', '2 BHK', '3 BHK', '2 BHK', '5 Bedroom', '1 BHK', '3 BHK', '1 BHK', '1 BHK', '3 BHK', '2BHK', '2 BHK', '2 BHK', '3 BHK', '3 BHK', '2 BHK', '2 BHK', '2 BHK', '4 BHK', '3 BHK', '4 BHK', '2 BHK', '2 BHK', '2 Bedroom', '2 BHK', '3 BHK', '3 BHK', '2 BHK', '2 BHK', '2 BHK', '2 BHK', '1 BHK', '4 Bedroom', '2 BHK', '2 BHK', '3 BHK', '3 BHK', '2 BHK', '2 BHK', '2 BHK', '2 BHK', '3 BHK', '3 BHK', '3 BHK', '2 BHK', '3 BHK', '2 BHK', '3 BHK', '2 BHK', '4 Bedroom', '2 BHK', '7 Bedroom', '3 BHK', '3 BHK', '6 Bedroom', '6 Bedroom', '2 BHK', '2 BHK', '1 BHK', '2 BHK', '3 BHK', '2 BHK', '3 BHK', '3 BHK', '2 BHK', '3 BHK', '3 BHK', '4 Bedroom', '3 BHK', '4 BHK', '2 BHK', '2 BHK', '4 Bedroom', '3 BHK', '2 BHK', '3 Bedroom', '3 BHK', '3 BHK', '1 BHK', '2 BHK', '3 BHK', '3 Bedroom', '4 Bedroom', '2 BHK', '2 BHK', '3 BHK', '2 BHK', '2 BHK', '3 BHK', '2 BHK', '3 BHK', '2 BHK', '2 BHK', '2 BHK', '3 BHK', '2 BHK', '3 BHK', '2 BHK', '2 BHK', '1 BHK', '3 BHK', '2 BHK', '2 BHK', '2 BHK', '9 Bedroom', '3 BHK', '4 Bedroom', '2 Bedroom', '3 Bedroom', '6 Bedroom', '2 BHK', '3 BHK', '3 BHK', '2 BHK', '3 BHK', '2 BHK', '2 BHK', '2 BHK', '3 BHK', '3 Bedroom', '3 BHK', '3 Bedroom', '4 Bedroom', '2 BHK', '2 BHK', '2 Bedroom', '2 BHK', '4 BHK', '2 BHK', '5 BHK', '3 BHK', '2 BHK', '2 BHK', '4 Bedroom', '5 Bedroom', '3 BHK', '2 BHK', '3 BHK', '3 BHK', '2 BHK', '2 BHK', '3 BHK', '3 BHK', '2 BHK', '3 BHK', '4 Bedroom', '2 BHK', '2 Bedroom', '1 BHK', '3 BHK', '2 BHK', '3 Bedroom', '2 BHK', '8 Bedroom', '2 Bedroom', '3 BHK', '2 BHK', '3 BHK', '2 Bedroom', '8 Bedroom', '4 Bedroom', '2 BHK', '2 BHK', '2 BHK', '3 BHK', '4 BHK', '2 BHK', '3 BHK', '2 BHK', '2 BHK', '1 BHK', '2 BHK', '2 Bedroom', '2 BHK', '2 BHK', '3 BHK', '3 BHK', '2 BHK', '3 BHK', '2 BHK', '3 BHK', '2 BHK', '2 BHK', '3 Bedroom', '3 Bedroom', '2 BHK', '2 BHK', '3 Bedroom', '3 BHK', '2 BHK', '4 Bedroom', '2 BHK', '2 BHK', '3 BHK', '1 BHK', '3 Bedroom', '2 BHK', '2 Bedroom', '2 BHK', '2 BHK', '4 BHK', '3 BHK', '2 BHK', '2 BHK', '2 BHK', '3 BHK', '2 BHK', '2 BHK', '3 BHK', '4 Bedroom', '2 BHK', '2 BHK', '3 BHK', '2 BHK', '3 Bedroom', '3 BHK', '2 BHK', '3 BHK', '3 BHK', '2 BHK', '3 BHK', '3 BHK', '3 BHK', '2 BHK', '3 BHK', '2 BHK', '3 BHK', '3 BHK', '9 Bedroom', '5 Bedroom', '3 BHK', '2 BHK', '2 BHK', '2 Bedroom', '2 BHK', '3 BHK', '2 BHK', '2 BHK', '3 BHK', '2 BHK', '2 BHK', '2 BHK', '5 Bedroom', '1 BHK', '3 BHK', '3 BHK', '3 BHK', '5 Bedroom', '3 BHK', '2 BHK', '3 Bedroom', '3 BHK', '3 BHK', '3 BHK', '2 BHK', '1 BHK', '2 BHK', '3 BHK', '3 BHK', '2 BHK', '6 Bedroom', '2 BHK', '3 BHK', '3 Bedroom', '3 BHK', '3 BHK', '2 BHK', '1 BHK', '2 Bedroom', '2 BHK', '2 BHK', '2 BHK', '3 Bedroom', '3 BHK', '3 BHK', '3 Bedroom', '6 Bedroom', '2 BHK', '2 BHK', '4 Bedroom', '3 BHK', '1 BHK', '3 BHK', '3 BHK', '2 BHK', '2 BHK', '2 BHK', '4 Bedroom', '4 BHK', '3 BHK', '2 BHK', '2 BHK', '8 Bedroom', '2 BHK', '7 Bedroom', '3 BHK', '3 BHK', '2 BHK', '3 Bedroom', '1 BHK', '2 BHK', '2 BHK', '3 BHK', '2 BHK', '3 BHK', '6 BHK', '3 BHK', '2 Bedroom', '2 BHK', '6 Bedroom', '3 BHK', '3 BHK', '2 BHK', '3 BHK', '3 BHK', '4 Bedroom', '2 BHK', '3 Bedroom', '5 Bedroom', '2 BHK', '2 BHK', '3 BHK', '3 BHK', '2 BHK', '2 BHK', '3 BHK', '4 Bedroom', '1 BHK', '2 BHK', '2 Bedroom', '2 BHK', '2 Bedroom', '2 Bedroom', '3 Bedroom', '3 BHK', '2 BHK', '3 BHK', '2 BHK', '2 BHK', '1 BHK', '4 Bedroom', '2 BHK', '3 BHK', '2 BHK', '2 BHK', '2 BHK', '2 Bedroom', '2 BHK', '3 BHK', '2 BHK', '3 BHK', '9 Bedroom', '2 BHK', '2 BHK', '3 BHK', '3 BHK', '2 BHK', '3 BHK', '3 BHK', '2 BHK', '2 BHK', '1 BHK', '2 BHK', '3 BHK', '2 BHK', '2 BHK', '1 Bedroom', '2 BHK', '2 BHK', '2 BHK', '3 Bedroom', '3 Bedroom', '3 BHK', '4 BHK', '3 Bedroom', '2 BHK', '2 Bedroom', '3 Bedroom', '5 Bedroom', '1 BHK', '5 Bedroom', '3 BHK', '3 BHK', '2 BHK', '8 Bedroom', '3 Bedroom', '3 BHK', '2 BHK', '1 BHK', '3 BHK', '4 Bedroom', '2 BHK', '3 BHK', '2 BHK', '3 BHK', '8 Bedroom', '3 BHK', '4 Bedroom', '1 BHK', '3 BHK', '2 BHK', '2 BHK', '3 Bedroom', '3 BHK', '3 BHK', '3 BHK', '2 BHK', '3 BHK', '3 Bedroom', '2 Bedroom', '3 BHK', '4 Bedroom', '8 Bedroom', '1 Bedroom', '3 BHK', '2 BHK', '3 BHK', '2 BHK', '5 Bedroom', '3 BHK', '2 BHK', '2 Bedroom', '6 Bedroom', '2 BHK', '3 BHK', '3 BHK', '2 BHK', '2 BHK', '5 Bedroom', '3 BHK', '3 BHK', '2 BHK', '3 BHK', '4 Bedroom', '2 BHK', '2 BHK', '3 BHK', '2 BHK', '3 BHK', '2 BHK', '3 BHK', '2 BHK', '2 BHK', '3 BHK', '2 BHK', '2 Bedroom', '4 BHK', '2 BHK', '2 BHK', '4 BHK', '1 BHK', '3 BHK', '3 Bedroom', '2 Bedroom', '1 BHK', '2 BHK', '3 BHK', '3 BHK', '2 BHK', '2 Bedroom', '3 BHK', '3 BHK', '2 BHK', '3 BHK', '2 BHK', '2 BHK', '5 Bedroom', '3 BHK', '2 BHK', '4 BHK', '4 Bedroom', '3 BHK', '3 BHK', '2 BHK', '2 BHK', '3 BHK', '3 Bedroom', '3 Bedroom', '2 BHK', '6 Bedroom', '4 BHK', '3 BHK', '3 BHK', '3 BHK', '3 Bedroom', '3 BHK', '2 BHK', '3 BHK', '2 BHK', '3 BHK', '3 Bedroom', '3 BHK', '2 BHK', '4 Bedroom', '4 BHK', '6 Bedroom', '2 BHK', '2 BHK', '4 Bedroom', '3 BHK', '2 BHK', '5 Bedroom', '2 BHK', '2 BHK', '3 BHK', '2 BHK', '4 Bedroom', '2 BHK', '3 Bedroom', '2 BHK', '2 BHK', '2 BHK', '3 BHK', '3 BHK', '2 BHK', '3 BHK', '3 BHK', '2 BHK', '3 BHK', '3 BHK', '3 BHK', '3 BHK', '1 BHK', '3 BHK', '3 BHK', '2 BHK', '2 BHK', '2 BHK', '2 BHK', '2 BHK', '2 BHK', '3 BHK', '3 BHK', '1 Bedroom', '2 BHK', '4 BHK', '2 BHK', '2 BHK', '2 BHK', '2 BHK', '3 BHK', '7 Bedroom', '3 BHK', '2 BHK', '2 BHK', '3 BHK', '2 BHK', '9 BHK', '2 BHK', '2 BHK', '3 BHK', '2 BHK', '1 BHK', '2 BHK', '2 BHK', '3 BHK', '2 BHK', '2 BHK', '3 BHK', '3 BHK', '2 BHK', '3 BHK', '2 BHK', '1 Bedroom', '2 BHK', '3 BHK', '2 BHK', '2 BHK', '4 BHK', '2 BHK', '2 BHK', '3 BHK', '2 BHK', '2 BHK', '3 BHK', '3 BHK', '2 BHK', '2 BHK', '3 BHK', '3 BHK', '5 Bedroom', '2 BHK', '3 BHK', '2 BHK', '2 BHK', '3 BHK', '3 BHK', '3 BHK', '1 BHK', '8 Bedroom', '3 BHK', '2 BHK', '2 BHK', '4 BHK', '3 BHK', '3 BHK', '2 BHK', '3 BHK', '2 BHK', '3 BHK', '2 BHK', '3 BHK', '2 BHK', '2 BHK', '3 BHK', '3 Bedroom', '4 Bedroom', '3 BHK', '2 BHK', '3 BHK', '2 BHK', '3 Bedroom', '2 BHK', '3 BHK', '4 Bedroom', '2 BHK', '3 Bedroom', '2 BHK', '3 BHK', '1 BHK', '3 BHK', '3 Bedroom', '8 Bedroom', '3 BHK', '4 Bedroom', '1 Bedroom', '1 Bedroom', '2 BHK', '2 BHK', '2 BHK', '3 BHK', '4 Bedroom', '3 BHK', '3 BHK', '3 BHK', '2 BHK', '3 BHK', '3 BHK', '1 BHK', '3 BHK', '3 Bedroom', '2 Bedroom', '2 BHK', '2 BHK', '2 BHK', '4 BHK', '3 BHK', '4 Bedroom', '3 BHK', '2 BHK', '2 BHK', '6 BHK', '2 BHK', '3 BHK', '3 BHK', '3 BHK', '2 BHK', '4 Bedroom', '2 BHK', '2 BHK', '4 Bedroom', '4 Bedroom', '5 Bedroom', '3 BHK', '2 BHK', '3 BHK', '2 BHK', '3 Bedroom', '3 Bedroom', '3 BHK', '4 BHK', '2 BHK', '2 BHK', '2 BHK', '4 BHK', '2 BHK', '2 BHK', '3 BHK', '2 BHK', '4 BHK', '2 BHK', '3 BHK', '3 BHK', '3 BHK', '2 BHK', '1 BHK', '3 Bedroom', '3 BHK', '2 BHK', '3 BHK', '3 BHK', '3 BHK', '2 BHK', '3 BHK', '4 Bedroom', '2 BHK', '1 BHK', '2 BHK', '3 BHK', '2 BHK', '2 BHK', '2 BHK', '2 BHK', '3 BHK', '2 BHK', '2 BHK', '2 Bedroom', '3 BHK', '2 BHK', '3 BHK', '2 BHK', '3 BHK', '3 BHK', '2 Bedroom', '3 BHK', '2 BHK', '3 BHK', '3 BHK', '2 BHK', '2 BHK', '2 BHK', '3 BHK', '2 BHK', '2 BHK', '2 BHK', '2 BHK', '3 Bedroom', '2 Bedroom', '3 BHK', '3 BHK', '3 BHK', '3 BHK', '4 BHK', '3 BHK', '3 BHK', '3 BHK', '3 BHK', '3 BHK', '5 BHK', '3 BHK', '2 BHK', '3 BHK', '3 BHK', '4 Bedroom', '3 BHK', '4 Bedroom', '4 Bedroom', '2 BHK', '3 BHK', '2 Bedroom', '5 Bedroom', '2 BHK', '2 Bedroom', '2 BHK', '2 BHK', '2 BHK', '3 BHK', '3 BHK', '3 BHK', '5 Bedroom', '3 BHK', '2 BHK', '3 BHK', '2 BHK', '3 BHK', '2 BHK', '2 BHK', '6 BHK', '2 BHK', '2 BHK', '2 BHK', '3 BHK', '3 BHK', '1 BHK', '2 BHK', '6 Bedroom', '2 BHK', '4 BHK', '2 BHK', '2 BHK', '3 BHK', '3 BHK', '4 Bedroom', '3 BHK', '3 BHK', '2 BHK', '3 Bedroom', '3 Bedroom', '3 BHK', '3 BHK', '3 BHK', '3 BHK', '3 BHK', '3 BHK', '3 BHK', '2 BHK', '3 BHK', '3 BHK', '3 BHK', '2 BHK', '2 BHK', '3 BHK', '2 BHK', '2 BHK', '3 Bedroom', '2 BHK', '3 BHK', '3 BHK', '4 BHK', '3 BHK', '2 BHK', '3 BHK', '2 BHK', '3 BHK', '3 BHK', '4 BHK', '2 BHK', '2 BHK', '2 BHK', '4 Bedroom', '2 BHK', '2 BHK', '2 BHK', '3 BHK', '3 BHK', '3 BHK', '4 BHK', '2 BHK', '4 Bedroom', '3 BHK', '3 BHK', '3 BHK', '3 BHK', '3 BHK', '1 BHK', '2 BHK', '3 BHK', '4 BHK', '1 BHK', '2 BHK', '3 BHK', '1 BHK', '3 BHK', '3 BHK', '2 BHK', '6 Bedroom', '3 BHK', '5 Bedroom', '3 BHK', '3 Bedroom', '2 BHK', '2 BHK', '3 BHK', '2 BHK', '2 BHK', '3 BHK', '2 BHK', '2 BHK', '3 BHK', '4 Bedroom', '2 BHK', '2 BHK', '3 BHK', '4 Bedroom', '4 Bedroom', '2 BHK', '2 BHK', '3 Bedroom', '3 BHK', '3 BHK', '2 BHK', '2 BHK', '6 Bedroom', '3 BHK', '2 BHK', '1 BHK', '2 BHK', '2 BHK', '4 Bedroom', '4 Bedroom', '7 Bedroom', '4 Bedroom', '3 BHK', '3 BHK', '6 Bedroom', '3 BHK', '4 Bedroom', '8 BHK', '4 Bedroom', '4 Bedroom', '2 BHK', '4 BHK', '3 BHK', '2 BHK', '3 BHK', '3 BHK', '3 BHK', '3 BHK', '3 Bedroom', '3 BHK', '3 BHK', '2 BHK', '4 Bedroom', '4 Bedroom', '2 BHK', '5 Bedroom', '3 BHK', '1 BHK', '4 BHK', '3 BHK', '3 Bedroom', '2 Bedroom', '4 Bedroom', '3 Bedroom', '3 BHK', '1 Bedroom', '4 Bedroom', '3 BHK', '2 BHK', '2 BHK', '2 BHK', '3 BHK', '3 Bedroom', '3 BHK', '2 BHK', '2 BHK', '3 BHK', '3 BHK', '3 BHK', '1 RK', '4 BHK', '3 Bedroom', '3 BHK', '2 BHK', '8 Bedroom', '2 BHK', '2 BHK', '4 BHK', '3 BHK', '4 Bedroom', '3 BHK', '3 BHK', '3 BHK', '3 BHK', '3 BHK', '2 BHK', '3 Bedroom', '3 BHK', '1 BHK', '2 BHK', '2 BHK', '2 BHK', '2 BHK', '2 BHK', '3 BHK', '3 BHK', '6 BHK', '2 BHK', '5 Bedroom', '5 Bedroom', '2 BHK', '4 BHK', '3 BHK', '2 BHK', '3 BHK', '3 BHK', '2 BHK', '2 BHK', '3 BHK', '3 BHK', '1 BHK', '2BHK', '2 BHK', '3 BHK', '2 BHK', '2 BHK', '3 BHK', '2 BHK', '2 BHK', '2 BHK', '2 BHK', '2 BHK', '2 BHK', '6 Bedroom', '4 Bedroom', '2 BHK', '3 BHK', '2 BHK', '3 BHK', '2 BHK', '3 Bedroom', '3 Bedroom', '2 BHK', '2 BHK', '5 Bedroom', '6 Bedroom', '2 BHK', '3 BHK', '2 BHK', '1 BHK', '4 Bedroom', '2 BHK', '7 Bedroom', '3 BHK', '2 BHK', '3 BHK', '2 BHK', '3 BHK', '3 BHK', '4 Bedroom', '3 Bedroom', '2 Bedroom', '4 Bedroom', '2 BHK', '4 BHK', '1 Bedroom', '2 BHK', '1 Bedroom', '4 BHK', '2 BHK', '2 BHK', '2 Bedroom', '5 Bedroom', '2 BHK', '9 Bedroom', '3 BHK', '4 Bedroom', '2 BHK', '2 BHK', '2 BHK', '2 BHK', '3 BHK', '2 BHK', '3 BHK', '3 BHK', '3 Bedroom', '3 BHK', '2 BHK', '1 BHK', '2 BHK', '3 BHK', '4 Bedroom', '3 BHK', '2 BHK', '4 Bedroom', '2 BHK', '3 BHK', '4 BHK', '2 BHK', '2 BHK', '3 BHK', '2 BHK', '2 BHK', '4 Bedroom', '5 Bedroom', '4 Bedroom', '2 BHK', '2 BHK', '3 BHK', '3 BHK', '3 BHK', '4 BHK', '2 BHK', '2 BHK', '2 BHK', '3 BHK', '2 BHK', '2 BHK', '3 BHK', '2 BHK', '2 BHK', '2 BHK', '3 BHK', '2 BHK', '3 BHK', '3 BHK', '2 BHK', '3 BHK', '3 BHK', '3 BHK', '3 BHK', '2 BHK', '2 BHK', '3 BHK', '2 BHK', '3 BHK', '3 BHK', '2 BHK', '4 BHK', '2 BHK', '2 BHK', '1 Bedroom', '4 BHK', '4 BHK', '2 BHK', '2 BHK', '3 BHK', '3 BHK', '2 BHK', '3 BHK', '3 BHK', '3 Bedroom', '5 Bedroom', '2 BHK', '3 BHK', '3 BHK', '2 BHK', '2 BHK', '2 BHK', '2 Bedroom', '2 BHK', '4 Bedroom', '3 BHK', '3 BHK', '4 BHK', '1 BHK', '2 BHK', '1 BHK', '3 BHK', '8 Bedroom', '2 BHK', '3 BHK', '3 BHK', '4 Bedroom', '2 BHK', '2 BHK', '2 BHK', '4 Bedroom', '4 Bedroom', '4 Bedroom', '2 BHK', '3 BHK', '5 Bedroom', '1 BHK', '1 BHK', '3 BHK', '2 BHK', '2 BHK', '1 BHK', '1 BHK', '4 BHK', '5 Bedroom', '4 Bedroom', '4 Bedroom', '3 BHK', '3 BHK', '4 Bedroom', '2 BHK', '3 BHK', '1 BHK', '4 Bedroom', '6 Bedroom', '3 BHK', '3 BHK', '2 BHK', '3 BHK', '4 BHK', '3 BHK', '2 BHK', '2 BHK', '4 Bedroom', '3 BHK', '3 BHK', '1 Bedroom', '3 BHK', '3 Bedroom', '1 BHK', '4 Bedroom', '3 Bedroom', '2 Bedroom', '2 BHK', '3 BHK', '3 BHK', '2 BHK', '4 BHK', '1 BHK', '2 BHK', '8 Bedroom', '3 Bedroom', '2 BHK', '2 BHK', '3 BHK', '2 BHK', '5 Bedroom', '3 BHK', '4 Bedroom', '4 BHK', '3 BHK', '3 BHK', '3 Bedroom', '2 BHK', '3 BHK', '1 BHK', '3 Bedroom', '2 BHK', '2 BHK', '2 BHK', '4 Bedroom', '2 BHK', '1 BHK', '3 BHK', '3 Bedroom', '2 BHK', '2 BHK', '3 BHK', '3 BHK', '2 BHK', '3 BHK', '4 Bedroom', '2 BHK', '1 BHK', '3 BHK', '3 BHK', '2 BHK', '2 BHK', '3 BHK', '3 BHK', '3 BHK', '2 BHK', '2 BHK', '2 BHK', '3 BHK', '2 BHK', '1 BHK', '3 BHK', '4 Bedroom', '2 BHK', '2 BHK', '3 BHK', '3 BHK', '2 BHK', '3 Bedroom', '2 BHK', '4 Bedroom', '2 BHK', '3 BHK', '5 Bedroom', '2 BHK', '3 BHK', '2 BHK', '3 BHK', '3 BHK', '3 BHK', '3 BHK', '3 BHK', '3 BHK', '3 Bedroom', '2 BHK', '2 BHK', '3 BHK', '3 BHK', '2 BHK', '4 BHK', '4 Bedroom', '2 BHK', '2 BHK', '2 BHK', '3 Bedroom', '3 BHK', '4 BHK', '3 BHK', '3 Bedroom', '3 BHK', '4 BHK', '2 BHK', '2 BHK', '2 BHK', '4 Bedroom', '2 BHK', '1 BHK', '11 BHK', '7 Bedroom', '2 BHK', '2 BHK', '3 BHK', '5 BHK', '2 Bedroom', '4 Bedroom', '3 BHK', '3 BHK', '3 BHK', '3 BHK', '2 BHK', '2 Bedroom', '7 Bedroom', '2 BHK', '3 BHK', '3 BHK', '3 Bedroom', '3 BHK', '5 Bedroom', '3 BHK', '2 BHK', '4 Bedroom', '2 BHK', '5 BHK', '6 Bedroom', '4 Bedroom', '3 Bedroom', '5 Bedroom', '3 BHK', '2 BHK', '3 BHK', '4 Bedroom', '3 BHK', '3 BHK', '3 BHK', '4 Bedroom', '2 Bedroom', '4 Bedroom', '2 BHK', '4 BHK', '7 Bedroom', '3 BHK', '4 Bedroom', '2 BHK', '4 BHK', '3 BHK', '1 BHK', '1 BHK', '3 BHK', '7 Bedroom', '4 Bedroom', '2 BHK', '3 BHK', '3 BHK', '3 Bedroom', '1 BHK', '2 BHK', '3 BHK', '3 BHK', '3 BHK', '2 BHK', '2 BHK', '2 BHK', '3 BHK', '3 BHK', '4 BHK', '2 BHK', '2 BHK', '3 BHK', '9 Bedroom', '1 Bedroom', '2 BHK', '2 BHK', '3 Bedroom', '2 BHK', '3 BHK', '4 Bedroom', '2 BHK', '3 BHK', '2 BHK', '2 BHK', '2 BHK', '3 BHK', '2 BHK', '3 BHK', '2 Bedroom', '2 BHK', '3 BHK', '1 BHK', '2 BHK', '5 Bedroom', '2 BHK', '1 BHK', '2 BHK', '4 BHK', '3 BHK', '2 Bedroom', '2 BHK', '2 BHK', '2 BHK', '5 Bedroom', '5 Bedroom', '3 BHK', '3 BHK', '2 BHK', '2 BHK', '1 BHK', '2 BHK', '4 Bedroom', '2 BHK', '2 BHK', '2 BHK', '2 Bedroom', '2 BHK', '2 BHK', '3 BHK', '4 BHK', '3 BHK', '3 BHK', '2 BHK', '3 BHK', '3 BHK', '1 BHK', '2 BHK', '3 BHK', '8 Bedroom', '4 Bedroom', '2 BHK', '2 BHK', '2 BHK', '1 BHK', '3 BHK', '5 Bedroom', '3 BHK', '2 BHK', '3 BHK', '2 BHK', '2 BHK', '4 BHK', '2 BHK', '2 BHK', '1 BHK', '3 BHK', '2 BHK', '3 BHK', '5 Bedroom', '4 BHK', '4 Bedroom', '3 BHK', '4 Bedroom', '2 BHK', '3 BHK', '3 BHK', '2 BHK', '2 BHK', '2 BHK', '4 BHK', '4 Bedroom', '2 BHK', '3 BHK', '3 BHK', '4 BHK', '2 Bedroom', '2 BHK', '2 BHK', '5 Bedroom', '4 Bedroom', '4 Bedroom', '1 Bedroom', '3 BHK', '2 BHK', '3 BHK', '2 BHK', '9 Bedroom', '3 BHK', '4 Bedroom', '2 BHK', '2 BHK', '3 BHK', '2 BHK', '2 BHK', '1 BHK', '3 BHK', '3 BHK', '4 BHK', '2 BHK', '3 BHK', '3 BHK', '4 Bedroom', '3 BHK', '3 BHK', '3 BHK', '2 BHK', '3 BHK', '3 BHK', '3 BHK', '3 BHK', '4 Bedroom', '3 BHK', '2 BHK', '3 BHK', '3 BHK', '3 BHK', '2 BHK', '2 BHK', '2 Bedroom', '3 Bedroom', '2 BHK', '3 BHK', '8 Bedroom', '2 BHK', '2 BHK', '4 Bedroom', '2 BHK', '4 Bedroom', '2 BHK', '2 Bedroom', '3 BHK', '3 BHK', '3 BHK', '6 Bedroom', '2 BHK', '2 BHK', '2 BHK', '3 Bedroom', '3 Bedroom', '2 BHK', '4 Bedroom', '2 BHK', '2 BHK', '3 BHK', '4 BHK', '3 BHK', '3 BHK', '2 BHK', '2 BHK', '3 BHK', '3 BHK', '3 BHK', '3 BHK', '3 BHK', '3 BHK', '3 BHK', '2 BHK', '4 BHK', '2 BHK', '2 Bedroom', '2 BHK', '3 BHK', '2 BHK', '3 BHK', '2 BHK', '3 BHK', '3 Bedroom', '2 BHK', '1 BHK', '4 Bedroom', '1 BHK', '2 BHK', '2 BHK', '3 BHK', '1 BHK', '2 BHK', '4 BHK', '2 BHK', '2 BHK', '3 BHK', '3 BHK', '3 BHK', '3 BHK', '1 BHK', '3 BHK', '4 BHK', '3 BHK', '2 BHK', '4 BHK', '3 BHK', '2 BHK', '2 BHK', '2 BHK', '2 BHK', '3 BHK', '2 BHK', '3 BHK', '2 Bedroom', '2 BHK', '1 BHK', '2 BHK', '2 BHK', '2 BHK', '4 Bedroom', '2 BHK', '3 BHK', '3 BHK', '1 BHK', '3 BHK', '2 BHK', '2 BHK', '3 BHK', '4 BHK', '3 BHK', '2 BHK', '3 BHK', '2 BHK', '2 BHK', '2 BHK', '3 BHK', '4 Bedroom', '2 BHK', '2 BHK', '3 BHK', '3 BHK', '2 BHK', '2 BHK', '3 BHK', '2 BHK', '2 BHK', '2 BHK', '2 BHK', '3 BHK', '4 BHK', '4 BHK', '2 BHK', '3 BHK', '3 BHK', '2BHK', '3 BHK', '2 BHK', '2 BHK', '3 Bedroom', '3 BHK', '1 BHK', '3 BHK', '5 Bedroom', '6 Bedroom', '1 Bedroom', '3 BHK', '2 BHK', '2 BHK', '3 BHK', '4 Bedroom', '3 Bedroom', '3 BHK', '4 Bedroom', '2 BHK', '2 BHK', '2 BHK', '2 BHK', '3 BHK', '2 BHK', '3 BHK', '3 Bedroom', '3 BHK', '2 BHK', '2 BHK', '3 Bedroom', '3 BHK', '2 BHK', '4 BHK', '2 BHK', '2 Bedroom', '3 BHK', '4 Bedroom', '2 BHK', '2 BHK', '4 BHK', '3 BHK', '3 BHK', '3 BHK', '2 BHK', '4 Bedroom', '6 Bedroom', '2 Bedroom', '2 BHK', '1 BHK', '2 BHK', '3 BHK', '2 BHK', '4 BHK', '2 BHK', '3 BHK', '4 Bedroom', '3 Bedroom', '2 BHK', '2 BHK', '3 BHK', '4 BHK', '2 BHK', '4 Bedroom', '5 Bedroom', '4 Bedroom', '2 BHK', '2 BHK', '3 BHK', '2 BHK', '2 BHK', '3 BHK', '2 BHK', '2 BHK', '2 BHK', '2 BHK', '2 Bedroom', '2 BHK', '3 BHK', '1 RK', '3 BHK', '4 BHK', '2 BHK', '2 BHK', '3 BHK', '1 BHK', '3 BHK', '2 BHK', '4 Bedroom', '3 BHK', '3 BHK', '3 BHK', '5 BHK', '2 BHK', '2 BHK', '2 BHK', '2 BHK', '3 BHK', '3 BHK', '3 BHK', '2 BHK', '2 BHK', '4 BHK', '4 Bedroom', '2 BHK', '4 Bedroom', '2 BHK', '4 Bedroom', '3 BHK', '3 BHK', '2 BHK', '2 BHK', '2 BHK', '2 BHK', '3 BHK', '2 BHK', '2 BHK', '3 BHK', '2 BHK', '4 Bedroom', '3 BHK', '1 Bedroom', '4 Bedroom', '2 BHK', '1 BHK', '1 BHK', '4 Bedroom', '2 BHK', '2 BHK', '4 Bedroom', '5 BHK', '2 BHK', '2 BHK', '2 BHK', '2 BHK', '3 BHK', '3 BHK', '3 BHK', '4 BHK', '3 BHK', '2 BHK', '3 BHK', '2 BHK', '4 BHK', '3 BHK', '3 BHK', '2 BHK', '3 BHK', '2 BHK', '4 Bedroom', '3 BHK', '3 BHK', '3 BHK', '2 BHK', '2 BHK', '2 BHK', '6 Bedroom', '3 BHK', '4 Bedroom', '4 BHK', '3 BHK', '4 Bedroom', '2 Bedroom', '3 Bedroom', '1 BHK', '2 BHK', '4 BHK', '2 BHK', '4 BHK', '3 BHK', '2 BHK', '1 BHK', '3 Bedroom', '2 BHK', '1 Bedroom', '3 Bedroom', '2 BHK', '2 BHK', '2 BHK', '1 BHK', '5 Bedroom', '5 Bedroom', '3 BHK', '3 BHK', '5 Bedroom', '5 Bedroom', '3 BHK', '3 BHK', '2 Bedroom', '2 BHK', '3 BHK', '3 BHK', '2 BHK', '2 BHK', '4 BHK', '2 BHK', '3 BHK', '1 BHK', '2 BHK', '2 BHK', '3 BHK', '3 BHK', '3 BHK', '2 BHK', '2 BHK', '3 BHK', '3 BHK', '1 BHK', '2 BHK', '4 BHK', '3 BHK', '4 Bedroom', '3 BHK', '3 BHK', '2 BHK', '3 BHK', '2 BHK', '2 BHK', '3 BHK', '3 BHK', '2 BHK', '1 BHK', '2 Bedroom', '2 BHK', '3 BHK', '2 BHK', '2 Bedroom', '1 Bedroom', '2 BHK', '2 BHK', '3 BHK', '1 Bedroom', '3 BHK', '2 BHK', '3 BHK', '1 BHK', '2 BHK', '2 BHK', '3 BHK', '1 Bedroom', '3 Bedroom', '3 BHK', '2 BHK', '2 BHK', '4 Bedroom', '3 BHK', '3 BHK', '2 BHK', '2 BHK', '4 Bedroom', '2 BHK', '2 BHK', '3 BHK', '2 BHK', '2 BHK', '4 BHK', '3 BHK', '4 Bedroom', '3 BHK', '2BHK', '2 BHK', '3 BHK', '2 BHK', '2 BHK', '2 BHK', '1 BHK', '2 BHK', '4 BHK', '2 BHK', '2 BHK', '8 Bedroom', '3 BHK', '3 BHK', '2 BHK', '2 BHK', '2 Bedroom', '2 Bedroom', '3 BHK', '3 BHK', '2 BHK', '3 BHK', '3 BHK', '2 BHK', '2 BHK', '3 BHK', '2 BHK', '4 BHK', '2 BHK', '1 BHK', '2 BHK', '3 BHK', '3 BHK', '3 BHK', '2 BHK', '3 BHK', '2 Bedroom', '2 BHK', '2 BHK', '2 BHK', '3 BHK', '2 BHK', '3 BHK', '3 BHK', '2 BHK', '3 BHK', '3 BHK', '3 BHK', '2 BHK', '4 Bedroom', '3 BHK', '4 BHK', '2 BHK', '2 BHK', '2 BHK', '3 Bedroom', '3 BHK', '2 BHK', '2 BHK', '3 BHK', '2 BHK', '2 BHK', '3 Bedroom', '3 BHK', '3 BHK', '4 BHK', '3 BHK', '2 BHK', '5 Bedroom', '2 BHK', '3 BHK', '10 BHK', '1 Bedroom', '2 BHK', '2 BHK', '5 Bedroom', '4 Bedroom', '3 BHK', '2 BHK', '2 BHK', '4 BHK', '3 BHK', '2 BHK', '2 BHK', '2 BHK', '3 BHK', '2 BHK', '3 BHK', '2 Bedroom', '3 BHK', '2 Bedroom', '3 BHK', '1 BHK', '2 BHK', '2 BHK', '3 Bedroom', '1 BHK', '2 BHK', '3 BHK', '2 Bedroom', '1 BHK', '2 BHK', '5 Bedroom', '3 BHK', '2 BHK', '3 BHK', '3 BHK', '2 BHK', '5 Bedroom', '3 BHK', '2 Bedroom', '2 BHK', '3 BHK', '4 BHK', '2 BHK', '3 BHK', '2 BHK', '4 Bedroom', '2 BHK', '5 Bedroom', '4 Bedroom', '2 BHK', '3 BHK', '3 Bedroom', '3 BHK', '3 BHK', '2 BHK', '2 BHK', '2 BHK', '3 BHK', '2 BHK', '2 BHK', '2 Bedroom', '4 BHK', '2 BHK', '2 BHK', '2 BHK', '2 BHK', '2BHK', '3 BHK', '4 BHK', '3 Bedroom', '3 BHK', '2 BHK', '3 BHK', '2 BHK', '2 BHK', '3 BHK', '2 BHK', '3 BHK', '2 BHK', '3 BHK', '3 BHK', '2 BHK', '3 Bedroom', '2 BHK', '2 Bedroom', '2 BHK', '4 Bedroom', '1 BHK', '1 BHK', '2 BHK', '3 BHK', '3 BHK', '2 BHK', '4 BHK', '3 BHK', '2 BHK', '3 BHK', '3 BHK', '2 BHK', '1 BHK', '3 BHK', '3 Bedroom', '3 BHK', '3 BHK', '2 Bedroom', '1 BHK', '7 Bedroom', '4 Bedroom', '2 BHK', '3 BHK', '4 Bedroom', '8 Bedroom', '3 BHK', '2 BHK', '2 BHK', '3 BHK', '3 BHK', '3 BHK', '2 BHK', '3 BHK', '4 Bedroom', '3 BHK', '2 BHK', '3 BHK', '3 Bedroom', '4 Bedroom', '2 BHK', '3 BHK', '2 Bedroom', '3 BHK', '3 BHK', '1 BHK', '2 BHK', '3 BHK', '2 BHK', '3 BHK', '2 BHK', '2 BHK', '2 BHK', '2 BHK', '2 BHK', '2 BHK', '1 BHK', '3 BHK', '3 BHK', '3 BHK', '3 BHK', '2 BHK', '2 BHK', '3 BHK', '2 BHK', '2 BHK', '6 BHK', '2 BHK', '1 BHK', '2 BHK', '3 BHK', '3 BHK', '2 BHK', '3 BHK', '3 BHK', '3 BHK', '2 BHK', '1 BHK', '3 BHK', '1 BHK', '6 Bedroom', '3 BHK', '3 BHK', '2 BHK', '2 BHK', '2 BHK', '2 BHK', '1 Bedroom', '3 Bedroom', '3 BHK', '2 BHK', '3 BHK', '1 BHK', '2 Bedroom', '2 BHK', '3 BHK', '2 BHK', '2 BHK', '2 BHK', '3 Bedroom', '2 BHK', '3 BHK', '3 BHK', '3 BHK', '3 Bedroom', '3 BHK', '3 BHK', '2 BHK', '2 BHK', '2 BHK', '5 Bedroom', '2 BHK', '2 BHK', '3 BHK', '2 BHK', '2 BHK', '3 BHK', '4 Bedroom', '3 BHK', '2 BHK', '3 BHK', '3 BHK', '1 BHK', '3 BHK', '6 Bedroom', '2 BHK', '4 Bedroom', '2 BHK', '6 Bedroom', '2 BHK', '3 BHK', '2 BHK', '2 BHK', '2 BHK', '2 BHK', '3 BHK', '1 BHK', '3 Bedroom', '4 Bedroom', '2 BHK', '2 BHK', '2 BHK', '2 BHK', '3 BHK', '2 BHK', '2 BHK', '2 BHK', '3 BHK', '1 BHK', '3 BHK', '3 BHK', '2 BHK', '2 BHK', '7 Bedroom', '4 Bedroom', '2 Bedroom', '5 Bedroom', '2 BHK', '2 BHK', '3 BHK', '7 Bedroom', '2 BHK', '3 BHK', '4 Bedroom', '2 BHK', '3 BHK', '2 BHK', '1 BHK', '9 BHK', '2 BHK', '4 Bedroom', '3 BHK', '3 BHK', '3 BHK', '2 BHK', '3 BHK', '3 BHK', '2 BHK', '3 BHK', '4 Bedroom', '3 BHK', '3 BHK', '2 BHK', '2 BHK', '2 BHK', '3 BHK', '3 Bedroom', '3 BHK', '3 BHK', '2 BHK', '2 BHK', '3 BHK', '2 BHK', '3 BHK', '3 BHK', '2 BHK', '1 BHK', '2 BHK', '2 BHK', '2 BHK', '4 BHK', '3 BHK', '4 BHK', '2 BHK', '2 BHK', '3 BHK', '2 BHK', '6 Bedroom', '3 BHK', '2 BHK', '3 BHK', '2 BHK', '3 BHK', '3 BHK', '2 BHK', '2 BHK', '2 BHK', '2 BHK', '3 BHK', '2 BHK', '2 BHK', '3 BHK', '2 BHK', '3 BHK', '4 Bedroom', '1 Bedroom', '2 BHK', '2 BHK', '2 BHK', '3 BHK', '3 BHK', '3 BHK', '3 BHK', '5 Bedroom', '8 Bedroom', '5 Bedroom', '3 BHK', '3 BHK', '3 BHK', '2 BHK', '3 BHK', '3 Bedroom', '3 BHK', '6 Bedroom', '3 BHK', '2 BHK', '2 BHK', '3 BHK', '3 BHK', '3 BHK', '3 BHK', '3 BHK', '4 Bedroom', '2 BHK', '3 BHK', '2 BHK', '6 Bedroom', '4 Bedroom', '2 BHK', '2 BHK', '3 BHK', '3 BHK', '4 BHK', '8 Bedroom', '4 Bedroom', '2 BHK', '2 BHK', '2 BHK', '2 BHK', '3 BHK', '3 BHK', '1 BHK', '2 BHK', '2 BHK', '3 BHK', '4 Bedroom', '3 BHK', '1 BHK', '3 BHK', '2 BHK', '3 BHK', '3 BHK', '2 BHK', '3 BHK', '3 BHK', '2 BHK', '2 BHK', '2 BHK', '2 BHK', '2 BHK', '3 BHK', '3 Bedroom', '1 BHK', '4 BHK', '3 BHK', '2 BHK', '3 Bedroom', '2 BHK', '2 BHK', '1 BHK', '2 BHK', '3 BHK', '2 BHK', '3 Bedroom', '3 BHK', '2 BHK', '2 BHK', '3 BHK', '3 BHK', '3 BHK', '1 BHK', '3 BHK', '6 Bedroom', '2 BHK', '2 BHK', '2 BHK', '2 BHK', '3 BHK', '3 BHK', '2 BHK', '2 BHK', '3 BHK', '2 BHK', '1 BHK', '1 Bedroom', '2 Bedroom', '3 BHK', '3 BHK', '2 BHK', '3 BHK', '4 Bedroom', '2 BHK', '2 BHK', '4 Bedroom', '2 BHK', '2 BHK', '2 BHK', '2 BHK', '2 Bedroom', '3 BHK', '3 BHK', '2 BHK', '2 BHK', '2 BHK', '2 BHK', '2 BHK', '2 BHK', '3 Bedroom', '1 BHK', '2 BHK', '2 BHK', '3 BHK', '3 BHK', '3 BHK', '3 BHK', '1 Bedroom', '2 BHK', '3 Bedroom', '3 BHK', '2 BHK', '3 BHK', '2 BHK', '3 BHK', '3 BHK', '2 BHK', '3 BHK', '2 BHK', '2 BHK', '3 BHK', '2 BHK', '4 Bedroom', '3 BHK', '2 BHK', '3 BHK', '2 BHK', '3 BHK', '2 BHK', '2 BHK', '2 Bedroom', '1 BHK', '4 BHK', '3 BHK', '3 BHK', '3 BHK', '2 BHK', '3 BHK', '3 Bedroom', '2 Bedroom', '3 BHK', '3 BHK', '3 BHK', '3 BHK', '2 BHK', '3 BHK', '2 BHK', '3 BHK', '2 BHK', '3 BHK', '2 BHK', '3 BHK', '3 BHK', '3 BHK', '2 BHK', '2 BHK', '5 Bedroom', '4 BHK', '3 BHK', '4 Bedroom', '2 BHK', '3 BHK', '2 BHK', '2 BHK', '1 BHK', '3 BHK', '2 BHK', '2 BHK', '3 BHK', '4 Bedroom', '2 BHK', '2 BHK', '2 BHK', '2 BHK', '4 Bedroom', '3 Bedroom', '2 BHK', '3 Bedroom', '4 BHK', '1 BHK', '4 Bedroom', '3 BHK', '3 BHK', '4 Bedroom', '2 BHK', '2 BHK', '3 BHK', '2 BHK', '2 BHK', '2 Bedroom', '2 BHK', '2 BHK', '2 BHK', '2 BHK', '3 BHK', '2 BHK', '3 BHK', '2 BHK', '2 BHK', '4 Bedroom', '1 Bedroom', '3 Bedroom', '5 Bedroom', '2 BHK', '3 BHK', '2 BHK', '3 BHK', '3 BHK', '3 BHK', '6 Bedroom', '4 BHK', '2 BHK', '2 BHK', '3 BHK', '4 Bedroom', '6 Bedroom', '2 BHK', '3 BHK', '2 BHK', '2 BHK', '3 BHK', '2 BHK', '2 Bedroom', '3 BHK', '3 BHK', '3 BHK', '2 BHK', '3 BHK', '3 BHK', '4 BHK', '2 BHK', '4 Bedroom', '2 BHK', '4 Bedroom', '2 BHK', '2 BHK', '2 BHK', '3 Bedroom', '2 BHK', '3 BHK', '7 BHK', '3 Bedroom', '3 BHK', '3 BHK', '2 BHK', '3 BHK', '4 Bedroom', '3 BHK', '2 BHK', '1 Bedroom', '2 BHK', '1 Bedroom', '3 BHK', '4 BHK', '2 BHK', '3 BHK', '2 BHK', '3 BHK', '3 BHK', '2 Bedroom', '3 BHK', '2 BHK', '4 BHK', '2 BHK', '3 BHK', '2 BHK', '4 Bedroom', '2 BHK', '2 BHK', '4 Bedroom', '3 BHK', '3 BHK', '4 BHK', '4 Bedroom', '3 BHK', '1 BHK', '2 BHK', '3 BHK', '6 Bedroom', '3 BHK', '2 BHK', '2 BHK', '5 Bedroom', '2 BHK', '3 BHK', '3 BHK', '3 BHK', '3 BHK', '2 BHK', '3 BHK', '4 Bedroom', '3 Bedroom', '2 BHK', '2 Bedroom', '3 BHK', '3 Bedroom', '2 BHK', '2 BHK', '2 BHK', '2 BHK', '3 BHK', '3 BHK', '3 BHK', '3 BHK', '6 Bedroom', '3 BHK', '3 BHK', '2 BHK', '2 BHK', '2 BHK', '3 BHK', '2 BHK', '2 BHK', '3 Bedroom', '1 BHK', '3 BHK', '3 BHK', '2 BHK', '2 BHK', '3 BHK', '2 BHK', '3 BHK', '2 BHK', '2 BHK', '4 Bedroom', '3 BHK', '3 BHK', '2 BHK', '1 BHK', '2 BHK', '2 BHK', '2 BHK', '2 BHK', '6 BHK', '3 BHK', '3 BHK', '2 BHK', '3 BHK', '2 BHK', '3 BHK', '3 BHK', '1 BHK', '4 Bedroom', '4 BHK', '2 BHK', '6 Bedroom', '2 BHK', '2 BHK', '2 BHK', '2 BHK', '2 BHK', '4 BHK', '3 BHK', '4 BHK', '4 Bedroom', '2 BHK', '2 Bedroom', '2 BHK', '2 BHK', '2 BHK', '3 BHK', '2 BHK', '2 BHK', '2 BHK', '2 BHK', '3 Bedroom', '2 BHK', '3 BHK', '3 BHK', '2 BHK', '3 BHK', '8 Bedroom', '9 Bedroom', '2 BHK', '2 BHK', '3 BHK', '5 Bedroom', '3 BHK', '2 BHK', '2 BHK', '4 Bedroom', '3 BHK', '2 BHK', '2 BHK', '4 Bedroom', '3 BHK', '2 BHK', '2 BHK', '2 BHK', '2 BHK', '2 BHK', '2 BHK', '1 BHK', '1 BHK', '3 BHK', '3 BHK', '2 BHK', '2 BHK', '4 BHK', '3 BHK', '1 BHK', '2 Bedroom', '2 BHK', '1 BHK', '2 BHK', '3 BHK', '4 BHK', '2 BHK', '2 BHK', '4 Bedroom', '3 Bedroom', '1 BHK', '3 BHK', '4 Bedroom', '3 BHK', '4 Bedroom', '2 BHK', '2 Bedroom', '2 BHK', '3 Bedroom', '3 Bedroom', '2 BHK', '3 BHK', '2 BHK', '3 BHK', '3 BHK', '2 BHK', '3 BHK', '5 BHK', '3 BHK', '3 BHK', '2 BHK', '3 BHK', '5 BHK', '2 BHK', '4 BHK', '2 BHK', '2 BHK', '2 BHK', '4 Bedroom', '2 BHK', '1 BHK', '2 BHK', '3 BHK', '3 BHK', '3 BHK', '2 BHK', '6 Bedroom', '2 BHK', '2 BHK', '3 BHK', '2 BHK', '1 Bedroom', '2 BHK', '2 BHK', '4 Bedroom', '3 BHK', '2 Bedroom', '3 BHK', '2 BHK', '3 BHK', '3 BHK', '3 BHK', '2 BHK', '3 BHK', '3 BHK', '4 Bedroom', '2 BHK', '5 BHK', '2 BHK', '2 BHK', '2 BHK', '2 BHK', '3 BHK', '2 BHK', '2 BHK', '3 BHK', '2 BHK', '5 Bedroom', '3 BHK', '2 Bedroom', '2 BHK', '2 BHK', '2 BHK', '3 BHK', '3 Bedroom', '2 BHK', '4 Bedroom', '4 Bedroom', '2 BHK', '2 BHK', '2 BHK', '3 BHK', '2 BHK', '2 BHK', '2 BHK', '2 BHK', '3 BHK', '3 BHK', '2 BHK', '2 BHK', '4 Bedroom', '2 BHK', '5 Bedroom', '3 BHK', '1 BHK', '1 BHK', '4 BHK', '2 BHK', '4 BHK', '2 BHK', '4 BHK', '2 Bedroom', '2 BHK', '2 BHK', '3 BHK', '2 BHK', '3 BHK', '2 BHK', '4 BHK', '3 BHK', '3 BHK', '2 BHK', '2 BHK', '2 BHK', '2 BHK', '4 BHK', '2 BHK', '2 BHK', '2 BHK', '2 BHK', '3 BHK', '4 BHK', '3 BHK', '4 BHK', '3 BHK', '4 BHK', '3 BHK', '1 BHK', '2 BHK', '10 Bedroom', '1 Bedroom', '6 Bedroom', '2 BHK', '2 BHK', '2 BHK', '9 Bedroom', '3 BHK', '3 Bedroom', '2 BHK', '4 BHK', '4 BHK', '4 Bedroom', '4 Bedroom', '2 BHK', '2 BHK', '3 BHK', '3 BHK', '2 BHK', '3 BHK', '4 BHK', '2 BHK', '3 BHK', '1 BHK', '4 Bedroom', '1 Bedroom', '2 BHK', '3 Bedroom', '2 BHK', '7 Bedroom', '3 BHK', '2 BHK', '2 BHK', '1 BHK', '4 BHK', '5 Bedroom', '2 BHK', '4 Bedroom', '3 BHK', '3 BHK', '5 Bedroom', '2 BHK', '3 BHK', '4 BHK', '3 BHK', '2 BHK', '3 BHK', '4 Bedroom', '2 BHK', '1 BHK', '3 BHK', '4 Bedroom', '3 BHK', '3 BHK', '3 BHK', '3 BHK', '3 Bedroom', '3 BHK', '3 BHK', '5 Bedroom', '2 BHK', '2 BHK', '2 BHK', '4 BHK', '1 BHK', '3 BHK', '5 Bedroom', '2 BHK', '3 BHK', '3 BHK', '3 BHK', '2 BHK', '3 BHK', '2 BHK', '3 BHK', '2 BHK', '3 BHK', '2 BHK', '2 BHK', '2 BHK', '2 BHK', '3 BHK', '3 BHK', '3 BHK', '2 BHK', '2 BHK', '1 Bedroom', '4 BHK', '1 BHK', '2 BHK', '4 BHK', '3 BHK', '1 BHK', '2 BHK', '2 BHK', '2 BHK', '2 BHK', '2 BHK', '3 BHK', '2 BHK', '3 Bedroom', '4 BHK', '2 BHK', '3 BHK', '4 Bedroom', '4 Bedroom', '2 BHK', '1 BHK', '2 BHK', '2 BHK', '5 Bedroom', '3 BHK', '3 BHK', '2 BHK', '3 BHK', '2 BHK', '3 BHK', '2 BHK', '1 BHK', '2 BHK', '4 Bedroom', '3 BHK', '6 Bedroom', '2 BHK', '2 BHK', '6 Bedroom', '2 BHK', '3 BHK', '3 BHK', '6 Bedroom', '3 Bedroom', '1 BHK', '4 Bedroom', '3 BHK', '3 Bedroom', '5 Bedroom', '1 Bedroom', '2 BHK', '4 BHK', '2 BHK', '2 BHK', '6 Bedroom', '2 BHK', '2 BHK', '3 BHK', '3 BHK', '2 BHK', '3 BHK', '4 BHK', '2 BHK', '2 BHK', '3 BHK', '2 BHK', '2 BHK', '2 BHK', '3 BHK', '3 Bedroom', '5 BHK', '2 BHK', '2 BHK', '2 BHK', '2 BHK', '3 BHK', '2 BHK', '2 BHK', '3 BHK', '2 BHK', '2 BHK', '3 BHK', '2 BHK', '1 BHK', '2 Bedroom', '3 Bedroom', '3 BHK', '2 Bedroom', '5 Bedroom', '3 BHK', '3 Bedroom', '3 Bedroom', '2 BHK', '1 Bedroom', '2 BHK', '2 Bedroom', '2 BHK', '3 Bedroom', '3 BHK', '3 BHK', '3 BHK', '4 BHK', '2 BHK', '3 Bedroom', '3 BHK', '5 Bedroom', '3 BHK', '3 BHK', '2 BHK', '2 BHK', '3 BHK', '3 BHK', '2 BHK', '3 BHK', '3 BHK', '3 BHK', '2 BHK', '3 BHK', '2 BHK', '2 BHK', '7 Bedroom', '3 BHK', '3 BHK', '2 BHK', '2 Bedroom', '4 Bedroom', '2 BHK', '4 Bedroom', '4 Bedroom', '4 Bedroom', '3 BHK', '3 BHK', '3 BHK', '2 BHK', '3 BHK', '2 BHK', '1 BHK', '3 BHK', '1 BHK', '4 Bedroom', '3 BHK', '3 BHK', '2 BHK', '3 BHK', '3 BHK', '2 BHK', '3 BHK', '3 BHK', '4 Bedroom', '2 BHK', '3 BHK', '2 BHK', '3 BHK', '2 BHK', '2 BHK', '2 BHK', '2 BHK', '2 BHK', '3 BHK', '2 BHK', '4 BHK', '4 BHK', '2 BHK', '2 BHK', '2 BHK', '2 BHK', '3 Bedroom', '2 BHK', '3 BHK', '4 BHK', '3 BHK', '10 Bedroom', '2 BHK', '4 Bedroom', '3 BHK', '2 BHK', '3 Bedroom', '3 BHK', '2 BHK', '2 BHK', '2 BHK', '2 BHK', '3 BHK', '1 BHK', '2 BHK', '2 BHK', '3 BHK', '2 BHK', '3 BHK', '1 BHK', '3 BHK', '2 Bedroom', '3 BHK', '2 BHK', '2 BHK', '3 BHK', '2 BHK', '2 BHK', '4 BHK', '3 BHK', '3 Bedroom', '3 BHK', '4 BHK', '3 Bedroom', '3 Bedroom', '7 Bedroom', '5 Bedroom', '4 Bedroom', '3 BHK', '4 Bedroom', '2 BHK', '2 BHK', '3 BHK', '2 BHK', '2 Bedroom', '3 BHK', '4 BHK', '2 BHK', '4 BHK', '4 BHK', '3 BHK', '2 BHK', '3 BHK', '3 Bedroom', '3 BHK', '3 BHK', '4 BHK', '3 BHK', '2 BHK', '2 BHK', '4 Bedroom', '3 Bedroom', '5 Bedroom', '4 Bedroom', '3 BHK', '3 BHK', '3 BHK', '4 Bedroom', '3 BHK', '3 BHK', '3 Bedroom', '3 BHK', '3 BHK', '3 BHK', '2 BHK', '2 BHK', '3 BHK', '1 Bedroom', '2 BHK', '2 BHK', '3 BHK', '3 BHK', '3 BHK', '4 Bedroom', '3 BHK', '1 BHK', '2 BHK', '2 BHK', '2 BHK', '2 BHK', '2 BHK', '4 BHK', '6 Bedroom', '2 BHK', '6 Bedroom', '4 Bedroom', '3 BHK', '2 BHK', '3 BHK', '3 BHK', '3 BHK', '5 Bedroom', '3 BHK', '5 BHK', '2 BHK', '2 BHK', '4 BHK', '3 BHK', '2 BHK', '3 BHK', '2 BHK', '5 Bedroom', '3 BHK', '2 BHK', '3 BHK', '4 Bedroom', '2 BHK', '3 BHK', '4 BHK', '5 Bedroom', '4 BHK', '5 Bedroom', '2 BHK', '2 Bedroom', '4 Bedroom', '2 BHK', '2 BHK', '2 BHK', '1 BHK', '3 BHK', '2 BHK', '2 BHK', '4 Bedroom', '4 Bedroom', '4 BHK', '3 BHK', '5 BHK', '4 Bedroom', '2 BHK', '4 Bedroom', '2 BHK', '6 Bedroom', '3 BHK', '2 BHK', '3 BHK', '2 BHK', '2 BHK', '3 BHK', '3 BHK', '2 Bedroom', '1 BHK', '3 BHK', '3 BHK', '3 BHK', '2 BHK', '3 BHK', '2 BHK', '4 BHK', '3 BHK', '2 BHK', '2 BHK', '5 Bedroom', '3 BHK', '3 BHK', '3 BHK', '3 Bedroom', '2 BHK', '13 BHK', '3 BHK', '2 BHK', '4 Bedroom', '3 BHK', '2 BHK', '2 BHK', '4 Bedroom', '3 BHK', '2 Bedroom', '2 BHK', '4 BHK', '1 BHK', '2 BHK', '1 BHK', '2 BHK', '2 BHK', '4 Bedroom', '2 BHK', '5 Bedroom', '1 BHK', '2 BHK', '3 Bedroom', '3 BHK', '4 Bedroom', '2 BHK', '3 BHK', '2 BHK', '2 BHK', '2 BHK', '2 BHK', '2 BHK', '2 BHK', '2 BHK', '2 BHK', '3 BHK', '2 BHK', '3 BHK', '6 Bedroom', '3 Bedroom', '4 BHK', '3 BHK', '2 BHK', '2 Bedroom', '2 BHK', '3 BHK', '3 BHK', '2 Bedroom', '3 BHK', '2 BHK', '3 BHK', '4 BHK', '2 BHK', '3 BHK', '2 BHK', '6 Bedroom', '6 Bedroom', '3 Bedroom', '3 BHK', '3 BHK', '3 BHK', '2 BHK', '3 Bedroom', '3 Bedroom', '5 Bedroom', '2 BHK', '2 BHK', '4 Bedroom', '3 BHK', '3 BHK', '6 Bedroom', '2 BHK', '3 BHK', '8 Bedroom', '3 BHK', '3 BHK', '2 BHK', '2 BHK', '3 BHK', '3 BHK', '4 BHK', '3 BHK', '4 BHK', '3 Bedroom', '5 Bedroom', '3 BHK', '3 BHK', '2 BHK', '3 BHK', '1 BHK', '3 BHK', '3 Bedroom', '2 BHK', '2 BHK', '3 BHK', '3 BHK', '3 BHK', '2 Bedroom', '2 BHK', '4 BHK', '2 BHK', '3 BHK', '7 Bedroom', '2 BHK', '2 BHK', '2 BHK', '3 BHK', '2 BHK', '1 Bedroom', '2 BHK', '2 BHK', '3 BHK', '2 BHK', '3 Bedroom', '5 Bedroom', '5 BHK', '1 Bedroom', '2 BHK', '3 BHK', '2 BHK', '3 BHK', '3 BHK', '2 BHK', '2 Bedroom', '2 BHK', '3 BHK', '2 BHK', '2 BHK', '2 BHK', '2 BHK', '2 BHK', '4 BHK', '4 Bedroom', '4 Bedroom', '2 BHK', '3 Bedroom', '3 BHK', '3 BHK', '2 BHK', '2 BHK', '1 Bedroom', '3 Bedroom', '4 Bedroom', '3 Bedroom', '3 BHK', '3 BHK', '2 BHK', '2 BHK', '3 BHK', '2 BHK', '4 Bedroom', '2 BHK', '2 BHK', '9 Bedroom', '3 Bedroom', '2 BHK', '3 BHK', '4 Bedroom', '2 BHK', '3 Bedroom', '2 BHK', '2 Bedroom', '2 BHK', '2 BHK', '3 BHK', '2 BHK', '6 Bedroom', '2 BHK', '2 BHK', '2 BHK', '1 BHK', '3 BHK', '1 BHK', '6 Bedroom', '5 BHK', '3 BHK', '5 Bedroom', '3 BHK', '2 BHK', '3 BHK', '2 BHK', '2 BHK', '4 Bedroom', '3 BHK', '4 BHK', '3 BHK', '2 BHK', '4 Bedroom', '3 BHK', '3 Bedroom', '2 BHK', '2 BHK', '4 Bedroom', '2 BHK', '2 BHK', '3 BHK', '2 BHK', '2 BHK', '3 Bedroom', '3 BHK', '2 BHK', '3 BHK', '1 Bedroom', '2 BHK', '2 BHK', '4 Bedroom', '3 BHK', '3 BHK', '2 BHK', '3 BHK', '2 BHK', '3 BHK', '3 Bedroom', '3 BHK', '2 BHK', '3 BHK', '4 Bedroom', '3 BHK', '2 BHK', '3 BHK', '4 Bedroom', '4 BHK', '2 BHK', '4 BHK', '3 BHK', '3 BHK', '3 BHK', '2 BHK', '3 BHK', '3 BHK', '3 BHK', '3 BHK', '2 BHK', '2 BHK', '3 BHK', '2 BHK', '2 BHK', '2 BHK', '3 BHK', '3 BHK', '1 BHK', '2 BHK', '3 BHK', '5 BHK', '3 BHK', '6 Bedroom', '2 Bedroom', '3 BHK', '2 BHK', '3 BHK', '3 BHK', '3 Bedroom', '2 BHK', '3 BHK', '2 Bedroom', '3 BHK', '1 BHK', '2 BHK', '3 BHK', '3 BHK', '4 Bedroom', '2 BHK', '5 Bedroom', '5 Bedroom', '3 BHK', '2 BHK', '2 BHK', '5 BHK', '3 BHK', '5 Bedroom', '3 BHK', '2 BHK', '2 BHK', '3 BHK', '3 BHK', '3 BHK', '2 BHK', '3 BHK', '3 Bedroom', '2 BHK', '3 BHK', '2 BHK', '3 BHK', '2 BHK', '2 BHK', '2 BHK', '1 Bedroom', '2 BHK', '5 Bedroom', '2 BHK', '2 BHK', '4 Bedroom', '2 BHK', '2 BHK', '3 BHK', '2 Bedroom', '2 BHK', '2 BHK', '4 BHK', '2 BHK', '2 BHK', '2 BHK', '3 Bedroom', '2 BHK', '9 Bedroom', '1 Bedroom', '2 BHK', '3 BHK', '2 BHK', '3 BHK', '2 Bedroom', '2 BHK', '1 BHK', '2 BHK', '4 Bedroom', '3 BHK', '6 Bedroom', '3 BHK', '3 BHK', '2 Bedroom', '3 BHK', '2 BHK', '2 BHK', '2 BHK', '3 BHK', '2 BHK', '1 BHK', '2 Bedroom', '2 BHK', '2 BHK', '2 BHK', '3 BHK', '2 BHK', '3 BHK', '4 BHK', '3 BHK', '3 BHK', '3 BHK', '2 BHK', '3 BHK', '3 BHK', '3 BHK', '3 BHK', '3 BHK', '2 BHK', '6 Bedroom', '3 BHK', '2 BHK', '3 BHK', '2 BHK', '2 BHK', '2 BHK', '2 BHK', '2 BHK', '2 BHK', '2 BHK', '2 BHK', '4 BHK', '2 BHK', '2 BHK', '3 Bedroom', '2 BHK', '3 BHK', '3 BHK', '2 BHK', '3 BHK', '2 BHK', '3 BHK', '2 BHK', '4 Bedroom', '4 Bedroom', '1 BHK', '8 Bedroom', '3 BHK', '4 Bedroom', '3 Bedroom', '3 BHK', '3 BHK', '5 Bedroom', '2 BHK', '2 BHK', '4 BHK', '3 BHK', '3 BHK', '1 BHK', '4 Bedroom', '2 BHK', '3 BHK', '3 BHK', '5 Bedroom', '2 BHK', '2 BHK', '4 Bedroom', '3 Bedroom', '3 BHK', '3 BHK', '2 BHK', '3 BHK', '3 BHK', '2 BHK', '2 BHK', '3 BHK', '3 BHK', '3 Bedroom', '2 BHK', '2 BHK', '2 BHK', '1 BHK', '2 BHK', '2 BHK', '2 BHK', '2 BHK', '4 Bedroom', '3 BHK', '2 BHK', '3 BHK', '1 BHK', '2 BHK', '2 BHK', '2 BHK', '3 BHK', '3 BHK', '2 BHK', '2 BHK', '2 BHK', '6 Bedroom', '4 Bedroom', '3 BHK', '2 BHK', '3 BHK', '3 BHK', '8 Bedroom', '5 Bedroom', '2 BHK', '2 BHK', '3 BHK', '2 BHK', '3 BHK', '5 Bedroom', '2 BHK', '2 BHK', '4 Bedroom', '3 BHK', '3 BHK', '2 BHK', '3 BHK', '3 BHK', '3 BHK', '3 BHK', '3 BHK', '3 BHK', '5 BHK', '2 BHK', '2 BHK', '3 BHK', '2 BHK', '2 BHK', '3 BHK', '2 BHK', '2 BHK', '3 BHK', '3 BHK', '2 BHK', '2 BHK', '4 BHK', '3 BHK', '2 BHK', '2 BHK', '3 BHK', '3 BHK', '5 BHK', '3 BHK', '4 Bedroom', '3 Bedroom', '3 BHK', '5 Bedroom', '2 BHK', '2 BHK', '3 BHK', '2 BHK', '2 BHK', '3 Bedroom', '3 BHK', '2 BHK', '3 BHK', '2 BHK', '2 Bedroom', '4 Bedroom', '2 BHK', '2 BHK', '3 BHK', '3 BHK', '2 BHK', '2 BHK', '4 Bedroom', '2 BHK', '3 BHK', '2 BHK', '2 Bedroom', '3 BHK', '3 BHK', '2 BHK', '2 BHK', '2 BHK', '2 BHK', '3 BHK', '4 BHK', '2 BHK', '3 BHK', '2 BHK', '2 BHK', '2 BHK', '2 BHK', '2 BHK', '2 BHK', '2 BHK', '3 BHK', '2 BHK', '2 BHK', '2 BHK', '3 BHK', '2 BHK', '2 BHK', '2 BHK', '2 BHK', '3 BHK', '3 Bedroom', '3 BHK', '1 BHK', '3 BHK', '2 BHK', '1 BHK', '4 BHK', '4 Bedroom', '2 BHK', '2 BHK', '2 BHK', '2 BHK', '3 BHK', '2 BHK', '9 Bedroom', '3 Bedroom', '5 Bedroom', '2 Bedroom', '2 BHK', '3 BHK', '2 BHK', '2 BHK', '5 Bedroom', '3 BHK', '5 BHK', '3 BHK', '2 BHK', '2 Bedroom', '3 Bedroom', '3 BHK', '2 BHK', '3 BHK', '2 BHK', '3 BHK', '2 BHK', '3 BHK', '2 BHK', '2 BHK', '4 Bedroom', '2 Bedroom', '4 Bedroom', '3 Bedroom', '2 BHK', '1 BHK', '3 BHK', '2 BHK', '3 BHK', '2 BHK', '2 BHK', '4 BHK', '2 BHK', '2 Bedroom', '3 BHK', '3 BHK', '4 Bedroom', '2 BHK', '2 BHK', '3 BHK', '2 BHK', '3 BHK', '3 BHK', '4 BHK', '3 BHK', '3 Bedroom', '3 BHK', '1 BHK', '1 BHK', '2 BHK', '2 BHK', '2 Bedroom', '2 BHK', '3 BHK', '3 BHK', '3 BHK', '4 Bedroom', '6 BHK', '2 BHK', '2 BHK', '2 BHK', '3 Bedroom', '1 BHK', '4 Bedroom', '4 Bedroom', '4 Bedroom', '3 BHK', '2 BHK', '2 BHK', '4 Bedroom', '2 Bedroom', '1 BHK', '3 BHK', '2 Bedroom', '4 Bedroom', '4 BHK', '2 BHK', '2 BHK', '3 BHK', '3 BHK', '1 BHK', '5 Bedroom', '3 BHK', '2 BHK', '2 BHK', '4 BHK', '2 BHK', '5 Bedroom', '3 BHK', '3 BHK', '2 BHK', '4 Bedroom', '2 BHK', '2 BHK', '3 BHK', '2 BHK', '2 BHK', '1 RK', '2 BHK', '2 BHK', '4 BHK', '4 Bedroom', '2 BHK', '2 BHK', '3 BHK', '3 BHK', '2 BHK', '2 BHK', '2 BHK', '2 BHK', '4 BHK', '7 Bedroom', '3 BHK', '7 BHK', '4 Bedroom', '4 Bedroom', '2 BHK', '4 BHK', '2 BHK', '8 Bedroom', '2 BHK', '3 BHK', '3 BHK', '3 BHK', '2 BHK', '1 BHK', '3 BHK', '2 BHK', '2 BHK', '1 BHK', '3 BHK', '2 Bedroom', '1 BHK', '2 BHK', '2 BHK', '2 BHK', '2 BHK', '2 BHK', '5 BHK', '2 BHK', '2 BHK', '4 BHK', '2 BHK', '3 BHK', '2 BHK', '4 Bedroom', '2 Bedroom', '2 Bedroom', '3 BHK', '3 BHK', '2 BHK', '2 BHK', '4 BHK', '2 BHK', '3 BHK', '2BHK', '2 BHK', '3 BHK', '2 BHK', '2 BHK', '4 BHK', '2 BHK', '5 Bedroom', '4 Bedroom', '2 BHK', '2 BHK', '1 Bedroom', '2 BHK', '4 Bedroom', '1 BHK', '9 Bedroom', '3 BHK', '1 Bedroom', '2 BHK', '2 BHK', '2 BHK', '2 BHK', '2 BHK', '3 BHK', '3 BHK', '2 BHK', '1 Bedroom', '4 Bedroom', '3 BHK', '2 BHK', '2 BHK', '3 BHK', '3 BHK', '3 BHK', '2 BHK', '1 BHK', '3 BHK', '3 BHK', '2 BHK', '2 BHK', '4 Bedroom', '2 BHK', '2 BHK', '2 BHK', '2 BHK', '3 BHK', '3 BHK', '3 BHK', '1 BHK', '2 BHK', '4 Bedroom', '2 BHK', '4 Bedroom', '3 BHK', '2 BHK', '1 BHK', '3 BHK', '5 Bedroom', '2 BHK', '2 BHK', '2 Bedroom', '9 Bedroom', '2 BHK', '4 BHK', '6 Bedroom', '3 BHK', '2 BHK', '2 BHK', '2 BHK', '1 BHK', '1 BHK', '2 Bedroom', '1 BHK', '3 Bedroom', '2 BHK', '2 BHK', '3 BHK', '2 BHK', '3 BHK', '6 BHK', '3 BHK', '3 BHK', '2 BHK', '4 Bedroom', '4 Bedroom', '3 BHK', '3 BHK', '2 BHK', '2 BHK', '3 BHK', '3 BHK', '3 BHK', '3 BHK', '2 BHK', '3 BHK', '1 BHK', '3 BHK', '4 BHK', '3 BHK', '3 BHK', '2 BHK', '2 BHK', '3 BHK', '4 Bedroom', '2 BHK', '2 BHK', '2 BHK', '3 BHK', '2 BHK', '4 Bedroom', '1 BHK', '2 BHK', '2 BHK', '3 BHK', '2 BHK', '5 Bedroom', '2 BHK', '2 BHK', '1 BHK', '2 BHK', '5 Bedroom', '2 BHK', '4 BHK', '3 BHK', '8 Bedroom', '4 BHK', '4 Bedroom', '2 BHK', '3 BHK', '5 Bedroom', '2 BHK', '4 Bedroom', '3 BHK', '2 BHK', '2 BHK', '3 BHK', '5 Bedroom', '2 BHK', '2 BHK', '3 BHK', '4 Bedroom', '1 BHK', '2 BHK', '3 BHK', '3 BHK', '2 BHK', '1 BHK', '1 BHK', '3 BHK', '3 Bedroom', '2 BHK', '2 BHK', '7 Bedroom', '2 BHK', '2 Bedroom', '2 BHK', '2 BHK', '5 Bedroom', '3 Bedroom', '2 BHK', '3 BHK', '2 BHK', '2 BHK', '2 BHK', '2 BHK', '4 Bedroom', '3 BHK', '2 BHK', '2 Bedroom', '2 BHK', '3 BHK', '3 BHK', '2 BHK', '2 BHK', '2 BHK', '4 Bedroom', '5 Bedroom', '2 BHK', '3 BHK', '3 BHK', '2 BHK', '3 BHK', '2 BHK', '2 BHK', '3 BHK', '3 BHK', '3 BHK', '2 BHK', '4 BHK', '2 BHK', '2 BHK', '2 BHK', '3 BHK', '2 BHK', '3 BHK', '4 BHK', '2 BHK', '3 BHK', '2 BHK', '4 Bedroom', '3 BHK', '4 Bedroom', '3 BHK', '2 BHK', '1 BHK', '3 BHK', '3 BHK', '3 BHK', '2 BHK', '2 BHK', '2 Bedroom', '3 BHK', '6 Bedroom', '3 BHK', '3 BHK', '2 BHK', '2 BHK', '2 BHK', '8 Bedroom', '3 Bedroom', '3 BHK', '2 BHK', '3 BHK', '3 BHK', '3 BHK', '3 BHK', '3 BHK', '2 BHK', '2 BHK', '3 BHK', '3 BHK', '3 BHK', '2 BHK', '2 BHK', '2 BHK', '2 BHK', '2 BHK', '3 BHK', '2 BHK', '3 BHK', '1 BHK', '3 BHK', '2 BHK', '2 BHK', '3 BHK', '2 BHK', '2 BHK', '4 Bedroom', '2 BHK', '3 BHK', '2 Bedroom', '3 Bedroom', '5 Bedroom', '4 BHK', '2 BHK', '2 BHK', '2 BHK', '2 BHK', '1 BHK', '3 BHK', '3 BHK', '1 BHK', '3 BHK', '3 BHK', '2 BHK', '3 BHK', '3 BHK', '2 BHK', '2 BHK', '2 BHK', '3 BHK', '3 BHK', '3 BHK', '2 BHK', '4 BHK', '2 BHK', '5 BHK', '2 BHK', '3 BHK', '3 BHK', '3 BHK', '2 BHK', '3 BHK', '3 BHK', '3 BHK', '4 Bedroom', '2 BHK', '3 BHK', '3 BHK', '1 BHK', '3 BHK', '2 BHK', '4 BHK', '2 BHK', '4 BHK', '3 BHK', '3 BHK', '2 BHK', '1 BHK', '5 Bedroom', '3 Bedroom', '3 BHK', '2 BHK', '2 Bedroom', '3 BHK', '2 BHK', '3 BHK', '1 BHK', '2 BHK', '3 BHK', '3 BHK', '2 BHK', '3 BHK', '3 BHK', '2 BHK', '3 BHK', '2 BHK', '2 BHK', '2 BHK', '2 BHK', '3 BHK', '1 Bedroom', '4 BHK', '2 BHK', '2 BHK', '2 BHK', '3 BHK', '2 BHK', '2 BHK', '2 BHK', '4 BHK', '3 BHK', '3 BHK', '3 BHK', '2 BHK', '3 BHK', '2 BHK', '3 BHK', '4 BHK', '2 BHK', '3 BHK', '2 Bedroom', '2 BHK', '2 BHK', '2 BHK', '3 BHK', '3 BHK', '5 Bedroom', '2 BHK', '4 BHK', '3 BHK', '2 BHK', '3 BHK', '3 BHK', '3 BHK', '3 BHK', '2 BHK', '3 BHK', '3 BHK', '2 BHK', '1 BHK', '2 BHK', '4 Bedroom', '2 Bedroom', '2 BHK', '5 Bedroom', '3 BHK', '4 Bedroom', '4 Bedroom', '3 BHK', '3 BHK', '2 BHK', '4 Bedroom', '3 BHK', '2 BHK', '4 Bedroom', '3 BHK', '2 BHK', '2 BHK', '7 BHK', '4 BHK', '4 Bedroom', '4 Bedroom', '2 BHK', '2 Bedroom', '2BHK', '2 BHK', '3 BHK', '3 BHK', '3 BHK', '2 BHK', '2 BHK', '2 BHK', '3 BHK', '2 BHK', '2 BHK', '5 BHK', '4 Bedroom', '4 BHK', '3 BHK', '3 Bedroom', '4 BHK', '3 BHK', '2 BHK', '2 BHK', '2 BHK', '2 BHK', '2 BHK', '3 BHK', '7 BHK', '4 Bedroom', '3 BHK', '3 BHK', '3 BHK', '3 Bedroom', '2 BHK', '4 BHK', '3 BHK', '3 BHK', '3 BHK', '3 BHK', '6 Bedroom', '3 BHK', '3 BHK', '2 BHK', '4 BHK', '3 Bedroom', '2 BHK', '2 BHK', '2 BHK', '2 BHK', '3 BHK', '3 BHK', '2 BHK', '2 BHK', '3 BHK', '8 Bedroom', '4 Bedroom', '2 BHK', '2 BHK', '2 BHK', '8 Bedroom', '3 BHK', '2 BHK', '8 Bedroom', '3 BHK', '4 BHK', '3 BHK', '4 BHK', '2 BHK', '3 BHK', '2 BHK', '2 Bedroom', '2 BHK', '2 BHK', '3 BHK', '3 BHK', '1 BHK', '3 BHK', '3 BHK', '6 BHK', '2 BHK', '3 Bedroom', '4 BHK', '3 BHK', '2 BHK', '4 BHK', '3 BHK', '6 Bedroom', '2 BHK', '2 BHK', '3 BHK', '3 BHK', '3 BHK', '3 BHK', '2 BHK', '3 BHK', '3 BHK', '3 BHK', '2 BHK', '2 BHK', '2 BHK', '2 BHK', '1 BHK', '3 BHK', '2 BHK', '3 BHK', '1 BHK', '3 Bedroom', '3 BHK', '2 BHK', '2 BHK', '3 BHK', '2 BHK', '10 Bedroom', '4 Bedroom', '2 BHK', '3 BHK', '2 BHK', '2 BHK', '2 BHK', '3 BHK', '2 BHK', '3 BHK', '3 BHK', '5 Bedroom', '2 BHK', '2 BHK', '10 Bedroom', '3 BHK', '3 BHK', '3 Bedroom', '2 BHK', '4 BHK', '2 BHK', '3 BHK', '3 BHK', '2 BHK', '3 BHK', '2 BHK', '2 BHK', '2 BHK', '2 BHK', '2 BHK', '2 BHK', '2 BHK', '6 BHK', '2 BHK', '3 BHK', '5 Bedroom', '2 BHK', '1 BHK', '3 Bedroom', '2 BHK', '2 BHK', '2 BHK', '2 BHK', '3 Bedroom', '4 Bedroom', '2 BHK', '2 BHK', '3 BHK', '3 BHK', '3 BHK', '3 BHK', '6 Bedroom', '2 BHK', '3 BHK', '2 BHK', '2 BHK', '3 Bedroom', '3 BHK', '3 Bedroom', '4 Bedroom', '3 BHK', '2 BHK', '8 Bedroom', '1 BHK', '4 Bedroom', '3 BHK', '4 Bedroom', '2 BHK', '6 Bedroom', '2 BHK', '4 BHK', '3 BHK', '3 BHK', '2 BHK', '1 BHK', '2 BHK', '2 BHK', '2 BHK', '4 Bedroom', '2 BHK', '3 BHK', '3 BHK', '2 BHK', '3 BHK', '3 BHK', '2 BHK', '4 Bedroom', '2 BHK', '2 BHK', '3 BHK', '4 BHK', '3 BHK', '3 Bedroom', '3 BHK', '2 BHK', '2 BHK', '2 BHK', '2 BHK', '4 Bedroom', '3 BHK', '4 Bedroom', '3 BHK', '2 BHK', '4 BHK', '4 BHK', '2 BHK', '4 Bedroom', '2 BHK', '2 BHK', '3 BHK', '3 BHK', '2 BHK', '4 Bedroom', '3 BHK', '2 BHK', '3 BHK', '6 Bedroom', '4 Bedroom', '3 BHK', '3 BHK', '3 BHK', '3 BHK', '3 Bedroom', '3 BHK', '3 BHK', '2 BHK', '5 Bedroom', '2 BHK', '3 BHK', '1 BHK', '6 Bedroom', '2 BHK', '2 Bedroom', '2 BHK', '3 BHK', '2 BHK', '2 BHK', '3 BHK', '3 BHK', '3 BHK', '2 BHK', '3 BHK', '3 BHK', '2 BHK', '2 BHK', '2 BHK', '2 BHK', '3 BHK', '3 BHK', '4 Bedroom', '3 BHK', '3 BHK', '3 BHK', '2 BHK', '3 BHK', '5 Bedroom', '3 BHK', '3 BHK', '2 BHK', '2 BHK', '2 BHK', '3 BHK', '4 Bedroom', '2 BHK', '4 BHK', '2 BHK', '2 BHK', '3 BHK', '3 BHK', '4 BHK', '3 Bedroom', '3 BHK', '2 Bedroom', '3 Bedroom', '2 BHK', '6 Bedroom', '2 BHK', '4 BHK', '2 BHK', '2 BHK', '3 BHK', '4 BHK', '6 BHK', '2 BHK', '2 BHK', '2 Bedroom', '4 BHK', '2 BHK', '2 BHK', '2 BHK', '1 BHK', '3 BHK', '1 Bedroom', '3 BHK', '3 BHK', '3 Bedroom', '9 Bedroom', '2 BHK', '3 BHK', '10 Bedroom', '4 BHK', '3 BHK', '2 BHK', '2 Bedroom', '1 BHK', '5 Bedroom', '3 BHK', '2 BHK', '3 BHK', '2 BHK', '8 Bedroom', '2 BHK', '2 BHK', '2 Bedroom', '2 BHK', '5 Bedroom', '2 BHK', '2 BHK', '3 BHK', '3 BHK', '4 Bedroom', '3 BHK', '8 Bedroom', '2 BHK', '3 BHK', '2 BHK', '2 BHK', '7 Bedroom', '3 BHK', '2 BHK', '4 BHK', '2 BHK', '3 BHK', '2 Bedroom', '3 BHK', '4 BHK', '5 Bedroom', '3 BHK', '4 Bedroom', '2 BHK', '2 BHK', '2 BHK', '3 BHK', '4 Bedroom', '2 BHK', '2 BHK', '3 Bedroom', '2 BHK', '2 BHK', '3 Bedroom', '8 BHK', '2 BHK', '5 Bedroom', '4 Bedroom', '2 BHK', '2 BHK', '3 BHK', '2 BHK', '2 BHK', '2 BHK', '3 BHK', '4 BHK', '2 BHK', '2 BHK', '3 BHK', '2 BHK', '2 BHK', '3 BHK', '6 BHK', '2 BHK', '3 BHK', '3 BHK', '6 Bedroom', '3 BHK', '4 BHK', '2 BHK', '2 BHK', '2 BHK', '2 BHK', '3 BHK', '4 BHK', '3 BHK', '3 BHK', '3 Bedroom', '4 Bedroom', '1 BHK', '3 BHK', '4 BHK', '2 BHK', '3 BHK', '3 BHK', '3 BHK', '4 Bedroom', '2 BHK', '3 BHK', '2 BHK', '2 BHK', '1 BHK', '3 BHK', '3 BHK', '3 BHK', '2 BHK', '4 Bedroom', '3 BHK', '3 BHK', '3 BHK', '2 Bedroom', '3 Bedroom', '3 BHK', '2 BHK', '2 BHK', '3 BHK', '3 Bedroom', '4 BHK', '2 BHK', '4 Bedroom', '3 BHK', '4 BHK', '3 BHK', '2 BHK', '3 BHK', '2 BHK', '2 BHK', '2 BHK', '3 BHK', '2 BHK', '3 Bedroom', '2 BHK', '4 BHK', '2 BHK', '2 BHK', '2 BHK', '3 BHK', '3 BHK', '2 BHK', '3 Bedroom', '2 BHK', '3 BHK', '5 Bedroom', '4 Bedroom', '2 BHK', '3 BHK', '3 BHK', '6 Bedroom', '4 BHK', '2 BHK', '4 Bedroom', '2 BHK', '2 BHK', '3 BHK', '3 BHK', '3 BHK', '4 BHK', '1 Bedroom', '4 Bedroom', '5 Bedroom', '3 BHK', '2 BHK', '3 BHK', '3 BHK', '2 BHK', '2 BHK', '4 Bedroom', '3 BHK', '2 BHK', '4 Bedroom', '2 BHK', '2 BHK', '1 BHK', '3 Bedroom', '1 BHK', '3 BHK', '3 Bedroom', '3 BHK', '4 BHK', '2 BHK', '3 Bedroom', '6 BHK', '4 Bedroom', '3 BHK', '3 BHK', '1 Bedroom', '3 BHK', '2 BHK', '2 BHK', '3 Bedroom', '2 BHK', '3 BHK', '3 BHK', '2 Bedroom', '6 Bedroom', '3 BHK', '3 BHK', '2 BHK', '3 BHK', '3 BHK', '3 BHK', '2 BHK', '2 BHK', '2 BHK', '2 BHK', '2 BHK', '2 BHK', '3 BHK', '3 Bedroom', '3 BHK', '3 BHK', '1 Bedroom', '3 BHK', '3 BHK', '3 BHK', '2 BHK', '3 BHK', '3 BHK', '2 BHK', '4 Bedroom', '3 BHK', '4 Bedroom', '2 BHK', '4 Bedroom', '4 Bedroom', '4 BHK', '3 BHK', '2 BHK', '2 BHK', '4 BHK', '3 BHK', '2 BHK', '3 BHK', '2 BHK', '4 Bedroom', '18 Bedroom', '2 BHK', '2 BHK', '3 BHK', '2 BHK', '2 Bedroom', '3 BHK', '2 BHK', '2 BHK', '2 BHK', '2BHK', '2 BHK', '3 BHK', '2 Bedroom', '2 BHK', '3 BHK', '2 BHK', '4 Bedroom', '6 Bedroom', '3 BHK', '3 BHK', '2 BHK', '2 BHK', '2 BHK', '2 BHK', '3 Bedroom', '2 BHK', '2 BHK', '2 BHK', '3 BHK', '2 BHK', '1 BHK', '3 BHK', '3 Bedroom', '2 BHK', '2 BHK', '3 BHK', '8 Bedroom', '2 BHK', '3 BHK', '2 BHK', '2 BHK', '2 BHK', '3 BHK', '3 Bedroom', '3 BHK', '3 BHK', '2 Bedroom', '4 Bedroom', '3 BHK', '2 BHK', '2 BHK', '3 BHK', '3 Bedroom', '6 Bedroom', '3 BHK', '3 Bedroom', '2 BHK', '1 BHK', '2 BHK', '3 BHK', '3 BHK', '2 BHK', '3 BHK', '3 Bedroom', '2 BHK', '2 BHK', '2 BHK', '2 BHK', '3 BHK', '2 BHK', '2 BHK', '2 BHK', '3 BHK', '3 BHK', '2 BHK', '3 BHK', '3 BHK', '3 BHK', '3 Bedroom', '2 BHK', '3 BHK', '3 BHK', '2 BHK', '2 BHK', '3 BHK', '6 Bedroom', '4 Bedroom', '3 BHK', '4 BHK', '2 BHK', '2 BHK', '5 BHK', '3 Bedroom', '4 Bedroom', '1 BHK', '3 BHK', '4 BHK', '2 BHK', '4 Bedroom', '3 BHK', '1 BHK', '3 Bedroom', '2 BHK', '3 BHK', '2 BHK', '3 BHK', '3 BHK', '4 Bedroom', '4 Bedroom', '2 BHK', '3 BHK', '3 BHK', '3 BHK', '1 BHK', '5 Bedroom', '4 Bedroom', '2 BHK', '2 BHK', '3 BHK', '2 BHK', '2 BHK', '3 BHK', '2 BHK', '2 BHK', '2 Bedroom', '4 Bedroom', '2 BHK', '3 BHK', '2 BHK', '2 BHK', '2 BHK', '2 BHK', '3 BHK', '2 BHK', '2 BHK', '2 BHK', '2 BHK', '1 BHK', '2 BHK', '2 BHK', '2 BHK', '4 BHK', '4 Bedroom', '3 BHK', '2 BHK', '3 BHK', '1 BHK', '2 BHK', '7 Bedroom', '1 BHK', '3 Bedroom', '2 BHK', '3 BHK', '3 BHK', '2 BHK', '3 BHK', '3 BHK', '2 BHK', '2 BHK', '2 BHK', '3 BHK', '3 BHK', '3 BHK', '3 BHK', '2 BHK', '2 BHK', '3 BHK', '2 BHK', '3 BHK', '3 BHK', '2 BHK', '2 BHK', '3 BHK', '4 BHK', '3 BHK', '3 BHK', '7 Bedroom', '2 BHK', '5 Bedroom', '3 BHK', '3 BHK', '2 BHK', '3 BHK', '2 BHK', '3 BHK', '4 Bedroom', '2 BHK', '3 BHK', '3 BHK', '3 BHK', '4 Bedroom', '1 Bedroom', '2 BHK', '3 BHK', '2 BHK', '2 BHK', '3 BHK', '3 BHK', '5 BHK', '4 Bedroom', '2 BHK', '2 BHK', '3 Bedroom', '5 Bedroom', '4 BHK', '2 BHK', '3 BHK', '2 BHK', '6 Bedroom', '3 BHK', '3 BHK', '2 BHK', '3 BHK', '2 BHK', '4 Bedroom', '1 BHK', '2 BHK', '2 Bedroom', '4 BHK', '3 BHK', '2 BHK', '2 BHK', '3 BHK', '5 Bedroom', '2 BHK', '3 BHK', '3 BHK', '2 BHK', '2 BHK', '3 BHK', '1 BHK', '1 BHK', '4 Bedroom', '2 BHK', '2 BHK', '3 BHK', '3 BHK', '3 BHK', '2 BHK', '3 BHK', '2 BHK', '3 BHK', '2 BHK', '3 BHK', '2 BHK', '3 BHK', '3 BHK', '2 BHK', '3 BHK', '4 Bedroom', '2 BHK', '3 BHK', '4 Bedroom', '3 BHK', '2 BHK', '2 BHK', '4 BHK', '2 BHK', '3 BHK', '3 BHK', '3 BHK', '2 BHK', '2 BHK', '3 BHK', '2 BHK', '2 BHK', '5 Bedroom', '3 BHK', '3 BHK', '5 Bedroom', '2 BHK', '4 Bedroom', '2 BHK', '2 BHK', '3 BHK', '1 BHK', '1 BHK', '2 BHK', '2 Bedroom', '3 BHK', '3 BHK', '2 BHK', '3 Bedroom', '2 BHK', '3 BHK', '3 Bedroom', '2 BHK', '3 BHK', '1 BHK', '2 BHK', '2 BHK', '2 BHK', '3 BHK', '2 BHK', '2 BHK', '3 BHK', '2 BHK', '3 BHK', '3 BHK', '1 BHK', '3 BHK', '1 Bedroom', '3 BHK', '3 BHK', '3 BHK', '2 BHK', '2 BHK', '3 Bedroom', '2 BHK', '2 BHK', '3 BHK', '3 BHK', '4 Bedroom', '1 BHK', '2 BHK', '2 BHK', '2 BHK', '4 BHK', '5 Bedroom', '3 BHK', '3 BHK', '2 BHK', '4 Bedroom', '3 BHK', '2 BHK', '4 Bedroom', '4 BHK', '3 Bedroom', '9 Bedroom', '2 BHK', '2 BHK', '3 BHK', '3 BHK', '2 BHK', '3 Bedroom', '3 BHK', '2 BHK', '2 BHK', '2 BHK', '3 BHK', '2 BHK', '7 Bedroom', '3 BHK', '3 BHK', '3 BHK', '3 BHK', '3 BHK', '3 BHK', '6 BHK', '3 BHK', '3 Bedroom', '3 BHK', '5 Bedroom', '2 BHK', '2 BHK', '2 Bedroom', '2 BHK', '2 BHK', '3 BHK', '2 BHK', '4 Bedroom', '4 BHK', '2 BHK', '3 BHK', '4 Bedroom', '6 Bedroom', '7 Bedroom', '2 Bedroom', '2 BHK', '1 BHK', '2 BHK', '2 BHK', '1 BHK', '2 BHK', '2 BHK', '2 Bedroom', '2 BHK', '3 BHK', '3 BHK', '2 BHK', '3 Bedroom', '2 BHK', '2 BHK', '3 BHK', '2 BHK', '1 BHK', '3 BHK', '2 BHK', '3 BHK', '2 BHK', '3 BHK', '4 Bedroom', '2 BHK', '3 BHK', '3 BHK', '3 BHK', '3 BHK', '2 BHK', '1 BHK', '3 BHK', '4 Bedroom', '3 BHK', '3 BHK', '2 BHK', '5 Bedroom', '3 BHK', '4 Bedroom', '3 BHK', '3 BHK', '1 BHK', '3 BHK', '2 BHK', '2 BHK', '3 BHK', '2 BHK', '3 BHK', '2 BHK', '2 BHK', '3 BHK', '2 BHK', '3 BHK', '7 Bedroom', '2 BHK', '3 Bedroom', '3 BHK', '3 BHK', '5 Bedroom', '3 BHK', '4 Bedroom', '3 BHK', '2 BHK', '3 BHK', '2 BHK', '3 BHK', '3 BHK', '2 BHK', '3 BHK', '2 BHK', '3 BHK', '2 BHK', '2 BHK', '2 BHK', '2 BHK', '2 BHK', '3 BHK', '2 BHK', '3 BHK', '2 BHK', '3 BHK', '2 BHK', '1 Bedroom', '8 BHK', '3 BHK', '3 BHK', '3 BHK', '2 BHK', '3 BHK', '3 BHK', '2 BHK', '2 BHK', '4 Bedroom', '3 Bedroom', '3 BHK', '3 BHK', '2 BHK', '2 BHK', '5 Bedroom', '3 BHK', '3 BHK', '3 BHK', '3 BHK', '4 Bedroom', '3 Bedroom', '2 BHK', '2 BHK', '4 BHK', '2 BHK', '2 BHK', '3 BHK', '3 BHK', '2 BHK', '2 BHK', '2 BHK', '2 BHK', '2 BHK', '2 BHK', '2 BHK', '2 BHK', '3 BHK', '4 BHK', '5 Bedroom', '2 BHK', '1 Bedroom', '3 BHK', '2 BHK', '8 Bedroom', '4 Bedroom', '2 BHK', '5 Bedroom', '4 Bedroom', '5 Bedroom', '3 BHK', '3 BHK', '2 BHK', '2 BHK', '2 BHK', '3 BHK', '8 Bedroom', '6 Bedroom', '2 BHK', '4 Bedroom', '2 BHK', '3 BHK', '3 BHK', '3 BHK', '2 BHK', '2 Bedroom', '4 BHK', '4 Bedroom', '3 BHK', '2 BHK', '1 BHK', '2 BHK', '3 BHK', '2 BHK', '3 BHK', '2 BHK', '3 BHK', '3 Bedroom', '3 BHK', '1 BHK', '2 BHK', '3 BHK', '2 BHK', '2 BHK', '2 BHK', '2 BHK', '3 BHK', '2 BHK', '2 BHK', '2 Bedroom', '3 BHK', '4 Bedroom', '3 BHK', '4 Bedroom', '3 BHK', '2 BHK', '2 BHK', '2 BHK', '4 Bedroom', '2 BHK', '3 Bedroom', '3 BHK', '2 BHK', '4 BHK', '3 BHK', '2 BHK', '3 BHK', '2 BHK', '2 BHK', '2 BHK', '3 BHK', '3 BHK', '4 Bedroom', '2 BHK', '2 BHK', '3 BHK', '3 Bedroom', '3 BHK', '2 BHK', '2 BHK', '3 BHK', '4 BHK', '6 Bedroom', '3 BHK', '5 Bedroom', '2 BHK', '2 BHK', '3 BHK', '2 BHK', '2 BHK', '2 BHK', '3 BHK', '2 BHK', '2 BHK', '2 BHK', '2 BHK', '2 BHK', '3 BHK', '3 BHK', '4 BHK', '3 BHK', '3 BHK', '3 BHK', '2 BHK', '3 BHK', '3 BHK', '2 Bedroom', '3 BHK', '3 BHK', '3 BHK', '1 BHK', '2 BHK', '1 BHK', '5 Bedroom', '2 BHK', '2 BHK', '2 BHK', '2 BHK', '1 BHK', '3 BHK', '2 BHK', '1 BHK', '3 BHK', '2 BHK', '3 BHK', '3 BHK', '4 Bedroom', '2 BHK', '3 BHK', '3 BHK', '3 Bedroom', '3 BHK', '2 BHK', '3 BHK', '2 BHK', '2 BHK', '2 BHK', '2 BHK', '1 BHK', '2 BHK', '3 BHK', '4 BHK', '2 BHK', '3 BHK', '4 Bedroom', '1 Bedroom', '2 BHK', '5 Bedroom', '3 BHK', '2 BHK', '2 BHK', '3 BHK', '2 BHK', '3 BHK', '2 BHK', '3 BHK', '2 BHK', '3 BHK', '7 Bedroom', '4 BHK', '3 Bedroom', '3 BHK', '4 Bedroom', '2 BHK', '6 Bedroom', '2 BHK', '2 BHK', '2 BHK', '3 BHK', '2 BHK', '3 BHK', '3 BHK', '2 BHK', '2 BHK', '2 BHK', '2 BHK', '3 BHK', '3 BHK', '3 BHK', '5 BHK', '1 BHK', '5 Bedroom', '2 BHK', '2 BHK', '3 BHK', '3 BHK', '4 Bedroom', '3 BHK', '2 BHK', '3 BHK', '2 BHK', '3 BHK', '2 BHK', '2 Bedroom', '2 BHK', '2 BHK', '2 BHK', '2 BHK', '3 BHK', '3 BHK', '3 BHK', '5 BHK', '7 BHK', '3 BHK', '5 Bedroom', '2 BHK', '2 BHK', '2 BHK', '2 BHK', '4 Bedroom', '2 BHK', '4 Bedroom', '2 BHK', '2 BHK', '2 BHK', '2 BHK', '3 BHK', '4 Bedroom', '4 BHK', '4 Bedroom', '3 BHK', '3 BHK', '8 Bedroom', '2 BHK', '3 BHK', '2 BHK', '2 BHK', '2 BHK', '2 BHK', '4 BHK', '2 BHK', '3 BHK', '3 BHK', '3 BHK', '3 BHK', '2 BHK', '2 BHK', '2 BHK', '2 BHK', '2 BHK', '3 BHK', '4 Bedroom', '3 Bedroom', '2 BHK', '3 BHK', '3 BHK', '2 BHK', '2 BHK', '2 BHK', '2 BHK', '3 BHK', '3 BHK', '4 Bedroom', '2 BHK', '2 BHK', '2 BHK', '4 Bedroom', '2 BHK', '2 BHK', '1 BHK', '2 BHK', '2 BHK', '3 Bedroom', '3 Bedroom', '3 BHK', '2 BHK', '3 BHK', '2 BHK', '2 BHK', '2 BHK', '2 BHK', '2 BHK', '3 BHK', '1 BHK', '2 BHK', '3 BHK', '2 BHK', '2 BHK', '3 BHK', '2 BHK', '4 Bedroom', '3 Bedroom', '3 BHK', '1 BHK', '5 Bedroom', '3 BHK', '1 Bedroom', '3 Bedroom', '2 BHK', '3 BHK', '3 BHK', '2 BHK', '2 BHK', '2 BHK', '1 BHK', '3 BHK', '4 Bedroom', '3 BHK', '3 BHK', '2 BHK', '4 Bedroom', '4 Bedroom', '3 Bedroom', '4 BHK', '4 BHK', '2 BHK', '2 BHK', '3 BHK', '2 Bedroom', '8 Bedroom', '2 BHK', '2 BHK', '5 Bedroom', '1 BHK', '3 BHK', '3 Bedroom', '2 BHK', '2 BHK', '3 BHK', '2 BHK', '3 BHK', '2 BHK', '3 BHK', '3 BHK', '2 BHK', '6 Bedroom', '2 BHK', '2 BHK', '3 BHK', '3 BHK', '2 BHK', '1 BHK', '2 BHK', '2 BHK', '4 BHK', '2 Bedroom', '2 BHK', '4 Bedroom', '2 BHK', '4 Bedroom', '4 Bedroom', '2 BHK', '4 BHK', '2 BHK', '3 BHK', '2 BHK', '3 BHK', '3 BHK', '3 Bedroom', '3 BHK', '2 BHK', '2 BHK', '3 BHK', '2 BHK', '4 BHK', '3 BHK', '2 BHK', '3 BHK', '3 BHK', '2 BHK', '2 BHK', '2 Bedroom', '7 BHK', '4 Bedroom', '3 BHK', '3 BHK', '3 BHK', '3 BHK', '3 BHK', '3 BHK', '3 BHK', '4 BHK', '3 BHK', '3 BHK', '3 BHK', '3 BHK', '2 BHK', '3 BHK', '2 BHK', '2 BHK', '2 BHK', '1 BHK', '1 BHK', '2 BHK', '3 BHK', '3 Bedroom', '3 BHK', '4 Bedroom', '4 Bedroom', '3 BHK', '3 Bedroom', '2 BHK', '4 Bedroom', '2 BHK', '3 BHK', '2 BHK', '2 BHK', '2 BHK', '4 Bedroom', '3 BHK', '6 Bedroom', '3 BHK', '2 BHK', '2 BHK', '4 BHK', '3 BHK', '5 Bedroom', '3 BHK', '4 Bedroom', '2 BHK', '3 BHK', '2 BHK', '2 BHK', '4 Bedroom', '3 Bedroom', '2 BHK', '6 Bedroom', '2 BHK', '3 BHK', '4 BHK', '1 BHK', '2 BHK', '2 BHK', '3 BHK', '2 BHK', '4 BHK', '2 BHK', '2 BHK', '3 BHK', '6 Bedroom', '2 BHK', '2 BHK', '4 Bedroom', '2 BHK', '4 BHK', '2 Bedroom', '2 BHK', '3 Bedroom', '2 BHK', '2 BHK', '4 Bedroom', '3 BHK', '4 BHK', '2 BHK', '5 Bedroom', '3 BHK', '3 BHK', '2 BHK', '2 BHK', '3 BHK', '2 BHK', '3 BHK', '3 BHK', '4 Bedroom', '2 BHK', '1 BHK', '5 Bedroom', '1 BHK', '3 BHK', '3 BHK', '2 BHK', '2 BHK', '3 BHK', '2 BHK', '3 Bedroom', '3 BHK', '3 BHK', '2 BHK', '4 Bedroom', '8 Bedroom', '3 BHK', '3 BHK', '3 Bedroom', '3 BHK', '2 BHK', '2 BHK', '2 BHK', '2 BHK', '2 BHK', '2 BHK', '3 BHK', '3 BHK', '2 BHK', '2 BHK', '3 BHK', '2 BHK', '2 BHK', '3 BHK', '4 BHK', '3 BHK', '3 BHK', '3 BHK', '2 BHK', '4 BHK', '2 BHK', '3 BHK', '2 BHK', '3 BHK', '2 BHK', '3 BHK', '4 BHK', '2 BHK', '3 BHK', '3 BHK', '3 BHK', '2 BHK', '3 BHK', '2 BHK', '3 BHK', '3 BHK', '2 BHK', '2 BHK', '2 BHK', '4 BHK', '1 BHK', '2 BHK', '5 Bedroom', '2 BHK', '2 BHK', '2 BHK', '3 Bedroom', '4 BHK', '2 BHK', '1 BHK', '2 BHK', '2 BHK', '2 BHK', '2 BHK', '1 BHK', '3 BHK', '2 Bedroom', '3 BHK', '3 BHK', '3 BHK', '2 BHK', '4 Bedroom', '1 BHK', '3 Bedroom', '2 BHK', '2 BHK', '1 Bedroom', '3 BHK', '3 Bedroom', '5 Bedroom', '2 BHK', '2 BHK', '3 BHK', '3 BHK', '4 BHK', '4 Bedroom', '2 BHK', '1 BHK', '3 BHK', '1 BHK', '2 BHK', '3 BHK', '3 BHK', '2 BHK', '3 BHK', '3 BHK', '3 BHK', '2 BHK', '2 BHK', '7 Bedroom', '4 Bedroom', '2 BHK', '3 BHK', '3 BHK', '2 BHK', '2 BHK', '2 BHK', '3 BHK', '2 BHK', '2 BHK', '4 Bedroom', '2 BHK', '3 BHK', '2 BHK', '3 BHK', '2 BHK', '2 BHK', '4 Bedroom', '7 Bedroom', '2 BHK', '2 BHK', '2 BHK', '1 BHK', '3 BHK', '4 Bedroom', '3 BHK', '3 BHK', '2 BHK', '1 BHK', '3 BHK', '3 Bedroom', '2 BHK', '1 BHK', '2 BHK', '2 BHK', '4 Bedroom', '2 BHK', '2 Bedroom', '3 BHK', '2 BHK', '2 BHK', '2 BHK', '7 Bedroom', '2 BHK', '8 Bedroom', '3 BHK', '3 BHK', '2 BHK', '2 BHK', '3 BHK', '3 BHK', '2 BHK', '2 BHK', '3 BHK', '3 Bedroom', '2 BHK', '2 BHK', '2 BHK', '3 BHK', '2 BHK', '3 BHK', '2 BHK', '3 BHK', '3 BHK', '7 Bedroom', '4 BHK', '3 BHK', '4 BHK', '3 BHK', '3 BHK', '4 Bedroom', '3 BHK', '3 BHK', '4 Bedroom', '3 BHK', '3 BHK', '3 BHK', '2 Bedroom', '2 BHK', '1 BHK', '2 BHK', '2 BHK', '3 BHK', '3 BHK', '1 BHK', '7 Bedroom', '3 BHK', '3 BHK', '4 Bedroom', '3 BHK', '3 BHK', '3 BHK', '3 BHK', '4 Bedroom', '2 BHK', '2 BHK', '3 Bedroom', '3 BHK', '3 BHK', '2 BHK', '2 BHK', '3 BHK', '2 BHK', '3 BHK', '2 BHK', '2 BHK', '1 Bedroom', '3 BHK', '3 BHK', '8 Bedroom', '2 BHK', '6 Bedroom', '5 Bedroom', '3 BHK', '3 BHK', '2 BHK', '3 BHK', '2 BHK', '3 BHK', '2 BHK', '2 BHK', '3 BHK', '2 BHK', '2 BHK', '2 BHK', '2 BHK', '2 BHK', '4 BHK', '4 Bedroom', '3 BHK', '3 Bedroom', '1 BHK', '2 BHK', '5 Bedroom', '2 BHK', '6 Bedroom', '2 BHK', '6 Bedroom', '5 Bedroom', '3 BHK', '2 BHK', '2 BHK', '3 BHK', '3 BHK', '2 BHK', '2 BHK', '3 BHK', '2 BHK', '3 BHK', '2 BHK', '5 Bedroom', '3 BHK', '2 BHK', '5 Bedroom', '3 BHK', '2 BHK', '2 BHK', '2 BHK', '3 BHK', '3 BHK', '2 BHK', '3 BHK', '1 BHK', '3 BHK', '2 BHK', '2 BHK', '3 Bedroom', '3 BHK', '9 Bedroom', '2 BHK', '2 Bedroom', '3 Bedroom', '3 BHK', '3 BHK', '4 Bedroom', '2 Bedroom', '2 BHK', '3 BHK', '2 BHK', '2 BHK', '3 BHK', '5 Bedroom', '3 BHK', '3 BHK', '3 BHK', '3 BHK', '3 BHK', '3 BHK', '3 BHK', '2 BHK', '3 BHK', '3 BHK', '3 BHK', '3 BHK', '2 BHK', '3 BHK', '2 BHK', '2 BHK', '2 Bedroom', '2 BHK', '2 BHK', '2 BHK', '1 BHK', '3 Bedroom', '2 BHK', '3 BHK', '3 BHK', '3 BHK', '3 Bedroom', '2 Bedroom', '2 BHK', '3 BHK', '2 BHK', '2 BHK', '4 Bedroom', '2 BHK', '2 BHK', '3 Bedroom', '4 BHK', '2 BHK', '3 BHK', '2 BHK', '2 BHK', '3 BHK', '3 BHK', '3 BHK', '2 BHK', '3 BHK', '3 BHK', '3 BHK', '2 BHK', '3 BHK', '2 BHK', '3 BHK', '2 BHK', '3 BHK', '2 BHK', '2 BHK', '3 BHK', '4 Bedroom', '3 BHK', '2 BHK', '3 BHK', '2 BHK', '3 BHK', '2 BHK', '4 BHK', '2 BHK', '3 BHK', '2 BHK', '2 BHK', '3 BHK', '6 Bedroom', '2 BHK', '2 Bedroom', '2 BHK', '4 Bedroom', '2 BHK', '4 Bedroom', '2 BHK', '3 BHK', '2 BHK', '2 BHK', '6 BHK', '2 BHK', '2 BHK', '2 BHK', '2 BHK', '2 BHK', '3 BHK', '4 Bedroom', '4 BHK', '3 BHK', '2 BHK', '2 BHK', '3 BHK', '2 BHK', '7 Bedroom', '1 BHK', '2 BHK', '1 BHK', '5 BHK', '3 BHK', '3 BHK', '3 BHK', '2 BHK', '3 BHK', '2 BHK', '2 BHK', '3 BHK', '5 Bedroom', '3 BHK', '2 BHK', '4 Bedroom', '2 BHK', '2 BHK', '3 BHK', '2 BHK', '4 BHK', '3 BHK', '2 BHK', '2 BHK', '3 Bedroom', '5 Bedroom', '3 BHK', '2 BHK', '3 BHK', '2 BHK', '2 BHK', '2 BHK', '3 BHK', '3 BHK', '2 BHK', '3 BHK', '2 BHK', '3 BHK', '2 BHK', '2 BHK', '2 BHK', '4 Bedroom', '3 BHK', '4 Bedroom', '2 BHK', '2 BHK', '2 BHK', '4 Bedroom', '3 Bedroom', '6 Bedroom', '2 BHK', '2 BHK', '2 BHK', '2 BHK', '3 BHK', '3 Bedroom', '3 BHK', '4 Bedroom', '3 BHK', '2 BHK', '2 BHK', '1 BHK', '3 BHK', '5 Bedroom', '4 Bedroom', '3 BHK', '4 Bedroom', '2 BHK', '6 BHK', '6 Bedroom', '4 Bedroom', '3 BHK', '2 BHK', '3 BHK', '3 BHK', '3 BHK', '3 BHK', '2 BHK', '3 BHK', '2 BHK', '3 Bedroom', '2 BHK', '2 BHK', '2 BHK', '7 Bedroom', '3 BHK', '2 BHK', '2 BHK', '3 BHK', '2 BHK', '3 BHK', '4 BHK', '3 BHK', '2 BHK', '6 Bedroom', '2 BHK', '2 BHK', '3 BHK', '2 BHK', '5 Bedroom', '5 BHK', '3 BHK', '3 BHK', '2 BHK', '2 BHK', '2 BHK', '2 BHK', '3 Bedroom', '2 BHK', '3 BHK', '2 BHK', '3 BHK', '3 BHK', '3 BHK', '4 Bedroom', '3 BHK', '3 BHK', '2 BHK', '2 BHK', '3 BHK', '3 BHK', '3 BHK', '2 BHK', '3 BHK', '3 BHK', '2 BHK', '5 Bedroom', '4 Bedroom', '2 BHK', '2 BHK', '6 Bedroom', '2 BHK', '3 BHK', '2 BHK', '4 BHK', '2 BHK', '4 BHK', '3 BHK', '2 BHK', '2 BHK', '3 Bedroom', '2 BHK', '3 BHK', '5 Bedroom', '3 Bedroom', '2 BHK', '3 BHK', '3 BHK', '2 BHK', '2 BHK', '3 BHK', '3 BHK', '6 Bedroom', '3 BHK', '3 BHK', '3 BHK', '2 BHK', '4 BHK', '3 BHK', '4 Bedroom', '2 BHK', '2 BHK', '3 BHK', '2 BHK', '3 BHK', '3 BHK', '2 BHK', '3 BHK', '5 Bedroom', '3 BHK', '4 Bedroom', '2 BHK', '3 BHK', '2 BHK', '10 Bedroom', '3 BHK', '2 BHK', '2 BHK', '3 BHK', '2 BHK', '4 Bedroom', '2 BHK', '3 BHK', '2 BHK', '2 BHK', '2 BHK', '3 Bedroom', '3 BHK', '3 BHK', '2 BHK', '2 BHK', '2 BHK', '3 Bedroom', '5 BHK', '2 BHK', '3 BHK', '4 BHK', '3 BHK', '2 BHK', '4 BHK', '2 BHK', '2 BHK', '4 BHK', '2 BHK', '3 BHK', '2 BHK', '1 Bedroom', '2 BHK', '2 BHK', '3 BHK', '2 BHK', '4 BHK', '2 BHK', '2 BHK', '2 BHK', '2 BHK', '3 BHK', '4 Bedroom', '2 BHK', '3 Bedroom', '3 BHK', '2 BHK', '1 BHK', '2 BHK', '3 Bedroom', '2 BHK', '4 Bedroom', '3 BHK', '3 BHK', '3 BHK', '2 BHK', '3 BHK', '3 BHK', '4 Bedroom', '3 BHK', '2 BHK', '4 BHK', '3 BHK', '3 BHK', '4 Bedroom', '3 Bedroom', '4 BHK', '3 BHK', '3 BHK', '2 BHK', '2 BHK', '2 BHK', '2 BHK', '9 BHK', '3 BHK', '2 BHK', '3 BHK', '3 Bedroom', '7 BHK', '3 BHK', '2 BHK', '3 BHK', '3 BHK', '2 BHK', '3 BHK', '3 BHK', '2 BHK', '2 Bedroom', '3 BHK', '2 BHK', '1 BHK', '3 BHK', '2 BHK', '1 BHK', '2 BHK', '2 BHK', '2 BHK', '3 BHK', '2 BHK', '2 Bedroom', '2 Bedroom', '3 BHK', '6 Bedroom', '4 BHK', '3 BHK', '2 BHK', '2 BHK', '3 BHK', '2 BHK', '2 BHK', '2 BHK', '2 BHK', '4 BHK', '2 BHK', '3 BHK', '2 BHK', '2 BHK', '2 BHK', '2 BHK', '8 Bedroom', '3 BHK', '3 BHK', '5 Bedroom', '3 BHK', '3 BHK', '2 BHK', '2 BHK', '2 BHK', '2 BHK', '4 Bedroom', '8 Bedroom', '2 BHK', '6 Bedroom', '2 BHK', '2 BHK', '2 BHK', '2 BHK', '3 Bedroom', '2 BHK', '3 BHK', '4 BHK', '3 BHK', '3 BHK', '2 BHK', '1 BHK', '4 Bedroom', '3 BHK', '1 Bedroom', '1 BHK', '6 Bedroom', '2 BHK', '7 Bedroom', '1 BHK', '9 Bedroom', '3 BHK', '2 BHK', '1 BHK', '3 BHK', '8 Bedroom', '2 BHK', '3 BHK', '3 BHK', '3 BHK', '3 BHK', '3 BHK', '3 BHK', '2 BHK', '3 BHK', '2 BHK', '2 BHK', '2 BHK', '2 BHK', '1 BHK', '3 BHK', '3 BHK', '3 BHK', '2 BHK', '1 BHK', '4 Bedroom', '4 Bedroom', '2 BHK', '2 Bedroom', '3 BHK', '4 BHK', '3 BHK', '2 BHK', '2 BHK', '2 BHK', '2 BHK', '3 BHK', '1 BHK', '3 BHK', '2 BHK', '3 Bedroom', '2 BHK', '3 BHK', '2 BHK', '2 BHK', '3 BHK', '2 BHK', '4 BHK', '3 Bedroom', '3 BHK', '2 BHK', '2 BHK', '1 BHK', '2 BHK', '4 Bedroom', '2 BHK', '7 Bedroom', '2 BHK', '6 Bedroom', '3 BHK', '5 Bedroom', '3 BHK', '3 BHK', '2 BHK', '2 BHK', '3 BHK', '2 BHK', '2 BHK', '2 BHK', '4 BHK', '1 Bedroom', '3 BHK', '4 BHK', '4 BHK', '3 BHK', '2 BHK', '2 BHK', '2 BHK', '4 BHK', '5 Bedroom', '3 BHK', '2 BHK', '5 Bedroom', '2 BHK', '1 BHK', '4 Bedroom', '3 BHK', '3 BHK', '3 BHK', '2 BHK', '7 Bedroom', '2 BHK', '3 BHK', '3 BHK', '5 Bedroom', '4 BHK', '2 BHK', '4 BHK', '1 BHK'] not found in axis\""
     ]
    }
   ],
   "source": [
    "df.drop(df['size'],inplace=True)"
   ]
  },
  {
   "cell_type": "markdown",
   "metadata": {},
   "source": [
    "now in total_sqft there is the problem of range:\n"
   ]
  },
  {
   "cell_type": "code",
   "execution_count": 27,
   "metadata": {},
   "outputs": [
    {
     "data": {
      "text/plain": [
       "array(['1056', '2600', '1440', ..., '1133 - 1384', '774', '4689'],\n",
       "      dtype=object)"
      ]
     },
     "execution_count": 27,
     "metadata": {},
     "output_type": "execute_result"
    }
   ],
   "source": [
    "df['total_sqft'].unique()"
   ]
  },
  {
   "cell_type": "markdown",
   "metadata": {},
   "source": [
    "so to solv this problem we have to remove this range by taking mean of smallest and largest number"
   ]
  },
  {
   "cell_type": "code",
   "execution_count": 28,
   "metadata": {},
   "outputs": [],
   "source": [
    "def convert_range(x):\n",
    "    temp = x.split('-')\n",
    "    if len(temp) == 2:\n",
    "        return(float(temp[0])+float(temp[1])/2)\n",
    "    try:\n",
    "        return float(x)\n",
    "    except :\n",
    "        return None"
   ]
  },
  {
   "cell_type": "code",
   "execution_count": 29,
   "metadata": {},
   "outputs": [],
   "source": [
    "df['total_sqft'] = df['total_sqft'].apply(convert_range)"
   ]
  },
  {
   "cell_type": "code",
   "execution_count": 30,
   "metadata": {},
   "outputs": [
    {
     "data": {
      "text/html": [
       "<div>\n",
       "<style scoped>\n",
       "    .dataframe tbody tr th:only-of-type {\n",
       "        vertical-align: middle;\n",
       "    }\n",
       "\n",
       "    .dataframe tbody tr th {\n",
       "        vertical-align: top;\n",
       "    }\n",
       "\n",
       "    .dataframe thead th {\n",
       "        text-align: right;\n",
       "    }\n",
       "</style>\n",
       "<table border=\"1\" class=\"dataframe\">\n",
       "  <thead>\n",
       "    <tr style=\"text-align: right;\">\n",
       "      <th></th>\n",
       "      <th>location</th>\n",
       "      <th>size</th>\n",
       "      <th>total_sqft</th>\n",
       "      <th>bath</th>\n",
       "      <th>price</th>\n",
       "      <th>BHK</th>\n",
       "    </tr>\n",
       "  </thead>\n",
       "  <tbody>\n",
       "    <tr>\n",
       "      <th>0</th>\n",
       "      <td>Electronic City Phase II</td>\n",
       "      <td>2 BHK</td>\n",
       "      <td>1056.0</td>\n",
       "      <td>2.0</td>\n",
       "      <td>39.07</td>\n",
       "      <td>2</td>\n",
       "    </tr>\n",
       "    <tr>\n",
       "      <th>1</th>\n",
       "      <td>Chikka Tirupathi</td>\n",
       "      <td>4 Bedroom</td>\n",
       "      <td>2600.0</td>\n",
       "      <td>5.0</td>\n",
       "      <td>120.00</td>\n",
       "      <td>4</td>\n",
       "    </tr>\n",
       "    <tr>\n",
       "      <th>2</th>\n",
       "      <td>Uttarahalli</td>\n",
       "      <td>3 BHK</td>\n",
       "      <td>1440.0</td>\n",
       "      <td>2.0</td>\n",
       "      <td>62.00</td>\n",
       "      <td>3</td>\n",
       "    </tr>\n",
       "    <tr>\n",
       "      <th>3</th>\n",
       "      <td>Lingadheeranahalli</td>\n",
       "      <td>3 BHK</td>\n",
       "      <td>1521.0</td>\n",
       "      <td>3.0</td>\n",
       "      <td>95.00</td>\n",
       "      <td>3</td>\n",
       "    </tr>\n",
       "    <tr>\n",
       "      <th>4</th>\n",
       "      <td>Kothanur</td>\n",
       "      <td>2 BHK</td>\n",
       "      <td>1200.0</td>\n",
       "      <td>2.0</td>\n",
       "      <td>51.00</td>\n",
       "      <td>2</td>\n",
       "    </tr>\n",
       "  </tbody>\n",
       "</table>\n",
       "</div>"
      ],
      "text/plain": [
       "                   location       size  total_sqft  bath   price  BHK\n",
       "0  Electronic City Phase II      2 BHK      1056.0   2.0   39.07    2\n",
       "1          Chikka Tirupathi  4 Bedroom      2600.0   5.0  120.00    4\n",
       "2               Uttarahalli      3 BHK      1440.0   2.0   62.00    3\n",
       "3        Lingadheeranahalli      3 BHK      1521.0   3.0   95.00    3\n",
       "4                  Kothanur      2 BHK      1200.0   2.0   51.00    2"
      ]
     },
     "execution_count": 30,
     "metadata": {},
     "output_type": "execute_result"
    }
   ],
   "source": [
    "df.head()"
   ]
  },
  {
   "cell_type": "markdown",
   "metadata": {},
   "source": [
    "now we will make a new column price_per_sqft which will help to remove outliers"
   ]
  },
  {
   "cell_type": "code",
   "execution_count": 31,
   "metadata": {},
   "outputs": [],
   "source": [
    "df['price_per_sqft'] = df['price']*100000 / df['total_sqft']"
   ]
  },
  {
   "cell_type": "code",
   "execution_count": 32,
   "metadata": {},
   "outputs": [
    {
     "data": {
      "text/plain": [
       "0         3699.810606\n",
       "1         4615.384615\n",
       "2         4305.555556\n",
       "3         6245.890861\n",
       "4         4250.000000\n",
       "             ...     \n",
       "13315     6689.834926\n",
       "13316    11111.111111\n",
       "13317     5258.545136\n",
       "13318    10407.336319\n",
       "13319     3090.909091\n",
       "Name: price_per_sqft, Length: 13320, dtype: float64"
      ]
     },
     "execution_count": 32,
     "metadata": {},
     "output_type": "execute_result"
    }
   ],
   "source": [
    "df['price_per_sqft']"
   ]
  },
  {
   "cell_type": "code",
   "execution_count": 33,
   "metadata": {},
   "outputs": [
    {
     "data": {
      "text/html": [
       "<div>\n",
       "<style scoped>\n",
       "    .dataframe tbody tr th:only-of-type {\n",
       "        vertical-align: middle;\n",
       "    }\n",
       "\n",
       "    .dataframe tbody tr th {\n",
       "        vertical-align: top;\n",
       "    }\n",
       "\n",
       "    .dataframe thead th {\n",
       "        text-align: right;\n",
       "    }\n",
       "</style>\n",
       "<table border=\"1\" class=\"dataframe\">\n",
       "  <thead>\n",
       "    <tr style=\"text-align: right;\">\n",
       "      <th></th>\n",
       "      <th>total_sqft</th>\n",
       "      <th>bath</th>\n",
       "      <th>price</th>\n",
       "      <th>BHK</th>\n",
       "      <th>price_per_sqft</th>\n",
       "    </tr>\n",
       "  </thead>\n",
       "  <tbody>\n",
       "    <tr>\n",
       "      <th>count</th>\n",
       "      <td>13274.000000</td>\n",
       "      <td>13320.000000</td>\n",
       "      <td>13320.000000</td>\n",
       "      <td>13320.000000</td>\n",
       "      <td>1.327400e+04</td>\n",
       "    </tr>\n",
       "    <tr>\n",
       "      <th>mean</th>\n",
       "      <td>1572.225941</td>\n",
       "      <td>2.688814</td>\n",
       "      <td>112.565627</td>\n",
       "      <td>2.802778</td>\n",
       "      <td>7.883254e+03</td>\n",
       "    </tr>\n",
       "    <tr>\n",
       "      <th>std</th>\n",
       "      <td>1254.823072</td>\n",
       "      <td>1.338754</td>\n",
       "      <td>148.971674</td>\n",
       "      <td>1.294496</td>\n",
       "      <td>1.064303e+05</td>\n",
       "    </tr>\n",
       "    <tr>\n",
       "      <th>min</th>\n",
       "      <td>1.000000</td>\n",
       "      <td>1.000000</td>\n",
       "      <td>8.000000</td>\n",
       "      <td>1.000000</td>\n",
       "      <td>2.678298e+02</td>\n",
       "    </tr>\n",
       "    <tr>\n",
       "      <th>25%</th>\n",
       "      <td>1100.000000</td>\n",
       "      <td>2.000000</td>\n",
       "      <td>50.000000</td>\n",
       "      <td>2.000000</td>\n",
       "      <td>4.227642e+03</td>\n",
       "    </tr>\n",
       "    <tr>\n",
       "      <th>50%</th>\n",
       "      <td>1280.000000</td>\n",
       "      <td>2.000000</td>\n",
       "      <td>72.000000</td>\n",
       "      <td>3.000000</td>\n",
       "      <td>5.416667e+03</td>\n",
       "    </tr>\n",
       "    <tr>\n",
       "      <th>75%</th>\n",
       "      <td>1690.000000</td>\n",
       "      <td>3.000000</td>\n",
       "      <td>120.000000</td>\n",
       "      <td>3.000000</td>\n",
       "      <td>7.293505e+03</td>\n",
       "    </tr>\n",
       "    <tr>\n",
       "      <th>max</th>\n",
       "      <td>52272.000000</td>\n",
       "      <td>40.000000</td>\n",
       "      <td>3600.000000</td>\n",
       "      <td>43.000000</td>\n",
       "      <td>1.200000e+07</td>\n",
       "    </tr>\n",
       "  </tbody>\n",
       "</table>\n",
       "</div>"
      ],
      "text/plain": [
       "         total_sqft          bath         price           BHK  price_per_sqft\n",
       "count  13274.000000  13320.000000  13320.000000  13320.000000    1.327400e+04\n",
       "mean    1572.225941      2.688814    112.565627      2.802778    7.883254e+03\n",
       "std     1254.823072      1.338754    148.971674      1.294496    1.064303e+05\n",
       "min        1.000000      1.000000      8.000000      1.000000    2.678298e+02\n",
       "25%     1100.000000      2.000000     50.000000      2.000000    4.227642e+03\n",
       "50%     1280.000000      2.000000     72.000000      3.000000    5.416667e+03\n",
       "75%     1690.000000      3.000000    120.000000      3.000000    7.293505e+03\n",
       "max    52272.000000     40.000000   3600.000000     43.000000    1.200000e+07"
      ]
     },
     "execution_count": 33,
     "metadata": {},
     "output_type": "execute_result"
    }
   ],
   "source": [
    "df.describe()"
   ]
  },
  {
   "cell_type": "code",
   "execution_count": 34,
   "metadata": {},
   "outputs": [
    {
     "data": {
      "text/plain": [
       "Whitefield                        540\n",
       "Sarjapur  Road                    399\n",
       "Electronic City                   302\n",
       "Kanakpura Road                    273\n",
       "Thanisandra                       234\n",
       "                                 ... \n",
       "1st Stage Radha Krishna Layout      1\n",
       "BEML Layout 5th stage               1\n",
       "singapura paradise                  1\n",
       "Uvce Layout                         1\n",
       "Abshot Layout                       1\n",
       "Name: location, Length: 1306, dtype: int64"
      ]
     },
     "execution_count": 34,
     "metadata": {},
     "output_type": "execute_result"
    }
   ],
   "source": [
    "df['location'].value_counts()"
   ]
  },
  {
   "cell_type": "code",
   "execution_count": 35,
   "metadata": {},
   "outputs": [],
   "source": [
    "df['location'] = df['location'].apply(lambda x:x.strip())\n",
    "location_count = df['location'].value_counts()"
   ]
  },
  {
   "cell_type": "code",
   "execution_count": 36,
   "metadata": {},
   "outputs": [
    {
     "data": {
      "text/plain": [
       "Whitefield                            541\n",
       "Sarjapur  Road                        399\n",
       "Electronic City                       304\n",
       "Kanakpura Road                        273\n",
       "Thanisandra                           237\n",
       "                                     ... \n",
       "1Channasandra                           1\n",
       "Hosahalli                               1\n",
       "Vijayabank bank layout                  1\n",
       "near Ramanashree California resort      1\n",
       "Abshot Layout                           1\n",
       "Name: location, Length: 1295, dtype: int64"
      ]
     },
     "execution_count": 36,
     "metadata": {},
     "output_type": "execute_result"
    }
   ],
   "source": [
    "location_count"
   ]
  },
  {
   "cell_type": "markdown",
   "metadata": {},
   "source": [
    "As there are around 1295 types of location which is very large which we can not pass in the model hence we have to reduce it.\n",
    "\n",
    "\n",
    "to reduce it we will take all the location which has value 10 or less than 10 as 'other'"
   ]
  },
  {
   "cell_type": "code",
   "execution_count": 37,
   "metadata": {},
   "outputs": [
    {
     "data": {
      "text/plain": [
       "BTM 1st Stage                         10\n",
       "Nagadevanahalli                       10\n",
       "Basapura                              10\n",
       "Sector 1 HSR Layout                   10\n",
       "Dairy Circle                          10\n",
       "                                      ..\n",
       "1Channasandra                          1\n",
       "Hosahalli                              1\n",
       "Vijayabank bank layout                 1\n",
       "near Ramanashree California resort     1\n",
       "Abshot Layout                          1\n",
       "Name: location, Length: 1054, dtype: int64"
      ]
     },
     "execution_count": 37,
     "metadata": {},
     "output_type": "execute_result"
    }
   ],
   "source": [
    "location_count_less_10 = location_count[location_count<=10]\n",
    "location_count_less_10"
   ]
  },
  {
   "cell_type": "code",
   "execution_count": 38,
   "metadata": {},
   "outputs": [],
   "source": [
    "df['location'] = df['location'].apply(lambda x : 'other' if x in location_count_less_10 else x)"
   ]
  },
  {
   "cell_type": "code",
   "execution_count": 39,
   "metadata": {},
   "outputs": [
    {
     "data": {
      "text/plain": [
       "other                 2886\n",
       "Whitefield             541\n",
       "Sarjapur  Road         399\n",
       "Electronic City        304\n",
       "Kanakpura Road         273\n",
       "                      ... \n",
       "Nehru Nagar             11\n",
       "Banjara Layout          11\n",
       "LB Shastri Nagar        11\n",
       "Pattandur Agrahara      11\n",
       "Narayanapura            11\n",
       "Name: location, Length: 242, dtype: int64"
      ]
     },
     "execution_count": 39,
     "metadata": {},
     "output_type": "execute_result"
    }
   ],
   "source": [
    "df['location'].value_counts()"
   ]
  },
  {
   "cell_type": "markdown",
   "metadata": {},
   "source": [
    "**Outlier detction and removal:**"
   ]
  },
  {
   "cell_type": "code",
   "execution_count": 40,
   "metadata": {},
   "outputs": [
    {
     "data": {
      "text/html": [
       "<div>\n",
       "<style scoped>\n",
       "    .dataframe tbody tr th:only-of-type {\n",
       "        vertical-align: middle;\n",
       "    }\n",
       "\n",
       "    .dataframe tbody tr th {\n",
       "        vertical-align: top;\n",
       "    }\n",
       "\n",
       "    .dataframe thead th {\n",
       "        text-align: right;\n",
       "    }\n",
       "</style>\n",
       "<table border=\"1\" class=\"dataframe\">\n",
       "  <thead>\n",
       "    <tr style=\"text-align: right;\">\n",
       "      <th></th>\n",
       "      <th>total_sqft</th>\n",
       "      <th>bath</th>\n",
       "      <th>price</th>\n",
       "      <th>BHK</th>\n",
       "      <th>price_per_sqft</th>\n",
       "    </tr>\n",
       "  </thead>\n",
       "  <tbody>\n",
       "    <tr>\n",
       "      <th>count</th>\n",
       "      <td>13274.000000</td>\n",
       "      <td>13320.000000</td>\n",
       "      <td>13320.000000</td>\n",
       "      <td>13320.000000</td>\n",
       "      <td>1.327400e+04</td>\n",
       "    </tr>\n",
       "    <tr>\n",
       "      <th>mean</th>\n",
       "      <td>1572.225941</td>\n",
       "      <td>2.688814</td>\n",
       "      <td>112.565627</td>\n",
       "      <td>2.802778</td>\n",
       "      <td>7.883254e+03</td>\n",
       "    </tr>\n",
       "    <tr>\n",
       "      <th>std</th>\n",
       "      <td>1254.823072</td>\n",
       "      <td>1.338754</td>\n",
       "      <td>148.971674</td>\n",
       "      <td>1.294496</td>\n",
       "      <td>1.064303e+05</td>\n",
       "    </tr>\n",
       "    <tr>\n",
       "      <th>min</th>\n",
       "      <td>1.000000</td>\n",
       "      <td>1.000000</td>\n",
       "      <td>8.000000</td>\n",
       "      <td>1.000000</td>\n",
       "      <td>2.678298e+02</td>\n",
       "    </tr>\n",
       "    <tr>\n",
       "      <th>25%</th>\n",
       "      <td>1100.000000</td>\n",
       "      <td>2.000000</td>\n",
       "      <td>50.000000</td>\n",
       "      <td>2.000000</td>\n",
       "      <td>4.227642e+03</td>\n",
       "    </tr>\n",
       "    <tr>\n",
       "      <th>50%</th>\n",
       "      <td>1280.000000</td>\n",
       "      <td>2.000000</td>\n",
       "      <td>72.000000</td>\n",
       "      <td>3.000000</td>\n",
       "      <td>5.416667e+03</td>\n",
       "    </tr>\n",
       "    <tr>\n",
       "      <th>75%</th>\n",
       "      <td>1690.000000</td>\n",
       "      <td>3.000000</td>\n",
       "      <td>120.000000</td>\n",
       "      <td>3.000000</td>\n",
       "      <td>7.293505e+03</td>\n",
       "    </tr>\n",
       "    <tr>\n",
       "      <th>max</th>\n",
       "      <td>52272.000000</td>\n",
       "      <td>40.000000</td>\n",
       "      <td>3600.000000</td>\n",
       "      <td>43.000000</td>\n",
       "      <td>1.200000e+07</td>\n",
       "    </tr>\n",
       "  </tbody>\n",
       "</table>\n",
       "</div>"
      ],
      "text/plain": [
       "         total_sqft          bath         price           BHK  price_per_sqft\n",
       "count  13274.000000  13320.000000  13320.000000  13320.000000    1.327400e+04\n",
       "mean    1572.225941      2.688814    112.565627      2.802778    7.883254e+03\n",
       "std     1254.823072      1.338754    148.971674      1.294496    1.064303e+05\n",
       "min        1.000000      1.000000      8.000000      1.000000    2.678298e+02\n",
       "25%     1100.000000      2.000000     50.000000      2.000000    4.227642e+03\n",
       "50%     1280.000000      2.000000     72.000000      3.000000    5.416667e+03\n",
       "75%     1690.000000      3.000000    120.000000      3.000000    7.293505e+03\n",
       "max    52272.000000     40.000000   3600.000000     43.000000    1.200000e+07"
      ]
     },
     "execution_count": 40,
     "metadata": {},
     "output_type": "execute_result"
    }
   ],
   "source": [
    "df.describe()"
   ]
  },
  {
   "cell_type": "markdown",
   "metadata": {},
   "source": [
    "now lets find out what is total_sqft / BHK"
   ]
  },
  {
   "cell_type": "code",
   "execution_count": 42,
   "metadata": {},
   "outputs": [
    {
     "data": {
      "text/plain": [
       "count    13274.000000\n",
       "mean       579.732987\n",
       "std        392.247238\n",
       "min          0.250000\n",
       "25%        475.000000\n",
       "50%        554.000000\n",
       "75%        627.500000\n",
       "max      26136.000000\n",
       "dtype: float64"
      ]
     },
     "execution_count": 42,
     "metadata": {},
     "output_type": "execute_result"
    }
   ],
   "source": [
    "(df['total_sqft']/df['BHK']).describe()"
   ]
  },
  {
   "cell_type": "markdown",
   "metadata": {},
   "source": [
    "so from here we can say that the houses which have total_sqft/BHK less than 300 is not fesible\n",
    "\n",
    "\n",
    "hence we will remove that from the main datasest"
   ]
  },
  {
   "cell_type": "code",
   "execution_count": 43,
   "metadata": {},
   "outputs": [
    {
     "data": {
      "text/html": [
       "<div>\n",
       "<style scoped>\n",
       "    .dataframe tbody tr th:only-of-type {\n",
       "        vertical-align: middle;\n",
       "    }\n",
       "\n",
       "    .dataframe tbody tr th {\n",
       "        vertical-align: top;\n",
       "    }\n",
       "\n",
       "    .dataframe thead th {\n",
       "        text-align: right;\n",
       "    }\n",
       "</style>\n",
       "<table border=\"1\" class=\"dataframe\">\n",
       "  <thead>\n",
       "    <tr style=\"text-align: right;\">\n",
       "      <th></th>\n",
       "      <th>total_sqft</th>\n",
       "      <th>bath</th>\n",
       "      <th>price</th>\n",
       "      <th>BHK</th>\n",
       "      <th>price_per_sqft</th>\n",
       "    </tr>\n",
       "  </thead>\n",
       "  <tbody>\n",
       "    <tr>\n",
       "      <th>count</th>\n",
       "      <td>12530.000000</td>\n",
       "      <td>12530.000000</td>\n",
       "      <td>12530.000000</td>\n",
       "      <td>12530.000000</td>\n",
       "      <td>12530.000000</td>\n",
       "    </tr>\n",
       "    <tr>\n",
       "      <th>mean</th>\n",
       "      <td>1607.911902</td>\n",
       "      <td>2.559537</td>\n",
       "      <td>111.382401</td>\n",
       "      <td>2.650838</td>\n",
       "      <td>6278.292738</td>\n",
       "    </tr>\n",
       "    <tr>\n",
       "      <th>std</th>\n",
       "      <td>1277.977557</td>\n",
       "      <td>1.077938</td>\n",
       "      <td>152.077329</td>\n",
       "      <td>0.976678</td>\n",
       "      <td>4171.053803</td>\n",
       "    </tr>\n",
       "    <tr>\n",
       "      <th>min</th>\n",
       "      <td>300.000000</td>\n",
       "      <td>1.000000</td>\n",
       "      <td>8.440000</td>\n",
       "      <td>1.000000</td>\n",
       "      <td>267.829813</td>\n",
       "    </tr>\n",
       "    <tr>\n",
       "      <th>25%</th>\n",
       "      <td>1120.000000</td>\n",
       "      <td>2.000000</td>\n",
       "      <td>49.000000</td>\n",
       "      <td>2.000000</td>\n",
       "      <td>4177.777778</td>\n",
       "    </tr>\n",
       "    <tr>\n",
       "      <th>50%</th>\n",
       "      <td>1302.500000</td>\n",
       "      <td>2.000000</td>\n",
       "      <td>70.000000</td>\n",
       "      <td>3.000000</td>\n",
       "      <td>5273.281068</td>\n",
       "    </tr>\n",
       "    <tr>\n",
       "      <th>75%</th>\n",
       "      <td>1710.000000</td>\n",
       "      <td>3.000000</td>\n",
       "      <td>115.000000</td>\n",
       "      <td>3.000000</td>\n",
       "      <td>6896.551724</td>\n",
       "    </tr>\n",
       "    <tr>\n",
       "      <th>max</th>\n",
       "      <td>52272.000000</td>\n",
       "      <td>16.000000</td>\n",
       "      <td>3600.000000</td>\n",
       "      <td>16.000000</td>\n",
       "      <td>176470.588235</td>\n",
       "    </tr>\n",
       "  </tbody>\n",
       "</table>\n",
       "</div>"
      ],
      "text/plain": [
       "         total_sqft          bath         price           BHK  price_per_sqft\n",
       "count  12530.000000  12530.000000  12530.000000  12530.000000    12530.000000\n",
       "mean    1607.911902      2.559537    111.382401      2.650838     6278.292738\n",
       "std     1277.977557      1.077938    152.077329      0.976678     4171.053803\n",
       "min      300.000000      1.000000      8.440000      1.000000      267.829813\n",
       "25%     1120.000000      2.000000     49.000000      2.000000     4177.777778\n",
       "50%     1302.500000      2.000000     70.000000      3.000000     5273.281068\n",
       "75%     1710.000000      3.000000    115.000000      3.000000     6896.551724\n",
       "max    52272.000000     16.000000   3600.000000     16.000000   176470.588235"
      ]
     },
     "execution_count": 43,
     "metadata": {},
     "output_type": "execute_result"
    }
   ],
   "source": [
    "df = df[((df['total_sqft']/df['BHK']))>=300]\n",
    "df.describe()"
   ]
  },
  {
   "cell_type": "code",
   "execution_count": 45,
   "metadata": {},
   "outputs": [
    {
     "data": {
      "text/plain": [
       "(12530, 7)"
      ]
     },
     "execution_count": 45,
     "metadata": {},
     "output_type": "execute_result"
    }
   ],
   "source": [
    "df.shape"
   ]
  },
  {
   "cell_type": "code",
   "execution_count": 48,
   "metadata": {},
   "outputs": [
    {
     "data": {
      "text/html": [
       "<div>\n",
       "<style scoped>\n",
       "    .dataframe tbody tr th:only-of-type {\n",
       "        vertical-align: middle;\n",
       "    }\n",
       "\n",
       "    .dataframe tbody tr th {\n",
       "        vertical-align: top;\n",
       "    }\n",
       "\n",
       "    .dataframe thead th {\n",
       "        text-align: right;\n",
       "    }\n",
       "</style>\n",
       "<table border=\"1\" class=\"dataframe\">\n",
       "  <thead>\n",
       "    <tr style=\"text-align: right;\">\n",
       "      <th></th>\n",
       "      <th>total_sqft</th>\n",
       "      <th>bath</th>\n",
       "      <th>price</th>\n",
       "      <th>BHK</th>\n",
       "      <th>price_per_sqft</th>\n",
       "    </tr>\n",
       "  </thead>\n",
       "  <tbody>\n",
       "    <tr>\n",
       "      <th>count</th>\n",
       "      <td>10287.000000</td>\n",
       "      <td>10287.00000</td>\n",
       "      <td>10287.000000</td>\n",
       "      <td>10287.000000</td>\n",
       "      <td>10287.000000</td>\n",
       "    </tr>\n",
       "    <tr>\n",
       "      <th>mean</th>\n",
       "      <td>1517.904648</td>\n",
       "      <td>2.47176</td>\n",
       "      <td>91.305304</td>\n",
       "      <td>2.575872</td>\n",
       "      <td>5641.654913</td>\n",
       "    </tr>\n",
       "    <tr>\n",
       "      <th>std</th>\n",
       "      <td>903.645032</td>\n",
       "      <td>0.97517</td>\n",
       "      <td>86.528904</td>\n",
       "      <td>0.895390</td>\n",
       "      <td>2270.194350</td>\n",
       "    </tr>\n",
       "    <tr>\n",
       "      <th>min</th>\n",
       "      <td>300.000000</td>\n",
       "      <td>1.00000</td>\n",
       "      <td>10.000000</td>\n",
       "      <td>1.000000</td>\n",
       "      <td>1250.000000</td>\n",
       "    </tr>\n",
       "    <tr>\n",
       "      <th>25%</th>\n",
       "      <td>1110.000000</td>\n",
       "      <td>2.00000</td>\n",
       "      <td>49.000000</td>\n",
       "      <td>2.000000</td>\n",
       "      <td>4210.526316</td>\n",
       "    </tr>\n",
       "    <tr>\n",
       "      <th>50%</th>\n",
       "      <td>1290.000000</td>\n",
       "      <td>2.00000</td>\n",
       "      <td>67.000000</td>\n",
       "      <td>2.000000</td>\n",
       "      <td>5159.705160</td>\n",
       "    </tr>\n",
       "    <tr>\n",
       "      <th>75%</th>\n",
       "      <td>1650.000000</td>\n",
       "      <td>3.00000</td>\n",
       "      <td>100.000000</td>\n",
       "      <td>3.000000</td>\n",
       "      <td>6412.588374</td>\n",
       "    </tr>\n",
       "    <tr>\n",
       "      <th>max</th>\n",
       "      <td>30400.000000</td>\n",
       "      <td>16.00000</td>\n",
       "      <td>2200.000000</td>\n",
       "      <td>16.000000</td>\n",
       "      <td>24509.803922</td>\n",
       "    </tr>\n",
       "  </tbody>\n",
       "</table>\n",
       "</div>"
      ],
      "text/plain": [
       "         total_sqft         bath         price           BHK  price_per_sqft\n",
       "count  10287.000000  10287.00000  10287.000000  10287.000000    10287.000000\n",
       "mean    1517.904648      2.47176     91.305304      2.575872     5641.654913\n",
       "std      903.645032      0.97517     86.528904      0.895390     2270.194350\n",
       "min      300.000000      1.00000     10.000000      1.000000     1250.000000\n",
       "25%     1110.000000      2.00000     49.000000      2.000000     4210.526316\n",
       "50%     1290.000000      2.00000     67.000000      2.000000     5159.705160\n",
       "75%     1650.000000      3.00000    100.000000      3.000000     6412.588374\n",
       "max    30400.000000     16.00000   2200.000000     16.000000    24509.803922"
      ]
     },
     "execution_count": 48,
     "metadata": {},
     "output_type": "execute_result"
    }
   ],
   "source": [
    "def remove_outliers_sqft(dataframe):\n",
    "    df_output = pd.DataFrame()\n",
    "    for key,sub_df in dataframe.groupby('location'):\n",
    "        m = np.mean(sub_df.price_per_sqft)\n",
    "\n",
    "        st = np.std(sub_df.price_per_sqft)\n",
    "\n",
    "        gen_df = sub_df[(sub_df.price_per_sqft > (m-st)) & (sub_df.price_per_sqft <=(m+st))]\n",
    "\n",
    "        df_output = pd.concat([df_output,gen_df],ignore_index=True)\n",
    "    return df_output\n",
    "\n",
    "df = remove_outliers_sqft(df)\n",
    "df.describe()"
   ]
  },
  {
   "cell_type": "markdown",
   "metadata": {},
   "source": [
    "here in this function :\n",
    "\n",
    "it takes input as dataframe.\n",
    "then we create an output dataframe\n",
    "then we apply groupby with location, we know that when we apply groupby we will get a key and a sub dataframe from it.\n",
    "\n",
    "so now in that sub dataframe we take the mean of price per sqt in variable m and std deviation of each location in variable st.\n",
    "\n",
    "then we are filtering the data frame :\n",
    "\n",
    "if the price pre sqft is between m-st and m+st then only we are keeping it in variable named gen_df\n",
    "\n",
    "then we concat the gen_df and df_output in df_output ingnoring index.\n",
    "\n",
    "and return df_output\n",
    "\n",
    "then we apply this function on the main dataframe\n",
    "\n"
   ]
  },
  {
   "cell_type": "markdown",
   "metadata": {},
   "source": []
  }
 ],
 "metadata": {
  "kernelspec": {
   "display_name": "Python 3",
   "language": "python",
   "name": "python3"
  },
  "language_info": {
   "codemirror_mode": {
    "name": "ipython",
    "version": 3
   },
   "file_extension": ".py",
   "mimetype": "text/x-python",
   "name": "python",
   "nbconvert_exporter": "python",
   "pygments_lexer": "ipython3",
   "version": "3.11.4"
  }
 },
 "nbformat": 4,
 "nbformat_minor": 2
}
